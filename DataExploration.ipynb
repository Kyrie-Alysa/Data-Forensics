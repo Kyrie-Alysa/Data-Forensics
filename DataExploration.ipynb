{
 "cells": [
  {
   "cell_type": "code",
   "execution_count": null,
   "id": "e56a1896",
   "metadata": {},
   "outputs": [],
   "source": [
    "import pandas as pd\n",
    "\n",
    "import nltk\n",
    "from nltk.corpus import stopwords\n",
    "import re\n",
    "from nltk.sentiment.vader import SentimentIntensityAnalyzer\n",
    "\n",
    "from sklearn.feature_extraction.text import CountVectorizer\n",
    "from sklearn.decomposition import LatentDirichletAllocation\n",
    "\n",
    "from sklearn.model_selection import train_test_split\n",
    "from sklearn.ensemble import RandomForestClassifier\n",
    "from sklearn.metrics import classification_report\n",
    "import numpy as np\n",
    "\n",
    "import seaborn as sns\n",
    "from sklearn.metrics import confusion_matrix\n",
    "\n",
    "import spacy"
   ]
  },
  {
   "cell_type": "code",
   "execution_count": 2,
   "id": "2e327faa",
   "metadata": {},
   "outputs": [],
   "source": [
    "posts_path = '4chan/output/posts.csv'\n",
    "threads_path = '4chan/output/threads.csv'\n",
    "\n",
    "chan4_posts = pd.read_csv(posts_path)\n",
    "chan4_threads = pd.read_csv(threads_path)\n",
    "\n",
    "posts_end_path  = 'endchan V2/output/posts.csv'\n",
    "threads_end_path = 'endchan V2/output/threads.csv'\n",
    "\n",
    "endchan_posts = pd.read_csv(posts_end_path)\n",
    "endchan_threads = pd.read_csv(threads_end_path)"
   ]
  },
  {
   "cell_type": "code",
   "execution_count": 3,
   "id": "49a64b61",
   "metadata": {},
   "outputs": [
    {
     "data": {
      "text/html": [
       "<div>\n",
       "<style scoped>\n",
       "    .dataframe tbody tr th:only-of-type {\n",
       "        vertical-align: middle;\n",
       "    }\n",
       "\n",
       "    .dataframe tbody tr th {\n",
       "        vertical-align: top;\n",
       "    }\n",
       "\n",
       "    .dataframe thead th {\n",
       "        text-align: right;\n",
       "    }\n",
       "</style>\n",
       "<table border=\"1\" class=\"dataframe\">\n",
       "  <thead>\n",
       "    <tr style=\"text-align: right;\">\n",
       "      <th></th>\n",
       "      <th>subpost_id</th>\n",
       "      <th>content</th>\n",
       "      <th>time</th>\n",
       "      <th>thread_id</th>\n",
       "    </tr>\n",
       "  </thead>\n",
       "  <tbody>\n",
       "    <tr>\n",
       "      <th>0</th>\n",
       "      <td>p501099183</td>\n",
       "      <td>&gt;&gt;501098958 (OP)I used an anal egg to make me ...</td>\n",
       "      <td>03/21/25(Fri)13:43:02No.501099183</td>\n",
       "      <td>p501098958</td>\n",
       "    </tr>\n",
       "    <tr>\n",
       "      <th>1</th>\n",
       "      <td>p501099437</td>\n",
       "      <td>corporate farming was a mistakepicrel is the c...</td>\n",
       "      <td>03/21/25(Fri)13:46:36No.501099437</td>\n",
       "      <td>p501098958</td>\n",
       "    </tr>\n",
       "    <tr>\n",
       "      <th>2</th>\n",
       "      <td>p501100092</td>\n",
       "      <td>&gt;&gt;501098958 (OP)Almost like the old administra...</td>\n",
       "      <td>03/21/25(Fri)13:55:59No.501100092</td>\n",
       "      <td>p501098958</td>\n",
       "    </tr>\n",
       "    <tr>\n",
       "      <th>3</th>\n",
       "      <td>p501100224</td>\n",
       "      <td>&gt;&gt;501100092Trump started the fake pandemic, st...</td>\n",
       "      <td>03/21/25(Fri)13:57:44No.501100224</td>\n",
       "      <td>p501098958</td>\n",
       "    </tr>\n",
       "    <tr>\n",
       "      <th>4</th>\n",
       "      <td>p501101758</td>\n",
       "      <td>&gt;&gt;501098958 (OP)&gt;what did americans mean by th...</td>\n",
       "      <td>03/21/25(Fri)14:17:04No.501101758</td>\n",
       "      <td>p501098958</td>\n",
       "    </tr>\n",
       "  </tbody>\n",
       "</table>\n",
       "</div>"
      ],
      "text/plain": [
       "   subpost_id                                            content  \\\n",
       "0  p501099183  >>501098958 (OP)I used an anal egg to make me ...   \n",
       "1  p501099437  corporate farming was a mistakepicrel is the c...   \n",
       "2  p501100092  >>501098958 (OP)Almost like the old administra...   \n",
       "3  p501100224  >>501100092Trump started the fake pandemic, st...   \n",
       "4  p501101758  >>501098958 (OP)>what did americans mean by th...   \n",
       "\n",
       "                                time   thread_id  \n",
       "0  03/21/25(Fri)13:43:02No.501099183  p501098958  \n",
       "1  03/21/25(Fri)13:46:36No.501099437  p501098958  \n",
       "2  03/21/25(Fri)13:55:59No.501100092  p501098958  \n",
       "3  03/21/25(Fri)13:57:44No.501100224  p501098958  \n",
       "4  03/21/25(Fri)14:17:04No.501101758  p501098958  "
      ]
     },
     "execution_count": 3,
     "metadata": {},
     "output_type": "execute_result"
    }
   ],
   "source": [
    "chan4_posts.head(5)\n",
    "# 40459 x 4"
   ]
  },
  {
   "cell_type": "code",
   "execution_count": 4,
   "id": "66789e2c",
   "metadata": {},
   "outputs": [
    {
     "data": {
      "text/html": [
       "<div>\n",
       "<style scoped>\n",
       "    .dataframe tbody tr th:only-of-type {\n",
       "        vertical-align: middle;\n",
       "    }\n",
       "\n",
       "    .dataframe tbody tr th {\n",
       "        vertical-align: top;\n",
       "    }\n",
       "\n",
       "    .dataframe thead th {\n",
       "        text-align: right;\n",
       "    }\n",
       "</style>\n",
       "<table border=\"1\" class=\"dataframe\">\n",
       "  <thead>\n",
       "    <tr style=\"text-align: right;\">\n",
       "      <th></th>\n",
       "      <th>thread_id</th>\n",
       "      <th>thread_text</th>\n",
       "      <th>time</th>\n",
       "    </tr>\n",
       "  </thead>\n",
       "  <tbody>\n",
       "    <tr>\n",
       "      <th>0</th>\n",
       "      <td>p501098958</td>\n",
       "      <td>&gt;kill all of our domestic chickens because fak...</td>\n",
       "      <td>03/21/25(Fri)13:40:04No.501098958</td>\n",
       "    </tr>\n",
       "    <tr>\n",
       "      <th>1</th>\n",
       "      <td>p501104660</td>\n",
       "      <td>Denmark is the best country in Europe and I'm ...</td>\n",
       "      <td>03/21/25(Fri)14:53:50No.501104660</td>\n",
       "    </tr>\n",
       "    <tr>\n",
       "      <th>2</th>\n",
       "      <td>p501098958</td>\n",
       "      <td>&gt;kill all of our domestic chickens because fak...</td>\n",
       "      <td>03/21/25(Fri)13:40:04No.501098958</td>\n",
       "    </tr>\n",
       "    <tr>\n",
       "      <th>3</th>\n",
       "      <td>p501101640</td>\n",
       "      <td>NaN</td>\n",
       "      <td>03/21/25(Fri)14:15:39No.501101640</td>\n",
       "    </tr>\n",
       "    <tr>\n",
       "      <th>4</th>\n",
       "      <td>p501099426</td>\n",
       "      <td>You can't be racist and pagan.You can't be pro...</td>\n",
       "      <td>03/21/25(Fri)13:46:30No.501099426</td>\n",
       "    </tr>\n",
       "  </tbody>\n",
       "</table>\n",
       "</div>"
      ],
      "text/plain": [
       "    thread_id                                        thread_text  \\\n",
       "0  p501098958  >kill all of our domestic chickens because fak...   \n",
       "1  p501104660  Denmark is the best country in Europe and I'm ...   \n",
       "2  p501098958  >kill all of our domestic chickens because fak...   \n",
       "3  p501101640                                                NaN   \n",
       "4  p501099426  You can't be racist and pagan.You can't be pro...   \n",
       "\n",
       "                                time  \n",
       "0  03/21/25(Fri)13:40:04No.501098958  \n",
       "1  03/21/25(Fri)14:53:50No.501104660  \n",
       "2  03/21/25(Fri)13:40:04No.501098958  \n",
       "3  03/21/25(Fri)14:15:39No.501101640  \n",
       "4  03/21/25(Fri)13:46:30No.501099426  "
      ]
     },
     "execution_count": 4,
     "metadata": {},
     "output_type": "execute_result"
    }
   ],
   "source": [
    "chan4_threads.head(5)\n",
    "# 470 x 6"
   ]
  },
  {
   "cell_type": "markdown",
   "id": "73d01d70",
   "metadata": {},
   "source": [
    "Already noticing the time is off, so will have to clean this up"
   ]
  },
  {
   "cell_type": "code",
   "execution_count": 5,
   "id": "174a9ee3",
   "metadata": {},
   "outputs": [
    {
     "data": {
      "text/html": [
       "<div>\n",
       "<style scoped>\n",
       "    .dataframe tbody tr th:only-of-type {\n",
       "        vertical-align: middle;\n",
       "    }\n",
       "\n",
       "    .dataframe tbody tr th {\n",
       "        vertical-align: top;\n",
       "    }\n",
       "\n",
       "    .dataframe thead th {\n",
       "        text-align: right;\n",
       "    }\n",
       "</style>\n",
       "<table border=\"1\" class=\"dataframe\">\n",
       "  <thead>\n",
       "    <tr style=\"text-align: right;\">\n",
       "      <th></th>\n",
       "      <th>subpost_id</th>\n",
       "      <th>content</th>\n",
       "      <th>time</th>\n",
       "      <th>thread_id</th>\n",
       "    </tr>\n",
       "  </thead>\n",
       "  <tbody>\n",
       "    <tr>\n",
       "      <th>0</th>\n",
       "      <td>91434</td>\n",
       "      <td>&gt;&gt;91417&gt;killed off most of the savage Natives ...</td>\n",
       "      <td>10/28/2023 (Sat) 08:22</td>\n",
       "      <td>91417</td>\n",
       "    </tr>\n",
       "    <tr>\n",
       "      <th>1</th>\n",
       "      <td>91435</td>\n",
       "      <td>Netanyahu's not a white boy. Nor is any Yidd. ...</td>\n",
       "      <td>10/28/2023 (Sat) 11:34</td>\n",
       "      <td>91417</td>\n",
       "    </tr>\n",
       "    <tr>\n",
       "      <th>2</th>\n",
       "      <td>91448</td>\n",
       "      <td>NaN</td>\n",
       "      <td>10/29/2023 (Sun) 14:19</td>\n",
       "      <td>91417</td>\n",
       "    </tr>\n",
       "    <tr>\n",
       "      <th>3</th>\n",
       "      <td>92023</td>\n",
       "      <td>Idk but it makes me want to pull my hair out. ...</td>\n",
       "      <td>12/26/2023 (Tue) 02:46</td>\n",
       "      <td>91417</td>\n",
       "    </tr>\n",
       "    <tr>\n",
       "      <th>4</th>\n",
       "      <td>92024</td>\n",
       "      <td>&gt;&gt;92023</td>\n",
       "      <td>12/26/2023 (Tue) 07:50</td>\n",
       "      <td>91417</td>\n",
       "    </tr>\n",
       "  </tbody>\n",
       "</table>\n",
       "</div>"
      ],
      "text/plain": [
       "   subpost_id                                            content  \\\n",
       "0       91434  >>91417>killed off most of the savage Natives ...   \n",
       "1       91435  Netanyahu's not a white boy. Nor is any Yidd. ...   \n",
       "2       91448                                                NaN   \n",
       "3       92023  Idk but it makes me want to pull my hair out. ...   \n",
       "4       92024                                            >>92023   \n",
       "\n",
       "                     time  thread_id  \n",
       "0  10/28/2023 (Sat) 08:22      91417  \n",
       "1  10/28/2023 (Sat) 11:34      91417  \n",
       "2  10/29/2023 (Sun) 14:19      91417  \n",
       "3  12/26/2023 (Tue) 02:46      91417  \n",
       "4  12/26/2023 (Tue) 07:50      91417  "
      ]
     },
     "execution_count": 5,
     "metadata": {},
     "output_type": "execute_result"
    }
   ],
   "source": [
    "endchan_posts.head(5)\n",
    "# 6014 x 4"
   ]
  },
  {
   "cell_type": "code",
   "execution_count": 6,
   "id": "3028c0f4",
   "metadata": {},
   "outputs": [
    {
     "data": {
      "text/html": [
       "<div>\n",
       "<style scoped>\n",
       "    .dataframe tbody tr th:only-of-type {\n",
       "        vertical-align: middle;\n",
       "    }\n",
       "\n",
       "    .dataframe tbody tr th {\n",
       "        vertical-align: top;\n",
       "    }\n",
       "\n",
       "    .dataframe thead th {\n",
       "        text-align: right;\n",
       "    }\n",
       "</style>\n",
       "<table border=\"1\" class=\"dataframe\">\n",
       "  <thead>\n",
       "    <tr style=\"text-align: right;\">\n",
       "      <th></th>\n",
       "      <th>thread_id</th>\n",
       "      <th>thread_text</th>\n",
       "      <th>time</th>\n",
       "    </tr>\n",
       "  </thead>\n",
       "  <tbody>\n",
       "    <tr>\n",
       "      <th>0</th>\n",
       "      <td>91417</td>\n",
       "      <td>What's wrong with all of you poor, pathetic, s...</td>\n",
       "      <td>10/27/2023 (Fri) 15:50</td>\n",
       "    </tr>\n",
       "    <tr>\n",
       "      <th>1</th>\n",
       "      <td>95327</td>\n",
       "      <td>1) disable or heavily damage the kike propagan...</td>\n",
       "      <td>12/08/2024 (Sun) 23:36</td>\n",
       "    </tr>\n",
       "    <tr>\n",
       "      <th>2</th>\n",
       "      <td>93932</td>\n",
       "      <td>They like to call Jerry Seinfeld a “funnyman” ...</td>\n",
       "      <td>06/15/2024 (Sat) 11:36</td>\n",
       "    </tr>\n",
       "    <tr>\n",
       "      <th>3</th>\n",
       "      <td>90261</td>\n",
       "      <td>The Natashas 2003.https://www.scribd.com/docum...</td>\n",
       "      <td>04/14/2023 (Fri) 02:05</td>\n",
       "    </tr>\n",
       "    <tr>\n",
       "      <th>4</th>\n",
       "      <td>94806</td>\n",
       "      <td>Hello from soyjak.party.gemmy board</td>\n",
       "      <td>09/28/2024 (Sat) 02:57</td>\n",
       "    </tr>\n",
       "  </tbody>\n",
       "</table>\n",
       "</div>"
      ],
      "text/plain": [
       "   thread_id                                        thread_text  \\\n",
       "0      91417  What's wrong with all of you poor, pathetic, s...   \n",
       "1      95327  1) disable or heavily damage the kike propagan...   \n",
       "2      93932  They like to call Jerry Seinfeld a “funnyman” ...   \n",
       "3      90261  The Natashas 2003.https://www.scribd.com/docum...   \n",
       "4      94806                Hello from soyjak.party.gemmy board   \n",
       "\n",
       "                     time  \n",
       "0  10/27/2023 (Fri) 15:50  \n",
       "1  12/08/2024 (Sun) 23:36  \n",
       "2  06/15/2024 (Sat) 11:36  \n",
       "3  04/14/2023 (Fri) 02:05  \n",
       "4  09/28/2024 (Sat) 02:57  "
      ]
     },
     "execution_count": 6,
     "metadata": {},
     "output_type": "execute_result"
    }
   ],
   "source": [
    "endchan_threads.head(5)\n",
    "# 135 x 3"
   ]
  },
  {
   "cell_type": "markdown",
   "id": "23775413",
   "metadata": {},
   "source": [
    "# Topic modeling with 4chan data"
   ]
  },
  {
   "cell_type": "markdown",
   "id": "9e27e004",
   "metadata": {},
   "source": [
    "Thread is the main post, posts is the comments underneath one thread <br>\n",
    "Topics across one thread should be the same, as the thread decides the topic. Therefore, it is most logical to use threads to do topic modeling."
   ]
  },
  {
   "cell_type": "code",
   "execution_count": 7,
   "id": "7fbe93ad",
   "metadata": {},
   "outputs": [],
   "source": [
    "# Cleaning the time column of chan4_threads\n",
    "chan4_threads['time'] = chan4_threads['time'].str.split('No.').str[0]"
   ]
  },
  {
   "cell_type": "markdown",
   "id": "e41b9685",
   "metadata": {},
   "source": [
    "## Basic topic modeling with regular libraries"
   ]
  },
  {
   "cell_type": "markdown",
   "id": "af2f3685",
   "metadata": {},
   "source": [
    "### NLTK and Scikit-Learn"
   ]
  },
  {
   "cell_type": "code",
   "execution_count": 8,
   "id": "a20e03bc",
   "metadata": {},
   "outputs": [],
   "source": [
    "my_stopwords = nltk.corpus.stopwords.words('english')\n",
    "word_rooter = nltk.stem.snowball.PorterStemmer(ignore_stopwords=False).stem\n",
    "my_punctuation = '!\"$%&\\'()*+,-./:;<=>?[\\\\]^_`{|}~•@'"
   ]
  },
  {
   "cell_type": "code",
   "execution_count": 9,
   "id": "82380281",
   "metadata": {},
   "outputs": [
    {
     "data": {
      "text/plain": [
       "0       kill domestic chickens fake pcr test said egg...\n",
       "1          denmark best country europe tired pretending \n",
       "2       kill domestic chickens fake pcr test said egg...\n",
       "3                                                       \n",
       "4      racist pagan pro white pagan pro christian pag...\n",
       "                             ...                        \n",
       "465     white east asian interbreeding le bad princip...\n",
       "466    docsits relevantisraeli nuclear program spotte...\n",
       "467    young white men across world turning fascism n...\n",
       "468    libs slated get majority  accelerationism answ...\n",
       "469     baltics   whitebaltics   white baltics   whit...\n",
       "Name: cleaned, Length: 470, dtype: object"
      ]
     },
     "execution_count": 9,
     "metadata": {},
     "output_type": "execute_result"
    }
   ],
   "source": [
    "# cleaning master function\n",
    "def clean_thread(thread, bigrams=False):\n",
    "    if not isinstance(thread, str):  # Handle non-string values\n",
    "        thread = ''\n",
    "    thread = thread.lower()  # lower case\n",
    "    thread = re.sub('[' + my_punctuation + ']+', ' ', thread)  # strip punctuation\n",
    "    # thread = re.sub('\\s+', ' ', thread)  # remove double spacing\n",
    "    thread = re.sub('([0-9]+)', '', thread)  # remove numbers\n",
    "    thread_token_list = [word for word in thread.split(' ')\n",
    "                         if word not in my_stopwords]  # remove stopwords\n",
    "\n",
    "    # thread_token_list = [word_rooter(word) if '#' not in word else word\n",
    "    #                      for word in thread_token_list]  # apply word rooter\n",
    "    if bigrams:\n",
    "        thread_token_list = thread_token_list + [thread_token_list[i] + '_' + thread_token_list[i + 1]\n",
    "                                                 for i in range(len(thread_token_list) - 1)]\n",
    "    thread = ' '.join(thread_token_list)\n",
    "    return thread\n",
    "\n",
    "\n",
    "chan4_threads['cleaned'] = chan4_threads['thread_text'].apply(clean_thread)\n",
    "chan4_threads['cleaned']"
   ]
  },
  {
   "cell_type": "code",
   "execution_count": 10,
   "id": "895324f3",
   "metadata": {},
   "outputs": [],
   "source": [
    "# the vectorizer object will be used to transform text to vector form\n",
    "vectorizer = CountVectorizer(max_df=0.9, min_df=25, token_pattern='\\w+|\\$[\\d\\.]+|\\S+')\n",
    "\n",
    "# apply transformation\n",
    "tf = vectorizer.fit_transform(chan4_threads['cleaned']).toarray()\n",
    "\n",
    "# tf_feature_names tells us what word each column in the matric represents\n",
    "tf_feature_names = vectorizer.get_feature_names_out()"
   ]
  },
  {
   "cell_type": "code",
   "execution_count": 11,
   "id": "fa8c407e",
   "metadata": {},
   "outputs": [
    {
     "data": {
      "text/html": [
       "<style>#sk-container-id-1 {\n",
       "  /* Definition of color scheme common for light and dark mode */\n",
       "  --sklearn-color-text: #000;\n",
       "  --sklearn-color-text-muted: #666;\n",
       "  --sklearn-color-line: gray;\n",
       "  /* Definition of color scheme for unfitted estimators */\n",
       "  --sklearn-color-unfitted-level-0: #fff5e6;\n",
       "  --sklearn-color-unfitted-level-1: #f6e4d2;\n",
       "  --sklearn-color-unfitted-level-2: #ffe0b3;\n",
       "  --sklearn-color-unfitted-level-3: chocolate;\n",
       "  /* Definition of color scheme for fitted estimators */\n",
       "  --sklearn-color-fitted-level-0: #f0f8ff;\n",
       "  --sklearn-color-fitted-level-1: #d4ebff;\n",
       "  --sklearn-color-fitted-level-2: #b3dbfd;\n",
       "  --sklearn-color-fitted-level-3: cornflowerblue;\n",
       "\n",
       "  /* Specific color for light theme */\n",
       "  --sklearn-color-text-on-default-background: var(--sg-text-color, var(--theme-code-foreground, var(--jp-content-font-color1, black)));\n",
       "  --sklearn-color-background: var(--sg-background-color, var(--theme-background, var(--jp-layout-color0, white)));\n",
       "  --sklearn-color-border-box: var(--sg-text-color, var(--theme-code-foreground, var(--jp-content-font-color1, black)));\n",
       "  --sklearn-color-icon: #696969;\n",
       "\n",
       "  @media (prefers-color-scheme: dark) {\n",
       "    /* Redefinition of color scheme for dark theme */\n",
       "    --sklearn-color-text-on-default-background: var(--sg-text-color, var(--theme-code-foreground, var(--jp-content-font-color1, white)));\n",
       "    --sklearn-color-background: var(--sg-background-color, var(--theme-background, var(--jp-layout-color0, #111)));\n",
       "    --sklearn-color-border-box: var(--sg-text-color, var(--theme-code-foreground, var(--jp-content-font-color1, white)));\n",
       "    --sklearn-color-icon: #878787;\n",
       "  }\n",
       "}\n",
       "\n",
       "#sk-container-id-1 {\n",
       "  color: var(--sklearn-color-text);\n",
       "}\n",
       "\n",
       "#sk-container-id-1 pre {\n",
       "  padding: 0;\n",
       "}\n",
       "\n",
       "#sk-container-id-1 input.sk-hidden--visually {\n",
       "  border: 0;\n",
       "  clip: rect(1px 1px 1px 1px);\n",
       "  clip: rect(1px, 1px, 1px, 1px);\n",
       "  height: 1px;\n",
       "  margin: -1px;\n",
       "  overflow: hidden;\n",
       "  padding: 0;\n",
       "  position: absolute;\n",
       "  width: 1px;\n",
       "}\n",
       "\n",
       "#sk-container-id-1 div.sk-dashed-wrapped {\n",
       "  border: 1px dashed var(--sklearn-color-line);\n",
       "  margin: 0 0.4em 0.5em 0.4em;\n",
       "  box-sizing: border-box;\n",
       "  padding-bottom: 0.4em;\n",
       "  background-color: var(--sklearn-color-background);\n",
       "}\n",
       "\n",
       "#sk-container-id-1 div.sk-container {\n",
       "  /* jupyter's `normalize.less` sets `[hidden] { display: none; }`\n",
       "     but bootstrap.min.css set `[hidden] { display: none !important; }`\n",
       "     so we also need the `!important` here to be able to override the\n",
       "     default hidden behavior on the sphinx rendered scikit-learn.org.\n",
       "     See: https://github.com/scikit-learn/scikit-learn/issues/21755 */\n",
       "  display: inline-block !important;\n",
       "  position: relative;\n",
       "}\n",
       "\n",
       "#sk-container-id-1 div.sk-text-repr-fallback {\n",
       "  display: none;\n",
       "}\n",
       "\n",
       "div.sk-parallel-item,\n",
       "div.sk-serial,\n",
       "div.sk-item {\n",
       "  /* draw centered vertical line to link estimators */\n",
       "  background-image: linear-gradient(var(--sklearn-color-text-on-default-background), var(--sklearn-color-text-on-default-background));\n",
       "  background-size: 2px 100%;\n",
       "  background-repeat: no-repeat;\n",
       "  background-position: center center;\n",
       "}\n",
       "\n",
       "/* Parallel-specific style estimator block */\n",
       "\n",
       "#sk-container-id-1 div.sk-parallel-item::after {\n",
       "  content: \"\";\n",
       "  width: 100%;\n",
       "  border-bottom: 2px solid var(--sklearn-color-text-on-default-background);\n",
       "  flex-grow: 1;\n",
       "}\n",
       "\n",
       "#sk-container-id-1 div.sk-parallel {\n",
       "  display: flex;\n",
       "  align-items: stretch;\n",
       "  justify-content: center;\n",
       "  background-color: var(--sklearn-color-background);\n",
       "  position: relative;\n",
       "}\n",
       "\n",
       "#sk-container-id-1 div.sk-parallel-item {\n",
       "  display: flex;\n",
       "  flex-direction: column;\n",
       "}\n",
       "\n",
       "#sk-container-id-1 div.sk-parallel-item:first-child::after {\n",
       "  align-self: flex-end;\n",
       "  width: 50%;\n",
       "}\n",
       "\n",
       "#sk-container-id-1 div.sk-parallel-item:last-child::after {\n",
       "  align-self: flex-start;\n",
       "  width: 50%;\n",
       "}\n",
       "\n",
       "#sk-container-id-1 div.sk-parallel-item:only-child::after {\n",
       "  width: 0;\n",
       "}\n",
       "\n",
       "/* Serial-specific style estimator block */\n",
       "\n",
       "#sk-container-id-1 div.sk-serial {\n",
       "  display: flex;\n",
       "  flex-direction: column;\n",
       "  align-items: center;\n",
       "  background-color: var(--sklearn-color-background);\n",
       "  padding-right: 1em;\n",
       "  padding-left: 1em;\n",
       "}\n",
       "\n",
       "\n",
       "/* Toggleable style: style used for estimator/Pipeline/ColumnTransformer box that is\n",
       "clickable and can be expanded/collapsed.\n",
       "- Pipeline and ColumnTransformer use this feature and define the default style\n",
       "- Estimators will overwrite some part of the style using the `sk-estimator` class\n",
       "*/\n",
       "\n",
       "/* Pipeline and ColumnTransformer style (default) */\n",
       "\n",
       "#sk-container-id-1 div.sk-toggleable {\n",
       "  /* Default theme specific background. It is overwritten whether we have a\n",
       "  specific estimator or a Pipeline/ColumnTransformer */\n",
       "  background-color: var(--sklearn-color-background);\n",
       "}\n",
       "\n",
       "/* Toggleable label */\n",
       "#sk-container-id-1 label.sk-toggleable__label {\n",
       "  cursor: pointer;\n",
       "  display: flex;\n",
       "  width: 100%;\n",
       "  margin-bottom: 0;\n",
       "  padding: 0.5em;\n",
       "  box-sizing: border-box;\n",
       "  text-align: center;\n",
       "  align-items: start;\n",
       "  justify-content: space-between;\n",
       "  gap: 0.5em;\n",
       "}\n",
       "\n",
       "#sk-container-id-1 label.sk-toggleable__label .caption {\n",
       "  font-size: 0.6rem;\n",
       "  font-weight: lighter;\n",
       "  color: var(--sklearn-color-text-muted);\n",
       "}\n",
       "\n",
       "#sk-container-id-1 label.sk-toggleable__label-arrow:before {\n",
       "  /* Arrow on the left of the label */\n",
       "  content: \"▸\";\n",
       "  float: left;\n",
       "  margin-right: 0.25em;\n",
       "  color: var(--sklearn-color-icon);\n",
       "}\n",
       "\n",
       "#sk-container-id-1 label.sk-toggleable__label-arrow:hover:before {\n",
       "  color: var(--sklearn-color-text);\n",
       "}\n",
       "\n",
       "/* Toggleable content - dropdown */\n",
       "\n",
       "#sk-container-id-1 div.sk-toggleable__content {\n",
       "  max-height: 0;\n",
       "  max-width: 0;\n",
       "  overflow: hidden;\n",
       "  text-align: left;\n",
       "  /* unfitted */\n",
       "  background-color: var(--sklearn-color-unfitted-level-0);\n",
       "}\n",
       "\n",
       "#sk-container-id-1 div.sk-toggleable__content.fitted {\n",
       "  /* fitted */\n",
       "  background-color: var(--sklearn-color-fitted-level-0);\n",
       "}\n",
       "\n",
       "#sk-container-id-1 div.sk-toggleable__content pre {\n",
       "  margin: 0.2em;\n",
       "  border-radius: 0.25em;\n",
       "  color: var(--sklearn-color-text);\n",
       "  /* unfitted */\n",
       "  background-color: var(--sklearn-color-unfitted-level-0);\n",
       "}\n",
       "\n",
       "#sk-container-id-1 div.sk-toggleable__content.fitted pre {\n",
       "  /* unfitted */\n",
       "  background-color: var(--sklearn-color-fitted-level-0);\n",
       "}\n",
       "\n",
       "#sk-container-id-1 input.sk-toggleable__control:checked~div.sk-toggleable__content {\n",
       "  /* Expand drop-down */\n",
       "  max-height: 200px;\n",
       "  max-width: 100%;\n",
       "  overflow: auto;\n",
       "}\n",
       "\n",
       "#sk-container-id-1 input.sk-toggleable__control:checked~label.sk-toggleable__label-arrow:before {\n",
       "  content: \"▾\";\n",
       "}\n",
       "\n",
       "/* Pipeline/ColumnTransformer-specific style */\n",
       "\n",
       "#sk-container-id-1 div.sk-label input.sk-toggleable__control:checked~label.sk-toggleable__label {\n",
       "  color: var(--sklearn-color-text);\n",
       "  background-color: var(--sklearn-color-unfitted-level-2);\n",
       "}\n",
       "\n",
       "#sk-container-id-1 div.sk-label.fitted input.sk-toggleable__control:checked~label.sk-toggleable__label {\n",
       "  background-color: var(--sklearn-color-fitted-level-2);\n",
       "}\n",
       "\n",
       "/* Estimator-specific style */\n",
       "\n",
       "/* Colorize estimator box */\n",
       "#sk-container-id-1 div.sk-estimator input.sk-toggleable__control:checked~label.sk-toggleable__label {\n",
       "  /* unfitted */\n",
       "  background-color: var(--sklearn-color-unfitted-level-2);\n",
       "}\n",
       "\n",
       "#sk-container-id-1 div.sk-estimator.fitted input.sk-toggleable__control:checked~label.sk-toggleable__label {\n",
       "  /* fitted */\n",
       "  background-color: var(--sklearn-color-fitted-level-2);\n",
       "}\n",
       "\n",
       "#sk-container-id-1 div.sk-label label.sk-toggleable__label,\n",
       "#sk-container-id-1 div.sk-label label {\n",
       "  /* The background is the default theme color */\n",
       "  color: var(--sklearn-color-text-on-default-background);\n",
       "}\n",
       "\n",
       "/* On hover, darken the color of the background */\n",
       "#sk-container-id-1 div.sk-label:hover label.sk-toggleable__label {\n",
       "  color: var(--sklearn-color-text);\n",
       "  background-color: var(--sklearn-color-unfitted-level-2);\n",
       "}\n",
       "\n",
       "/* Label box, darken color on hover, fitted */\n",
       "#sk-container-id-1 div.sk-label.fitted:hover label.sk-toggleable__label.fitted {\n",
       "  color: var(--sklearn-color-text);\n",
       "  background-color: var(--sklearn-color-fitted-level-2);\n",
       "}\n",
       "\n",
       "/* Estimator label */\n",
       "\n",
       "#sk-container-id-1 div.sk-label label {\n",
       "  font-family: monospace;\n",
       "  font-weight: bold;\n",
       "  display: inline-block;\n",
       "  line-height: 1.2em;\n",
       "}\n",
       "\n",
       "#sk-container-id-1 div.sk-label-container {\n",
       "  text-align: center;\n",
       "}\n",
       "\n",
       "/* Estimator-specific */\n",
       "#sk-container-id-1 div.sk-estimator {\n",
       "  font-family: monospace;\n",
       "  border: 1px dotted var(--sklearn-color-border-box);\n",
       "  border-radius: 0.25em;\n",
       "  box-sizing: border-box;\n",
       "  margin-bottom: 0.5em;\n",
       "  /* unfitted */\n",
       "  background-color: var(--sklearn-color-unfitted-level-0);\n",
       "}\n",
       "\n",
       "#sk-container-id-1 div.sk-estimator.fitted {\n",
       "  /* fitted */\n",
       "  background-color: var(--sklearn-color-fitted-level-0);\n",
       "}\n",
       "\n",
       "/* on hover */\n",
       "#sk-container-id-1 div.sk-estimator:hover {\n",
       "  /* unfitted */\n",
       "  background-color: var(--sklearn-color-unfitted-level-2);\n",
       "}\n",
       "\n",
       "#sk-container-id-1 div.sk-estimator.fitted:hover {\n",
       "  /* fitted */\n",
       "  background-color: var(--sklearn-color-fitted-level-2);\n",
       "}\n",
       "\n",
       "/* Specification for estimator info (e.g. \"i\" and \"?\") */\n",
       "\n",
       "/* Common style for \"i\" and \"?\" */\n",
       "\n",
       ".sk-estimator-doc-link,\n",
       "a:link.sk-estimator-doc-link,\n",
       "a:visited.sk-estimator-doc-link {\n",
       "  float: right;\n",
       "  font-size: smaller;\n",
       "  line-height: 1em;\n",
       "  font-family: monospace;\n",
       "  background-color: var(--sklearn-color-background);\n",
       "  border-radius: 1em;\n",
       "  height: 1em;\n",
       "  width: 1em;\n",
       "  text-decoration: none !important;\n",
       "  margin-left: 0.5em;\n",
       "  text-align: center;\n",
       "  /* unfitted */\n",
       "  border: var(--sklearn-color-unfitted-level-1) 1pt solid;\n",
       "  color: var(--sklearn-color-unfitted-level-1);\n",
       "}\n",
       "\n",
       ".sk-estimator-doc-link.fitted,\n",
       "a:link.sk-estimator-doc-link.fitted,\n",
       "a:visited.sk-estimator-doc-link.fitted {\n",
       "  /* fitted */\n",
       "  border: var(--sklearn-color-fitted-level-1) 1pt solid;\n",
       "  color: var(--sklearn-color-fitted-level-1);\n",
       "}\n",
       "\n",
       "/* On hover */\n",
       "div.sk-estimator:hover .sk-estimator-doc-link:hover,\n",
       ".sk-estimator-doc-link:hover,\n",
       "div.sk-label-container:hover .sk-estimator-doc-link:hover,\n",
       ".sk-estimator-doc-link:hover {\n",
       "  /* unfitted */\n",
       "  background-color: var(--sklearn-color-unfitted-level-3);\n",
       "  color: var(--sklearn-color-background);\n",
       "  text-decoration: none;\n",
       "}\n",
       "\n",
       "div.sk-estimator.fitted:hover .sk-estimator-doc-link.fitted:hover,\n",
       ".sk-estimator-doc-link.fitted:hover,\n",
       "div.sk-label-container:hover .sk-estimator-doc-link.fitted:hover,\n",
       ".sk-estimator-doc-link.fitted:hover {\n",
       "  /* fitted */\n",
       "  background-color: var(--sklearn-color-fitted-level-3);\n",
       "  color: var(--sklearn-color-background);\n",
       "  text-decoration: none;\n",
       "}\n",
       "\n",
       "/* Span, style for the box shown on hovering the info icon */\n",
       ".sk-estimator-doc-link span {\n",
       "  display: none;\n",
       "  z-index: 9999;\n",
       "  position: relative;\n",
       "  font-weight: normal;\n",
       "  right: .2ex;\n",
       "  padding: .5ex;\n",
       "  margin: .5ex;\n",
       "  width: min-content;\n",
       "  min-width: 20ex;\n",
       "  max-width: 50ex;\n",
       "  color: var(--sklearn-color-text);\n",
       "  box-shadow: 2pt 2pt 4pt #999;\n",
       "  /* unfitted */\n",
       "  background: var(--sklearn-color-unfitted-level-0);\n",
       "  border: .5pt solid var(--sklearn-color-unfitted-level-3);\n",
       "}\n",
       "\n",
       ".sk-estimator-doc-link.fitted span {\n",
       "  /* fitted */\n",
       "  background: var(--sklearn-color-fitted-level-0);\n",
       "  border: var(--sklearn-color-fitted-level-3);\n",
       "}\n",
       "\n",
       ".sk-estimator-doc-link:hover span {\n",
       "  display: block;\n",
       "}\n",
       "\n",
       "/* \"?\"-specific style due to the `<a>` HTML tag */\n",
       "\n",
       "#sk-container-id-1 a.estimator_doc_link {\n",
       "  float: right;\n",
       "  font-size: 1rem;\n",
       "  line-height: 1em;\n",
       "  font-family: monospace;\n",
       "  background-color: var(--sklearn-color-background);\n",
       "  border-radius: 1rem;\n",
       "  height: 1rem;\n",
       "  width: 1rem;\n",
       "  text-decoration: none;\n",
       "  /* unfitted */\n",
       "  color: var(--sklearn-color-unfitted-level-1);\n",
       "  border: var(--sklearn-color-unfitted-level-1) 1pt solid;\n",
       "}\n",
       "\n",
       "#sk-container-id-1 a.estimator_doc_link.fitted {\n",
       "  /* fitted */\n",
       "  border: var(--sklearn-color-fitted-level-1) 1pt solid;\n",
       "  color: var(--sklearn-color-fitted-level-1);\n",
       "}\n",
       "\n",
       "/* On hover */\n",
       "#sk-container-id-1 a.estimator_doc_link:hover {\n",
       "  /* unfitted */\n",
       "  background-color: var(--sklearn-color-unfitted-level-3);\n",
       "  color: var(--sklearn-color-background);\n",
       "  text-decoration: none;\n",
       "}\n",
       "\n",
       "#sk-container-id-1 a.estimator_doc_link.fitted:hover {\n",
       "  /* fitted */\n",
       "  background-color: var(--sklearn-color-fitted-level-3);\n",
       "}\n",
       "</style><div id=\"sk-container-id-1\" class=\"sk-top-container\"><div class=\"sk-text-repr-fallback\"><pre>LatentDirichletAllocation(n_components=5, random_state=0)</pre><b>In a Jupyter environment, please rerun this cell to show the HTML representation or trust the notebook. <br />On GitHub, the HTML representation is unable to render, please try loading this page with nbviewer.org.</b></div><div class=\"sk-container\" hidden><div class=\"sk-item\"><div class=\"sk-estimator fitted sk-toggleable\"><input class=\"sk-toggleable__control sk-hidden--visually\" id=\"sk-estimator-id-1\" type=\"checkbox\" checked><label for=\"sk-estimator-id-1\" class=\"sk-toggleable__label fitted sk-toggleable__label-arrow\"><div><div>LatentDirichletAllocation</div></div><div><a class=\"sk-estimator-doc-link fitted\" rel=\"noreferrer\" target=\"_blank\" href=\"https://scikit-learn.org/1.6/modules/generated/sklearn.decomposition.LatentDirichletAllocation.html\">?<span>Documentation for LatentDirichletAllocation</span></a><span class=\"sk-estimator-doc-link fitted\">i<span>Fitted</span></span></div></label><div class=\"sk-toggleable__content fitted\"><pre>LatentDirichletAllocation(n_components=5, random_state=0)</pre></div> </div></div></div></div>"
      ],
      "text/plain": [
       "LatentDirichletAllocation(n_components=5, random_state=0)"
      ]
     },
     "execution_count": 11,
     "metadata": {},
     "output_type": "execute_result"
    }
   ],
   "source": [
    "number_of_topics = 5\n",
    "model = LatentDirichletAllocation(n_components=number_of_topics, random_state=0)\n",
    "model.fit(tf)"
   ]
  },
  {
   "cell_type": "code",
   "execution_count": 12,
   "id": "d17d659b",
   "metadata": {},
   "outputs": [],
   "source": [
    "def display_topics(model, feature_names, no_top_words):\n",
    "    topic_dict = {}\n",
    "    for topic_idx, topic in enumerate(model.components_):\n",
    "        topic_dict[\"Topic %d words\" % (topic_idx)]= ['{}'.format(feature_names[i])\n",
    "                        for i in topic.argsort()[:-no_top_words - 1:-1]]\n",
    "        topic_dict[\"Topic %d weights\" % (topic_idx)]= ['{:.1f}'.format(topic[i])\n",
    "                        for i in topic.argsort()[:-no_top_words - 1:-1]]\n",
    "    return pd.DataFrame(topic_dict)"
   ]
  },
  {
   "cell_type": "code",
   "execution_count": 13,
   "id": "f4d249a4",
   "metadata": {},
   "outputs": [
    {
     "data": {
      "text/html": [
       "<div>\n",
       "<style scoped>\n",
       "    .dataframe tbody tr th:only-of-type {\n",
       "        vertical-align: middle;\n",
       "    }\n",
       "\n",
       "    .dataframe tbody tr th {\n",
       "        vertical-align: top;\n",
       "    }\n",
       "\n",
       "    .dataframe thead th {\n",
       "        text-align: right;\n",
       "    }\n",
       "</style>\n",
       "<table border=\"1\" class=\"dataframe\">\n",
       "  <thead>\n",
       "    <tr style=\"text-align: right;\">\n",
       "      <th></th>\n",
       "      <th>Topic 0 words</th>\n",
       "      <th>Topic 0 weights</th>\n",
       "      <th>Topic 1 words</th>\n",
       "      <th>Topic 1 weights</th>\n",
       "      <th>Topic 2 words</th>\n",
       "      <th>Topic 2 weights</th>\n",
       "      <th>Topic 3 words</th>\n",
       "      <th>Topic 3 weights</th>\n",
       "      <th>Topic 4 words</th>\n",
       "      <th>Topic 4 weights</th>\n",
       "    </tr>\n",
       "  </thead>\n",
       "  <tbody>\n",
       "    <tr>\n",
       "      <th>0</th>\n",
       "      <td>https</td>\n",
       "      <td>128.2</td>\n",
       "      <td>us</td>\n",
       "      <td>42.1</td>\n",
       "      <td>make</td>\n",
       "      <td>70.4</td>\n",
       "      <td>even</td>\n",
       "      <td>39.5</td>\n",
       "      <td>white</td>\n",
       "      <td>78.5</td>\n",
       "    </tr>\n",
       "    <tr>\n",
       "      <th>1</th>\n",
       "      <td>trump</td>\n",
       "      <td>120.0</td>\n",
       "      <td>go</td>\n",
       "      <td>35.0</td>\n",
       "      <td>like</td>\n",
       "      <td>45.9</td>\n",
       "      <td>www</td>\n",
       "      <td>36.0</td>\n",
       "      <td>would</td>\n",
       "      <td>61.3</td>\n",
       "    </tr>\n",
       "    <tr>\n",
       "      <th>2</th>\n",
       "      <td>com</td>\n",
       "      <td>101.2</td>\n",
       "      <td>europe</td>\n",
       "      <td>30.2</td>\n",
       "      <td>get</td>\n",
       "      <td>23.1</td>\n",
       "      <td>uk</td>\n",
       "      <td>33.2</td>\n",
       "      <td>people</td>\n",
       "      <td>36.1</td>\n",
       "    </tr>\n",
       "    <tr>\n",
       "      <th>3</th>\n",
       "      <td>www</td>\n",
       "      <td>55.4</td>\n",
       "      <td>’s</td>\n",
       "      <td>26.4</td>\n",
       "      <td>year</td>\n",
       "      <td>18.4</td>\n",
       "      <td>new</td>\n",
       "      <td>26.2</td>\n",
       "      <td>world</td>\n",
       "      <td>29.7</td>\n",
       "    </tr>\n",
       "    <tr>\n",
       "      <th>4</th>\n",
       "      <td>year</td>\n",
       "      <td>14.0</td>\n",
       "      <td>like</td>\n",
       "      <td>18.5</td>\n",
       "      <td>would</td>\n",
       "      <td>7.3</td>\n",
       "      <td>’s</td>\n",
       "      <td>19.8</td>\n",
       "      <td>literally</td>\n",
       "      <td>27.2</td>\n",
       "    </tr>\n",
       "    <tr>\n",
       "      <th>5</th>\n",
       "      <td>every</td>\n",
       "      <td>10.4</td>\n",
       "      <td>uk</td>\n",
       "      <td>7.3</td>\n",
       "      <td>people</td>\n",
       "      <td>6.7</td>\n",
       "      <td>full</td>\n",
       "      <td>18.5</td>\n",
       "      <td>government</td>\n",
       "      <td>14.7</td>\n",
       "    </tr>\n",
       "    <tr>\n",
       "      <th>6</th>\n",
       "      <td>uk</td>\n",
       "      <td>9.1</td>\n",
       "      <td>world</td>\n",
       "      <td>5.7</td>\n",
       "      <td>white</td>\n",
       "      <td>0.9</td>\n",
       "      <td>go</td>\n",
       "      <td>15.4</td>\n",
       "      <td>even</td>\n",
       "      <td>9.9</td>\n",
       "    </tr>\n",
       "    <tr>\n",
       "      <th>7</th>\n",
       "      <td>make</td>\n",
       "      <td>5.3</td>\n",
       "      <td>www</td>\n",
       "      <td>0.2</td>\n",
       "      <td>even</td>\n",
       "      <td>0.2</td>\n",
       "      <td>people</td>\n",
       "      <td>12.9</td>\n",
       "      <td>every</td>\n",
       "      <td>9.5</td>\n",
       "    </tr>\n",
       "    <tr>\n",
       "      <th>8</th>\n",
       "      <td>full</td>\n",
       "      <td>4.9</td>\n",
       "      <td>year</td>\n",
       "      <td>0.2</td>\n",
       "      <td>go</td>\n",
       "      <td>0.2</td>\n",
       "      <td>make</td>\n",
       "      <td>11.9</td>\n",
       "      <td>get</td>\n",
       "      <td>8.3</td>\n",
       "    </tr>\n",
       "    <tr>\n",
       "      <th>9</th>\n",
       "      <td>government</td>\n",
       "      <td>4.8</td>\n",
       "      <td>would</td>\n",
       "      <td>0.2</td>\n",
       "      <td>government</td>\n",
       "      <td>0.2</td>\n",
       "      <td>government</td>\n",
       "      <td>8.1</td>\n",
       "      <td>full</td>\n",
       "      <td>4.2</td>\n",
       "    </tr>\n",
       "    <tr>\n",
       "      <th>10</th>\n",
       "      <td>’s</td>\n",
       "      <td>2.9</td>\n",
       "      <td>even</td>\n",
       "      <td>0.2</td>\n",
       "      <td>every</td>\n",
       "      <td>0.2</td>\n",
       "      <td>every</td>\n",
       "      <td>7.6</td>\n",
       "      <td>us</td>\n",
       "      <td>2.3</td>\n",
       "    </tr>\n",
       "    <tr>\n",
       "      <th>11</th>\n",
       "      <td>world</td>\n",
       "      <td>0.2</td>\n",
       "      <td>https</td>\n",
       "      <td>0.2</td>\n",
       "      <td>trump</td>\n",
       "      <td>0.2</td>\n",
       "      <td>would</td>\n",
       "      <td>6.0</td>\n",
       "      <td>’s</td>\n",
       "      <td>0.7</td>\n",
       "    </tr>\n",
       "    <tr>\n",
       "      <th>12</th>\n",
       "      <td>white</td>\n",
       "      <td>0.2</td>\n",
       "      <td>every</td>\n",
       "      <td>0.2</td>\n",
       "      <td>new</td>\n",
       "      <td>0.2</td>\n",
       "      <td>trump</td>\n",
       "      <td>0.4</td>\n",
       "      <td>year</td>\n",
       "      <td>0.2</td>\n",
       "    </tr>\n",
       "    <tr>\n",
       "      <th>13</th>\n",
       "      <td>like</td>\n",
       "      <td>0.2</td>\n",
       "      <td>trump</td>\n",
       "      <td>0.2</td>\n",
       "      <td>europe</td>\n",
       "      <td>0.2</td>\n",
       "      <td>com</td>\n",
       "      <td>0.2</td>\n",
       "      <td>make</td>\n",
       "      <td>0.2</td>\n",
       "    </tr>\n",
       "    <tr>\n",
       "      <th>14</th>\n",
       "      <td>europe</td>\n",
       "      <td>0.2</td>\n",
       "      <td>people</td>\n",
       "      <td>0.2</td>\n",
       "      <td>literally</td>\n",
       "      <td>0.2</td>\n",
       "      <td>year</td>\n",
       "      <td>0.2</td>\n",
       "      <td>trump</td>\n",
       "      <td>0.2</td>\n",
       "    </tr>\n",
       "  </tbody>\n",
       "</table>\n",
       "</div>"
      ],
      "text/plain": [
       "   Topic 0 words Topic 0 weights Topic 1 words Topic 1 weights Topic 2 words  \\\n",
       "0          https           128.2            us            42.1          make   \n",
       "1          trump           120.0            go            35.0          like   \n",
       "2            com           101.2        europe            30.2           get   \n",
       "3            www            55.4            ’s            26.4          year   \n",
       "4           year            14.0          like            18.5         would   \n",
       "5          every            10.4            uk             7.3        people   \n",
       "6             uk             9.1         world             5.7         white   \n",
       "7           make             5.3           www             0.2          even   \n",
       "8           full             4.9          year             0.2            go   \n",
       "9     government             4.8         would             0.2    government   \n",
       "10            ’s             2.9          even             0.2         every   \n",
       "11         world             0.2         https             0.2         trump   \n",
       "12         white             0.2         every             0.2           new   \n",
       "13          like             0.2         trump             0.2        europe   \n",
       "14        europe             0.2        people             0.2     literally   \n",
       "\n",
       "   Topic 2 weights Topic 3 words Topic 3 weights Topic 4 words Topic 4 weights  \n",
       "0             70.4          even            39.5         white            78.5  \n",
       "1             45.9           www            36.0         would            61.3  \n",
       "2             23.1            uk            33.2        people            36.1  \n",
       "3             18.4           new            26.2         world            29.7  \n",
       "4              7.3            ’s            19.8     literally            27.2  \n",
       "5              6.7          full            18.5    government            14.7  \n",
       "6              0.9            go            15.4          even             9.9  \n",
       "7              0.2        people            12.9         every             9.5  \n",
       "8              0.2          make            11.9           get             8.3  \n",
       "9              0.2    government             8.1          full             4.2  \n",
       "10             0.2         every             7.6            us             2.3  \n",
       "11             0.2         would             6.0            ’s             0.7  \n",
       "12             0.2         trump             0.4          year             0.2  \n",
       "13             0.2           com             0.2          make             0.2  \n",
       "14             0.2          year             0.2         trump             0.2  "
      ]
     },
     "execution_count": 13,
     "metadata": {},
     "output_type": "execute_result"
    }
   ],
   "source": [
    "no_top_words = 15\n",
    "display_topics(model, tf_feature_names, no_top_words)"
   ]
  },
  {
   "cell_type": "markdown",
   "id": "b1718239",
   "metadata": {},
   "source": [
    "### BERTopic"
   ]
  },
  {
   "cell_type": "code",
   "execution_count": 14,
   "id": "f12766be",
   "metadata": {},
   "outputs": [
    {
     "name": "stderr",
     "output_type": "stream",
     "text": [
      "d:\\OneDrive - TU Eindhoven\\JADS\\Semester B\\Data Forensics\\Project\\Data-Forensics\\.venv\\Lib\\site-packages\\tqdm\\auto.py:21: TqdmWarning: IProgress not found. Please update jupyter and ipywidgets. See https://ipywidgets.readthedocs.io/en/stable/user_install.html\n",
      "  from .autonotebook import tqdm as notebook_tqdm\n"
     ]
    }
   ],
   "source": [
    "from bertopic import BERTopic"
   ]
  },
  {
   "cell_type": "code",
   "execution_count": 15,
   "id": "6b52b0bc",
   "metadata": {},
   "outputs": [],
   "source": [
    "topic_model = BERTopic()\n",
    "docs = chan4_threads['cleaned'].tolist()\n",
    "topics, probs = topic_model.fit_transform(docs)\n",
    "chan4_threads['topics'] = topics\n",
    "chan4_threads['topic_probs'] = probs"
   ]
  },
  {
   "cell_type": "code",
   "execution_count": 16,
   "id": "dc75e8ea",
   "metadata": {},
   "outputs": [
    {
     "data": {
      "text/html": [
       "<div>\n",
       "<style scoped>\n",
       "    .dataframe tbody tr th:only-of-type {\n",
       "        vertical-align: middle;\n",
       "    }\n",
       "\n",
       "    .dataframe tbody tr th {\n",
       "        vertical-align: top;\n",
       "    }\n",
       "\n",
       "    .dataframe thead th {\n",
       "        text-align: right;\n",
       "    }\n",
       "</style>\n",
       "<table border=\"1\" class=\"dataframe\">\n",
       "  <thead>\n",
       "    <tr style=\"text-align: right;\">\n",
       "      <th></th>\n",
       "      <th>Topic</th>\n",
       "      <th>Count</th>\n",
       "      <th>Name</th>\n",
       "      <th>Representation</th>\n",
       "      <th>Representative_Docs</th>\n",
       "    </tr>\n",
       "  </thead>\n",
       "  <tbody>\n",
       "    <tr>\n",
       "      <th>0</th>\n",
       "      <td>-1</td>\n",
       "      <td>17</td>\n",
       "      <td>-1_india_china_manufacturing_chinese</td>\n",
       "      <td>[india, china, manufacturing, chinese, factori...</td>\n",
       "      <td>[india failed attract factories china  went wr...</td>\n",
       "    </tr>\n",
       "    <tr>\n",
       "      <th>1</th>\n",
       "      <td>0</td>\n",
       "      <td>46</td>\n",
       "      <td>0_make_would_recall_woods</td>\n",
       "      <td>[make, would, recall, woods, european, japanes...</td>\n",
       "      <td>[morons using wrong glue tesla forced recall e...</td>\n",
       "    </tr>\n",
       "    <tr>\n",
       "      <th>2</th>\n",
       "      <td>1</td>\n",
       "      <td>37</td>\n",
       "      <td>1_white_search_google_anti</td>\n",
       "      <td>[white, search, google, anti, nobody, men, fam...</td>\n",
       "      <td>[objectively nasty  world class rbf  tds nut f...</td>\n",
       "    </tr>\n",
       "    <tr>\n",
       "      <th>3</th>\n",
       "      <td>2</td>\n",
       "      <td>34</td>\n",
       "      <td>2_step_government_us_great</td>\n",
       "      <td>[step, government, us, great, america, every, ...</td>\n",
       "      <td>[antifa violence  endless new waves vandalism ...</td>\n",
       "    </tr>\n",
       "    <tr>\n",
       "      <th>4</th>\n",
       "      <td>3</td>\n",
       "      <td>30</td>\n",
       "      <td>3_go_coffee_woke_br</td>\n",
       "      <td>[go, coffee, woke, br, britbros, courts, cup, ...</td>\n",
       "      <td>[sorry britbros  coffee much delicious tea  th...</td>\n",
       "    </tr>\n",
       "    <tr>\n",
       "      <th>5</th>\n",
       "      <td>4</td>\n",
       "      <td>29</td>\n",
       "      <td>4_white_baltics_tomatokikes_shitalians</td>\n",
       "      <td>[white, baltics, tomatokikes, shitalians, conv...</td>\n",
       "      <td>[convinced majority shitalians white  they’re ...</td>\n",
       "    </tr>\n",
       "    <tr>\n",
       "      <th>6</th>\n",
       "      <td>5</td>\n",
       "      <td>25</td>\n",
       "      <td>5_notice_something_drop_mic</td>\n",
       "      <td>[notice, something, drop, mic, , , , , , ]</td>\n",
       "      <td>[notice something, notice something, notice so...</td>\n",
       "    </tr>\n",
       "    <tr>\n",
       "      <th>7</th>\n",
       "      <td>6</td>\n",
       "      <td>25</td>\n",
       "      <td>6_ukraine_bbc_uk_catbox</td>\n",
       "      <td>[ukraine, bbc, uk, catbox, moe, news, co, arti...</td>\n",
       "      <td>[previous  →day   — daily battlefield assessme...</td>\n",
       "    </tr>\n",
       "    <tr>\n",
       "      <th>8</th>\n",
       "      <td>7</td>\n",
       "      <td>22</td>\n",
       "      <td>7_poilievre_polls_policy_real</td>\n",
       "      <td>[poilievre, polls, policy, real, never, pol, c...</td>\n",
       "      <td>[poilievre afraid policy  conservatives policy...</td>\n",
       "    </tr>\n",
       "    <tr>\n",
       "      <th>9</th>\n",
       "      <td>8</td>\n",
       "      <td>21</td>\n",
       "      <td>8_prison_lockdown_inmates_staff</td>\n",
       "      <td>[prison, lockdown, inmates, staff, thomson, gu...</td>\n",
       "      <td>[whoever cares hear  massive defrauding taxpay...</td>\n",
       "    </tr>\n",
       "    <tr>\n",
       "      <th>10</th>\n",
       "      <td>9</td>\n",
       "      <td>18</td>\n",
       "      <td>9_chickens_eggs_test_genocide</td>\n",
       "      <td>[chickens, eggs, test, genocide, pro, children...</td>\n",
       "      <td>[ kill domestic chickens fake pcr test said eg...</td>\n",
       "    </tr>\n",
       "    <tr>\n",
       "      <th>11</th>\n",
       "      <td>10</td>\n",
       "      <td>18</td>\n",
       "      <td>10_netanyahu_palestine_jfk_relevantisraeli</td>\n",
       "      <td>[netanyahu, palestine, jfk, relevantisraeli, r...</td>\n",
       "      <td>[everyone distracted pyramid pillar conspiracy...</td>\n",
       "    </tr>\n",
       "    <tr>\n",
       "      <th>12</th>\n",
       "      <td>11</td>\n",
       "      <td>18</td>\n",
       "      <td>11_care_fuck_russians_careare</td>\n",
       "      <td>[care, fuck, russians, careare, allies, hated,...</td>\n",
       "      <td>[proud ukrainians inflicting much pain sufferi...</td>\n",
       "    </tr>\n",
       "    <tr>\n",
       "      <th>13</th>\n",
       "      <td>12</td>\n",
       "      <td>18</td>\n",
       "      <td>12_christianity_us_migration_would</td>\n",
       "      <td>[christianity, us, migration, would, led, pola...</td>\n",
       "      <td>[protestantism sort anti religion  course exis...</td>\n",
       "    </tr>\n",
       "    <tr>\n",
       "      <th>14</th>\n",
       "      <td>13</td>\n",
       "      <td>18</td>\n",
       "      <td>13_want_child_baby_kids</td>\n",
       "      <td>[want, child, baby, kids, sugar, acting, pedo,...</td>\n",
       "      <td>[selfish  think  male friends kids regret choi...</td>\n",
       "    </tr>\n",
       "    <tr>\n",
       "      <th>15</th>\n",
       "      <td>14</td>\n",
       "      <td>17</td>\n",
       "      <td>14_niggers_dei_jobs_use</td>\n",
       "      <td>[niggers, dei, jobs, use, hate, alot, drain, c...</td>\n",
       "      <td>[women niggers ever try use dei get jobs like ...</td>\n",
       "    </tr>\n",
       "    <tr>\n",
       "      <th>16</th>\n",
       "      <td>15</td>\n",
       "      <td>15</td>\n",
       "      <td>15_trump_https_com_washington</td>\n",
       "      <td>[trump, https, com, washington, dc, youtu, pre...</td>\n",
       "      <td>[president donald j trump  potushttps www dona...</td>\n",
       "    </tr>\n",
       "    <tr>\n",
       "      <th>17</th>\n",
       "      <td>16</td>\n",
       "      <td>15</td>\n",
       "      <td>16_pagan_post_nazi_memes</td>\n",
       "      <td>[pagan, post, nazi, memes, pro, jeet, belong, ...</td>\n",
       "      <td>[# post  like tf even nazi  let alone elon mus...</td>\n",
       "    </tr>\n",
       "    <tr>\n",
       "      <th>18</th>\n",
       "      <td>17</td>\n",
       "      <td>13</td>\n",
       "      <td>17_english_dropped_recognize_official</td>\n",
       "      <td>[english, dropped, recognize, official, wqygcb...</td>\n",
       "      <td>[wikipedia refuses recognize english official ...</td>\n",
       "    </tr>\n",
       "    <tr>\n",
       "      <th>19</th>\n",
       "      <td>18</td>\n",
       "      <td>12</td>\n",
       "      <td>18_consciousness_soul_its_like</td>\n",
       "      <td>[consciousness, soul, its, like, dwelled, cold...</td>\n",
       "      <td>[didn’t feel younger  it’s like cold void cons...</td>\n",
       "    </tr>\n",
       "    <tr>\n",
       "      <th>20</th>\n",
       "      <td>19</td>\n",
       "      <td>11</td>\n",
       "      <td>19_faces_sold_even_makes</td>\n",
       "      <td>[faces, sold, even, makes, anymore, see, fun, ...</td>\n",
       "      <td>[coworker mental breakdown yesterday work fire...</td>\n",
       "    </tr>\n",
       "    <tr>\n",
       "      <th>21</th>\n",
       "      <td>20</td>\n",
       "      <td>11</td>\n",
       "      <td>20_east_white_bunnies_snow</td>\n",
       "      <td>[east, white, bunnies, snow, interbreeding, as...</td>\n",
       "      <td>[white aryan chad south india herei dont under...</td>\n",
       "    </tr>\n",
       "  </tbody>\n",
       "</table>\n",
       "</div>"
      ],
      "text/plain": [
       "    Topic  Count                                        Name  \\\n",
       "0      -1     17        -1_india_china_manufacturing_chinese   \n",
       "1       0     46                   0_make_would_recall_woods   \n",
       "2       1     37                  1_white_search_google_anti   \n",
       "3       2     34                  2_step_government_us_great   \n",
       "4       3     30                         3_go_coffee_woke_br   \n",
       "5       4     29      4_white_baltics_tomatokikes_shitalians   \n",
       "6       5     25                 5_notice_something_drop_mic   \n",
       "7       6     25                     6_ukraine_bbc_uk_catbox   \n",
       "8       7     22               7_poilievre_polls_policy_real   \n",
       "9       8     21             8_prison_lockdown_inmates_staff   \n",
       "10      9     18               9_chickens_eggs_test_genocide   \n",
       "11     10     18  10_netanyahu_palestine_jfk_relevantisraeli   \n",
       "12     11     18               11_care_fuck_russians_careare   \n",
       "13     12     18          12_christianity_us_migration_would   \n",
       "14     13     18                     13_want_child_baby_kids   \n",
       "15     14     17                     14_niggers_dei_jobs_use   \n",
       "16     15     15               15_trump_https_com_washington   \n",
       "17     16     15                    16_pagan_post_nazi_memes   \n",
       "18     17     13       17_english_dropped_recognize_official   \n",
       "19     18     12              18_consciousness_soul_its_like   \n",
       "20     19     11                    19_faces_sold_even_makes   \n",
       "21     20     11                  20_east_white_bunnies_snow   \n",
       "\n",
       "                                       Representation  \\\n",
       "0   [india, china, manufacturing, chinese, factori...   \n",
       "1   [make, would, recall, woods, european, japanes...   \n",
       "2   [white, search, google, anti, nobody, men, fam...   \n",
       "3   [step, government, us, great, america, every, ...   \n",
       "4   [go, coffee, woke, br, britbros, courts, cup, ...   \n",
       "5   [white, baltics, tomatokikes, shitalians, conv...   \n",
       "6          [notice, something, drop, mic, , , , , , ]   \n",
       "7   [ukraine, bbc, uk, catbox, moe, news, co, arti...   \n",
       "8   [poilievre, polls, policy, real, never, pol, c...   \n",
       "9   [prison, lockdown, inmates, staff, thomson, gu...   \n",
       "10  [chickens, eggs, test, genocide, pro, children...   \n",
       "11  [netanyahu, palestine, jfk, relevantisraeli, r...   \n",
       "12  [care, fuck, russians, careare, allies, hated,...   \n",
       "13  [christianity, us, migration, would, led, pola...   \n",
       "14  [want, child, baby, kids, sugar, acting, pedo,...   \n",
       "15  [niggers, dei, jobs, use, hate, alot, drain, c...   \n",
       "16  [trump, https, com, washington, dc, youtu, pre...   \n",
       "17  [pagan, post, nazi, memes, pro, jeet, belong, ...   \n",
       "18  [english, dropped, recognize, official, wqygcb...   \n",
       "19  [consciousness, soul, its, like, dwelled, cold...   \n",
       "20  [faces, sold, even, makes, anymore, see, fun, ...   \n",
       "21  [east, white, bunnies, snow, interbreeding, as...   \n",
       "\n",
       "                                  Representative_Docs  \n",
       "0   [india failed attract factories china  went wr...  \n",
       "1   [morons using wrong glue tesla forced recall e...  \n",
       "2   [objectively nasty  world class rbf  tds nut f...  \n",
       "3   [antifa violence  endless new waves vandalism ...  \n",
       "4   [sorry britbros  coffee much delicious tea  th...  \n",
       "5   [convinced majority shitalians white  they’re ...  \n",
       "6   [notice something, notice something, notice so...  \n",
       "7   [previous  →day   — daily battlefield assessme...  \n",
       "8   [poilievre afraid policy  conservatives policy...  \n",
       "9   [whoever cares hear  massive defrauding taxpay...  \n",
       "10  [ kill domestic chickens fake pcr test said eg...  \n",
       "11  [everyone distracted pyramid pillar conspiracy...  \n",
       "12  [proud ukrainians inflicting much pain sufferi...  \n",
       "13  [protestantism sort anti religion  course exis...  \n",
       "14  [selfish  think  male friends kids regret choi...  \n",
       "15  [women niggers ever try use dei get jobs like ...  \n",
       "16  [president donald j trump  potushttps www dona...  \n",
       "17  [# post  like tf even nazi  let alone elon mus...  \n",
       "18  [wikipedia refuses recognize english official ...  \n",
       "19  [didn’t feel younger  it’s like cold void cons...  \n",
       "20  [coworker mental breakdown yesterday work fire...  \n",
       "21  [white aryan chad south india herei dont under...  "
      ]
     },
     "execution_count": 16,
     "metadata": {},
     "output_type": "execute_result"
    }
   ],
   "source": [
    "BERTopics = topic_model.get_topic_info()\n",
    "BERTopics"
   ]
  },
  {
   "cell_type": "code",
   "execution_count": 17,
   "id": "06248c5a",
   "metadata": {},
   "outputs": [
    {
     "ename": "ValueError",
     "evalue": "Mime type rendering requires nbformat>=4.2.0 but it is not installed",
     "output_type": "error",
     "traceback": [
      "\u001b[31m---------------------------------------------------------------------------\u001b[39m",
      "\u001b[31mValueError\u001b[39m                                Traceback (most recent call last)",
      "\u001b[36mFile \u001b[39m\u001b[32md:\\OneDrive - TU Eindhoven\\JADS\\Semester B\\Data Forensics\\Project\\Data-Forensics\\.venv\\Lib\\site-packages\\IPython\\core\\formatters.py:984\u001b[39m, in \u001b[36mIPythonDisplayFormatter.__call__\u001b[39m\u001b[34m(self, obj)\u001b[39m\n\u001b[32m    982\u001b[39m method = get_real_method(obj, \u001b[38;5;28mself\u001b[39m.print_method)\n\u001b[32m    983\u001b[39m \u001b[38;5;28;01mif\u001b[39;00m method \u001b[38;5;129;01mis\u001b[39;00m \u001b[38;5;129;01mnot\u001b[39;00m \u001b[38;5;28;01mNone\u001b[39;00m:\n\u001b[32m--> \u001b[39m\u001b[32m984\u001b[39m     \u001b[43mmethod\u001b[49m\u001b[43m(\u001b[49m\u001b[43m)\u001b[49m\n\u001b[32m    985\u001b[39m     \u001b[38;5;28;01mreturn\u001b[39;00m \u001b[38;5;28;01mTrue\u001b[39;00m\n",
      "\u001b[36mFile \u001b[39m\u001b[32md:\\OneDrive - TU Eindhoven\\JADS\\Semester B\\Data Forensics\\Project\\Data-Forensics\\.venv\\Lib\\site-packages\\plotly\\basedatatypes.py:833\u001b[39m, in \u001b[36mBaseFigure._ipython_display_\u001b[39m\u001b[34m(self)\u001b[39m\n\u001b[32m    830\u001b[39m \u001b[38;5;28;01mimport\u001b[39;00m\u001b[38;5;250m \u001b[39m\u001b[34;01mplotly\u001b[39;00m\u001b[34;01m.\u001b[39;00m\u001b[34;01mio\u001b[39;00m\u001b[38;5;250m \u001b[39m\u001b[38;5;28;01mas\u001b[39;00m\u001b[38;5;250m \u001b[39m\u001b[34;01mpio\u001b[39;00m\n\u001b[32m    832\u001b[39m \u001b[38;5;28;01mif\u001b[39;00m pio.renderers.render_on_display \u001b[38;5;129;01mand\u001b[39;00m pio.renderers.default:\n\u001b[32m--> \u001b[39m\u001b[32m833\u001b[39m     \u001b[43mpio\u001b[49m\u001b[43m.\u001b[49m\u001b[43mshow\u001b[49m\u001b[43m(\u001b[49m\u001b[38;5;28;43mself\u001b[39;49m\u001b[43m)\u001b[49m\n\u001b[32m    834\u001b[39m \u001b[38;5;28;01melse\u001b[39;00m:\n\u001b[32m    835\u001b[39m     \u001b[38;5;28mprint\u001b[39m(\u001b[38;5;28mrepr\u001b[39m(\u001b[38;5;28mself\u001b[39m))\n",
      "\u001b[36mFile \u001b[39m\u001b[32md:\\OneDrive - TU Eindhoven\\JADS\\Semester B\\Data Forensics\\Project\\Data-Forensics\\.venv\\Lib\\site-packages\\plotly\\io\\_renderers.py:425\u001b[39m, in \u001b[36mshow\u001b[39m\u001b[34m(fig, renderer, validate, **kwargs)\u001b[39m\n\u001b[32m    420\u001b[39m     \u001b[38;5;28;01mraise\u001b[39;00m \u001b[38;5;167;01mValueError\u001b[39;00m(\n\u001b[32m    421\u001b[39m         \u001b[33m\"\u001b[39m\u001b[33mMime type rendering requires ipython but it is not installed\u001b[39m\u001b[33m\"\u001b[39m\n\u001b[32m    422\u001b[39m     )\n\u001b[32m    424\u001b[39m \u001b[38;5;28;01mif\u001b[39;00m \u001b[38;5;129;01mnot\u001b[39;00m nbformat \u001b[38;5;129;01mor\u001b[39;00m Version(nbformat.__version__) < Version(\u001b[33m\"\u001b[39m\u001b[33m4.2.0\u001b[39m\u001b[33m\"\u001b[39m):\n\u001b[32m--> \u001b[39m\u001b[32m425\u001b[39m     \u001b[38;5;28;01mraise\u001b[39;00m \u001b[38;5;167;01mValueError\u001b[39;00m(\n\u001b[32m    426\u001b[39m         \u001b[33m\"\u001b[39m\u001b[33mMime type rendering requires nbformat>=4.2.0 but it is not installed\u001b[39m\u001b[33m\"\u001b[39m\n\u001b[32m    427\u001b[39m     )\n\u001b[32m    429\u001b[39m display_jupyter_version_warnings()\n\u001b[32m    431\u001b[39m ipython_display.display(bundle, raw=\u001b[38;5;28;01mTrue\u001b[39;00m)\n",
      "\u001b[31mValueError\u001b[39m: Mime type rendering requires nbformat>=4.2.0 but it is not installed"
     ]
    },
    {
     "data": {
      "application/vnd.plotly.v1+json": {
       "config": {
        "plotlyServerURL": "https://plot.ly"
       },
       "data": [
        {
         "customdata": [
          [
           0,
           "make | would | recall | woods | european",
           46
          ],
          [
           1,
           "white | search | google | anti | nobody",
           37
          ],
          [
           2,
           "step | government | us | great | america",
           34
          ],
          [
           3,
           "go | coffee | woke | br | britbros",
           30
          ],
          [
           4,
           "white | baltics | tomatokikes | shitalians | convinced",
           29
          ],
          [
           5,
           "notice | something | drop | mic | ",
           25
          ],
          [
           6,
           "ukraine | bbc | uk | catbox | moe",
           25
          ],
          [
           7,
           "poilievre | polls | policy | real | never",
           22
          ],
          [
           8,
           "prison | lockdown | inmates | staff | thomson",
           21
          ],
          [
           9,
           "chickens | eggs | test | genocide | pro",
           18
          ],
          [
           10,
           "netanyahu | palestine | jfk | relevantisraeli | research",
           18
          ],
          [
           11,
           "care | fuck | russians | careare | allies",
           18
          ],
          [
           12,
           "christianity | us | migration | would | led",
           18
          ],
          [
           13,
           "want | child | baby | kids | sugar",
           18
          ],
          [
           14,
           "niggers | dei | jobs | use | hate",
           17
          ],
          [
           15,
           "trump | https | com | washington | dc",
           15
          ],
          [
           16,
           "pagan | post | nazi | memes | pro",
           15
          ],
          [
           17,
           "english | dropped | recognize | official | wqygcbceceu",
           13
          ],
          [
           18,
           "consciousness | soul | its | like | dwelled",
           12
          ],
          [
           19,
           "faces | sold | even | makes | anymore",
           11
          ],
          [
           20,
           "east | white | bunnies | snow | interbreeding",
           11
          ]
         ],
         "hovertemplate": "<b>Topic %{customdata[0]}</b><br>%{customdata[1]}<br>Size: %{customdata[2]}",
         "legendgroup": "",
         "marker": {
          "color": "#B0BEC5",
          "line": {
           "color": "DarkSlateGrey",
           "width": 2
          },
          "size": {
           "bdata": "LiUiHh0ZGRYVEhISEhIRDw8NDAsL",
           "dtype": "i1"
          },
          "sizemode": "area",
          "sizeref": 0.02875,
          "symbol": "circle"
         },
         "mode": "markers",
         "name": "",
         "orientation": "v",
         "showlegend": false,
         "type": "scatter",
         "x": {
          "bdata": "NTdKQSIhQEEydItB3kwwQZVpNkFPCTRBjUtnwBLCOkHlNopB8USPQdQeccA7WkJBiNlQQXYIkEFlKT9BeJeKQTUaVUGceYdBxvgqQYfYOEFLCztB",
          "dtype": "f4"
         },
         "xaxis": "x",
         "y": {
          "bdata": "+88qv+SUiz+0sOJAPQVkv6fN7j/BoJ+/vFWBQHf5Br8NdOtAs3vhQKMThkCHEVK+NOKZv6IG1kD8Vzs/kc7YQJVAyL/6o95A04SMv4B6eD/DScU/",
          "dtype": "f4"
         },
         "yaxis": "y"
        }
       ],
       "layout": {
        "annotations": [
         {
          "showarrow": false,
          "text": "D1",
          "x": -4.332632541656494,
          "y": 3.3312313556671143,
          "yshift": 10
         },
         {
          "showarrow": false,
          "text": "D2",
          "x": 8.18605899810791,
          "xshift": 10,
          "y": 8.461604118347168
         }
        ],
        "height": 650,
        "hoverlabel": {
         "bgcolor": "white",
         "font": {
          "family": "Rockwell",
          "size": 16
         }
        },
        "legend": {
         "itemsizing": "constant",
         "tracegroupgap": 0
        },
        "margin": {
         "t": 60
        },
        "shapes": [
         {
          "line": {
           "color": "#CFD8DC",
           "width": 2
          },
          "type": "line",
          "x0": 8.18605899810791,
          "x1": 8.18605899810791,
          "y0": -1.799141526222229,
          "y1": 8.461604118347168
         },
         {
          "line": {
           "color": "#9E9E9E",
           "width": 2
          },
          "type": "line",
          "x0": -4.332632541656494,
          "x1": 20.704750061035156,
          "y0": 3.3312313556671143,
          "y1": 3.3312313556671143
         }
        ],
        "sliders": [
         {
          "active": 0,
          "pad": {
           "t": 50
          },
          "steps": [
           {
            "args": [
             {
              "marker.color": [
               [
                "red",
                "#B0BEC5",
                "#B0BEC5",
                "#B0BEC5",
                "#B0BEC5",
                "#B0BEC5",
                "#B0BEC5",
                "#B0BEC5",
                "#B0BEC5",
                "#B0BEC5",
                "#B0BEC5",
                "#B0BEC5",
                "#B0BEC5",
                "#B0BEC5",
                "#B0BEC5",
                "#B0BEC5",
                "#B0BEC5",
                "#B0BEC5",
                "#B0BEC5",
                "#B0BEC5",
                "#B0BEC5"
               ]
              ]
             }
            ],
            "label": "Topic 0",
            "method": "update"
           },
           {
            "args": [
             {
              "marker.color": [
               [
                "#B0BEC5",
                "red",
                "#B0BEC5",
                "#B0BEC5",
                "#B0BEC5",
                "#B0BEC5",
                "#B0BEC5",
                "#B0BEC5",
                "#B0BEC5",
                "#B0BEC5",
                "#B0BEC5",
                "#B0BEC5",
                "#B0BEC5",
                "#B0BEC5",
                "#B0BEC5",
                "#B0BEC5",
                "#B0BEC5",
                "#B0BEC5",
                "#B0BEC5",
                "#B0BEC5",
                "#B0BEC5"
               ]
              ]
             }
            ],
            "label": "Topic 1",
            "method": "update"
           },
           {
            "args": [
             {
              "marker.color": [
               [
                "#B0BEC5",
                "#B0BEC5",
                "red",
                "#B0BEC5",
                "#B0BEC5",
                "#B0BEC5",
                "#B0BEC5",
                "#B0BEC5",
                "#B0BEC5",
                "#B0BEC5",
                "#B0BEC5",
                "#B0BEC5",
                "#B0BEC5",
                "#B0BEC5",
                "#B0BEC5",
                "#B0BEC5",
                "#B0BEC5",
                "#B0BEC5",
                "#B0BEC5",
                "#B0BEC5",
                "#B0BEC5"
               ]
              ]
             }
            ],
            "label": "Topic 2",
            "method": "update"
           },
           {
            "args": [
             {
              "marker.color": [
               [
                "#B0BEC5",
                "#B0BEC5",
                "#B0BEC5",
                "red",
                "#B0BEC5",
                "#B0BEC5",
                "#B0BEC5",
                "#B0BEC5",
                "#B0BEC5",
                "#B0BEC5",
                "#B0BEC5",
                "#B0BEC5",
                "#B0BEC5",
                "#B0BEC5",
                "#B0BEC5",
                "#B0BEC5",
                "#B0BEC5",
                "#B0BEC5",
                "#B0BEC5",
                "#B0BEC5",
                "#B0BEC5"
               ]
              ]
             }
            ],
            "label": "Topic 3",
            "method": "update"
           },
           {
            "args": [
             {
              "marker.color": [
               [
                "#B0BEC5",
                "#B0BEC5",
                "#B0BEC5",
                "#B0BEC5",
                "red",
                "#B0BEC5",
                "#B0BEC5",
                "#B0BEC5",
                "#B0BEC5",
                "#B0BEC5",
                "#B0BEC5",
                "#B0BEC5",
                "#B0BEC5",
                "#B0BEC5",
                "#B0BEC5",
                "#B0BEC5",
                "#B0BEC5",
                "#B0BEC5",
                "#B0BEC5",
                "#B0BEC5",
                "#B0BEC5"
               ]
              ]
             }
            ],
            "label": "Topic 4",
            "method": "update"
           },
           {
            "args": [
             {
              "marker.color": [
               [
                "#B0BEC5",
                "#B0BEC5",
                "#B0BEC5",
                "#B0BEC5",
                "#B0BEC5",
                "red",
                "#B0BEC5",
                "#B0BEC5",
                "#B0BEC5",
                "#B0BEC5",
                "#B0BEC5",
                "#B0BEC5",
                "#B0BEC5",
                "#B0BEC5",
                "#B0BEC5",
                "#B0BEC5",
                "#B0BEC5",
                "#B0BEC5",
                "#B0BEC5",
                "#B0BEC5",
                "#B0BEC5"
               ]
              ]
             }
            ],
            "label": "Topic 5",
            "method": "update"
           },
           {
            "args": [
             {
              "marker.color": [
               [
                "#B0BEC5",
                "#B0BEC5",
                "#B0BEC5",
                "#B0BEC5",
                "#B0BEC5",
                "#B0BEC5",
                "red",
                "#B0BEC5",
                "#B0BEC5",
                "#B0BEC5",
                "#B0BEC5",
                "#B0BEC5",
                "#B0BEC5",
                "#B0BEC5",
                "#B0BEC5",
                "#B0BEC5",
                "#B0BEC5",
                "#B0BEC5",
                "#B0BEC5",
                "#B0BEC5",
                "#B0BEC5"
               ]
              ]
             }
            ],
            "label": "Topic 6",
            "method": "update"
           },
           {
            "args": [
             {
              "marker.color": [
               [
                "#B0BEC5",
                "#B0BEC5",
                "#B0BEC5",
                "#B0BEC5",
                "#B0BEC5",
                "#B0BEC5",
                "#B0BEC5",
                "red",
                "#B0BEC5",
                "#B0BEC5",
                "#B0BEC5",
                "#B0BEC5",
                "#B0BEC5",
                "#B0BEC5",
                "#B0BEC5",
                "#B0BEC5",
                "#B0BEC5",
                "#B0BEC5",
                "#B0BEC5",
                "#B0BEC5",
                "#B0BEC5"
               ]
              ]
             }
            ],
            "label": "Topic 7",
            "method": "update"
           },
           {
            "args": [
             {
              "marker.color": [
               [
                "#B0BEC5",
                "#B0BEC5",
                "#B0BEC5",
                "#B0BEC5",
                "#B0BEC5",
                "#B0BEC5",
                "#B0BEC5",
                "#B0BEC5",
                "red",
                "#B0BEC5",
                "#B0BEC5",
                "#B0BEC5",
                "#B0BEC5",
                "#B0BEC5",
                "#B0BEC5",
                "#B0BEC5",
                "#B0BEC5",
                "#B0BEC5",
                "#B0BEC5",
                "#B0BEC5",
                "#B0BEC5"
               ]
              ]
             }
            ],
            "label": "Topic 8",
            "method": "update"
           },
           {
            "args": [
             {
              "marker.color": [
               [
                "#B0BEC5",
                "#B0BEC5",
                "#B0BEC5",
                "#B0BEC5",
                "#B0BEC5",
                "#B0BEC5",
                "#B0BEC5",
                "#B0BEC5",
                "#B0BEC5",
                "red",
                "#B0BEC5",
                "#B0BEC5",
                "#B0BEC5",
                "#B0BEC5",
                "#B0BEC5",
                "#B0BEC5",
                "#B0BEC5",
                "#B0BEC5",
                "#B0BEC5",
                "#B0BEC5",
                "#B0BEC5"
               ]
              ]
             }
            ],
            "label": "Topic 9",
            "method": "update"
           },
           {
            "args": [
             {
              "marker.color": [
               [
                "#B0BEC5",
                "#B0BEC5",
                "#B0BEC5",
                "#B0BEC5",
                "#B0BEC5",
                "#B0BEC5",
                "#B0BEC5",
                "#B0BEC5",
                "#B0BEC5",
                "#B0BEC5",
                "red",
                "#B0BEC5",
                "#B0BEC5",
                "#B0BEC5",
                "#B0BEC5",
                "#B0BEC5",
                "#B0BEC5",
                "#B0BEC5",
                "#B0BEC5",
                "#B0BEC5",
                "#B0BEC5"
               ]
              ]
             }
            ],
            "label": "Topic 10",
            "method": "update"
           },
           {
            "args": [
             {
              "marker.color": [
               [
                "#B0BEC5",
                "#B0BEC5",
                "#B0BEC5",
                "#B0BEC5",
                "#B0BEC5",
                "#B0BEC5",
                "#B0BEC5",
                "#B0BEC5",
                "#B0BEC5",
                "#B0BEC5",
                "#B0BEC5",
                "red",
                "#B0BEC5",
                "#B0BEC5",
                "#B0BEC5",
                "#B0BEC5",
                "#B0BEC5",
                "#B0BEC5",
                "#B0BEC5",
                "#B0BEC5",
                "#B0BEC5"
               ]
              ]
             }
            ],
            "label": "Topic 11",
            "method": "update"
           },
           {
            "args": [
             {
              "marker.color": [
               [
                "#B0BEC5",
                "#B0BEC5",
                "#B0BEC5",
                "#B0BEC5",
                "#B0BEC5",
                "#B0BEC5",
                "#B0BEC5",
                "#B0BEC5",
                "#B0BEC5",
                "#B0BEC5",
                "#B0BEC5",
                "#B0BEC5",
                "red",
                "#B0BEC5",
                "#B0BEC5",
                "#B0BEC5",
                "#B0BEC5",
                "#B0BEC5",
                "#B0BEC5",
                "#B0BEC5",
                "#B0BEC5"
               ]
              ]
             }
            ],
            "label": "Topic 12",
            "method": "update"
           },
           {
            "args": [
             {
              "marker.color": [
               [
                "#B0BEC5",
                "#B0BEC5",
                "#B0BEC5",
                "#B0BEC5",
                "#B0BEC5",
                "#B0BEC5",
                "#B0BEC5",
                "#B0BEC5",
                "#B0BEC5",
                "#B0BEC5",
                "#B0BEC5",
                "#B0BEC5",
                "#B0BEC5",
                "red",
                "#B0BEC5",
                "#B0BEC5",
                "#B0BEC5",
                "#B0BEC5",
                "#B0BEC5",
                "#B0BEC5",
                "#B0BEC5"
               ]
              ]
             }
            ],
            "label": "Topic 13",
            "method": "update"
           },
           {
            "args": [
             {
              "marker.color": [
               [
                "#B0BEC5",
                "#B0BEC5",
                "#B0BEC5",
                "#B0BEC5",
                "#B0BEC5",
                "#B0BEC5",
                "#B0BEC5",
                "#B0BEC5",
                "#B0BEC5",
                "#B0BEC5",
                "#B0BEC5",
                "#B0BEC5",
                "#B0BEC5",
                "#B0BEC5",
                "red",
                "#B0BEC5",
                "#B0BEC5",
                "#B0BEC5",
                "#B0BEC5",
                "#B0BEC5",
                "#B0BEC5"
               ]
              ]
             }
            ],
            "label": "Topic 14",
            "method": "update"
           },
           {
            "args": [
             {
              "marker.color": [
               [
                "#B0BEC5",
                "#B0BEC5",
                "#B0BEC5",
                "#B0BEC5",
                "#B0BEC5",
                "#B0BEC5",
                "#B0BEC5",
                "#B0BEC5",
                "#B0BEC5",
                "#B0BEC5",
                "#B0BEC5",
                "#B0BEC5",
                "#B0BEC5",
                "#B0BEC5",
                "#B0BEC5",
                "red",
                "#B0BEC5",
                "#B0BEC5",
                "#B0BEC5",
                "#B0BEC5",
                "#B0BEC5"
               ]
              ]
             }
            ],
            "label": "Topic 15",
            "method": "update"
           },
           {
            "args": [
             {
              "marker.color": [
               [
                "#B0BEC5",
                "#B0BEC5",
                "#B0BEC5",
                "#B0BEC5",
                "#B0BEC5",
                "#B0BEC5",
                "#B0BEC5",
                "#B0BEC5",
                "#B0BEC5",
                "#B0BEC5",
                "#B0BEC5",
                "#B0BEC5",
                "#B0BEC5",
                "#B0BEC5",
                "#B0BEC5",
                "#B0BEC5",
                "red",
                "#B0BEC5",
                "#B0BEC5",
                "#B0BEC5",
                "#B0BEC5"
               ]
              ]
             }
            ],
            "label": "Topic 16",
            "method": "update"
           },
           {
            "args": [
             {
              "marker.color": [
               [
                "#B0BEC5",
                "#B0BEC5",
                "#B0BEC5",
                "#B0BEC5",
                "#B0BEC5",
                "#B0BEC5",
                "#B0BEC5",
                "#B0BEC5",
                "#B0BEC5",
                "#B0BEC5",
                "#B0BEC5",
                "#B0BEC5",
                "#B0BEC5",
                "#B0BEC5",
                "#B0BEC5",
                "#B0BEC5",
                "#B0BEC5",
                "red",
                "#B0BEC5",
                "#B0BEC5",
                "#B0BEC5"
               ]
              ]
             }
            ],
            "label": "Topic 17",
            "method": "update"
           },
           {
            "args": [
             {
              "marker.color": [
               [
                "#B0BEC5",
                "#B0BEC5",
                "#B0BEC5",
                "#B0BEC5",
                "#B0BEC5",
                "#B0BEC5",
                "#B0BEC5",
                "#B0BEC5",
                "#B0BEC5",
                "#B0BEC5",
                "#B0BEC5",
                "#B0BEC5",
                "#B0BEC5",
                "#B0BEC5",
                "#B0BEC5",
                "#B0BEC5",
                "#B0BEC5",
                "#B0BEC5",
                "red",
                "#B0BEC5",
                "#B0BEC5"
               ]
              ]
             }
            ],
            "label": "Topic 18",
            "method": "update"
           },
           {
            "args": [
             {
              "marker.color": [
               [
                "#B0BEC5",
                "#B0BEC5",
                "#B0BEC5",
                "#B0BEC5",
                "#B0BEC5",
                "#B0BEC5",
                "#B0BEC5",
                "#B0BEC5",
                "#B0BEC5",
                "#B0BEC5",
                "#B0BEC5",
                "#B0BEC5",
                "#B0BEC5",
                "#B0BEC5",
                "#B0BEC5",
                "#B0BEC5",
                "#B0BEC5",
                "#B0BEC5",
                "#B0BEC5",
                "red",
                "#B0BEC5"
               ]
              ]
             }
            ],
            "label": "Topic 19",
            "method": "update"
           },
           {
            "args": [
             {
              "marker.color": [
               [
                "#B0BEC5",
                "#B0BEC5",
                "#B0BEC5",
                "#B0BEC5",
                "#B0BEC5",
                "#B0BEC5",
                "#B0BEC5",
                "#B0BEC5",
                "#B0BEC5",
                "#B0BEC5",
                "#B0BEC5",
                "#B0BEC5",
                "#B0BEC5",
                "#B0BEC5",
                "#B0BEC5",
                "#B0BEC5",
                "#B0BEC5",
                "#B0BEC5",
                "#B0BEC5",
                "#B0BEC5",
                "red"
               ]
              ]
             }
            ],
            "label": "Topic 20",
            "method": "update"
           }
          ]
         }
        ],
        "template": {
         "data": {
          "bar": [
           {
            "error_x": {
             "color": "rgb(36,36,36)"
            },
            "error_y": {
             "color": "rgb(36,36,36)"
            },
            "marker": {
             "line": {
              "color": "white",
              "width": 0.5
             },
             "pattern": {
              "fillmode": "overlay",
              "size": 10,
              "solidity": 0.2
             }
            },
            "type": "bar"
           }
          ],
          "barpolar": [
           {
            "marker": {
             "line": {
              "color": "white",
              "width": 0.5
             },
             "pattern": {
              "fillmode": "overlay",
              "size": 10,
              "solidity": 0.2
             }
            },
            "type": "barpolar"
           }
          ],
          "carpet": [
           {
            "aaxis": {
             "endlinecolor": "rgb(36,36,36)",
             "gridcolor": "white",
             "linecolor": "white",
             "minorgridcolor": "white",
             "startlinecolor": "rgb(36,36,36)"
            },
            "baxis": {
             "endlinecolor": "rgb(36,36,36)",
             "gridcolor": "white",
             "linecolor": "white",
             "minorgridcolor": "white",
             "startlinecolor": "rgb(36,36,36)"
            },
            "type": "carpet"
           }
          ],
          "choropleth": [
           {
            "colorbar": {
             "outlinewidth": 1,
             "tickcolor": "rgb(36,36,36)",
             "ticks": "outside"
            },
            "type": "choropleth"
           }
          ],
          "contour": [
           {
            "colorbar": {
             "outlinewidth": 1,
             "tickcolor": "rgb(36,36,36)",
             "ticks": "outside"
            },
            "colorscale": [
             [
              0,
              "#440154"
             ],
             [
              0.1111111111111111,
              "#482878"
             ],
             [
              0.2222222222222222,
              "#3e4989"
             ],
             [
              0.3333333333333333,
              "#31688e"
             ],
             [
              0.4444444444444444,
              "#26828e"
             ],
             [
              0.5555555555555556,
              "#1f9e89"
             ],
             [
              0.6666666666666666,
              "#35b779"
             ],
             [
              0.7777777777777778,
              "#6ece58"
             ],
             [
              0.8888888888888888,
              "#b5de2b"
             ],
             [
              1,
              "#fde725"
             ]
            ],
            "type": "contour"
           }
          ],
          "contourcarpet": [
           {
            "colorbar": {
             "outlinewidth": 1,
             "tickcolor": "rgb(36,36,36)",
             "ticks": "outside"
            },
            "type": "contourcarpet"
           }
          ],
          "heatmap": [
           {
            "colorbar": {
             "outlinewidth": 1,
             "tickcolor": "rgb(36,36,36)",
             "ticks": "outside"
            },
            "colorscale": [
             [
              0,
              "#440154"
             ],
             [
              0.1111111111111111,
              "#482878"
             ],
             [
              0.2222222222222222,
              "#3e4989"
             ],
             [
              0.3333333333333333,
              "#31688e"
             ],
             [
              0.4444444444444444,
              "#26828e"
             ],
             [
              0.5555555555555556,
              "#1f9e89"
             ],
             [
              0.6666666666666666,
              "#35b779"
             ],
             [
              0.7777777777777778,
              "#6ece58"
             ],
             [
              0.8888888888888888,
              "#b5de2b"
             ],
             [
              1,
              "#fde725"
             ]
            ],
            "type": "heatmap"
           }
          ],
          "histogram": [
           {
            "marker": {
             "line": {
              "color": "white",
              "width": 0.6
             }
            },
            "type": "histogram"
           }
          ],
          "histogram2d": [
           {
            "colorbar": {
             "outlinewidth": 1,
             "tickcolor": "rgb(36,36,36)",
             "ticks": "outside"
            },
            "colorscale": [
             [
              0,
              "#440154"
             ],
             [
              0.1111111111111111,
              "#482878"
             ],
             [
              0.2222222222222222,
              "#3e4989"
             ],
             [
              0.3333333333333333,
              "#31688e"
             ],
             [
              0.4444444444444444,
              "#26828e"
             ],
             [
              0.5555555555555556,
              "#1f9e89"
             ],
             [
              0.6666666666666666,
              "#35b779"
             ],
             [
              0.7777777777777778,
              "#6ece58"
             ],
             [
              0.8888888888888888,
              "#b5de2b"
             ],
             [
              1,
              "#fde725"
             ]
            ],
            "type": "histogram2d"
           }
          ],
          "histogram2dcontour": [
           {
            "colorbar": {
             "outlinewidth": 1,
             "tickcolor": "rgb(36,36,36)",
             "ticks": "outside"
            },
            "colorscale": [
             [
              0,
              "#440154"
             ],
             [
              0.1111111111111111,
              "#482878"
             ],
             [
              0.2222222222222222,
              "#3e4989"
             ],
             [
              0.3333333333333333,
              "#31688e"
             ],
             [
              0.4444444444444444,
              "#26828e"
             ],
             [
              0.5555555555555556,
              "#1f9e89"
             ],
             [
              0.6666666666666666,
              "#35b779"
             ],
             [
              0.7777777777777778,
              "#6ece58"
             ],
             [
              0.8888888888888888,
              "#b5de2b"
             ],
             [
              1,
              "#fde725"
             ]
            ],
            "type": "histogram2dcontour"
           }
          ],
          "mesh3d": [
           {
            "colorbar": {
             "outlinewidth": 1,
             "tickcolor": "rgb(36,36,36)",
             "ticks": "outside"
            },
            "type": "mesh3d"
           }
          ],
          "parcoords": [
           {
            "line": {
             "colorbar": {
              "outlinewidth": 1,
              "tickcolor": "rgb(36,36,36)",
              "ticks": "outside"
             }
            },
            "type": "parcoords"
           }
          ],
          "pie": [
           {
            "automargin": true,
            "type": "pie"
           }
          ],
          "scatter": [
           {
            "fillpattern": {
             "fillmode": "overlay",
             "size": 10,
             "solidity": 0.2
            },
            "type": "scatter"
           }
          ],
          "scatter3d": [
           {
            "line": {
             "colorbar": {
              "outlinewidth": 1,
              "tickcolor": "rgb(36,36,36)",
              "ticks": "outside"
             }
            },
            "marker": {
             "colorbar": {
              "outlinewidth": 1,
              "tickcolor": "rgb(36,36,36)",
              "ticks": "outside"
             }
            },
            "type": "scatter3d"
           }
          ],
          "scattercarpet": [
           {
            "marker": {
             "colorbar": {
              "outlinewidth": 1,
              "tickcolor": "rgb(36,36,36)",
              "ticks": "outside"
             }
            },
            "type": "scattercarpet"
           }
          ],
          "scattergeo": [
           {
            "marker": {
             "colorbar": {
              "outlinewidth": 1,
              "tickcolor": "rgb(36,36,36)",
              "ticks": "outside"
             }
            },
            "type": "scattergeo"
           }
          ],
          "scattergl": [
           {
            "marker": {
             "colorbar": {
              "outlinewidth": 1,
              "tickcolor": "rgb(36,36,36)",
              "ticks": "outside"
             }
            },
            "type": "scattergl"
           }
          ],
          "scattermap": [
           {
            "marker": {
             "colorbar": {
              "outlinewidth": 1,
              "tickcolor": "rgb(36,36,36)",
              "ticks": "outside"
             }
            },
            "type": "scattermap"
           }
          ],
          "scattermapbox": [
           {
            "marker": {
             "colorbar": {
              "outlinewidth": 1,
              "tickcolor": "rgb(36,36,36)",
              "ticks": "outside"
             }
            },
            "type": "scattermapbox"
           }
          ],
          "scatterpolar": [
           {
            "marker": {
             "colorbar": {
              "outlinewidth": 1,
              "tickcolor": "rgb(36,36,36)",
              "ticks": "outside"
             }
            },
            "type": "scatterpolar"
           }
          ],
          "scatterpolargl": [
           {
            "marker": {
             "colorbar": {
              "outlinewidth": 1,
              "tickcolor": "rgb(36,36,36)",
              "ticks": "outside"
             }
            },
            "type": "scatterpolargl"
           }
          ],
          "scatterternary": [
           {
            "marker": {
             "colorbar": {
              "outlinewidth": 1,
              "tickcolor": "rgb(36,36,36)",
              "ticks": "outside"
             }
            },
            "type": "scatterternary"
           }
          ],
          "surface": [
           {
            "colorbar": {
             "outlinewidth": 1,
             "tickcolor": "rgb(36,36,36)",
             "ticks": "outside"
            },
            "colorscale": [
             [
              0,
              "#440154"
             ],
             [
              0.1111111111111111,
              "#482878"
             ],
             [
              0.2222222222222222,
              "#3e4989"
             ],
             [
              0.3333333333333333,
              "#31688e"
             ],
             [
              0.4444444444444444,
              "#26828e"
             ],
             [
              0.5555555555555556,
              "#1f9e89"
             ],
             [
              0.6666666666666666,
              "#35b779"
             ],
             [
              0.7777777777777778,
              "#6ece58"
             ],
             [
              0.8888888888888888,
              "#b5de2b"
             ],
             [
              1,
              "#fde725"
             ]
            ],
            "type": "surface"
           }
          ],
          "table": [
           {
            "cells": {
             "fill": {
              "color": "rgb(237,237,237)"
             },
             "line": {
              "color": "white"
             }
            },
            "header": {
             "fill": {
              "color": "rgb(217,217,217)"
             },
             "line": {
              "color": "white"
             }
            },
            "type": "table"
           }
          ]
         },
         "layout": {
          "annotationdefaults": {
           "arrowhead": 0,
           "arrowwidth": 1
          },
          "autotypenumbers": "strict",
          "coloraxis": {
           "colorbar": {
            "outlinewidth": 1,
            "tickcolor": "rgb(36,36,36)",
            "ticks": "outside"
           }
          },
          "colorscale": {
           "diverging": [
            [
             0,
             "rgb(103,0,31)"
            ],
            [
             0.1,
             "rgb(178,24,43)"
            ],
            [
             0.2,
             "rgb(214,96,77)"
            ],
            [
             0.3,
             "rgb(244,165,130)"
            ],
            [
             0.4,
             "rgb(253,219,199)"
            ],
            [
             0.5,
             "rgb(247,247,247)"
            ],
            [
             0.6,
             "rgb(209,229,240)"
            ],
            [
             0.7,
             "rgb(146,197,222)"
            ],
            [
             0.8,
             "rgb(67,147,195)"
            ],
            [
             0.9,
             "rgb(33,102,172)"
            ],
            [
             1,
             "rgb(5,48,97)"
            ]
           ],
           "sequential": [
            [
             0,
             "#440154"
            ],
            [
             0.1111111111111111,
             "#482878"
            ],
            [
             0.2222222222222222,
             "#3e4989"
            ],
            [
             0.3333333333333333,
             "#31688e"
            ],
            [
             0.4444444444444444,
             "#26828e"
            ],
            [
             0.5555555555555556,
             "#1f9e89"
            ],
            [
             0.6666666666666666,
             "#35b779"
            ],
            [
             0.7777777777777778,
             "#6ece58"
            ],
            [
             0.8888888888888888,
             "#b5de2b"
            ],
            [
             1,
             "#fde725"
            ]
           ],
           "sequentialminus": [
            [
             0,
             "#440154"
            ],
            [
             0.1111111111111111,
             "#482878"
            ],
            [
             0.2222222222222222,
             "#3e4989"
            ],
            [
             0.3333333333333333,
             "#31688e"
            ],
            [
             0.4444444444444444,
             "#26828e"
            ],
            [
             0.5555555555555556,
             "#1f9e89"
            ],
            [
             0.6666666666666666,
             "#35b779"
            ],
            [
             0.7777777777777778,
             "#6ece58"
            ],
            [
             0.8888888888888888,
             "#b5de2b"
            ],
            [
             1,
             "#fde725"
            ]
           ]
          },
          "colorway": [
           "#1F77B4",
           "#FF7F0E",
           "#2CA02C",
           "#D62728",
           "#9467BD",
           "#8C564B",
           "#E377C2",
           "#7F7F7F",
           "#BCBD22",
           "#17BECF"
          ],
          "font": {
           "color": "rgb(36,36,36)"
          },
          "geo": {
           "bgcolor": "white",
           "lakecolor": "white",
           "landcolor": "white",
           "showlakes": true,
           "showland": true,
           "subunitcolor": "white"
          },
          "hoverlabel": {
           "align": "left"
          },
          "hovermode": "closest",
          "mapbox": {
           "style": "light"
          },
          "paper_bgcolor": "white",
          "plot_bgcolor": "white",
          "polar": {
           "angularaxis": {
            "gridcolor": "rgb(232,232,232)",
            "linecolor": "rgb(36,36,36)",
            "showgrid": false,
            "showline": true,
            "ticks": "outside"
           },
           "bgcolor": "white",
           "radialaxis": {
            "gridcolor": "rgb(232,232,232)",
            "linecolor": "rgb(36,36,36)",
            "showgrid": false,
            "showline": true,
            "ticks": "outside"
           }
          },
          "scene": {
           "xaxis": {
            "backgroundcolor": "white",
            "gridcolor": "rgb(232,232,232)",
            "gridwidth": 2,
            "linecolor": "rgb(36,36,36)",
            "showbackground": true,
            "showgrid": false,
            "showline": true,
            "ticks": "outside",
            "zeroline": false,
            "zerolinecolor": "rgb(36,36,36)"
           },
           "yaxis": {
            "backgroundcolor": "white",
            "gridcolor": "rgb(232,232,232)",
            "gridwidth": 2,
            "linecolor": "rgb(36,36,36)",
            "showbackground": true,
            "showgrid": false,
            "showline": true,
            "ticks": "outside",
            "zeroline": false,
            "zerolinecolor": "rgb(36,36,36)"
           },
           "zaxis": {
            "backgroundcolor": "white",
            "gridcolor": "rgb(232,232,232)",
            "gridwidth": 2,
            "linecolor": "rgb(36,36,36)",
            "showbackground": true,
            "showgrid": false,
            "showline": true,
            "ticks": "outside",
            "zeroline": false,
            "zerolinecolor": "rgb(36,36,36)"
           }
          },
          "shapedefaults": {
           "fillcolor": "black",
           "line": {
            "width": 0
           },
           "opacity": 0.3
          },
          "ternary": {
           "aaxis": {
            "gridcolor": "rgb(232,232,232)",
            "linecolor": "rgb(36,36,36)",
            "showgrid": false,
            "showline": true,
            "ticks": "outside"
           },
           "baxis": {
            "gridcolor": "rgb(232,232,232)",
            "linecolor": "rgb(36,36,36)",
            "showgrid": false,
            "showline": true,
            "ticks": "outside"
           },
           "bgcolor": "white",
           "caxis": {
            "gridcolor": "rgb(232,232,232)",
            "linecolor": "rgb(36,36,36)",
            "showgrid": false,
            "showline": true,
            "ticks": "outside"
           }
          },
          "title": {
           "x": 0.05
          },
          "xaxis": {
           "automargin": true,
           "gridcolor": "rgb(232,232,232)",
           "linecolor": "rgb(36,36,36)",
           "showgrid": false,
           "showline": true,
           "ticks": "outside",
           "title": {
            "standoff": 15
           },
           "zeroline": false,
           "zerolinecolor": "rgb(36,36,36)"
          },
          "yaxis": {
           "automargin": true,
           "gridcolor": "rgb(232,232,232)",
           "linecolor": "rgb(36,36,36)",
           "showgrid": false,
           "showline": true,
           "ticks": "outside",
           "title": {
            "standoff": 15
           },
           "zeroline": false,
           "zerolinecolor": "rgb(36,36,36)"
          }
         }
        },
        "title": {
         "font": {
          "color": "Black",
          "size": 22
         },
         "text": "<b>Intertopic Distance Map</b>",
         "x": 0.5,
         "xanchor": "center",
         "y": 0.95,
         "yanchor": "top"
        },
        "width": 650,
        "xaxis": {
         "anchor": "y",
         "domain": [
          0,
          1
         ],
         "range": [
          -4.332632541656494,
          20.704750061035156
         ],
         "title": {
          "text": ""
         },
         "visible": false
        },
        "yaxis": {
         "anchor": "x",
         "domain": [
          0,
          1
         ],
         "range": [
          -1.799141526222229,
          8.461604118347168
         ],
         "title": {
          "text": ""
         },
         "visible": false
        }
       }
      },
      "text/html": [
       "<div>                        <script type=\"text/javascript\">window.PlotlyConfig = {MathJaxConfig: 'local'};</script>\n",
       "        <script charset=\"utf-8\" src=\"https://cdn.plot.ly/plotly-3.0.1.min.js\"></script>                <div id=\"da07698a-a1d1-4b3f-ace4-49a3d2d28376\" class=\"plotly-graph-div\" style=\"height:650px; width:650px;\"></div>            <script type=\"text/javascript\">                window.PLOTLYENV=window.PLOTLYENV || {};                                if (document.getElementById(\"da07698a-a1d1-4b3f-ace4-49a3d2d28376\")) {                    Plotly.newPlot(                        \"da07698a-a1d1-4b3f-ace4-49a3d2d28376\",                        [{\"customdata\":[[0,\"make | would | recall | woods | european\",46],[1,\"white | search | google | anti | nobody\",37],[2,\"step | government | us | great | america\",34],[3,\"go | coffee | woke | br | britbros\",30],[4,\"white | baltics | tomatokikes | shitalians | convinced\",29],[5,\"notice | something | drop | mic | \",25],[6,\"ukraine | bbc | uk | catbox | moe\",25],[7,\"poilievre | polls | policy | real | never\",22],[8,\"prison | lockdown | inmates | staff | thomson\",21],[9,\"chickens | eggs | test | genocide | pro\",18],[10,\"netanyahu | palestine | jfk | relevantisraeli | research\",18],[11,\"care | fuck | russians | careare | allies\",18],[12,\"christianity | us | migration | would | led\",18],[13,\"want | child | baby | kids | sugar\",18],[14,\"niggers | dei | jobs | use | hate\",17],[15,\"trump | https | com | washington | dc\",15],[16,\"pagan | post | nazi | memes | pro\",15],[17,\"english | dropped | recognize | official | wqygcbceceu\",13],[18,\"consciousness | soul | its | like | dwelled\",12],[19,\"faces | sold | even | makes | anymore\",11],[20,\"east | white | bunnies | snow | interbreeding\",11]],\"hovertemplate\":\"\\u003cb\\u003eTopic %{customdata[0]}\\u003c\\u002fb\\u003e\\u003cbr\\u003e%{customdata[1]}\\u003cbr\\u003eSize: %{customdata[2]}\",\"legendgroup\":\"\",\"marker\":{\"color\":\"#B0BEC5\",\"size\":{\"dtype\":\"i1\",\"bdata\":\"LiUiHh0ZGRYVEhISEhIRDw8NDAsL\"},\"sizemode\":\"area\",\"sizeref\":0.02875,\"symbol\":\"circle\",\"line\":{\"color\":\"DarkSlateGrey\",\"width\":2}},\"mode\":\"markers\",\"name\":\"\",\"orientation\":\"v\",\"showlegend\":false,\"x\":{\"dtype\":\"f4\",\"bdata\":\"NTdKQSIhQEEydItB3kwwQZVpNkFPCTRBjUtnwBLCOkHlNopB8USPQdQeccA7WkJBiNlQQXYIkEFlKT9BeJeKQTUaVUGceYdBxvgqQYfYOEFLCztB\"},\"xaxis\":\"x\",\"y\":{\"dtype\":\"f4\",\"bdata\":\"+88qv+SUiz+0sOJAPQVkv6fN7j\\u002fBoJ+\\u002fvFWBQHf5Br8NdOtAs3vhQKMThkCHEVK+NOKZv6IG1kD8Vzs\\u002fkc7YQJVAyL\\u002f6o95A04SMv4B6eD\\u002fDScU\\u002f\"},\"yaxis\":\"y\",\"type\":\"scatter\"}],                        {\"template\":{\"data\":{\"barpolar\":[{\"marker\":{\"line\":{\"color\":\"white\",\"width\":0.5},\"pattern\":{\"fillmode\":\"overlay\",\"size\":10,\"solidity\":0.2}},\"type\":\"barpolar\"}],\"bar\":[{\"error_x\":{\"color\":\"rgb(36,36,36)\"},\"error_y\":{\"color\":\"rgb(36,36,36)\"},\"marker\":{\"line\":{\"color\":\"white\",\"width\":0.5},\"pattern\":{\"fillmode\":\"overlay\",\"size\":10,\"solidity\":0.2}},\"type\":\"bar\"}],\"carpet\":[{\"aaxis\":{\"endlinecolor\":\"rgb(36,36,36)\",\"gridcolor\":\"white\",\"linecolor\":\"white\",\"minorgridcolor\":\"white\",\"startlinecolor\":\"rgb(36,36,36)\"},\"baxis\":{\"endlinecolor\":\"rgb(36,36,36)\",\"gridcolor\":\"white\",\"linecolor\":\"white\",\"minorgridcolor\":\"white\",\"startlinecolor\":\"rgb(36,36,36)\"},\"type\":\"carpet\"}],\"choropleth\":[{\"colorbar\":{\"outlinewidth\":1,\"tickcolor\":\"rgb(36,36,36)\",\"ticks\":\"outside\"},\"type\":\"choropleth\"}],\"contourcarpet\":[{\"colorbar\":{\"outlinewidth\":1,\"tickcolor\":\"rgb(36,36,36)\",\"ticks\":\"outside\"},\"type\":\"contourcarpet\"}],\"contour\":[{\"colorbar\":{\"outlinewidth\":1,\"tickcolor\":\"rgb(36,36,36)\",\"ticks\":\"outside\"},\"colorscale\":[[0.0,\"#440154\"],[0.1111111111111111,\"#482878\"],[0.2222222222222222,\"#3e4989\"],[0.3333333333333333,\"#31688e\"],[0.4444444444444444,\"#26828e\"],[0.5555555555555556,\"#1f9e89\"],[0.6666666666666666,\"#35b779\"],[0.7777777777777778,\"#6ece58\"],[0.8888888888888888,\"#b5de2b\"],[1.0,\"#fde725\"]],\"type\":\"contour\"}],\"heatmap\":[{\"colorbar\":{\"outlinewidth\":1,\"tickcolor\":\"rgb(36,36,36)\",\"ticks\":\"outside\"},\"colorscale\":[[0.0,\"#440154\"],[0.1111111111111111,\"#482878\"],[0.2222222222222222,\"#3e4989\"],[0.3333333333333333,\"#31688e\"],[0.4444444444444444,\"#26828e\"],[0.5555555555555556,\"#1f9e89\"],[0.6666666666666666,\"#35b779\"],[0.7777777777777778,\"#6ece58\"],[0.8888888888888888,\"#b5de2b\"],[1.0,\"#fde725\"]],\"type\":\"heatmap\"}],\"histogram2dcontour\":[{\"colorbar\":{\"outlinewidth\":1,\"tickcolor\":\"rgb(36,36,36)\",\"ticks\":\"outside\"},\"colorscale\":[[0.0,\"#440154\"],[0.1111111111111111,\"#482878\"],[0.2222222222222222,\"#3e4989\"],[0.3333333333333333,\"#31688e\"],[0.4444444444444444,\"#26828e\"],[0.5555555555555556,\"#1f9e89\"],[0.6666666666666666,\"#35b779\"],[0.7777777777777778,\"#6ece58\"],[0.8888888888888888,\"#b5de2b\"],[1.0,\"#fde725\"]],\"type\":\"histogram2dcontour\"}],\"histogram2d\":[{\"colorbar\":{\"outlinewidth\":1,\"tickcolor\":\"rgb(36,36,36)\",\"ticks\":\"outside\"},\"colorscale\":[[0.0,\"#440154\"],[0.1111111111111111,\"#482878\"],[0.2222222222222222,\"#3e4989\"],[0.3333333333333333,\"#31688e\"],[0.4444444444444444,\"#26828e\"],[0.5555555555555556,\"#1f9e89\"],[0.6666666666666666,\"#35b779\"],[0.7777777777777778,\"#6ece58\"],[0.8888888888888888,\"#b5de2b\"],[1.0,\"#fde725\"]],\"type\":\"histogram2d\"}],\"histogram\":[{\"marker\":{\"line\":{\"color\":\"white\",\"width\":0.6}},\"type\":\"histogram\"}],\"mesh3d\":[{\"colorbar\":{\"outlinewidth\":1,\"tickcolor\":\"rgb(36,36,36)\",\"ticks\":\"outside\"},\"type\":\"mesh3d\"}],\"parcoords\":[{\"line\":{\"colorbar\":{\"outlinewidth\":1,\"tickcolor\":\"rgb(36,36,36)\",\"ticks\":\"outside\"}},\"type\":\"parcoords\"}],\"pie\":[{\"automargin\":true,\"type\":\"pie\"}],\"scatter3d\":[{\"line\":{\"colorbar\":{\"outlinewidth\":1,\"tickcolor\":\"rgb(36,36,36)\",\"ticks\":\"outside\"}},\"marker\":{\"colorbar\":{\"outlinewidth\":1,\"tickcolor\":\"rgb(36,36,36)\",\"ticks\":\"outside\"}},\"type\":\"scatter3d\"}],\"scattercarpet\":[{\"marker\":{\"colorbar\":{\"outlinewidth\":1,\"tickcolor\":\"rgb(36,36,36)\",\"ticks\":\"outside\"}},\"type\":\"scattercarpet\"}],\"scattergeo\":[{\"marker\":{\"colorbar\":{\"outlinewidth\":1,\"tickcolor\":\"rgb(36,36,36)\",\"ticks\":\"outside\"}},\"type\":\"scattergeo\"}],\"scattergl\":[{\"marker\":{\"colorbar\":{\"outlinewidth\":1,\"tickcolor\":\"rgb(36,36,36)\",\"ticks\":\"outside\"}},\"type\":\"scattergl\"}],\"scattermapbox\":[{\"marker\":{\"colorbar\":{\"outlinewidth\":1,\"tickcolor\":\"rgb(36,36,36)\",\"ticks\":\"outside\"}},\"type\":\"scattermapbox\"}],\"scattermap\":[{\"marker\":{\"colorbar\":{\"outlinewidth\":1,\"tickcolor\":\"rgb(36,36,36)\",\"ticks\":\"outside\"}},\"type\":\"scattermap\"}],\"scatterpolargl\":[{\"marker\":{\"colorbar\":{\"outlinewidth\":1,\"tickcolor\":\"rgb(36,36,36)\",\"ticks\":\"outside\"}},\"type\":\"scatterpolargl\"}],\"scatterpolar\":[{\"marker\":{\"colorbar\":{\"outlinewidth\":1,\"tickcolor\":\"rgb(36,36,36)\",\"ticks\":\"outside\"}},\"type\":\"scatterpolar\"}],\"scatter\":[{\"fillpattern\":{\"fillmode\":\"overlay\",\"size\":10,\"solidity\":0.2},\"type\":\"scatter\"}],\"scatterternary\":[{\"marker\":{\"colorbar\":{\"outlinewidth\":1,\"tickcolor\":\"rgb(36,36,36)\",\"ticks\":\"outside\"}},\"type\":\"scatterternary\"}],\"surface\":[{\"colorbar\":{\"outlinewidth\":1,\"tickcolor\":\"rgb(36,36,36)\",\"ticks\":\"outside\"},\"colorscale\":[[0.0,\"#440154\"],[0.1111111111111111,\"#482878\"],[0.2222222222222222,\"#3e4989\"],[0.3333333333333333,\"#31688e\"],[0.4444444444444444,\"#26828e\"],[0.5555555555555556,\"#1f9e89\"],[0.6666666666666666,\"#35b779\"],[0.7777777777777778,\"#6ece58\"],[0.8888888888888888,\"#b5de2b\"],[1.0,\"#fde725\"]],\"type\":\"surface\"}],\"table\":[{\"cells\":{\"fill\":{\"color\":\"rgb(237,237,237)\"},\"line\":{\"color\":\"white\"}},\"header\":{\"fill\":{\"color\":\"rgb(217,217,217)\"},\"line\":{\"color\":\"white\"}},\"type\":\"table\"}]},\"layout\":{\"annotationdefaults\":{\"arrowhead\":0,\"arrowwidth\":1},\"autotypenumbers\":\"strict\",\"coloraxis\":{\"colorbar\":{\"outlinewidth\":1,\"tickcolor\":\"rgb(36,36,36)\",\"ticks\":\"outside\"}},\"colorscale\":{\"diverging\":[[0.0,\"rgb(103,0,31)\"],[0.1,\"rgb(178,24,43)\"],[0.2,\"rgb(214,96,77)\"],[0.3,\"rgb(244,165,130)\"],[0.4,\"rgb(253,219,199)\"],[0.5,\"rgb(247,247,247)\"],[0.6,\"rgb(209,229,240)\"],[0.7,\"rgb(146,197,222)\"],[0.8,\"rgb(67,147,195)\"],[0.9,\"rgb(33,102,172)\"],[1.0,\"rgb(5,48,97)\"]],\"sequential\":[[0.0,\"#440154\"],[0.1111111111111111,\"#482878\"],[0.2222222222222222,\"#3e4989\"],[0.3333333333333333,\"#31688e\"],[0.4444444444444444,\"#26828e\"],[0.5555555555555556,\"#1f9e89\"],[0.6666666666666666,\"#35b779\"],[0.7777777777777778,\"#6ece58\"],[0.8888888888888888,\"#b5de2b\"],[1.0,\"#fde725\"]],\"sequentialminus\":[[0.0,\"#440154\"],[0.1111111111111111,\"#482878\"],[0.2222222222222222,\"#3e4989\"],[0.3333333333333333,\"#31688e\"],[0.4444444444444444,\"#26828e\"],[0.5555555555555556,\"#1f9e89\"],[0.6666666666666666,\"#35b779\"],[0.7777777777777778,\"#6ece58\"],[0.8888888888888888,\"#b5de2b\"],[1.0,\"#fde725\"]]},\"colorway\":[\"#1F77B4\",\"#FF7F0E\",\"#2CA02C\",\"#D62728\",\"#9467BD\",\"#8C564B\",\"#E377C2\",\"#7F7F7F\",\"#BCBD22\",\"#17BECF\"],\"font\":{\"color\":\"rgb(36,36,36)\"},\"geo\":{\"bgcolor\":\"white\",\"lakecolor\":\"white\",\"landcolor\":\"white\",\"showlakes\":true,\"showland\":true,\"subunitcolor\":\"white\"},\"hoverlabel\":{\"align\":\"left\"},\"hovermode\":\"closest\",\"mapbox\":{\"style\":\"light\"},\"paper_bgcolor\":\"white\",\"plot_bgcolor\":\"white\",\"polar\":{\"angularaxis\":{\"gridcolor\":\"rgb(232,232,232)\",\"linecolor\":\"rgb(36,36,36)\",\"showgrid\":false,\"showline\":true,\"ticks\":\"outside\"},\"bgcolor\":\"white\",\"radialaxis\":{\"gridcolor\":\"rgb(232,232,232)\",\"linecolor\":\"rgb(36,36,36)\",\"showgrid\":false,\"showline\":true,\"ticks\":\"outside\"}},\"scene\":{\"xaxis\":{\"backgroundcolor\":\"white\",\"gridcolor\":\"rgb(232,232,232)\",\"gridwidth\":2,\"linecolor\":\"rgb(36,36,36)\",\"showbackground\":true,\"showgrid\":false,\"showline\":true,\"ticks\":\"outside\",\"zeroline\":false,\"zerolinecolor\":\"rgb(36,36,36)\"},\"yaxis\":{\"backgroundcolor\":\"white\",\"gridcolor\":\"rgb(232,232,232)\",\"gridwidth\":2,\"linecolor\":\"rgb(36,36,36)\",\"showbackground\":true,\"showgrid\":false,\"showline\":true,\"ticks\":\"outside\",\"zeroline\":false,\"zerolinecolor\":\"rgb(36,36,36)\"},\"zaxis\":{\"backgroundcolor\":\"white\",\"gridcolor\":\"rgb(232,232,232)\",\"gridwidth\":2,\"linecolor\":\"rgb(36,36,36)\",\"showbackground\":true,\"showgrid\":false,\"showline\":true,\"ticks\":\"outside\",\"zeroline\":false,\"zerolinecolor\":\"rgb(36,36,36)\"}},\"shapedefaults\":{\"fillcolor\":\"black\",\"line\":{\"width\":0},\"opacity\":0.3},\"ternary\":{\"aaxis\":{\"gridcolor\":\"rgb(232,232,232)\",\"linecolor\":\"rgb(36,36,36)\",\"showgrid\":false,\"showline\":true,\"ticks\":\"outside\"},\"baxis\":{\"gridcolor\":\"rgb(232,232,232)\",\"linecolor\":\"rgb(36,36,36)\",\"showgrid\":false,\"showline\":true,\"ticks\":\"outside\"},\"bgcolor\":\"white\",\"caxis\":{\"gridcolor\":\"rgb(232,232,232)\",\"linecolor\":\"rgb(36,36,36)\",\"showgrid\":false,\"showline\":true,\"ticks\":\"outside\"}},\"title\":{\"x\":0.05},\"xaxis\":{\"automargin\":true,\"gridcolor\":\"rgb(232,232,232)\",\"linecolor\":\"rgb(36,36,36)\",\"showgrid\":false,\"showline\":true,\"ticks\":\"outside\",\"title\":{\"standoff\":15},\"zeroline\":false,\"zerolinecolor\":\"rgb(36,36,36)\"},\"yaxis\":{\"automargin\":true,\"gridcolor\":\"rgb(232,232,232)\",\"linecolor\":\"rgb(36,36,36)\",\"showgrid\":false,\"showline\":true,\"ticks\":\"outside\",\"title\":{\"standoff\":15},\"zeroline\":false,\"zerolinecolor\":\"rgb(36,36,36)\"}}},\"xaxis\":{\"anchor\":\"y\",\"domain\":[0.0,1.0],\"title\":{\"text\":\"\"},\"visible\":false,\"range\":[-4.332632541656494,20.704750061035156]},\"yaxis\":{\"anchor\":\"x\",\"domain\":[0.0,1.0],\"title\":{\"text\":\"\"},\"visible\":false,\"range\":[-1.799141526222229,8.461604118347168]},\"legend\":{\"tracegroupgap\":0,\"itemsizing\":\"constant\"},\"margin\":{\"t\":60},\"title\":{\"font\":{\"size\":22,\"color\":\"Black\"},\"text\":\"\\u003cb\\u003eIntertopic Distance Map\\u003c\\u002fb\\u003e\",\"y\":0.95,\"x\":0.5,\"xanchor\":\"center\",\"yanchor\":\"top\"},\"hoverlabel\":{\"font\":{\"size\":16,\"family\":\"Rockwell\"},\"bgcolor\":\"white\"},\"width\":650,\"height\":650,\"sliders\":[{\"active\":0,\"pad\":{\"t\":50},\"steps\":[{\"args\":[{\"marker.color\":[[\"red\",\"#B0BEC5\",\"#B0BEC5\",\"#B0BEC5\",\"#B0BEC5\",\"#B0BEC5\",\"#B0BEC5\",\"#B0BEC5\",\"#B0BEC5\",\"#B0BEC5\",\"#B0BEC5\",\"#B0BEC5\",\"#B0BEC5\",\"#B0BEC5\",\"#B0BEC5\",\"#B0BEC5\",\"#B0BEC5\",\"#B0BEC5\",\"#B0BEC5\",\"#B0BEC5\",\"#B0BEC5\"]]}],\"label\":\"Topic 0\",\"method\":\"update\"},{\"args\":[{\"marker.color\":[[\"#B0BEC5\",\"red\",\"#B0BEC5\",\"#B0BEC5\",\"#B0BEC5\",\"#B0BEC5\",\"#B0BEC5\",\"#B0BEC5\",\"#B0BEC5\",\"#B0BEC5\",\"#B0BEC5\",\"#B0BEC5\",\"#B0BEC5\",\"#B0BEC5\",\"#B0BEC5\",\"#B0BEC5\",\"#B0BEC5\",\"#B0BEC5\",\"#B0BEC5\",\"#B0BEC5\",\"#B0BEC5\"]]}],\"label\":\"Topic 1\",\"method\":\"update\"},{\"args\":[{\"marker.color\":[[\"#B0BEC5\",\"#B0BEC5\",\"red\",\"#B0BEC5\",\"#B0BEC5\",\"#B0BEC5\",\"#B0BEC5\",\"#B0BEC5\",\"#B0BEC5\",\"#B0BEC5\",\"#B0BEC5\",\"#B0BEC5\",\"#B0BEC5\",\"#B0BEC5\",\"#B0BEC5\",\"#B0BEC5\",\"#B0BEC5\",\"#B0BEC5\",\"#B0BEC5\",\"#B0BEC5\",\"#B0BEC5\"]]}],\"label\":\"Topic 2\",\"method\":\"update\"},{\"args\":[{\"marker.color\":[[\"#B0BEC5\",\"#B0BEC5\",\"#B0BEC5\",\"red\",\"#B0BEC5\",\"#B0BEC5\",\"#B0BEC5\",\"#B0BEC5\",\"#B0BEC5\",\"#B0BEC5\",\"#B0BEC5\",\"#B0BEC5\",\"#B0BEC5\",\"#B0BEC5\",\"#B0BEC5\",\"#B0BEC5\",\"#B0BEC5\",\"#B0BEC5\",\"#B0BEC5\",\"#B0BEC5\",\"#B0BEC5\"]]}],\"label\":\"Topic 3\",\"method\":\"update\"},{\"args\":[{\"marker.color\":[[\"#B0BEC5\",\"#B0BEC5\",\"#B0BEC5\",\"#B0BEC5\",\"red\",\"#B0BEC5\",\"#B0BEC5\",\"#B0BEC5\",\"#B0BEC5\",\"#B0BEC5\",\"#B0BEC5\",\"#B0BEC5\",\"#B0BEC5\",\"#B0BEC5\",\"#B0BEC5\",\"#B0BEC5\",\"#B0BEC5\",\"#B0BEC5\",\"#B0BEC5\",\"#B0BEC5\",\"#B0BEC5\"]]}],\"label\":\"Topic 4\",\"method\":\"update\"},{\"args\":[{\"marker.color\":[[\"#B0BEC5\",\"#B0BEC5\",\"#B0BEC5\",\"#B0BEC5\",\"#B0BEC5\",\"red\",\"#B0BEC5\",\"#B0BEC5\",\"#B0BEC5\",\"#B0BEC5\",\"#B0BEC5\",\"#B0BEC5\",\"#B0BEC5\",\"#B0BEC5\",\"#B0BEC5\",\"#B0BEC5\",\"#B0BEC5\",\"#B0BEC5\",\"#B0BEC5\",\"#B0BEC5\",\"#B0BEC5\"]]}],\"label\":\"Topic 5\",\"method\":\"update\"},{\"args\":[{\"marker.color\":[[\"#B0BEC5\",\"#B0BEC5\",\"#B0BEC5\",\"#B0BEC5\",\"#B0BEC5\",\"#B0BEC5\",\"red\",\"#B0BEC5\",\"#B0BEC5\",\"#B0BEC5\",\"#B0BEC5\",\"#B0BEC5\",\"#B0BEC5\",\"#B0BEC5\",\"#B0BEC5\",\"#B0BEC5\",\"#B0BEC5\",\"#B0BEC5\",\"#B0BEC5\",\"#B0BEC5\",\"#B0BEC5\"]]}],\"label\":\"Topic 6\",\"method\":\"update\"},{\"args\":[{\"marker.color\":[[\"#B0BEC5\",\"#B0BEC5\",\"#B0BEC5\",\"#B0BEC5\",\"#B0BEC5\",\"#B0BEC5\",\"#B0BEC5\",\"red\",\"#B0BEC5\",\"#B0BEC5\",\"#B0BEC5\",\"#B0BEC5\",\"#B0BEC5\",\"#B0BEC5\",\"#B0BEC5\",\"#B0BEC5\",\"#B0BEC5\",\"#B0BEC5\",\"#B0BEC5\",\"#B0BEC5\",\"#B0BEC5\"]]}],\"label\":\"Topic 7\",\"method\":\"update\"},{\"args\":[{\"marker.color\":[[\"#B0BEC5\",\"#B0BEC5\",\"#B0BEC5\",\"#B0BEC5\",\"#B0BEC5\",\"#B0BEC5\",\"#B0BEC5\",\"#B0BEC5\",\"red\",\"#B0BEC5\",\"#B0BEC5\",\"#B0BEC5\",\"#B0BEC5\",\"#B0BEC5\",\"#B0BEC5\",\"#B0BEC5\",\"#B0BEC5\",\"#B0BEC5\",\"#B0BEC5\",\"#B0BEC5\",\"#B0BEC5\"]]}],\"label\":\"Topic 8\",\"method\":\"update\"},{\"args\":[{\"marker.color\":[[\"#B0BEC5\",\"#B0BEC5\",\"#B0BEC5\",\"#B0BEC5\",\"#B0BEC5\",\"#B0BEC5\",\"#B0BEC5\",\"#B0BEC5\",\"#B0BEC5\",\"red\",\"#B0BEC5\",\"#B0BEC5\",\"#B0BEC5\",\"#B0BEC5\",\"#B0BEC5\",\"#B0BEC5\",\"#B0BEC5\",\"#B0BEC5\",\"#B0BEC5\",\"#B0BEC5\",\"#B0BEC5\"]]}],\"label\":\"Topic 9\",\"method\":\"update\"},{\"args\":[{\"marker.color\":[[\"#B0BEC5\",\"#B0BEC5\",\"#B0BEC5\",\"#B0BEC5\",\"#B0BEC5\",\"#B0BEC5\",\"#B0BEC5\",\"#B0BEC5\",\"#B0BEC5\",\"#B0BEC5\",\"red\",\"#B0BEC5\",\"#B0BEC5\",\"#B0BEC5\",\"#B0BEC5\",\"#B0BEC5\",\"#B0BEC5\",\"#B0BEC5\",\"#B0BEC5\",\"#B0BEC5\",\"#B0BEC5\"]]}],\"label\":\"Topic 10\",\"method\":\"update\"},{\"args\":[{\"marker.color\":[[\"#B0BEC5\",\"#B0BEC5\",\"#B0BEC5\",\"#B0BEC5\",\"#B0BEC5\",\"#B0BEC5\",\"#B0BEC5\",\"#B0BEC5\",\"#B0BEC5\",\"#B0BEC5\",\"#B0BEC5\",\"red\",\"#B0BEC5\",\"#B0BEC5\",\"#B0BEC5\",\"#B0BEC5\",\"#B0BEC5\",\"#B0BEC5\",\"#B0BEC5\",\"#B0BEC5\",\"#B0BEC5\"]]}],\"label\":\"Topic 11\",\"method\":\"update\"},{\"args\":[{\"marker.color\":[[\"#B0BEC5\",\"#B0BEC5\",\"#B0BEC5\",\"#B0BEC5\",\"#B0BEC5\",\"#B0BEC5\",\"#B0BEC5\",\"#B0BEC5\",\"#B0BEC5\",\"#B0BEC5\",\"#B0BEC5\",\"#B0BEC5\",\"red\",\"#B0BEC5\",\"#B0BEC5\",\"#B0BEC5\",\"#B0BEC5\",\"#B0BEC5\",\"#B0BEC5\",\"#B0BEC5\",\"#B0BEC5\"]]}],\"label\":\"Topic 12\",\"method\":\"update\"},{\"args\":[{\"marker.color\":[[\"#B0BEC5\",\"#B0BEC5\",\"#B0BEC5\",\"#B0BEC5\",\"#B0BEC5\",\"#B0BEC5\",\"#B0BEC5\",\"#B0BEC5\",\"#B0BEC5\",\"#B0BEC5\",\"#B0BEC5\",\"#B0BEC5\",\"#B0BEC5\",\"red\",\"#B0BEC5\",\"#B0BEC5\",\"#B0BEC5\",\"#B0BEC5\",\"#B0BEC5\",\"#B0BEC5\",\"#B0BEC5\"]]}],\"label\":\"Topic 13\",\"method\":\"update\"},{\"args\":[{\"marker.color\":[[\"#B0BEC5\",\"#B0BEC5\",\"#B0BEC5\",\"#B0BEC5\",\"#B0BEC5\",\"#B0BEC5\",\"#B0BEC5\",\"#B0BEC5\",\"#B0BEC5\",\"#B0BEC5\",\"#B0BEC5\",\"#B0BEC5\",\"#B0BEC5\",\"#B0BEC5\",\"red\",\"#B0BEC5\",\"#B0BEC5\",\"#B0BEC5\",\"#B0BEC5\",\"#B0BEC5\",\"#B0BEC5\"]]}],\"label\":\"Topic 14\",\"method\":\"update\"},{\"args\":[{\"marker.color\":[[\"#B0BEC5\",\"#B0BEC5\",\"#B0BEC5\",\"#B0BEC5\",\"#B0BEC5\",\"#B0BEC5\",\"#B0BEC5\",\"#B0BEC5\",\"#B0BEC5\",\"#B0BEC5\",\"#B0BEC5\",\"#B0BEC5\",\"#B0BEC5\",\"#B0BEC5\",\"#B0BEC5\",\"red\",\"#B0BEC5\",\"#B0BEC5\",\"#B0BEC5\",\"#B0BEC5\",\"#B0BEC5\"]]}],\"label\":\"Topic 15\",\"method\":\"update\"},{\"args\":[{\"marker.color\":[[\"#B0BEC5\",\"#B0BEC5\",\"#B0BEC5\",\"#B0BEC5\",\"#B0BEC5\",\"#B0BEC5\",\"#B0BEC5\",\"#B0BEC5\",\"#B0BEC5\",\"#B0BEC5\",\"#B0BEC5\",\"#B0BEC5\",\"#B0BEC5\",\"#B0BEC5\",\"#B0BEC5\",\"#B0BEC5\",\"red\",\"#B0BEC5\",\"#B0BEC5\",\"#B0BEC5\",\"#B0BEC5\"]]}],\"label\":\"Topic 16\",\"method\":\"update\"},{\"args\":[{\"marker.color\":[[\"#B0BEC5\",\"#B0BEC5\",\"#B0BEC5\",\"#B0BEC5\",\"#B0BEC5\",\"#B0BEC5\",\"#B0BEC5\",\"#B0BEC5\",\"#B0BEC5\",\"#B0BEC5\",\"#B0BEC5\",\"#B0BEC5\",\"#B0BEC5\",\"#B0BEC5\",\"#B0BEC5\",\"#B0BEC5\",\"#B0BEC5\",\"red\",\"#B0BEC5\",\"#B0BEC5\",\"#B0BEC5\"]]}],\"label\":\"Topic 17\",\"method\":\"update\"},{\"args\":[{\"marker.color\":[[\"#B0BEC5\",\"#B0BEC5\",\"#B0BEC5\",\"#B0BEC5\",\"#B0BEC5\",\"#B0BEC5\",\"#B0BEC5\",\"#B0BEC5\",\"#B0BEC5\",\"#B0BEC5\",\"#B0BEC5\",\"#B0BEC5\",\"#B0BEC5\",\"#B0BEC5\",\"#B0BEC5\",\"#B0BEC5\",\"#B0BEC5\",\"#B0BEC5\",\"red\",\"#B0BEC5\",\"#B0BEC5\"]]}],\"label\":\"Topic 18\",\"method\":\"update\"},{\"args\":[{\"marker.color\":[[\"#B0BEC5\",\"#B0BEC5\",\"#B0BEC5\",\"#B0BEC5\",\"#B0BEC5\",\"#B0BEC5\",\"#B0BEC5\",\"#B0BEC5\",\"#B0BEC5\",\"#B0BEC5\",\"#B0BEC5\",\"#B0BEC5\",\"#B0BEC5\",\"#B0BEC5\",\"#B0BEC5\",\"#B0BEC5\",\"#B0BEC5\",\"#B0BEC5\",\"#B0BEC5\",\"red\",\"#B0BEC5\"]]}],\"label\":\"Topic 19\",\"method\":\"update\"},{\"args\":[{\"marker.color\":[[\"#B0BEC5\",\"#B0BEC5\",\"#B0BEC5\",\"#B0BEC5\",\"#B0BEC5\",\"#B0BEC5\",\"#B0BEC5\",\"#B0BEC5\",\"#B0BEC5\",\"#B0BEC5\",\"#B0BEC5\",\"#B0BEC5\",\"#B0BEC5\",\"#B0BEC5\",\"#B0BEC5\",\"#B0BEC5\",\"#B0BEC5\",\"#B0BEC5\",\"#B0BEC5\",\"#B0BEC5\",\"red\"]]}],\"label\":\"Topic 20\",\"method\":\"update\"}]}],\"shapes\":[{\"line\":{\"color\":\"#CFD8DC\",\"width\":2},\"type\":\"line\",\"x0\":8.18605899810791,\"x1\":8.18605899810791,\"y0\":-1.799141526222229,\"y1\":8.461604118347168},{\"line\":{\"color\":\"#9E9E9E\",\"width\":2},\"type\":\"line\",\"x0\":-4.332632541656494,\"x1\":20.704750061035156,\"y0\":3.3312313556671143,\"y1\":3.3312313556671143}],\"annotations\":[{\"showarrow\":false,\"text\":\"D1\",\"x\":-4.332632541656494,\"y\":3.3312313556671143,\"yshift\":10},{\"showarrow\":false,\"text\":\"D2\",\"x\":8.18605899810791,\"xshift\":10,\"y\":8.461604118347168}]},                        {\"responsive\": true}                    )                };            </script>        </div>"
      ],
      "text/plain": [
       "Figure({\n",
       "    'data': [{'customdata': array([[0, 'make | would | recall | woods | european', 46],\n",
       "                                   [1, 'white | search | google | anti | nobody', 37],\n",
       "                                   [2, 'step | government | us | great | america', 34],\n",
       "                                   [3, 'go | coffee | woke | br | britbros', 30],\n",
       "                                   [4, 'white | baltics | tomatokikes | shitalians | convinced', 29],\n",
       "                                   [5, 'notice | something | drop | mic | ', 25],\n",
       "                                   [6, 'ukraine | bbc | uk | catbox | moe', 25],\n",
       "                                   [7, 'poilievre | polls | policy | real | never', 22],\n",
       "                                   [8, 'prison | lockdown | inmates | staff | thomson', 21],\n",
       "                                   [9, 'chickens | eggs | test | genocide | pro', 18],\n",
       "                                   [10, 'netanyahu | palestine | jfk | relevantisraeli | research', 18],\n",
       "                                   [11, 'care | fuck | russians | careare | allies', 18],\n",
       "                                   [12, 'christianity | us | migration | would | led', 18],\n",
       "                                   [13, 'want | child | baby | kids | sugar', 18],\n",
       "                                   [14, 'niggers | dei | jobs | use | hate', 17],\n",
       "                                   [15, 'trump | https | com | washington | dc', 15],\n",
       "                                   [16, 'pagan | post | nazi | memes | pro', 15],\n",
       "                                   [17, 'english | dropped | recognize | official | wqygcbceceu', 13],\n",
       "                                   [18, 'consciousness | soul | its | like | dwelled', 12],\n",
       "                                   [19, 'faces | sold | even | makes | anymore', 11],\n",
       "                                   [20, 'east | white | bunnies | snow | interbreeding', 11]], dtype=object),\n",
       "              'hovertemplate': '<b>Topic %{customdata[0]}</b><br>%{customdata[1]}<br>Size: %{customdata[2]}',\n",
       "              'legendgroup': '',\n",
       "              'marker': {'color': '#B0BEC5',\n",
       "                         'line': {'color': 'DarkSlateGrey', 'width': 2},\n",
       "                         'size': {'bdata': 'LiUiHh0ZGRYVEhISEhIRDw8NDAsL', 'dtype': 'i1'},\n",
       "                         'sizemode': 'area',\n",
       "                         'sizeref': 0.02875,\n",
       "                         'symbol': 'circle'},\n",
       "              'mode': 'markers',\n",
       "              'name': '',\n",
       "              'orientation': 'v',\n",
       "              'showlegend': False,\n",
       "              'type': 'scatter',\n",
       "              'x': {'bdata': ('NTdKQSIhQEEydItB3kwwQZVpNkFPCT' ... 'eKQTUaVUGceYdBxvgqQYfYOEFLCztB'),\n",
       "                    'dtype': 'f4'},\n",
       "              'xaxis': 'x',\n",
       "              'y': {'bdata': ('+88qv+SUiz+0sOJAPQVkv6fN7j/BoJ' ... '7YQJVAyL/6o95A04SMv4B6eD/DScU/'),\n",
       "                    'dtype': 'f4'},\n",
       "              'yaxis': 'y'}],\n",
       "    'layout': {'annotations': [{'showarrow': False,\n",
       "                                'text': 'D1',\n",
       "                                'x': np.float32(-4.3326325),\n",
       "                                'y': np.float32(3.3312314),\n",
       "                                'yshift': 10},\n",
       "                               {'showarrow': False,\n",
       "                                'text': 'D2',\n",
       "                                'x': np.float32(8.186059),\n",
       "                                'xshift': 10,\n",
       "                                'y': np.float32(8.461604)}],\n",
       "               'height': 650,\n",
       "               'hoverlabel': {'bgcolor': 'white', 'font': {'family': 'Rockwell', 'size': 16}},\n",
       "               'legend': {'itemsizing': 'constant', 'tracegroupgap': 0},\n",
       "               'margin': {'t': 60},\n",
       "               'shapes': [{'line': {'color': '#CFD8DC', 'width': 2},\n",
       "                           'type': 'line',\n",
       "                           'x0': np.float32(8.186059),\n",
       "                           'x1': np.float32(8.186059),\n",
       "                           'y0': np.float32(-1.7991415),\n",
       "                           'y1': np.float32(8.461604)},\n",
       "                          {'line': {'color': '#9E9E9E', 'width': 2},\n",
       "                           'type': 'line',\n",
       "                           'x0': np.float32(-4.3326325),\n",
       "                           'x1': np.float32(20.70475),\n",
       "                           'y0': np.float32(3.3312314),\n",
       "                           'y1': np.float32(3.3312314)}],\n",
       "               'sliders': [{'active': 0,\n",
       "                            'pad': {'t': 50},\n",
       "                            'steps': [{'args': [{'marker.color': [['red',\n",
       "                                                                  '#B0BEC5',\n",
       "                                                                  '#B0BEC5',\n",
       "                                                                  '#B0BEC5',\n",
       "                                                                  '#B0BEC5',\n",
       "                                                                  '#B0BEC5',\n",
       "                                                                  '#B0BEC5',\n",
       "                                                                  '#B0BEC5',\n",
       "                                                                  '#B0BEC5',\n",
       "                                                                  '#B0BEC5',\n",
       "                                                                  '#B0BEC5',\n",
       "                                                                  '#B0BEC5',\n",
       "                                                                  '#B0BEC5',\n",
       "                                                                  '#B0BEC5',\n",
       "                                                                  '#B0BEC5',\n",
       "                                                                  '#B0BEC5',\n",
       "                                                                  '#B0BEC5',\n",
       "                                                                  '#B0BEC5',\n",
       "                                                                  '#B0BEC5',\n",
       "                                                                  '#B0BEC5',\n",
       "                                                                  '#B0BEC5']]}],\n",
       "                                       'label': 'Topic 0',\n",
       "                                       'method': 'update'},\n",
       "                                      {'args': [{'marker.color': [['#B0BEC5',\n",
       "                                                                  'red', '#B0BEC5',\n",
       "                                                                  '#B0BEC5',\n",
       "                                                                  '#B0BEC5',\n",
       "                                                                  '#B0BEC5',\n",
       "                                                                  '#B0BEC5',\n",
       "                                                                  '#B0BEC5',\n",
       "                                                                  '#B0BEC5',\n",
       "                                                                  '#B0BEC5',\n",
       "                                                                  '#B0BEC5',\n",
       "                                                                  '#B0BEC5',\n",
       "                                                                  '#B0BEC5',\n",
       "                                                                  '#B0BEC5',\n",
       "                                                                  '#B0BEC5',\n",
       "                                                                  '#B0BEC5',\n",
       "                                                                  '#B0BEC5',\n",
       "                                                                  '#B0BEC5',\n",
       "                                                                  '#B0BEC5',\n",
       "                                                                  '#B0BEC5',\n",
       "                                                                  '#B0BEC5']]}],\n",
       "                                       'label': 'Topic 1',\n",
       "                                       'method': 'update'},\n",
       "                                      {'args': [{'marker.color': [['#B0BEC5',\n",
       "                                                                  '#B0BEC5', 'red',\n",
       "                                                                  '#B0BEC5',\n",
       "                                                                  '#B0BEC5',\n",
       "                                                                  '#B0BEC5',\n",
       "                                                                  '#B0BEC5',\n",
       "                                                                  '#B0BEC5',\n",
       "                                                                  '#B0BEC5',\n",
       "                                                                  '#B0BEC5',\n",
       "                                                                  '#B0BEC5',\n",
       "                                                                  '#B0BEC5',\n",
       "                                                                  '#B0BEC5',\n",
       "                                                                  '#B0BEC5',\n",
       "                                                                  '#B0BEC5',\n",
       "                                                                  '#B0BEC5',\n",
       "                                                                  '#B0BEC5',\n",
       "                                                                  '#B0BEC5',\n",
       "                                                                  '#B0BEC5',\n",
       "                                                                  '#B0BEC5',\n",
       "                                                                  '#B0BEC5']]}],\n",
       "                                       'label': 'Topic 2',\n",
       "                                       'method': 'update'},\n",
       "                                      {'args': [{'marker.color': [['#B0BEC5',\n",
       "                                                                  '#B0BEC5',\n",
       "                                                                  '#B0BEC5', 'red',\n",
       "                                                                  '#B0BEC5',\n",
       "                                                                  '#B0BEC5',\n",
       "                                                                  '#B0BEC5',\n",
       "                                                                  '#B0BEC5',\n",
       "                                                                  '#B0BEC5',\n",
       "                                                                  '#B0BEC5',\n",
       "                                                                  '#B0BEC5',\n",
       "                                                                  '#B0BEC5',\n",
       "                                                                  '#B0BEC5',\n",
       "                                                                  '#B0BEC5',\n",
       "                                                                  '#B0BEC5',\n",
       "                                                                  '#B0BEC5',\n",
       "                                                                  '#B0BEC5',\n",
       "                                                                  '#B0BEC5',\n",
       "                                                                  '#B0BEC5',\n",
       "                                                                  '#B0BEC5',\n",
       "                                                                  '#B0BEC5']]}],\n",
       "                                       'label': 'Topic 3',\n",
       "                                       'method': 'update'},\n",
       "                                      {'args': [{'marker.color': [['#B0BEC5',\n",
       "                                                                  '#B0BEC5',\n",
       "                                                                  '#B0BEC5',\n",
       "                                                                  '#B0BEC5', 'red',\n",
       "                                                                  '#B0BEC5',\n",
       "                                                                  '#B0BEC5',\n",
       "                                                                  '#B0BEC5',\n",
       "                                                                  '#B0BEC5',\n",
       "                                                                  '#B0BEC5',\n",
       "                                                                  '#B0BEC5',\n",
       "                                                                  '#B0BEC5',\n",
       "                                                                  '#B0BEC5',\n",
       "                                                                  '#B0BEC5',\n",
       "                                                                  '#B0BEC5',\n",
       "                                                                  '#B0BEC5',\n",
       "                                                                  '#B0BEC5',\n",
       "                                                                  '#B0BEC5',\n",
       "                                                                  '#B0BEC5',\n",
       "                                                                  '#B0BEC5',\n",
       "                                                                  '#B0BEC5']]}],\n",
       "                                       'label': 'Topic 4',\n",
       "                                       'method': 'update'},\n",
       "                                      {'args': [{'marker.color': [['#B0BEC5',\n",
       "                                                                  '#B0BEC5',\n",
       "                                                                  '#B0BEC5',\n",
       "                                                                  '#B0BEC5',\n",
       "                                                                  '#B0BEC5', 'red',\n",
       "                                                                  '#B0BEC5',\n",
       "                                                                  '#B0BEC5',\n",
       "                                                                  '#B0BEC5',\n",
       "                                                                  '#B0BEC5',\n",
       "                                                                  '#B0BEC5',\n",
       "                                                                  '#B0BEC5',\n",
       "                                                                  '#B0BEC5',\n",
       "                                                                  '#B0BEC5',\n",
       "                                                                  '#B0BEC5',\n",
       "                                                                  '#B0BEC5',\n",
       "                                                                  '#B0BEC5',\n",
       "                                                                  '#B0BEC5',\n",
       "                                                                  '#B0BEC5',\n",
       "                                                                  '#B0BEC5',\n",
       "                                                                  '#B0BEC5']]}],\n",
       "                                       'label': 'Topic 5',\n",
       "                                       'method': 'update'},\n",
       "                                      {'args': [{'marker.color': [['#B0BEC5',\n",
       "                                                                  '#B0BEC5',\n",
       "                                                                  '#B0BEC5',\n",
       "                                                                  '#B0BEC5',\n",
       "                                                                  '#B0BEC5',\n",
       "                                                                  '#B0BEC5', 'red',\n",
       "                                                                  '#B0BEC5',\n",
       "                                                                  '#B0BEC5',\n",
       "                                                                  '#B0BEC5',\n",
       "                                                                  '#B0BEC5',\n",
       "                                                                  '#B0BEC5',\n",
       "                                                                  '#B0BEC5',\n",
       "                                                                  '#B0BEC5',\n",
       "                                                                  '#B0BEC5',\n",
       "                                                                  '#B0BEC5',\n",
       "                                                                  '#B0BEC5',\n",
       "                                                                  '#B0BEC5',\n",
       "                                                                  '#B0BEC5',\n",
       "                                                                  '#B0BEC5',\n",
       "                                                                  '#B0BEC5']]}],\n",
       "                                       'label': 'Topic 6',\n",
       "                                       'method': 'update'},\n",
       "                                      {'args': [{'marker.color': [['#B0BEC5',\n",
       "                                                                  '#B0BEC5',\n",
       "                                                                  '#B0BEC5',\n",
       "                                                                  '#B0BEC5',\n",
       "                                                                  '#B0BEC5',\n",
       "                                                                  '#B0BEC5',\n",
       "                                                                  '#B0BEC5', 'red',\n",
       "                                                                  '#B0BEC5',\n",
       "                                                                  '#B0BEC5',\n",
       "                                                                  '#B0BEC5',\n",
       "                                                                  '#B0BEC5',\n",
       "                                                                  '#B0BEC5',\n",
       "                                                                  '#B0BEC5',\n",
       "                                                                  '#B0BEC5',\n",
       "                                                                  '#B0BEC5',\n",
       "                                                                  '#B0BEC5',\n",
       "                                                                  '#B0BEC5',\n",
       "                                                                  '#B0BEC5',\n",
       "                                                                  '#B0BEC5',\n",
       "                                                                  '#B0BEC5']]}],\n",
       "                                       'label': 'Topic 7',\n",
       "                                       'method': 'update'},\n",
       "                                      {'args': [{'marker.color': [['#B0BEC5',\n",
       "                                                                  '#B0BEC5',\n",
       "                                                                  '#B0BEC5',\n",
       "                                                                  '#B0BEC5',\n",
       "                                                                  '#B0BEC5',\n",
       "                                                                  '#B0BEC5',\n",
       "                                                                  '#B0BEC5',\n",
       "                                                                  '#B0BEC5', 'red',\n",
       "                                                                  '#B0BEC5',\n",
       "                                                                  '#B0BEC5',\n",
       "                                                                  '#B0BEC5',\n",
       "                                                                  '#B0BEC5',\n",
       "                                                                  '#B0BEC5',\n",
       "                                                                  '#B0BEC5',\n",
       "                                                                  '#B0BEC5',\n",
       "                                                                  '#B0BEC5',\n",
       "                                                                  '#B0BEC5',\n",
       "                                                                  '#B0BEC5',\n",
       "                                                                  '#B0BEC5',\n",
       "                                                                  '#B0BEC5']]}],\n",
       "                                       'label': 'Topic 8',\n",
       "                                       'method': 'update'},\n",
       "                                      {'args': [{'marker.color': [['#B0BEC5',\n",
       "                                                                  '#B0BEC5',\n",
       "                                                                  '#B0BEC5',\n",
       "                                                                  '#B0BEC5',\n",
       "                                                                  '#B0BEC5',\n",
       "                                                                  '#B0BEC5',\n",
       "                                                                  '#B0BEC5',\n",
       "                                                                  '#B0BEC5',\n",
       "                                                                  '#B0BEC5', 'red',\n",
       "                                                                  '#B0BEC5',\n",
       "                                                                  '#B0BEC5',\n",
       "                                                                  '#B0BEC5',\n",
       "                                                                  '#B0BEC5',\n",
       "                                                                  '#B0BEC5',\n",
       "                                                                  '#B0BEC5',\n",
       "                                                                  '#B0BEC5',\n",
       "                                                                  '#B0BEC5',\n",
       "                                                                  '#B0BEC5',\n",
       "                                                                  '#B0BEC5',\n",
       "                                                                  '#B0BEC5']]}],\n",
       "                                       'label': 'Topic 9',\n",
       "                                       'method': 'update'},\n",
       "                                      {'args': [{'marker.color': [['#B0BEC5',\n",
       "                                                                  '#B0BEC5',\n",
       "                                                                  '#B0BEC5',\n",
       "                                                                  '#B0BEC5',\n",
       "                                                                  '#B0BEC5',\n",
       "                                                                  '#B0BEC5',\n",
       "                                                                  '#B0BEC5',\n",
       "                                                                  '#B0BEC5',\n",
       "                                                                  '#B0BEC5',\n",
       "                                                                  '#B0BEC5', 'red',\n",
       "                                                                  '#B0BEC5',\n",
       "                                                                  '#B0BEC5',\n",
       "                                                                  '#B0BEC5',\n",
       "                                                                  '#B0BEC5',\n",
       "                                                                  '#B0BEC5',\n",
       "                                                                  '#B0BEC5',\n",
       "                                                                  '#B0BEC5',\n",
       "                                                                  '#B0BEC5',\n",
       "                                                                  '#B0BEC5',\n",
       "                                                                  '#B0BEC5']]}],\n",
       "                                       'label': 'Topic 10',\n",
       "                                       'method': 'update'},\n",
       "                                      {'args': [{'marker.color': [['#B0BEC5',\n",
       "                                                                  '#B0BEC5',\n",
       "                                                                  '#B0BEC5',\n",
       "                                                                  '#B0BEC5',\n",
       "                                                                  '#B0BEC5',\n",
       "                                                                  '#B0BEC5',\n",
       "                                                                  '#B0BEC5',\n",
       "                                                                  '#B0BEC5',\n",
       "                                                                  '#B0BEC5',\n",
       "                                                                  '#B0BEC5',\n",
       "                                                                  '#B0BEC5', 'red',\n",
       "                                                                  '#B0BEC5',\n",
       "                                                                  '#B0BEC5',\n",
       "                                                                  '#B0BEC5',\n",
       "                                                                  '#B0BEC5',\n",
       "                                                                  '#B0BEC5',\n",
       "                                                                  '#B0BEC5',\n",
       "                                                                  '#B0BEC5',\n",
       "                                                                  '#B0BEC5',\n",
       "                                                                  '#B0BEC5']]}],\n",
       "                                       'label': 'Topic 11',\n",
       "                                       'method': 'update'},\n",
       "                                      {'args': [{'marker.color': [['#B0BEC5',\n",
       "                                                                  '#B0BEC5',\n",
       "                                                                  '#B0BEC5',\n",
       "                                                                  '#B0BEC5',\n",
       "                                                                  '#B0BEC5',\n",
       "                                                                  '#B0BEC5',\n",
       "                                                                  '#B0BEC5',\n",
       "                                                                  '#B0BEC5',\n",
       "                                                                  '#B0BEC5',\n",
       "                                                                  '#B0BEC5',\n",
       "                                                                  '#B0BEC5',\n",
       "                                                                  '#B0BEC5', 'red',\n",
       "                                                                  '#B0BEC5',\n",
       "                                                                  '#B0BEC5',\n",
       "                                                                  '#B0BEC5',\n",
       "                                                                  '#B0BEC5',\n",
       "                                                                  '#B0BEC5',\n",
       "                                                                  '#B0BEC5',\n",
       "                                                                  '#B0BEC5',\n",
       "                                                                  '#B0BEC5']]}],\n",
       "                                       'label': 'Topic 12',\n",
       "                                       'method': 'update'},\n",
       "                                      {'args': [{'marker.color': [['#B0BEC5',\n",
       "                                                                  '#B0BEC5',\n",
       "                                                                  '#B0BEC5',\n",
       "                                                                  '#B0BEC5',\n",
       "                                                                  '#B0BEC5',\n",
       "                                                                  '#B0BEC5',\n",
       "                                                                  '#B0BEC5',\n",
       "                                                                  '#B0BEC5',\n",
       "                                                                  '#B0BEC5',\n",
       "                                                                  '#B0BEC5',\n",
       "                                                                  '#B0BEC5',\n",
       "                                                                  '#B0BEC5',\n",
       "                                                                  '#B0BEC5', 'red',\n",
       "                                                                  '#B0BEC5',\n",
       "                                                                  '#B0BEC5',\n",
       "                                                                  '#B0BEC5',\n",
       "                                                                  '#B0BEC5',\n",
       "                                                                  '#B0BEC5',\n",
       "                                                                  '#B0BEC5',\n",
       "                                                                  '#B0BEC5']]}],\n",
       "                                       'label': 'Topic 13',\n",
       "                                       'method': 'update'},\n",
       "                                      {'args': [{'marker.color': [['#B0BEC5',\n",
       "                                                                  '#B0BEC5',\n",
       "                                                                  '#B0BEC5',\n",
       "                                                                  '#B0BEC5',\n",
       "                                                                  '#B0BEC5',\n",
       "                                                                  '#B0BEC5',\n",
       "                                                                  '#B0BEC5',\n",
       "                                                                  '#B0BEC5',\n",
       "                                                                  '#B0BEC5',\n",
       "                                                                  '#B0BEC5',\n",
       "                                                                  '#B0BEC5',\n",
       "                                                                  '#B0BEC5',\n",
       "                                                                  '#B0BEC5',\n",
       "                                                                  '#B0BEC5', 'red',\n",
       "                                                                  '#B0BEC5',\n",
       "                                                                  '#B0BEC5',\n",
       "                                                                  '#B0BEC5',\n",
       "                                                                  '#B0BEC5',\n",
       "                                                                  '#B0BEC5',\n",
       "                                                                  '#B0BEC5']]}],\n",
       "                                       'label': 'Topic 14',\n",
       "                                       'method': 'update'},\n",
       "                                      {'args': [{'marker.color': [['#B0BEC5',\n",
       "                                                                  '#B0BEC5',\n",
       "                                                                  '#B0BEC5',\n",
       "                                                                  '#B0BEC5',\n",
       "                                                                  '#B0BEC5',\n",
       "                                                                  '#B0BEC5',\n",
       "                                                                  '#B0BEC5',\n",
       "                                                                  '#B0BEC5',\n",
       "                                                                  '#B0BEC5',\n",
       "                                                                  '#B0BEC5',\n",
       "                                                                  '#B0BEC5',\n",
       "                                                                  '#B0BEC5',\n",
       "                                                                  '#B0BEC5',\n",
       "                                                                  '#B0BEC5',\n",
       "                                                                  '#B0BEC5', 'red',\n",
       "                                                                  '#B0BEC5',\n",
       "                                                                  '#B0BEC5',\n",
       "                                                                  '#B0BEC5',\n",
       "                                                                  '#B0BEC5',\n",
       "                                                                  '#B0BEC5']]}],\n",
       "                                       'label': 'Topic 15',\n",
       "                                       'method': 'update'},\n",
       "                                      {'args': [{'marker.color': [['#B0BEC5',\n",
       "                                                                  '#B0BEC5',\n",
       "                                                                  '#B0BEC5',\n",
       "                                                                  '#B0BEC5',\n",
       "                                                                  '#B0BEC5',\n",
       "                                                                  '#B0BEC5',\n",
       "                                                                  '#B0BEC5',\n",
       "                                                                  '#B0BEC5',\n",
       "                                                                  '#B0BEC5',\n",
       "                                                                  '#B0BEC5',\n",
       "                                                                  '#B0BEC5',\n",
       "                                                                  '#B0BEC5',\n",
       "                                                                  '#B0BEC5',\n",
       "                                                                  '#B0BEC5',\n",
       "                                                                  '#B0BEC5',\n",
       "                                                                  '#B0BEC5', 'red',\n",
       "                                                                  '#B0BEC5',\n",
       "                                                                  '#B0BEC5',\n",
       "                                                                  '#B0BEC5',\n",
       "                                                                  '#B0BEC5']]}],\n",
       "                                       'label': 'Topic 16',\n",
       "                                       'method': 'update'},\n",
       "                                      {'args': [{'marker.color': [['#B0BEC5',\n",
       "                                                                  '#B0BEC5',\n",
       "                                                                  '#B0BEC5',\n",
       "                                                                  '#B0BEC5',\n",
       "                                                                  '#B0BEC5',\n",
       "                                                                  '#B0BEC5',\n",
       "                                                                  '#B0BEC5',\n",
       "                                                                  '#B0BEC5',\n",
       "                                                                  '#B0BEC5',\n",
       "                                                                  '#B0BEC5',\n",
       "                                                                  '#B0BEC5',\n",
       "                                                                  '#B0BEC5',\n",
       "                                                                  '#B0BEC5',\n",
       "                                                                  '#B0BEC5',\n",
       "                                                                  '#B0BEC5',\n",
       "                                                                  '#B0BEC5',\n",
       "                                                                  '#B0BEC5', 'red',\n",
       "                                                                  '#B0BEC5',\n",
       "                                                                  '#B0BEC5',\n",
       "                                                                  '#B0BEC5']]}],\n",
       "                                       'label': 'Topic 17',\n",
       "                                       'method': 'update'},\n",
       "                                      {'args': [{'marker.color': [['#B0BEC5',\n",
       "                                                                  '#B0BEC5',\n",
       "                                                                  '#B0BEC5',\n",
       "                                                                  '#B0BEC5',\n",
       "                                                                  '#B0BEC5',\n",
       "                                                                  '#B0BEC5',\n",
       "                                                                  '#B0BEC5',\n",
       "                                                                  '#B0BEC5',\n",
       "                                                                  '#B0BEC5',\n",
       "                                                                  '#B0BEC5',\n",
       "                                                                  '#B0BEC5',\n",
       "                                                                  '#B0BEC5',\n",
       "                                                                  '#B0BEC5',\n",
       "                                                                  '#B0BEC5',\n",
       "                                                                  '#B0BEC5',\n",
       "                                                                  '#B0BEC5',\n",
       "                                                                  '#B0BEC5',\n",
       "                                                                  '#B0BEC5', 'red',\n",
       "                                                                  '#B0BEC5',\n",
       "                                                                  '#B0BEC5']]}],\n",
       "                                       'label': 'Topic 18',\n",
       "                                       'method': 'update'},\n",
       "                                      {'args': [{'marker.color': [['#B0BEC5',\n",
       "                                                                  '#B0BEC5',\n",
       "                                                                  '#B0BEC5',\n",
       "                                                                  '#B0BEC5',\n",
       "                                                                  '#B0BEC5',\n",
       "                                                                  '#B0BEC5',\n",
       "                                                                  '#B0BEC5',\n",
       "                                                                  '#B0BEC5',\n",
       "                                                                  '#B0BEC5',\n",
       "                                                                  '#B0BEC5',\n",
       "                                                                  '#B0BEC5',\n",
       "                                                                  '#B0BEC5',\n",
       "                                                                  '#B0BEC5',\n",
       "                                                                  '#B0BEC5',\n",
       "                                                                  '#B0BEC5',\n",
       "                                                                  '#B0BEC5',\n",
       "                                                                  '#B0BEC5',\n",
       "                                                                  '#B0BEC5',\n",
       "                                                                  '#B0BEC5', 'red',\n",
       "                                                                  '#B0BEC5']]}],\n",
       "                                       'label': 'Topic 19',\n",
       "                                       'method': 'update'},\n",
       "                                      {'args': [{'marker.color': [['#B0BEC5',\n",
       "                                                                  '#B0BEC5',\n",
       "                                                                  '#B0BEC5',\n",
       "                                                                  '#B0BEC5',\n",
       "                                                                  '#B0BEC5',\n",
       "                                                                  '#B0BEC5',\n",
       "                                                                  '#B0BEC5',\n",
       "                                                                  '#B0BEC5',\n",
       "                                                                  '#B0BEC5',\n",
       "                                                                  '#B0BEC5',\n",
       "                                                                  '#B0BEC5',\n",
       "                                                                  '#B0BEC5',\n",
       "                                                                  '#B0BEC5',\n",
       "                                                                  '#B0BEC5',\n",
       "                                                                  '#B0BEC5',\n",
       "                                                                  '#B0BEC5',\n",
       "                                                                  '#B0BEC5',\n",
       "                                                                  '#B0BEC5',\n",
       "                                                                  '#B0BEC5',\n",
       "                                                                  '#B0BEC5',\n",
       "                                                                  'red']]}],\n",
       "                                       'label': 'Topic 20',\n",
       "                                       'method': 'update'}]}],\n",
       "               'template': '...',\n",
       "               'title': {'font': {'color': 'Black', 'size': 22},\n",
       "                         'text': '<b>Intertopic Distance Map</b>',\n",
       "                         'x': 0.5,\n",
       "                         'xanchor': 'center',\n",
       "                         'y': 0.95,\n",
       "                         'yanchor': 'top'},\n",
       "               'width': 650,\n",
       "               'xaxis': {'anchor': 'y',\n",
       "                         'domain': [0.0, 1.0],\n",
       "                         'range': [-4.332632541656494, 20.704750061035156],\n",
       "                         'title': {'text': ''},\n",
       "                         'visible': False},\n",
       "               'yaxis': {'anchor': 'x',\n",
       "                         'domain': [0.0, 1.0],\n",
       "                         'range': [-1.799141526222229, 8.461604118347168],\n",
       "                         'title': {'text': ''},\n",
       "                         'visible': False}}\n",
       "})"
      ]
     },
     "execution_count": 17,
     "metadata": {},
     "output_type": "execute_result"
    }
   ],
   "source": [
    "topic_model.visualize_topics()"
   ]
  },
  {
   "cell_type": "markdown",
   "id": "a63cf95f",
   "metadata": {},
   "source": [
    "## DarkBERT"
   ]
  },
  {
   "cell_type": "code",
   "execution_count": 18,
   "id": "21fae1c9",
   "metadata": {},
   "outputs": [],
   "source": [
    "from transformers import pipeline"
   ]
  },
  {
   "cell_type": "code",
   "execution_count": 19,
   "id": "abbe60f8",
   "metadata": {},
   "outputs": [],
   "source": [
    "with open('access_token.txt', 'r') as file:\n",
    "    access_token = file.read().strip()"
   ]
  },
  {
   "cell_type": "code",
   "execution_count": 20,
   "id": "4c086a5e",
   "metadata": {},
   "outputs": [
    {
     "name": "stderr",
     "output_type": "stream",
     "text": [
      "Device set to use cpu\n"
     ]
    },
    {
     "data": {
      "text/plain": [
       "[{'score': 0.49523264169692993,\n",
       "  'token': 25346,\n",
       "  'token_str': ' ransomware',\n",
       "  'sequence': 'RagnarLocker, LockBit, and REvil are types of ransomware.'},\n",
       " {'score': 0.04661604389548302,\n",
       "  'token': 16886,\n",
       "  'token_str': ' malware',\n",
       "  'sequence': 'RagnarLocker, LockBit, and REvil are types of malware.'},\n",
       " {'score': 0.042176585644483566,\n",
       "  'token': 28811,\n",
       "  'token_str': ' wallets',\n",
       "  'sequence': 'RagnarLocker, LockBit, and REvil are types of wallets.'},\n",
       " {'score': 0.02898237481713295,\n",
       "  'token': 2196,\n",
       "  'token_str': ' drugs',\n",
       "  'sequence': 'RagnarLocker, LockBit, and REvil are types of drugs.'},\n",
       " {'score': 0.020001336932182312,\n",
       "  'token': 11344,\n",
       "  'token_str': ' hackers',\n",
       "  'sequence': 'RagnarLocker, LockBit, and REvil are types of hackers.'}]"
      ]
     },
     "execution_count": 20,
     "metadata": {},
     "output_type": "execute_result"
    }
   ],
   "source": [
    "unmasker = pipeline('fill-mask', model=\"s2w-ai/DarkBERT\", token=access_token)\n",
    "unmasker(\"RagnarLocker, LockBit, and REvil are types of <mask>.\")"
   ]
  },
  {
   "cell_type": "code",
   "execution_count": 21,
   "id": "5fc42776",
   "metadata": {},
   "outputs": [
    {
     "name": "stdout",
     "output_type": "stream",
     "text": [
      "Input: india, china, manufacturing, chinese, factories, threat are all types of <mask>\n",
      "Prediction: [{'score': 0.21873830258846283, 'token': 3455, 'token_str': ' threats', 'sequence': 'india, china, manufacturing, chinese, factories, threat are all types of threats'}, {'score': 0.17531301081180573, 'token': 1856, 'token_str': ' threat', 'sequence': 'india, china, manufacturing, chinese, factories, threat are all types of threat'}, {'score': 0.02046685852110386, 'token': 4854, 'token_str': ' danger', 'sequence': 'india, china, manufacturing, chinese, factories, threat are all types of danger'}, {'score': 0.019146598875522614, 'token': 383, 'token_str': ' things', 'sequence': 'india, china, manufacturing, chinese, factories, threat are all types of things'}, {'score': 0.0177216287702322, 'token': 4, 'token_str': '.', 'sequence': 'india, china, manufacturing, chinese, factories, threat are all types of.'}]\n",
      "\n",
      "Input: make, would, recall, woods, european, japanese are all types of <mask>\n",
      "Prediction: [{'score': 0.04411490261554718, 'token': 383, 'token_str': ' things', 'sequence': 'make, would, recall, woods, european, japanese are all types of things'}, {'score': 0.04279075190424919, 'token': 4, 'token_str': '.', 'sequence': 'make, would, recall, woods, european, japanese are all types of.'}, {'score': 0.041070230305194855, 'token': 22, 'token_str': ' \"', 'sequence': 'make, would, recall, woods, european, japanese are all types of \"'}, {'score': 0.02935677580535412, 'token': 2523, 'token_str': ' names', 'sequence': 'make, would, recall, woods, european, japanese are all types of names'}, {'score': 0.022169847041368484, 'token': 2777, 'token_str': ' language', 'sequence': 'make, would, recall, woods, european, japanese are all types of language'}]\n",
      "\n",
      "Input: white, search, google, anti, nobody, men are all types of <mask>\n",
      "Prediction: [{'score': 0.4385855793952942, 'token': 82, 'token_str': ' people', 'sequence': 'white, search, google, anti, nobody, men are all types of people'}, {'score': 0.2597445845603943, 'token': 604, 'token_str': ' men', 'sequence': 'white, search, google, anti, nobody, men are all types of men'}, {'score': 0.029953395947813988, 'token': 1104, 'token_str': ' white', 'sequence': 'white, search, google, anti, nobody, men are all types of white'}, {'score': 0.022775327786803246, 'token': 390, 'token_str': ' women', 'sequence': 'white, search, google, anti, nobody, men are all types of women'}, {'score': 0.0227326862514019, 'token': 9247, 'token_str': ' evil', 'sequence': 'white, search, google, anti, nobody, men are all types of evil'}]\n",
      "\n",
      "Input: step, government, us, great, america, every are all types of <mask>\n",
      "Prediction: [{'score': 0.06321922689676285, 'token': 2196, 'token_str': ' drugs', 'sequence': 'step, government, us, great, america, every are all types of drugs'}, {'score': 0.049252137541770935, 'token': 82, 'token_str': ' people', 'sequence': 'step, government, us, great, america, every are all types of people'}, {'score': 0.031310442835092545, 'token': 930, 'token_str': ' music', 'sequence': 'step, government, us, great, america, every are all types of music'}, {'score': 0.02685331180691719, 'token': 4, 'token_str': '.', 'sequence': 'step, government, us, great, america, every are all types of.'}, {'score': 0.023474065586924553, 'token': 383, 'token_str': ' things', 'sequence': 'step, government, us, great, america, every are all types of things'}]\n",
      "\n",
      "Input: go, coffee, woke, br, britbros, courts are all types of <mask>\n",
      "Prediction: [{'score': 0.09019271284341812, 'token': 383, 'token_str': ' things', 'sequence': 'go, coffee, woke, br, britbros, courts are all types of things'}, {'score': 0.0848594531416893, 'token': 82, 'token_str': ' people', 'sequence': 'go, coffee, woke, br, britbros, courts are all types of people'}, {'score': 0.04022159054875374, 'token': 390, 'token_str': ' women', 'sequence': 'go, coffee, woke, br, britbros, courts are all types of women'}, {'score': 0.024700501933693886, 'token': 15328, 'token_str': ' shit', 'sequence': 'go, coffee, woke, br, britbros, courts are all types of shit'}, {'score': 0.019022902473807335, 'token': 4354, 'token_str': ' courts', 'sequence': 'go, coffee, woke, br, britbros, courts are all types of courts'}]\n",
      "\n",
      "Input: white, baltics, tomatokikes, shitalians, convinced, semitic are all types of <mask>\n",
      "Prediction: [{'score': 0.14293357729911804, 'token': 8609, 'token_str': ' Jews', 'sequence': 'white, baltics, tomatokikes, shitalians, convinced, semitic are all types of Jews'}, {'score': 0.12898412346839905, 'token': 82, 'token_str': ' people', 'sequence': 'white, baltics, tomatokikes, shitalians, convinced, semitic are all types of people'}, {'score': 0.12477842718362808, 'token': 1437, 'token_str': ' ', 'sequence': 'white, baltics, tomatokikes, shitalians, convinced, semitic are all types of '}, {'score': 0.07646678388118744, 'token': 14917, 'token_str': ' jew', 'sequence': 'white, baltics, tomatokikes, shitalians, convinced, semitic are all types of jew'}, {'score': 0.04026351496577263, 'token': 4586, 'token_str': ' Jewish', 'sequence': 'white, baltics, tomatokikes, shitalians, convinced, semitic are all types of Jewish'}]\n",
      "\n",
      "Input: notice, something, drop, mic, ,  are all types of <mask>\n",
      "Prediction: [{'score': 0.056426819413900375, 'token': 16081, 'token_str': ' notices', 'sequence': 'notice, something, drop, mic, ,  are all types of notices'}, {'score': 0.0233449786901474, 'token': 1437, 'token_str': ' ', 'sequence': 'notice, something, drop, mic, ,  are all types of '}, {'score': 0.02266787365078926, 'token': 2369, 'token_str': ' sound', 'sequence': 'notice, something, drop, mic, ,  are all types of sound'}, {'score': 0.018397225067019463, 'token': 930, 'token_str': ' music', 'sequence': 'notice, something, drop, mic, ,  are all types of music'}, {'score': 0.0164830069988966, 'token': 14926, 'token_str': ' mic', 'sequence': 'notice, something, drop, mic, ,  are all types of mic'}]\n",
      "\n",
      "Input: ukraine, bbc, uk, catbox, moe, news are all types of <mask>\n",
      "Prediction: [{'score': 0.48263442516326904, 'token': 340, 'token_str': ' news', 'sequence': 'ukraine, bbc, uk, catbox, moe, news are all types of news'}, {'score': 0.08143757283687592, 'token': 1437, 'token_str': ' ', 'sequence': 'ukraine, bbc, uk, catbox, moe, news are all types of '}, {'score': 0.025119908154010773, 'token': 1717, 'token_str': ' u', 'sequence': 'ukraine, bbc, uk, catbox, moe, news are all types of u'}, {'score': 0.02160174399614334, 'token': 22, 'token_str': ' \"', 'sequence': 'ukraine, bbc, uk, catbox, moe, news are all types of \"'}, {'score': 0.015875475481152534, 'token': 4, 'token_str': '.', 'sequence': 'ukraine, bbc, uk, catbox, moe, news are all types of.'}]\n",
      "\n",
      "Input: poilievre, polls, policy, real, never, pol are all types of <mask>\n",
      "Prediction: [{'score': 0.07581139355897903, 'token': 10934, 'token_str': ' propaganda', 'sequence': 'poilievre, polls, policy, real, never, pol are all types of propaganda'}, {'score': 0.04074663296341896, 'token': 5738, 'token_str': ' lies', 'sequence': 'poilievre, polls, policy, real, never, pol are all types of lies'}, {'score': 0.04060593247413635, 'token': 2302, 'token_str': ' politics', 'sequence': 'poilievre, polls, policy, real, never, pol are all types of politics'}, {'score': 0.033786043524742126, 'token': 383, 'token_str': ' things', 'sequence': 'poilievre, polls, policy, real, never, pol are all types of things'}, {'score': 0.021296197548508644, 'token': 15328, 'token_str': ' shit', 'sequence': 'poilievre, polls, policy, real, never, pol are all types of shit'}]\n",
      "\n",
      "Input: prison, lockdown, inmates, staff, thomson, guards are all types of <mask>\n",
      "Prediction: [{'score': 0.13274644315242767, 'token': 82, 'token_str': ' people', 'sequence': 'prison, lockdown, inmates, staff, thomson, guards are all types of people'}, {'score': 0.08410698175430298, 'token': 9545, 'token_str': ' prisoners', 'sequence': 'prison, lockdown, inmates, staff, thomson, guards are all types of prisoners'}, {'score': 0.05746953561902046, 'token': 1789, 'token_str': ' prison', 'sequence': 'prison, lockdown, inmates, staff, thomson, guards are all types of prison'}, {'score': 0.049276597797870636, 'token': 383, 'token_str': ' things', 'sequence': 'prison, lockdown, inmates, staff, thomson, guards are all types of things'}, {'score': 0.0410238653421402, 'token': 8039, 'token_str': ' inmates', 'sequence': 'prison, lockdown, inmates, staff, thomson, guards are all types of inmates'}]\n",
      "\n",
      "Input: chickens, eggs, test, genocide, pro, children are all types of <mask>\n",
      "Prediction: [{'score': 0.8217418789863586, 'token': 7689, 'token_str': ' eggs', 'sequence': 'chickens, eggs, test, genocide, pro, children are all types of eggs'}, {'score': 0.020472366362810135, 'token': 689, 'token_str': ' food', 'sequence': 'chickens, eggs, test, genocide, pro, children are all types of food'}, {'score': 0.01092558354139328, 'token': 3122, 'token_str': ' animals', 'sequence': 'chickens, eggs, test, genocide, pro, children are all types of animals'}, {'score': 0.010608269833028316, 'token': 4884, 'token_str': ' meat', 'sequence': 'chickens, eggs, test, genocide, pro, children are all types of meat'}, {'score': 0.010565138421952724, 'token': 8380, 'token_str': ' egg', 'sequence': 'chickens, eggs, test, genocide, pro, children are all types of egg'}]\n",
      "\n",
      "Input: netanyahu, palestine, jfk, relevantisraeli, research, spottedhttps are all types of <mask>\n",
      "Prediction: [{'score': 0.5254053473472595, 'token': 1437, 'token_str': ' ', 'sequence': 'netanyahu, palestine, jfk, relevantisraeli, research, spottedhttps are all types of '}, {'score': 0.06652239710092545, 'token': 22, 'token_str': ' \"', 'sequence': 'netanyahu, palestine, jfk, relevantisraeli, research, spottedhttps are all types of \"'}, {'score': 0.014636380597949028, 'token': 8609, 'token_str': ' Jews', 'sequence': 'netanyahu, palestine, jfk, relevantisraeli, research, spottedhttps are all types of Jews'}, {'score': 0.01396073866635561, 'token': 36, 'token_str': ' (', 'sequence': 'netanyahu, palestine, jfk, relevantisraeli, research, spottedhttps are all types of ('}, {'score': 0.012946279719471931, 'token': 383, 'token_str': ' things', 'sequence': 'netanyahu, palestine, jfk, relevantisraeli, research, spottedhttps are all types of things'}]\n",
      "\n",
      "Input: care, fuck, russians, careare, allies, hated are all types of <mask>\n",
      "Prediction: [{'score': 0.08395043015480042, 'token': 82, 'token_str': ' people', 'sequence': 'care, fuck, russians, careare, allies, hated are all types of people'}, {'score': 0.0671970546245575, 'token': 22, 'token_str': ' \"', 'sequence': 'care, fuck, russians, careare, allies, hated are all types of \"'}, {'score': 0.05474420264363289, 'token': 15328, 'token_str': ' shit', 'sequence': 'care, fuck, russians, careare, allies, hated are all types of shit'}, {'score': 0.049406491219997406, 'token': 383, 'token_str': ' things', 'sequence': 'care, fuck, russians, careare, allies, hated are all types of things'}, {'score': 0.03603174537420273, 'token': 1437, 'token_str': ' ', 'sequence': 'care, fuck, russians, careare, allies, hated are all types of '}]\n",
      "\n",
      "Input: christianity, us, migration, would, led, poland are all types of <mask>\n",
      "Prediction: [{'score': 0.11653905361890793, 'token': 29224, 'token_str': ' christ', 'sequence': 'christianity, us, migration, would, led, poland are all types of christ'}, {'score': 0.07133611291646957, 'token': 1437, 'token_str': ' ', 'sequence': 'christianity, us, migration, would, led, poland are all types of '}, {'score': 0.06985274702310562, 'token': 82, 'token_str': ' people', 'sequence': 'christianity, us, migration, would, led, poland are all types of people'}, {'score': 0.06509191542863846, 'token': 383, 'token_str': ' things', 'sequence': 'christianity, us, migration, would, led, poland are all types of things'}, {'score': 0.03993046656250954, 'token': 24664, 'token_str': ' religions', 'sequence': 'christianity, us, migration, would, led, poland are all types of religions'}]\n",
      "\n",
      "Input: want, child, baby, kids, sugar, acting are all types of <mask>\n",
      "Prediction: [{'score': 0.18368954956531525, 'token': 3501, 'token_str': ' acting', 'sequence': 'want, child, baby, kids, sugar, acting are all types of acting'}, {'score': 0.1159442737698555, 'token': 383, 'token_str': ' things', 'sequence': 'want, child, baby, kids, sugar, acting are all types of things'}, {'score': 0.05386842042207718, 'token': 8597, 'token_str': ' emotions', 'sequence': 'want, child, baby, kids, sugar, acting are all types of emotions'}, {'score': 0.03226058557629585, 'token': 689, 'token_str': ' food', 'sequence': 'want, child, baby, kids, sugar, acting are all types of food'}, {'score': 0.02412361092865467, 'token': 657, 'token_str': ' love', 'sequence': 'want, child, baby, kids, sugar, acting are all types of love'}]\n",
      "\n",
      "Input: niggers, dei, jobs, use, hate, alot are all types of <mask>\n",
      "Prediction: [{'score': 0.13008879125118256, 'token': 82, 'token_str': ' people', 'sequence': 'niggers, dei, jobs, use, hate, alot are all types of people'}, {'score': 0.06133513152599335, 'token': 383, 'token_str': ' things', 'sequence': 'niggers, dei, jobs, use, hate, alot are all types of things'}, {'score': 0.024138890206813812, 'token': 3122, 'token_str': ' animals', 'sequence': 'niggers, dei, jobs, use, hate, alot are all types of animals'}, {'score': 0.022579627111554146, 'token': 4, 'token_str': '.', 'sequence': 'niggers, dei, jobs, use, hate, alot are all types of.'}, {'score': 0.01415743213146925, 'token': 15328, 'token_str': ' shit', 'sequence': 'niggers, dei, jobs, use, hate, alot are all types of shit'}]\n",
      "\n",
      "Input: trump, https, com, washington, dc, youtu are all types of <mask>\n",
      "Prediction: [{'score': 0.1294792741537094, 'token': 140, 'token_str': ' Trump', 'sequence': 'trump, https, com, washington, dc, youtu are all types of Trump'}, {'score': 0.09578904509544373, 'token': 2523, 'token_str': ' names', 'sequence': 'trump, https, com, washington, dc, youtu are all types of names'}, {'score': 0.0851232036948204, 'token': 20125, 'token_str': ' trump', 'sequence': 'trump, https, com, washington, dc, youtu are all types of trump'}, {'score': 0.050113748759031296, 'token': 82, 'token_str': ' people', 'sequence': 'trump, https, com, washington, dc, youtu are all types of people'}, {'score': 0.026152899488806725, 'token': 383, 'token_str': ' things', 'sequence': 'trump, https, com, washington, dc, youtu are all types of things'}]\n",
      "\n",
      "Input: pagan, post, nazi, memes, pro, jeet are all types of <mask>\n",
      "Prediction: [{'score': 0.3359030783176422, 'token': 26995, 'token_str': ' memes', 'sequence': 'pagan, post, nazi, memes, pro, jeet are all types of memes'}, {'score': 0.05703458935022354, 'token': 4570, 'token_str': ' posts', 'sequence': 'pagan, post, nazi, memes, pro, jeet are all types of posts'}, {'score': 0.030117951333522797, 'token': 22, 'token_str': ' \"', 'sequence': 'pagan, post, nazi, memes, pro, jeet are all types of \"'}, {'score': 0.027996981516480446, 'token': 82, 'token_str': ' people', 'sequence': 'pagan, post, nazi, memes, pro, jeet are all types of people'}, {'score': 0.026796404272317886, 'token': 10934, 'token_str': ' propaganda', 'sequence': 'pagan, post, nazi, memes, pro, jeet are all types of propaganda'}]\n",
      "\n",
      "Input: english, dropped, recognize, official, wqygcbceceu, propaganda are all types of <mask>\n",
      "Prediction: [{'score': 0.2973218262195587, 'token': 1437, 'token_str': ' ', 'sequence': 'english, dropped, recognize, official, wqygcbceceu, propaganda are all types of '}, {'score': 0.2487516850233078, 'token': 10934, 'token_str': ' propaganda', 'sequence': 'english, dropped, recognize, official, wqygcbceceu, propaganda are all types of propaganda'}, {'score': 0.06102529913187027, 'token': 22, 'token_str': ' \"', 'sequence': 'english, dropped, recognize, official, wqygcbceceu, propaganda are all types of \"'}, {'score': 0.022259829565882683, 'token': 5738, 'token_str': ' lies', 'sequence': 'english, dropped, recognize, official, wqygcbceceu, propaganda are all types of lies'}, {'score': 0.014296047389507294, 'token': 4, 'token_str': '.', 'sequence': 'english, dropped, recognize, official, wqygcbceceu, propaganda are all types of.'}]\n",
      "\n",
      "Input: consciousness, soul, its, like, dwelled, cold are all types of <mask>\n",
      "Prediction: [{'score': 0.046269770711660385, 'token': 3581, 'token_str': ' sleep', 'sequence': 'consciousness, soul, its, like, dwelled, cold are all types of sleep'}, {'score': 0.041187383234500885, 'token': 22, 'token_str': ' \"', 'sequence': 'consciousness, soul, its, like, dwelled, cold are all types of \"'}, {'score': 0.040418840944767, 'token': 4, 'token_str': '.', 'sequence': 'consciousness, soul, its, like, dwelled, cold are all types of.'}, {'score': 0.03704071417450905, 'token': 16253, 'token_str': ' consciousness', 'sequence': 'consciousness, soul, its, like, dwelled, cold are all types of consciousness'}, {'score': 0.0345018096268177, 'token': 2400, 'token_str': ' pain', 'sequence': 'consciousness, soul, its, like, dwelled, cold are all types of pain'}]\n",
      "\n",
      "Input: faces, sold, even, makes, anymore, see are all types of <mask>\n",
      "Prediction: [{'score': 0.11836152523756027, 'token': 2419, 'token_str': ' faces', 'sequence': 'faces, sold, even, makes, anymore, see are all types of faces'}, {'score': 0.059970635920763016, 'token': 383, 'token_str': ' things', 'sequence': 'faces, sold, even, makes, anymore, see are all types of things'}, {'score': 0.038580067455768585, 'token': 82, 'token_str': ' people', 'sequence': 'faces, sold, even, makes, anymore, see are all types of people'}, {'score': 0.015368807129561901, 'token': 4, 'token_str': '.', 'sequence': 'faces, sold, even, makes, anymore, see are all types of.'}, {'score': 0.012682526372373104, 'token': 1326, 'token_str': ' looks', 'sequence': 'faces, sold, even, makes, anymore, see are all types of looks'}]\n",
      "\n",
      "Input: east, white, bunnies, snow, interbreeding, asian are all types of <mask>\n",
      "Prediction: [{'score': 0.07814992219209671, 'token': 3122, 'token_str': ' animals', 'sequence': 'east, white, bunnies, snow, interbreeding, asian are all types of animals'}, {'score': 0.05951055884361267, 'token': 7689, 'token_str': ' eggs', 'sequence': 'east, white, bunnies, snow, interbreeding, asian are all types of eggs'}, {'score': 0.039224620908498764, 'token': 82, 'token_str': ' people', 'sequence': 'east, white, bunnies, snow, interbreeding, asian are all types of people'}, {'score': 0.03858764097094536, 'token': 4707, 'token_str': ' species', 'sequence': 'east, white, bunnies, snow, interbreeding, asian are all types of species'}, {'score': 0.02816183492541313, 'token': 7723, 'token_str': ' birds', 'sequence': 'east, white, bunnies, snow, interbreeding, asian are all types of birds'}]\n",
      "\n"
     ]
    }
   ],
   "source": [
    "# Iterate through the 'Representation' column in BERTopics DataFrame\n",
    "for representation in BERTopics['Representation']:\n",
    "    # Take only the first 3 words from the representation list\n",
    "    words = ', '.join(representation[:6])\n",
    "    # Create the input sentence for the unmasker\n",
    "    sentence = f\"{words} are all types of <mask>\"\n",
    "    # Use the unmasker to predict the masked word\n",
    "    result = unmasker(sentence)\n",
    "    print(f\"Input: {sentence}\")\n",
    "    print(f\"Prediction: {result}\\n\")"
   ]
  },
  {
   "cell_type": "markdown",
   "id": "101a7699",
   "metadata": {},
   "source": [
    "# Sentiment Analysis"
   ]
  },
  {
   "cell_type": "markdown",
   "id": "d66252a3",
   "metadata": {},
   "source": [
    "## Vader"
   ]
  },
  {
   "cell_type": "code",
   "execution_count": 26,
   "id": "67901b63",
   "metadata": {},
   "outputs": [
    {
     "name": "stderr",
     "output_type": "stream",
     "text": [
      "[nltk_data] Downloading package vader_lexicon to\n",
      "[nltk_data]     C:\\Users\\20193244\\AppData\\Roaming\\nltk_data...\n",
      "[nltk_data]   Package vader_lexicon is already up-to-date!\n"
     ]
    },
    {
     "data": {
      "text/html": [
       "<div>\n",
       "<style scoped>\n",
       "    .dataframe tbody tr th:only-of-type {\n",
       "        vertical-align: middle;\n",
       "    }\n",
       "\n",
       "    .dataframe tbody tr th {\n",
       "        vertical-align: top;\n",
       "    }\n",
       "\n",
       "    .dataframe thead th {\n",
       "        text-align: right;\n",
       "    }\n",
       "</style>\n",
       "<table border=\"1\" class=\"dataframe\">\n",
       "  <thead>\n",
       "    <tr style=\"text-align: right;\">\n",
       "      <th></th>\n",
       "      <th>subpost_id</th>\n",
       "      <th>content</th>\n",
       "      <th>time</th>\n",
       "      <th>thread_id</th>\n",
       "      <th>sentiment</th>\n",
       "    </tr>\n",
       "  </thead>\n",
       "  <tbody>\n",
       "    <tr>\n",
       "      <th>0</th>\n",
       "      <td>p501099183</td>\n",
       "      <td>&gt;&gt;501098958 (OP)I used an anal egg to make me ...</td>\n",
       "      <td>03/21/25(Fri)13:43:02No.501099183</td>\n",
       "      <td>p501098958</td>\n",
       "      <td>0</td>\n",
       "    </tr>\n",
       "    <tr>\n",
       "      <th>1</th>\n",
       "      <td>p501099437</td>\n",
       "      <td>corporate farming was a mistakepicrel is the c...</td>\n",
       "      <td>03/21/25(Fri)13:46:36No.501099437</td>\n",
       "      <td>p501098958</td>\n",
       "      <td>0</td>\n",
       "    </tr>\n",
       "    <tr>\n",
       "      <th>2</th>\n",
       "      <td>p501100092</td>\n",
       "      <td>&gt;&gt;501098958 (OP)Almost like the old administra...</td>\n",
       "      <td>03/21/25(Fri)13:55:59No.501100092</td>\n",
       "      <td>p501098958</td>\n",
       "      <td>1</td>\n",
       "    </tr>\n",
       "    <tr>\n",
       "      <th>3</th>\n",
       "      <td>p501100224</td>\n",
       "      <td>&gt;&gt;501100092Trump started the fake pandemic, st...</td>\n",
       "      <td>03/21/25(Fri)13:57:44No.501100224</td>\n",
       "      <td>p501098958</td>\n",
       "      <td>0</td>\n",
       "    </tr>\n",
       "    <tr>\n",
       "      <th>4</th>\n",
       "      <td>p501101758</td>\n",
       "      <td>&gt;&gt;501098958 (OP)&gt;what did americans mean by th...</td>\n",
       "      <td>03/21/25(Fri)14:17:04No.501101758</td>\n",
       "      <td>p501098958</td>\n",
       "      <td>0</td>\n",
       "    </tr>\n",
       "  </tbody>\n",
       "</table>\n",
       "</div>"
      ],
      "text/plain": [
       "   subpost_id                                            content  \\\n",
       "0  p501099183  >>501098958 (OP)I used an anal egg to make me ...   \n",
       "1  p501099437  corporate farming was a mistakepicrel is the c...   \n",
       "2  p501100092  >>501098958 (OP)Almost like the old administra...   \n",
       "3  p501100224  >>501100092Trump started the fake pandemic, st...   \n",
       "4  p501101758  >>501098958 (OP)>what did americans mean by th...   \n",
       "\n",
       "                                time   thread_id  sentiment  \n",
       "0  03/21/25(Fri)13:43:02No.501099183  p501098958          0  \n",
       "1  03/21/25(Fri)13:46:36No.501099437  p501098958          0  \n",
       "2  03/21/25(Fri)13:55:59No.501100092  p501098958          1  \n",
       "3  03/21/25(Fri)13:57:44No.501100224  p501098958          0  \n",
       "4  03/21/25(Fri)14:17:04No.501101758  p501098958          0  "
      ]
     },
     "execution_count": 26,
     "metadata": {},
     "output_type": "execute_result"
    }
   ],
   "source": [
    "# Download the vader_lexicon resource\n",
    "nltk.download('vader_lexicon')\n",
    "\n",
    "# Initialize NLTK sentiment analyzer\n",
    "analyzer = SentimentIntensityAnalyzer()\n",
    "\n",
    "# Create get_sentiment function\n",
    "def get_sentiment(text):\n",
    "    if not isinstance(text, str):  # Handle non-string values\n",
    "        text = ''\n",
    "    scores = analyzer.polarity_scores(text)\n",
    "    sentiment = 1 if scores['pos'] > 0 else 0\n",
    "    return sentiment\n",
    "\n",
    "# Apply get_sentiment function\n",
    "chan4_posts['sentiment'] = chan4_posts['content'].apply(get_sentiment)\n",
    "chan4_posts.head(5)"
   ]
  },
  {
   "cell_type": "markdown",
   "id": "fb900e5c",
   "metadata": {},
   "source": [
    "### BERTweet"
   ]
  },
  {
   "cell_type": "code",
   "execution_count": 27,
   "id": "9bf4c823",
   "metadata": {},
   "outputs": [],
   "source": [
    "import torch\n",
    "from transformers import AutoModel, AutoTokenizer "
   ]
  },
  {
   "cell_type": "code",
   "execution_count": null,
   "id": "ed0ebd68",
   "metadata": {},
   "outputs": [
    {
     "name": "stderr",
     "output_type": "stream",
     "text": [
      "Some weights of RobertaModel were not initialized from the model checkpoint at vinai/bertweet-large and are newly initialized: ['pooler.dense.bias', 'pooler.dense.weight']\n",
      "You should probably TRAIN this model on a down-stream task to be able to use it for predictions and inference.\n"
     ]
    }
   ],
   "source": [
    "bertweet = AutoModel.from_pretrained(\"vinai/bertweet-large\")\n",
    "tokenizer = AutoTokenizer.from_pretrained(\"vinai/bertweet-large\")"
   ]
  },
  {
   "cell_type": "code",
   "execution_count": 29,
   "id": "ca52b9f0",
   "metadata": {},
   "outputs": [],
   "source": [
    "# Tokenize the content column of chan4_posts\n",
    "chan4_posts['tokenized'] = chan4_posts['content'].dropna().apply(lambda x: tokenizer.encode(x, return_tensors='pt', truncation=True, max_length=512))\n",
    "\n",
    "# Define a function to extract features using BERTweet\n",
    "def extract_features(tokenized_text):\n",
    "    with torch.no_grad():\n",
    "        features = bertweet(tokenized_text)\n",
    "    return features.last_hidden_state.mean(dim=1).squeeze().numpy()"
   ]
  },
  {
   "cell_type": "markdown",
   "id": "d001a60a",
   "metadata": {},
   "source": [
    "This following cell takes 10 hours to run"
   ]
  },
  {
   "cell_type": "code",
   "execution_count": 30,
   "id": "4d4adb08",
   "metadata": {},
   "outputs": [],
   "source": [
    "# Apply the feature extraction function to the tokenized content\n",
    "chan4_posts['bertweet_features'] = chan4_posts['tokenized'].apply(lambda x: extract_features(x) if isinstance(x, torch.Tensor) else None)"
   ]
  },
  {
   "cell_type": "code",
   "execution_count": 31,
   "id": "e05de5bf",
   "metadata": {},
   "outputs": [
    {
     "data": {
      "text/html": [
       "<div>\n",
       "<style scoped>\n",
       "    .dataframe tbody tr th:only-of-type {\n",
       "        vertical-align: middle;\n",
       "    }\n",
       "\n",
       "    .dataframe tbody tr th {\n",
       "        vertical-align: top;\n",
       "    }\n",
       "\n",
       "    .dataframe thead th {\n",
       "        text-align: right;\n",
       "    }\n",
       "</style>\n",
       "<table border=\"1\" class=\"dataframe\">\n",
       "  <thead>\n",
       "    <tr style=\"text-align: right;\">\n",
       "      <th></th>\n",
       "      <th>subpost_id</th>\n",
       "      <th>content</th>\n",
       "      <th>time</th>\n",
       "      <th>thread_id</th>\n",
       "      <th>sentiment</th>\n",
       "      <th>tokenized</th>\n",
       "      <th>bertweet_features</th>\n",
       "    </tr>\n",
       "  </thead>\n",
       "  <tbody>\n",
       "    <tr>\n",
       "      <th>0</th>\n",
       "      <td>p501099183</td>\n",
       "      <td>&gt;&gt;501098958 (OP)I used an anal egg to make me ...</td>\n",
       "      <td>03/21/25(Fri)13:43:02No.501099183</td>\n",
       "      <td>p501098958</td>\n",
       "      <td>0</td>\n",
       "      <td>[[tensor(0), tensor(44226), tensor(36144), ten...</td>\n",
       "      <td>[0.06799206, 0.056070276, -0.55798876, 0.04418...</td>\n",
       "    </tr>\n",
       "    <tr>\n",
       "      <th>1</th>\n",
       "      <td>p501099437</td>\n",
       "      <td>corporate farming was a mistakepicrel is the c...</td>\n",
       "      <td>03/21/25(Fri)13:46:36No.501099437</td>\n",
       "      <td>p501098958</td>\n",
       "      <td>0</td>\n",
       "      <td>[[tensor(0), tensor(7215), tensor(34044), tens...</td>\n",
       "      <td>[-0.0776314, 0.035479527, -0.5825086, 0.027688...</td>\n",
       "    </tr>\n",
       "    <tr>\n",
       "      <th>2</th>\n",
       "      <td>p501100092</td>\n",
       "      <td>&gt;&gt;501098958 (OP)Almost like the old administra...</td>\n",
       "      <td>03/21/25(Fri)13:55:59No.501100092</td>\n",
       "      <td>p501098958</td>\n",
       "      <td>1</td>\n",
       "      <td>[[tensor(0), tensor(44226), tensor(36144), ten...</td>\n",
       "      <td>[-0.10017324, 0.11870812, -0.3728514, -0.14380...</td>\n",
       "    </tr>\n",
       "    <tr>\n",
       "      <th>3</th>\n",
       "      <td>p501100224</td>\n",
       "      <td>&gt;&gt;501100092Trump started the fake pandemic, st...</td>\n",
       "      <td>03/21/25(Fri)13:57:44No.501100224</td>\n",
       "      <td>p501098958</td>\n",
       "      <td>0</td>\n",
       "      <td>[[tensor(0), tensor(44226), tensor(36144), ten...</td>\n",
       "      <td>[-0.030243885, -0.043455537, -0.15542412, -0.2...</td>\n",
       "    </tr>\n",
       "    <tr>\n",
       "      <th>4</th>\n",
       "      <td>p501101758</td>\n",
       "      <td>&gt;&gt;501098958 (OP)&gt;what did americans mean by th...</td>\n",
       "      <td>03/21/25(Fri)14:17:04No.501101758</td>\n",
       "      <td>p501098958</td>\n",
       "      <td>0</td>\n",
       "      <td>[[tensor(0), tensor(44226), tensor(36144), ten...</td>\n",
       "      <td>[-0.1456901, 0.11850904, -0.31451586, -0.13101...</td>\n",
       "    </tr>\n",
       "  </tbody>\n",
       "</table>\n",
       "</div>"
      ],
      "text/plain": [
       "   subpost_id                                            content  \\\n",
       "0  p501099183  >>501098958 (OP)I used an anal egg to make me ...   \n",
       "1  p501099437  corporate farming was a mistakepicrel is the c...   \n",
       "2  p501100092  >>501098958 (OP)Almost like the old administra...   \n",
       "3  p501100224  >>501100092Trump started the fake pandemic, st...   \n",
       "4  p501101758  >>501098958 (OP)>what did americans mean by th...   \n",
       "\n",
       "                                time   thread_id  sentiment  \\\n",
       "0  03/21/25(Fri)13:43:02No.501099183  p501098958          0   \n",
       "1  03/21/25(Fri)13:46:36No.501099437  p501098958          0   \n",
       "2  03/21/25(Fri)13:55:59No.501100092  p501098958          1   \n",
       "3  03/21/25(Fri)13:57:44No.501100224  p501098958          0   \n",
       "4  03/21/25(Fri)14:17:04No.501101758  p501098958          0   \n",
       "\n",
       "                                           tokenized  \\\n",
       "0  [[tensor(0), tensor(44226), tensor(36144), ten...   \n",
       "1  [[tensor(0), tensor(7215), tensor(34044), tens...   \n",
       "2  [[tensor(0), tensor(44226), tensor(36144), ten...   \n",
       "3  [[tensor(0), tensor(44226), tensor(36144), ten...   \n",
       "4  [[tensor(0), tensor(44226), tensor(36144), ten...   \n",
       "\n",
       "                                   bertweet_features  \n",
       "0  [0.06799206, 0.056070276, -0.55798876, 0.04418...  \n",
       "1  [-0.0776314, 0.035479527, -0.5825086, 0.027688...  \n",
       "2  [-0.10017324, 0.11870812, -0.3728514, -0.14380...  \n",
       "3  [-0.030243885, -0.043455537, -0.15542412, -0.2...  \n",
       "4  [-0.1456901, 0.11850904, -0.31451586, -0.13101...  "
      ]
     },
     "execution_count": 31,
     "metadata": {},
     "output_type": "execute_result"
    }
   ],
   "source": [
    "# Display the updated DataFrame\n",
    "chan4_posts.head()"
   ]
  },
  {
   "cell_type": "code",
   "execution_count": null,
   "id": "d2113c6c",
   "metadata": {},
   "outputs": [
    {
     "name": "stdout",
     "output_type": "stream",
     "text": [
      "              precision    recall  f1-score   support\n",
      "\n",
      "           0       0.99      0.99      0.99      4250\n",
      "           1       0.99      0.99      0.99      3713\n",
      "\n",
      "    accuracy                           0.99      7963\n",
      "   macro avg       0.99      0.99      0.99      7963\n",
      "weighted avg       0.99      0.99      0.99      7963\n",
      "\n"
     ]
    }
   ],
   "source": [
    "# Ensure bertweet_features and sentiment are aligned and drop rows with NaN in either column\n",
    "valid_rows = chan4_posts.dropna(subset=['bertweet_features', 'sentiment'])\n",
    "\n",
    "# Extract features and labels\n",
    "X = np.array(valid_rows['bertweet_features'].tolist())  # Feature vectors\n",
    "y = valid_rows['sentiment']  # Sentiment labels (e.g., 0 for negative, 1 for positive)\n",
    "\n",
    "# Split data into training and testing sets\n",
    "X_train, X_test, y_train, y_test = train_test_split(X, y, test_size=0.2, random_state=42)\n",
    "\n",
    "# Train a Random Forest Classifier (or any other model)\n",
    "clf = RandomForestClassifier(random_state=42)\n",
    "clf.fit(X_train, y_train)\n",
    "\n",
    "# Predict sentiment on the test set\n",
    "y_pred = clf.predict(X_test)\n",
    "\n",
    "# Evaluate the model\n",
    "print(classification_report(y_test, y_pred))\n",
    "\n",
    "# Predict sentiment for new data\n",
    "# Ensure all feature vectors are valid and have the same length\n",
    "valid_features = chan4_posts['bertweet_features'].dropna().apply(lambda x: x if isinstance(x, np.ndarray) and x.ndim == 1 else None)\n",
    "valid_features = valid_features.dropna()\n",
    "\n",
    "# Predict sentiment for new data\n",
    "chan4_posts.loc[valid_features.index, 'predicted_sentiment'] = clf.predict(np.array(valid_features.tolist()))"
   ]
  },
  {
   "cell_type": "code",
   "execution_count": 37,
   "id": "5bf31fc6",
   "metadata": {},
   "outputs": [
    {
     "name": "stdout",
     "output_type": "stream",
     "text": [
      "Percentage of matching results: 98.21%\n"
     ]
    }
   ],
   "source": [
    "# Compare Vader sentiment with BERTweet sentiment\n",
    "comparison = chan4_posts[['sentiment', 'predicted_sentiment']]\n",
    "comparison['match'] = comparison['sentiment'] == comparison['predicted_sentiment']\n",
    "\n",
    "# Calculate the percentage of matching results\n",
    "match_percentage = comparison['match'].mean() * 100\n",
    "print(f\"Percentage of matching results: {match_percentage:.2f}%\")"
   ]
  },
  {
   "cell_type": "code",
   "execution_count": 40,
   "id": "7f022c73",
   "metadata": {},
   "outputs": [
    {
     "data": {
      "image/png": "[encoded data removed]",
      "text/plain": [
       "<Figure size 640x480 with 1 Axes>"
      ]
     },
     "metadata": {},
     "output_type": "display_data"
    }
   ],
   "source": [
    "import matplotlib.pyplot as plt\n",
    "\n",
    "# Count sentiment values for Vader and BERTweet\n",
    "vader_counts = chan4_posts['sentiment'].value_counts()\n",
    "bertweet_counts = chan4_posts['predicted_sentiment'].value_counts()\n",
    "\n",
    "# Create a bar chart\n",
    "labels = ['Negative', 'Positive']\n",
    "x = range(len(labels))\n",
    "\n",
    "plt.bar(x, vader_counts.sort_index(), width=0.4, label='Vader', align='center')\n",
    "plt.bar([i + 0.4 for i in x], bertweet_counts.sort_index(), width=0.4, label='BERTweet', align='center')\n",
    "\n",
    "plt.xticks([i + 0.2 for i in x], labels)\n",
    "plt.xlabel('Sentiment')\n",
    "plt.ylabel('Count')\n",
    "plt.title('Sentiment Distribution: Vader vs. BERTweet')\n",
    "plt.legend()\n",
    "plt.show()"
   ]
  },
  {
   "cell_type": "code",
   "execution_count": 45,
   "id": "666676b8",
   "metadata": {},
   "outputs": [
    {
     "data": {
      "image/png": "[encoded data removed]",
      "text/plain": [
       "<Figure size 640x480 with 2 Axes>"
      ]
     },
     "metadata": {},
     "output_type": "display_data"
    }
   ],
   "source": [
    "# Filter out rows with NaN values in 'sentiment' or 'predicted_sentiment'\n",
    "valid_rows = chan4_posts.dropna(subset=['sentiment', 'predicted_sentiment'])\n",
    "\n",
    "# Create a confusion matrix\n",
    "conf_matrix = confusion_matrix(valid_rows['sentiment'], valid_rows['predicted_sentiment'])\n",
    "\n",
    "# Plot the heatmap\n",
    "sns.heatmap(conf_matrix, annot=True, fmt='d', cmap='Blues', xticklabels=['Negative', 'Positive'], yticklabels=['Negative', 'Positive'])\n",
    "plt.xlabel('BERTweet Sentiment')\n",
    "plt.ylabel('Vader Sentiment')\n",
    "plt.title('Agreement Between Vader and BERTweet')\n",
    "plt.show()"
   ]
  },
  {
   "cell_type": "markdown",
   "id": "69560744",
   "metadata": {},
   "source": [
    "## EndChan"
   ]
  },
  {
   "cell_type": "code",
   "execution_count": 47,
   "id": "afeb3aee",
   "metadata": {},
   "outputs": [
    {
     "data": {
      "text/html": [
       "<div>\n",
       "<style scoped>\n",
       "    .dataframe tbody tr th:only-of-type {\n",
       "        vertical-align: middle;\n",
       "    }\n",
       "\n",
       "    .dataframe tbody tr th {\n",
       "        vertical-align: top;\n",
       "    }\n",
       "\n",
       "    .dataframe thead th {\n",
       "        text-align: right;\n",
       "    }\n",
       "</style>\n",
       "<table border=\"1\" class=\"dataframe\">\n",
       "  <thead>\n",
       "    <tr style=\"text-align: right;\">\n",
       "      <th></th>\n",
       "      <th>subpost_id</th>\n",
       "      <th>content</th>\n",
       "      <th>time</th>\n",
       "      <th>thread_id</th>\n",
       "      <th>sentiment</th>\n",
       "    </tr>\n",
       "  </thead>\n",
       "  <tbody>\n",
       "    <tr>\n",
       "      <th>0</th>\n",
       "      <td>91434</td>\n",
       "      <td>&gt;&gt;91417&gt;killed off most of the savage Natives ...</td>\n",
       "      <td>10/28/2023 (Sat) 08:22</td>\n",
       "      <td>91417</td>\n",
       "      <td>0</td>\n",
       "    </tr>\n",
       "    <tr>\n",
       "      <th>1</th>\n",
       "      <td>91435</td>\n",
       "      <td>Netanyahu's not a white boy. Nor is any Yidd. ...</td>\n",
       "      <td>10/28/2023 (Sat) 11:34</td>\n",
       "      <td>91417</td>\n",
       "      <td>1</td>\n",
       "    </tr>\n",
       "    <tr>\n",
       "      <th>2</th>\n",
       "      <td>91448</td>\n",
       "      <td>NaN</td>\n",
       "      <td>10/29/2023 (Sun) 14:19</td>\n",
       "      <td>91417</td>\n",
       "      <td>0</td>\n",
       "    </tr>\n",
       "    <tr>\n",
       "      <th>3</th>\n",
       "      <td>92023</td>\n",
       "      <td>Idk but it makes me want to pull my hair out. ...</td>\n",
       "      <td>12/26/2023 (Tue) 02:46</td>\n",
       "      <td>91417</td>\n",
       "      <td>1</td>\n",
       "    </tr>\n",
       "    <tr>\n",
       "      <th>4</th>\n",
       "      <td>92024</td>\n",
       "      <td>&gt;&gt;92023</td>\n",
       "      <td>12/26/2023 (Tue) 07:50</td>\n",
       "      <td>91417</td>\n",
       "      <td>0</td>\n",
       "    </tr>\n",
       "  </tbody>\n",
       "</table>\n",
       "</div>"
      ],
      "text/plain": [
       "   subpost_id                                            content  \\\n",
       "0       91434  >>91417>killed off most of the savage Natives ...   \n",
       "1       91435  Netanyahu's not a white boy. Nor is any Yidd. ...   \n",
       "2       91448                                                NaN   \n",
       "3       92023  Idk but it makes me want to pull my hair out. ...   \n",
       "4       92024                                            >>92023   \n",
       "\n",
       "                     time  thread_id  sentiment  \n",
       "0  10/28/2023 (Sat) 08:22      91417          0  \n",
       "1  10/28/2023 (Sat) 11:34      91417          1  \n",
       "2  10/29/2023 (Sun) 14:19      91417          0  \n",
       "3  12/26/2023 (Tue) 02:46      91417          1  \n",
       "4  12/26/2023 (Tue) 07:50      91417          0  "
      ]
     },
     "execution_count": 47,
     "metadata": {},
     "output_type": "execute_result"
    }
   ],
   "source": [
    "# Apply get_sentiment function\n",
    "endchan_posts['sentiment'] = endchan_posts['content'].apply(get_sentiment)\n",
    "endchan_posts.head(5)"
   ]
  },
  {
   "cell_type": "code",
   "execution_count": 48,
   "id": "eafd5b7f",
   "metadata": {},
   "outputs": [],
   "source": [
    "endchan_posts['tokenized'] = endchan_posts['content'].dropna().apply(lambda x: tokenizer.encode(x, return_tensors='pt', truncation=True, max_length=512))"
   ]
  },
  {
   "cell_type": "markdown",
   "id": "a050b439",
   "metadata": {},
   "source": [
    "This following cell takes 42 minutes to run."
   ]
  },
  {
   "cell_type": "code",
   "execution_count": 50,
   "id": "14ab4f5e",
   "metadata": {},
   "outputs": [],
   "source": [
    "endchan_posts['bertweet_features'] = endchan_posts['tokenized'].apply(lambda x: extract_features(x) if isinstance(x, torch.Tensor) else None)"
   ]
  },
  {
   "cell_type": "code",
   "execution_count": 51,
   "id": "12f5257f",
   "metadata": {},
   "outputs": [
    {
     "data": {
      "text/html": [
       "<div>\n",
       "<style scoped>\n",
       "    .dataframe tbody tr th:only-of-type {\n",
       "        vertical-align: middle;\n",
       "    }\n",
       "\n",
       "    .dataframe tbody tr th {\n",
       "        vertical-align: top;\n",
       "    }\n",
       "\n",
       "    .dataframe thead th {\n",
       "        text-align: right;\n",
       "    }\n",
       "</style>\n",
       "<table border=\"1\" class=\"dataframe\">\n",
       "  <thead>\n",
       "    <tr style=\"text-align: right;\">\n",
       "      <th></th>\n",
       "      <th>subpost_id</th>\n",
       "      <th>content</th>\n",
       "      <th>time</th>\n",
       "      <th>thread_id</th>\n",
       "      <th>sentiment</th>\n",
       "      <th>tokenized</th>\n",
       "      <th>bertweet_features</th>\n",
       "    </tr>\n",
       "  </thead>\n",
       "  <tbody>\n",
       "    <tr>\n",
       "      <th>0</th>\n",
       "      <td>91434</td>\n",
       "      <td>&gt;&gt;91417&gt;killed off most of the savage Natives ...</td>\n",
       "      <td>10/28/2023 (Sat) 08:22</td>\n",
       "      <td>91417</td>\n",
       "      <td>0</td>\n",
       "      <td>[[tensor(0), tensor(44226), tensor(466), tenso...</td>\n",
       "      <td>[-0.07602725, 0.14235811, -0.39104676, 0.00459...</td>\n",
       "    </tr>\n",
       "    <tr>\n",
       "      <th>1</th>\n",
       "      <td>91435</td>\n",
       "      <td>Netanyahu's not a white boy. Nor is any Yidd. ...</td>\n",
       "      <td>10/28/2023 (Sat) 11:34</td>\n",
       "      <td>91417</td>\n",
       "      <td>1</td>\n",
       "      <td>[[tensor(0), tensor(15721), tensor(46526), ten...</td>\n",
       "      <td>[-0.086535595, 0.14426668, -0.37721604, -0.021...</td>\n",
       "    </tr>\n",
       "    <tr>\n",
       "      <th>2</th>\n",
       "      <td>91448</td>\n",
       "      <td>NaN</td>\n",
       "      <td>10/29/2023 (Sun) 14:19</td>\n",
       "      <td>91417</td>\n",
       "      <td>0</td>\n",
       "      <td>NaN</td>\n",
       "      <td>None</td>\n",
       "    </tr>\n",
       "    <tr>\n",
       "      <th>3</th>\n",
       "      <td>92023</td>\n",
       "      <td>Idk but it makes me want to pull my hair out. ...</td>\n",
       "      <td>12/26/2023 (Tue) 02:46</td>\n",
       "      <td>91417</td>\n",
       "      <td>1</td>\n",
       "      <td>[[tensor(0), tensor(28081), tensor(330), tenso...</td>\n",
       "      <td>[-0.086770065, 0.124217115, -0.43025732, -0.05...</td>\n",
       "    </tr>\n",
       "    <tr>\n",
       "      <th>4</th>\n",
       "      <td>92024</td>\n",
       "      <td>&gt;&gt;92023</td>\n",
       "      <td>12/26/2023 (Tue) 07:50</td>\n",
       "      <td>91417</td>\n",
       "      <td>0</td>\n",
       "      <td>[[tensor(0), tensor(44226), tensor(29099), ten...</td>\n",
       "      <td>[-0.11015359, -0.42664695, -0.48898965, -0.200...</td>\n",
       "    </tr>\n",
       "  </tbody>\n",
       "</table>\n",
       "</div>"
      ],
      "text/plain": [
       "   subpost_id                                            content  \\\n",
       "0       91434  >>91417>killed off most of the savage Natives ...   \n",
       "1       91435  Netanyahu's not a white boy. Nor is any Yidd. ...   \n",
       "2       91448                                                NaN   \n",
       "3       92023  Idk but it makes me want to pull my hair out. ...   \n",
       "4       92024                                            >>92023   \n",
       "\n",
       "                     time  thread_id  sentiment  \\\n",
       "0  10/28/2023 (Sat) 08:22      91417          0   \n",
       "1  10/28/2023 (Sat) 11:34      91417          1   \n",
       "2  10/29/2023 (Sun) 14:19      91417          0   \n",
       "3  12/26/2023 (Tue) 02:46      91417          1   \n",
       "4  12/26/2023 (Tue) 07:50      91417          0   \n",
       "\n",
       "                                           tokenized  \\\n",
       "0  [[tensor(0), tensor(44226), tensor(466), tenso...   \n",
       "1  [[tensor(0), tensor(15721), tensor(46526), ten...   \n",
       "2                                                NaN   \n",
       "3  [[tensor(0), tensor(28081), tensor(330), tenso...   \n",
       "4  [[tensor(0), tensor(44226), tensor(29099), ten...   \n",
       "\n",
       "                                   bertweet_features  \n",
       "0  [-0.07602725, 0.14235811, -0.39104676, 0.00459...  \n",
       "1  [-0.086535595, 0.14426668, -0.37721604, -0.021...  \n",
       "2                                               None  \n",
       "3  [-0.086770065, 0.124217115, -0.43025732, -0.05...  \n",
       "4  [-0.11015359, -0.42664695, -0.48898965, -0.200...  "
      ]
     },
     "execution_count": 51,
     "metadata": {},
     "output_type": "execute_result"
    }
   ],
   "source": [
    "# Display the updated DataFrame\n",
    "endchan_posts.head()"
   ]
  },
  {
   "cell_type": "code",
   "execution_count": 52,
   "id": "9cd478f9",
   "metadata": {},
   "outputs": [
    {
     "name": "stdout",
     "output_type": "stream",
     "text": [
      "              precision    recall  f1-score   support\n",
      "\n",
      "           0       0.71      0.57      0.63       315\n",
      "           1       0.84      0.91      0.87       800\n",
      "\n",
      "    accuracy                           0.81      1115\n",
      "   macro avg       0.78      0.74      0.75      1115\n",
      "weighted avg       0.81      0.81      0.81      1115\n",
      "\n"
     ]
    }
   ],
   "source": [
    "# Ensure bertweet_features and sentiment are aligned and drop rows with NaN in either column\n",
    "valid_rows = endchan_posts.dropna(subset=['bertweet_features', 'sentiment'])\n",
    "\n",
    "# Extract features and labels\n",
    "X = np.array(valid_rows['bertweet_features'].tolist())  # Feature vectors\n",
    "y = valid_rows['sentiment']  # Sentiment labels (e.g., 0 for negative, 1 for positive)\n",
    "\n",
    "# Split data into training and testing sets\n",
    "X_train, X_test, y_train, y_test = train_test_split(X, y, test_size=0.2, random_state=42)\n",
    "\n",
    "# Train a Random Forest Classifier (or any other model)\n",
    "clf = RandomForestClassifier(random_state=42)\n",
    "clf.fit(X_train, y_train)\n",
    "\n",
    "# Predict sentiment on the test set\n",
    "y_pred = clf.predict(X_test)\n",
    "\n",
    "# Evaluate the model\n",
    "print(classification_report(y_test, y_pred))\n",
    "\n",
    "# Predict sentiment for new data\n",
    "# Ensure all feature vectors are valid and have the same length\n",
    "valid_features = endchan_posts['bertweet_features'].dropna().apply(lambda x: x if isinstance(x, np.ndarray) and x.ndim == 1 else None)\n",
    "valid_features = valid_features.dropna()\n",
    "\n",
    "# Predict sentiment for new data\n",
    "endchan_posts.loc[valid_features.index, 'predicted_sentiment'] = clf.predict(np.array(valid_features.tolist()))"
   ]
  },
  {
   "cell_type": "code",
   "execution_count": 53,
   "id": "a3d6dc7d",
   "metadata": {},
   "outputs": [
    {
     "name": "stdout",
     "output_type": "stream",
     "text": [
      "Percentage of matching results: 89.18%\n"
     ]
    }
   ],
   "source": [
    "# Compare Vader sentiment with BERTweet sentiment\n",
    "comparison = endchan_posts[['sentiment', 'predicted_sentiment']]\n",
    "comparison['match'] = comparison['sentiment'] == comparison['predicted_sentiment']\n",
    "\n",
    "# Calculate the percentage of matching results\n",
    "match_percentage = comparison['match'].mean() * 100\n",
    "print(f\"Percentage of matching results: {match_percentage:.2f}%\")"
   ]
  },
  {
   "cell_type": "code",
   "execution_count": 54,
   "id": "e0ac50e0",
   "metadata": {},
   "outputs": [
    {
     "data": {
      "image/png": "[encoded data removed]",
      "text/plain": [
       "<Figure size 640x480 with 1 Axes>"
      ]
     },
     "metadata": {},
     "output_type": "display_data"
    }
   ],
   "source": [
    "# Count sentiment values for Vader and BERTweet\n",
    "vader_counts = endchan_posts['sentiment'].value_counts()\n",
    "bertweet_counts = endchan_posts['predicted_sentiment'].value_counts()\n",
    "\n",
    "# Create a bar chart\n",
    "labels = ['Negative', 'Positive']\n",
    "x = range(len(labels))\n",
    "\n",
    "plt.bar(x, vader_counts.sort_index(), width=0.4, label='Vader', align='center')\n",
    "plt.bar([i + 0.4 for i in x], bertweet_counts.sort_index(), width=0.4, label='BERTweet', align='center')\n",
    "\n",
    "plt.xticks([i + 0.2 for i in x], labels)\n",
    "plt.xlabel('Sentiment')\n",
    "plt.ylabel('Count')\n",
    "plt.title('Sentiment Distribution: Vader vs. BERTweet')\n",
    "plt.legend()\n",
    "plt.show()"
   ]
  },
  {
   "cell_type": "code",
   "execution_count": 55,
   "id": "4328f32d",
   "metadata": {},
   "outputs": [
    {
     "data": {
      "image/png": "[encoded data removed]",
      "text/plain": [
       "<Figure size 640x480 with 2 Axes>"
      ]
     },
     "metadata": {},
     "output_type": "display_data"
    }
   ],
   "source": [
    "# Filter out rows with NaN values in 'sentiment' or 'predicted_sentiment'\n",
    "valid_rows = endchan_posts.dropna(subset=['sentiment', 'predicted_sentiment'])\n",
    "\n",
    "# Create a confusion matrix\n",
    "conf_matrix = confusion_matrix(valid_rows['sentiment'], valid_rows['predicted_sentiment'])\n",
    "\n",
    "# Plot the heatmap\n",
    "sns.heatmap(conf_matrix, annot=True, fmt='d', cmap='Blues', xticklabels=['Negative', 'Positive'], yticklabels=['Negative', 'Positive'])\n",
    "plt.xlabel('BERTweet Sentiment')\n",
    "plt.ylabel('Vader Sentiment')\n",
    "plt.title('Agreement Between Vader and BERTweet')\n",
    "plt.show()"
   ]
  },
  {
   "cell_type": "markdown",
   "id": "f42ad034",
   "metadata": {},
   "source": [
    "# Sentiment Analysis With NER"
   ]
  },
  {
   "cell_type": "markdown",
   "id": "b25fe15f",
   "metadata": {},
   "source": [
    "## EndChan"
   ]
  },
  {
   "cell_type": "code",
   "execution_count": 62,
   "id": "1807dcfb",
   "metadata": {},
   "outputs": [
    {
     "data": {
      "text/html": [
       "<div>\n",
       "<style scoped>\n",
       "    .dataframe tbody tr th:only-of-type {\n",
       "        vertical-align: middle;\n",
       "    }\n",
       "\n",
       "    .dataframe tbody tr th {\n",
       "        vertical-align: top;\n",
       "    }\n",
       "\n",
       "    .dataframe thead th {\n",
       "        text-align: right;\n",
       "    }\n",
       "</style>\n",
       "<table border=\"1\" class=\"dataframe\">\n",
       "  <thead>\n",
       "    <tr style=\"text-align: right;\">\n",
       "      <th></th>\n",
       "      <th>content</th>\n",
       "      <th>entities</th>\n",
       "    </tr>\n",
       "  </thead>\n",
       "  <tbody>\n",
       "    <tr>\n",
       "      <th>0</th>\n",
       "      <td>&gt;&gt;91417&gt;killed off most of the savage Natives ...</td>\n",
       "      <td>[(America.*beat, GPE), (British, NORP), (Japan...</td>\n",
       "    </tr>\n",
       "    <tr>\n",
       "      <th>1</th>\n",
       "      <td>Netanyahu's not a white boy. Nor is any Yidd. ...</td>\n",
       "      <td>[(Netanyahu, PERSON), (British, NORP), (Japane...</td>\n",
       "    </tr>\n",
       "    <tr>\n",
       "      <th>2</th>\n",
       "      <td>NaN</td>\n",
       "      <td>None</td>\n",
       "    </tr>\n",
       "    <tr>\n",
       "      <th>3</th>\n",
       "      <td>Idk but it makes me want to pull my hair out. ...</td>\n",
       "      <td>[(Idk, PERSON), (six, CARDINAL), (million, CAR...</td>\n",
       "    </tr>\n",
       "    <tr>\n",
       "      <th>4</th>\n",
       "      <td>&gt;&gt;92023</td>\n",
       "      <td>[(92023, CARDINAL)]</td>\n",
       "    </tr>\n",
       "  </tbody>\n",
       "</table>\n",
       "</div>"
      ],
      "text/plain": [
       "                                             content  \\\n",
       "0  >>91417>killed off most of the savage Natives ...   \n",
       "1  Netanyahu's not a white boy. Nor is any Yidd. ...   \n",
       "2                                                NaN   \n",
       "3  Idk but it makes me want to pull my hair out. ...   \n",
       "4                                            >>92023   \n",
       "\n",
       "                                            entities  \n",
       "0  [(America.*beat, GPE), (British, NORP), (Japan...  \n",
       "1  [(Netanyahu, PERSON), (British, NORP), (Japane...  \n",
       "2                                               None  \n",
       "3  [(Idk, PERSON), (six, CARDINAL), (million, CAR...  \n",
       "4                                [(92023, CARDINAL)]  "
      ]
     },
     "execution_count": 62,
     "metadata": {},
     "output_type": "execute_result"
    }
   ],
   "source": [
    "# Install and load spaCy's pre-trained NER model\n",
    "nlp = spacy.load(\"en_core_web_sm\")\n",
    "\n",
    "# Function to extract entities\n",
    "def extract_entities(text):\n",
    "    doc = nlp(text)\n",
    "    entities = [(ent.text, ent.label_) for ent in doc.ents]\n",
    "    return entities\n",
    "\n",
    "# Example usage\n",
    "endchan_posts['entities'] = endchan_posts['content'].apply(lambda x: extract_entities(x) if isinstance(x, str) else None)\n",
    "endchan_posts[['content', 'entities']].head()"
   ]
  },
  {
   "cell_type": "code",
   "execution_count": 63,
   "id": "df9981ce",
   "metadata": {},
   "outputs": [
    {
     "data": {
      "text/html": [
       "<div>\n",
       "<style scoped>\n",
       "    .dataframe tbody tr th:only-of-type {\n",
       "        vertical-align: middle;\n",
       "    }\n",
       "\n",
       "    .dataframe tbody tr th {\n",
       "        vertical-align: top;\n",
       "    }\n",
       "\n",
       "    .dataframe thead th {\n",
       "        text-align: right;\n",
       "    }\n",
       "</style>\n",
       "<table border=\"1\" class=\"dataframe\">\n",
       "  <thead>\n",
       "    <tr style=\"text-align: right;\">\n",
       "      <th></th>\n",
       "      <th>content</th>\n",
       "      <th>entity_sentiments</th>\n",
       "    </tr>\n",
       "  </thead>\n",
       "  <tbody>\n",
       "    <tr>\n",
       "      <th>0</th>\n",
       "      <td>&gt;&gt;91417&gt;killed off most of the savage Natives ...</td>\n",
       "      <td>{'America.*beat': -0.5046, 'British': -0.4588,...</td>\n",
       "    </tr>\n",
       "    <tr>\n",
       "      <th>1</th>\n",
       "      <td>Netanyahu's not a white boy. Nor is any Yidd. ...</td>\n",
       "      <td>{'Netanyahu': -0.6249, 'British': -0.3612, 'Ja...</td>\n",
       "    </tr>\n",
       "    <tr>\n",
       "      <th>2</th>\n",
       "      <td>NaN</td>\n",
       "      <td>None</td>\n",
       "    </tr>\n",
       "    <tr>\n",
       "      <th>3</th>\n",
       "      <td>Idk but it makes me want to pull my hair out. ...</td>\n",
       "      <td>{'Idk': 0.0644, 'six': 0.0772, 'million': 0.07...</td>\n",
       "    </tr>\n",
       "    <tr>\n",
       "      <th>4</th>\n",
       "      <td>&gt;&gt;92023</td>\n",
       "      <td>{'92023': 0.0}</td>\n",
       "    </tr>\n",
       "  </tbody>\n",
       "</table>\n",
       "</div>"
      ],
      "text/plain": [
       "                                             content  \\\n",
       "0  >>91417>killed off most of the savage Natives ...   \n",
       "1  Netanyahu's not a white boy. Nor is any Yidd. ...   \n",
       "2                                                NaN   \n",
       "3  Idk but it makes me want to pull my hair out. ...   \n",
       "4                                            >>92023   \n",
       "\n",
       "                                   entity_sentiments  \n",
       "0  {'America.*beat': -0.5046, 'British': -0.4588,...  \n",
       "1  {'Netanyahu': -0.6249, 'British': -0.3612, 'Ja...  \n",
       "2                                               None  \n",
       "3  {'Idk': 0.0644, 'six': 0.0772, 'million': 0.07...  \n",
       "4                                     {'92023': 0.0}  "
      ]
     },
     "execution_count": 63,
     "metadata": {},
     "output_type": "execute_result"
    }
   ],
   "source": [
    "# Function to get sentiment for each entity\n",
    "def entity_sentiment(text):\n",
    "    doc = nlp(text)\n",
    "    entity_sentiments = {}\n",
    "    for ent in doc.ents:\n",
    "        # Extract the surrounding context for the entity\n",
    "        context = text[max(0, ent.start_char - 50):ent.end_char + 50]\n",
    "        # Get sentiment for the context\n",
    "        sentiment_score = analyzer.polarity_scores(context)['compound']\n",
    "        entity_sentiments[ent.text] = sentiment_score\n",
    "    return entity_sentiments\n",
    "\n",
    "# Apply entity sentiment analysis\n",
    "endchan_posts['entity_sentiments'] = endchan_posts['content'].apply(lambda x: entity_sentiment(x) if isinstance(x, str) else None)\n",
    "endchan_posts[['content', 'entity_sentiments']].head()"
   ]
  },
  {
   "cell_type": "code",
   "execution_count": 82,
   "id": "9c429d74",
   "metadata": {},
   "outputs": [
    {
     "data": {
      "image/png": "[encoded data removed]",
      "text/plain": [
       "<Figure size 1200x800 with 1 Axes>"
      ]
     },
     "metadata": {},
     "output_type": "display_data"
    }
   ],
   "source": [
    "# Flatten entity sentiments into a list of tuples (entity, sentiment)\n",
    "entity_sentiments = []\n",
    "for entity_dict in endchan_posts['entity_sentiments'].dropna():\n",
    "    for entity, sentiment in entity_dict.items():\n",
    "        # Classify sentiment as negative, neutral, or positive\n",
    "        sentiment_category = (\n",
    "            'Negative' if sentiment < -0.05 else\n",
    "            'Positive' if sentiment > 0.05 else\n",
    "            'Neutral'\n",
    "        )\n",
    "        entity_sentiments.append((entity, sentiment_category))\n",
    "\n",
    "# Create a DataFrame for entity sentiments\n",
    "entity_df = pd.DataFrame(entity_sentiments, columns=['Entity', 'Sentiment'])\n",
    "\n",
    "# Truncate entity names to a maximum length for readability\n",
    "entity_df['Entity'] = entity_df['Entity'].apply(lambda x: x[:20] + '...' if len(x) > 20 else x)\n",
    "\n",
    "# Count sentiment categories per entity\n",
    "sentiment_counts = entity_df.groupby(['Entity', 'Sentiment']).size().unstack(fill_value=0)\n",
    "\n",
    "# Normalize counts to percentages\n",
    "sentiment_percentages = sentiment_counts.div(sentiment_counts.sum(axis=1), axis=0) * 100\n",
    "\n",
    "# Select the top 10 entities with the most sentiment data\n",
    "top_entities = sentiment_counts.sum(axis=1).nlargest(50).index\n",
    "top_sentiment_percentages = sentiment_percentages.loc[top_entities]\n",
    "\n",
    "# Plot the bar chart\n",
    "top_sentiment_percentages.plot(kind='barh', stacked=True, figsize=(12, 8), color=['red', 'gray', 'limegreen'])\n",
    "plt.xlabel('Percentage')\n",
    "plt.ylabel('Entity')\n",
    "plt.title('Sentiment Distribution per Entity (Percentage)')\n",
    "plt.legend(title='Sentiment', loc='upper right')\n",
    "plt.tight_layout()\n",
    "plt.show()"
   ]
  }
 ],
 "metadata": {
  "kernelspec": {
   "display_name": ".venv",
   "language": "python",
   "name": "python3"
  },
  "language_info": {
   "codemirror_mode": {
    "name": "ipython",
    "version": 3
   },
   "file_extension": ".py",
   "mimetype": "text/x-python",
   "name": "python",
   "nbconvert_exporter": "python",
   "pygments_lexer": "ipython3",
   "version": "3.11.0"
  }
 },
 "nbformat": 4,
 "nbformat_minor": 5
}
