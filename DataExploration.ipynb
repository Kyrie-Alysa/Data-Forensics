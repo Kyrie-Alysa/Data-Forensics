{
 "cells": [
  {
   "cell_type": "code",
   "execution_count": 1,
   "id": "e56a1896",
   "metadata": {},
   "outputs": [],
   "source": [
    "import pandas as pd\n",
    "\n",
    "import nltk\n",
    "from nltk.corpus import stopwords\n",
    "import re\n",
    "\n",
    "from sklearn.feature_extraction.text import CountVectorizer\n",
    "from sklearn.decomposition import LatentDirichletAllocation\n"
   ]
  },
  {
   "cell_type": "code",
   "execution_count": 3,
   "id": "2e327faa",
   "metadata": {},
   "outputs": [],
   "source": [
    "posts_path = '4chan/output/posts.csv'\n",
    "threads_path = '4chan/output/threads.csv'\n",
    "\n",
    "chan4_posts = pd.read_csv(posts_path)\n",
    "chan4_threads = pd.read_csv(threads_path)\n",
    "\n",
    "posts_end_path  = 'endchan V2/output/posts.csv'\n",
    "threads_end_path = 'endchan V2/output/threads.csv'\n",
    "\n",
    "endchan_posts = pd.read_csv(posts_end_path)\n",
    "endchan_threads = pd.read_csv(threads_end_path)"
   ]
  },
  {
   "cell_type": "code",
   "execution_count": 4,
   "id": "49a64b61",
   "metadata": {},
   "outputs": [
    {
     "data": {
      "text/html": [
       "<div>\n",
       "<style scoped>\n",
       "    .dataframe tbody tr th:only-of-type {\n",
       "        vertical-align: middle;\n",
       "    }\n",
       "\n",
       "    .dataframe tbody tr th {\n",
       "        vertical-align: top;\n",
       "    }\n",
       "\n",
       "    .dataframe thead th {\n",
       "        text-align: right;\n",
       "    }\n",
       "</style>\n",
       "<table border=\"1\" class=\"dataframe\">\n",
       "  <thead>\n",
       "    <tr style=\"text-align: right;\">\n",
       "      <th></th>\n",
       "      <th>subpost_id</th>\n",
       "      <th>content</th>\n",
       "      <th>time</th>\n",
       "      <th>thread_id</th>\n",
       "    </tr>\n",
       "  </thead>\n",
       "  <tbody>\n",
       "    <tr>\n",
       "      <th>0</th>\n",
       "      <td>p501099183</td>\n",
       "      <td>&gt;&gt;501098958 (OP)I used an anal egg to make me ...</td>\n",
       "      <td>03/21/25(Fri)13:43:02No.501099183</td>\n",
       "      <td>p501098958</td>\n",
       "    </tr>\n",
       "    <tr>\n",
       "      <th>1</th>\n",
       "      <td>p501099437</td>\n",
       "      <td>corporate farming was a mistakepicrel is the c...</td>\n",
       "      <td>03/21/25(Fri)13:46:36No.501099437</td>\n",
       "      <td>p501098958</td>\n",
       "    </tr>\n",
       "    <tr>\n",
       "      <th>2</th>\n",
       "      <td>p501100092</td>\n",
       "      <td>&gt;&gt;501098958 (OP)Almost like the old administra...</td>\n",
       "      <td>03/21/25(Fri)13:55:59No.501100092</td>\n",
       "      <td>p501098958</td>\n",
       "    </tr>\n",
       "    <tr>\n",
       "      <th>3</th>\n",
       "      <td>p501100224</td>\n",
       "      <td>&gt;&gt;501100092Trump started the fake pandemic, st...</td>\n",
       "      <td>03/21/25(Fri)13:57:44No.501100224</td>\n",
       "      <td>p501098958</td>\n",
       "    </tr>\n",
       "    <tr>\n",
       "      <th>4</th>\n",
       "      <td>p501101758</td>\n",
       "      <td>&gt;&gt;501098958 (OP)&gt;what did americans mean by th...</td>\n",
       "      <td>03/21/25(Fri)14:17:04No.501101758</td>\n",
       "      <td>p501098958</td>\n",
       "    </tr>\n",
       "  </tbody>\n",
       "</table>\n",
       "</div>"
      ],
      "text/plain": [
       "   subpost_id                                            content  \\\n",
       "0  p501099183  >>501098958 (OP)I used an anal egg to make me ...   \n",
       "1  p501099437  corporate farming was a mistakepicrel is the c...   \n",
       "2  p501100092  >>501098958 (OP)Almost like the old administra...   \n",
       "3  p501100224  >>501100092Trump started the fake pandemic, st...   \n",
       "4  p501101758  >>501098958 (OP)>what did americans mean by th...   \n",
       "\n",
       "                                time   thread_id  \n",
       "0  03/21/25(Fri)13:43:02No.501099183  p501098958  \n",
       "1  03/21/25(Fri)13:46:36No.501099437  p501098958  \n",
       "2  03/21/25(Fri)13:55:59No.501100092  p501098958  \n",
       "3  03/21/25(Fri)13:57:44No.501100224  p501098958  \n",
       "4  03/21/25(Fri)14:17:04No.501101758  p501098958  "
      ]
     },
     "execution_count": 4,
     "metadata": {},
     "output_type": "execute_result"
    }
   ],
   "source": [
    "chan4_posts.head(5)\n",
    "# 40459 x 4"
   ]
  },
  {
   "cell_type": "code",
   "execution_count": 5,
   "id": "66789e2c",
   "metadata": {},
   "outputs": [
    {
     "data": {
      "text/html": [
       "<div>\n",
       "<style scoped>\n",
       "    .dataframe tbody tr th:only-of-type {\n",
       "        vertical-align: middle;\n",
       "    }\n",
       "\n",
       "    .dataframe tbody tr th {\n",
       "        vertical-align: top;\n",
       "    }\n",
       "\n",
       "    .dataframe thead th {\n",
       "        text-align: right;\n",
       "    }\n",
       "</style>\n",
       "<table border=\"1\" class=\"dataframe\">\n",
       "  <thead>\n",
       "    <tr style=\"text-align: right;\">\n",
       "      <th></th>\n",
       "      <th>thread_id</th>\n",
       "      <th>thread_text</th>\n",
       "      <th>time</th>\n",
       "    </tr>\n",
       "  </thead>\n",
       "  <tbody>\n",
       "    <tr>\n",
       "      <th>0</th>\n",
       "      <td>p501098958</td>\n",
       "      <td>&gt;kill all of our domestic chickens because fak...</td>\n",
       "      <td>03/21/25(Fri)13:40:04No.501098958</td>\n",
       "    </tr>\n",
       "    <tr>\n",
       "      <th>1</th>\n",
       "      <td>p501104660</td>\n",
       "      <td>Denmark is the best country in Europe and I'm ...</td>\n",
       "      <td>03/21/25(Fri)14:53:50No.501104660</td>\n",
       "    </tr>\n",
       "    <tr>\n",
       "      <th>2</th>\n",
       "      <td>p501098958</td>\n",
       "      <td>&gt;kill all of our domestic chickens because fak...</td>\n",
       "      <td>03/21/25(Fri)13:40:04No.501098958</td>\n",
       "    </tr>\n",
       "    <tr>\n",
       "      <th>3</th>\n",
       "      <td>p501101640</td>\n",
       "      <td>NaN</td>\n",
       "      <td>03/21/25(Fri)14:15:39No.501101640</td>\n",
       "    </tr>\n",
       "    <tr>\n",
       "      <th>4</th>\n",
       "      <td>p501099426</td>\n",
       "      <td>You can't be racist and pagan.You can't be pro...</td>\n",
       "      <td>03/21/25(Fri)13:46:30No.501099426</td>\n",
       "    </tr>\n",
       "  </tbody>\n",
       "</table>\n",
       "</div>"
      ],
      "text/plain": [
       "    thread_id                                        thread_text  \\\n",
       "0  p501098958  >kill all of our domestic chickens because fak...   \n",
       "1  p501104660  Denmark is the best country in Europe and I'm ...   \n",
       "2  p501098958  >kill all of our domestic chickens because fak...   \n",
       "3  p501101640                                                NaN   \n",
       "4  p501099426  You can't be racist and pagan.You can't be pro...   \n",
       "\n",
       "                                time  \n",
       "0  03/21/25(Fri)13:40:04No.501098958  \n",
       "1  03/21/25(Fri)14:53:50No.501104660  \n",
       "2  03/21/25(Fri)13:40:04No.501098958  \n",
       "3  03/21/25(Fri)14:15:39No.501101640  \n",
       "4  03/21/25(Fri)13:46:30No.501099426  "
      ]
     },
     "execution_count": 5,
     "metadata": {},
     "output_type": "execute_result"
    }
   ],
   "source": [
    "chan4_threads.head(5)\n",
    "# 470 x 6"
   ]
  },
  {
   "cell_type": "markdown",
   "id": "73d01d70",
   "metadata": {},
   "source": [
    "Already noticing the time is off, so will have to clean this up"
   ]
  },
  {
   "cell_type": "code",
   "execution_count": 6,
   "id": "174a9ee3",
   "metadata": {},
   "outputs": [
    {
     "data": {
      "text/html": [
       "<div>\n",
       "<style scoped>\n",
       "    .dataframe tbody tr th:only-of-type {\n",
       "        vertical-align: middle;\n",
       "    }\n",
       "\n",
       "    .dataframe tbody tr th {\n",
       "        vertical-align: top;\n",
       "    }\n",
       "\n",
       "    .dataframe thead th {\n",
       "        text-align: right;\n",
       "    }\n",
       "</style>\n",
       "<table border=\"1\" class=\"dataframe\">\n",
       "  <thead>\n",
       "    <tr style=\"text-align: right;\">\n",
       "      <th></th>\n",
       "      <th>subpost_id</th>\n",
       "      <th>content</th>\n",
       "      <th>time</th>\n",
       "      <th>thread_id</th>\n",
       "    </tr>\n",
       "  </thead>\n",
       "  <tbody>\n",
       "    <tr>\n",
       "      <th>0</th>\n",
       "      <td>91434</td>\n",
       "      <td>&gt;&gt;91417&gt;killed off most of the savage Natives ...</td>\n",
       "      <td>10/28/2023 (Sat) 08:22</td>\n",
       "      <td>91417</td>\n",
       "    </tr>\n",
       "    <tr>\n",
       "      <th>1</th>\n",
       "      <td>91435</td>\n",
       "      <td>Netanyahu's not a white boy. Nor is any Yidd. ...</td>\n",
       "      <td>10/28/2023 (Sat) 11:34</td>\n",
       "      <td>91417</td>\n",
       "    </tr>\n",
       "    <tr>\n",
       "      <th>2</th>\n",
       "      <td>91448</td>\n",
       "      <td>NaN</td>\n",
       "      <td>10/29/2023 (Sun) 14:19</td>\n",
       "      <td>91417</td>\n",
       "    </tr>\n",
       "    <tr>\n",
       "      <th>3</th>\n",
       "      <td>92023</td>\n",
       "      <td>Idk but it makes me want to pull my hair out. ...</td>\n",
       "      <td>12/26/2023 (Tue) 02:46</td>\n",
       "      <td>91417</td>\n",
       "    </tr>\n",
       "    <tr>\n",
       "      <th>4</th>\n",
       "      <td>92024</td>\n",
       "      <td>&gt;&gt;92023</td>\n",
       "      <td>12/26/2023 (Tue) 07:50</td>\n",
       "      <td>91417</td>\n",
       "    </tr>\n",
       "  </tbody>\n",
       "</table>\n",
       "</div>"
      ],
      "text/plain": [
       "   subpost_id                                            content  \\\n",
       "0       91434  >>91417>killed off most of the savage Natives ...   \n",
       "1       91435  Netanyahu's not a white boy. Nor is any Yidd. ...   \n",
       "2       91448                                                NaN   \n",
       "3       92023  Idk but it makes me want to pull my hair out. ...   \n",
       "4       92024                                            >>92023   \n",
       "\n",
       "                     time  thread_id  \n",
       "0  10/28/2023 (Sat) 08:22      91417  \n",
       "1  10/28/2023 (Sat) 11:34      91417  \n",
       "2  10/29/2023 (Sun) 14:19      91417  \n",
       "3  12/26/2023 (Tue) 02:46      91417  \n",
       "4  12/26/2023 (Tue) 07:50      91417  "
      ]
     },
     "execution_count": 6,
     "metadata": {},
     "output_type": "execute_result"
    }
   ],
   "source": [
    "endchan_posts.head(5)\n",
    "# 6014 x 4"
   ]
  },
  {
   "cell_type": "code",
   "execution_count": 7,
   "id": "3028c0f4",
   "metadata": {},
   "outputs": [
    {
     "data": {
      "text/html": [
       "<div>\n",
       "<style scoped>\n",
       "    .dataframe tbody tr th:only-of-type {\n",
       "        vertical-align: middle;\n",
       "    }\n",
       "\n",
       "    .dataframe tbody tr th {\n",
       "        vertical-align: top;\n",
       "    }\n",
       "\n",
       "    .dataframe thead th {\n",
       "        text-align: right;\n",
       "    }\n",
       "</style>\n",
       "<table border=\"1\" class=\"dataframe\">\n",
       "  <thead>\n",
       "    <tr style=\"text-align: right;\">\n",
       "      <th></th>\n",
       "      <th>thread_id</th>\n",
       "      <th>thread_text</th>\n",
       "      <th>time</th>\n",
       "    </tr>\n",
       "  </thead>\n",
       "  <tbody>\n",
       "    <tr>\n",
       "      <th>0</th>\n",
       "      <td>91417</td>\n",
       "      <td>What's wrong with all of you poor, pathetic, s...</td>\n",
       "      <td>10/27/2023 (Fri) 15:50</td>\n",
       "    </tr>\n",
       "    <tr>\n",
       "      <th>1</th>\n",
       "      <td>95327</td>\n",
       "      <td>1) disable or heavily damage the kike propagan...</td>\n",
       "      <td>12/08/2024 (Sun) 23:36</td>\n",
       "    </tr>\n",
       "    <tr>\n",
       "      <th>2</th>\n",
       "      <td>93932</td>\n",
       "      <td>They like to call Jerry Seinfeld a “funnyman” ...</td>\n",
       "      <td>06/15/2024 (Sat) 11:36</td>\n",
       "    </tr>\n",
       "    <tr>\n",
       "      <th>3</th>\n",
       "      <td>90261</td>\n",
       "      <td>The Natashas 2003.https://www.scribd.com/docum...</td>\n",
       "      <td>04/14/2023 (Fri) 02:05</td>\n",
       "    </tr>\n",
       "    <tr>\n",
       "      <th>4</th>\n",
       "      <td>94806</td>\n",
       "      <td>Hello from soyjak.party.gemmy board</td>\n",
       "      <td>09/28/2024 (Sat) 02:57</td>\n",
       "    </tr>\n",
       "  </tbody>\n",
       "</table>\n",
       "</div>"
      ],
      "text/plain": [
       "   thread_id                                        thread_text  \\\n",
       "0      91417  What's wrong with all of you poor, pathetic, s...   \n",
       "1      95327  1) disable or heavily damage the kike propagan...   \n",
       "2      93932  They like to call Jerry Seinfeld a “funnyman” ...   \n",
       "3      90261  The Natashas 2003.https://www.scribd.com/docum...   \n",
       "4      94806                Hello from soyjak.party.gemmy board   \n",
       "\n",
       "                     time  \n",
       "0  10/27/2023 (Fri) 15:50  \n",
       "1  12/08/2024 (Sun) 23:36  \n",
       "2  06/15/2024 (Sat) 11:36  \n",
       "3  04/14/2023 (Fri) 02:05  \n",
       "4  09/28/2024 (Sat) 02:57  "
      ]
     },
     "execution_count": 7,
     "metadata": {},
     "output_type": "execute_result"
    }
   ],
   "source": [
    "endchan_threads.head(5)\n",
    "# 135 x 3"
   ]
  },
  {
   "cell_type": "markdown",
   "id": "23775413",
   "metadata": {},
   "source": [
    "# Topic modeling with 4chan data"
   ]
  },
  {
   "cell_type": "markdown",
   "id": "9e27e004",
   "metadata": {},
   "source": [
    "Thread is the main post, posts is the comments underneath one thread <br>\n",
    "Topics across one thread should be the same, as the thread decides the topic. Therefore, it is most logical to use threads to do topic modeling."
   ]
  },
  {
   "cell_type": "code",
   "execution_count": 8,
   "id": "7fbe93ad",
   "metadata": {},
   "outputs": [],
   "source": [
    "# Cleaning the time column of chan4_threads\n",
    "chan4_threads['time'] = chan4_threads['time'].str.split('No.').str[0]"
   ]
  },
  {
   "cell_type": "markdown",
   "id": "e41b9685",
   "metadata": {},
   "source": [
    "## Basic topic modeling with regular libraries"
   ]
  },
  {
   "cell_type": "markdown",
   "id": "af2f3685",
   "metadata": {},
   "source": [
    "### NLTK and Scikit-Learn"
   ]
  },
  {
   "cell_type": "code",
   "execution_count": 9,
   "id": "a20e03bc",
   "metadata": {},
   "outputs": [],
   "source": [
    "my_stopwords = nltk.corpus.stopwords.words('english')\n",
    "word_rooter = nltk.stem.snowball.PorterStemmer(ignore_stopwords=False).stem\n",
    "my_punctuation = '!\"$%&\\'()*+,-./:;<=>?[\\\\]^_`{|}~•@'"
   ]
  },
  {
   "cell_type": "code",
   "execution_count": 10,
   "id": "82380281",
   "metadata": {},
   "outputs": [
    {
     "data": {
      "text/plain": [
       "0       kill domestic chickens fake pcr test said egg...\n",
       "1          denmark best country europe tired pretending \n",
       "2       kill domestic chickens fake pcr test said egg...\n",
       "3                                                       \n",
       "4      racist pagan pro white pagan pro christian pag...\n",
       "                             ...                        \n",
       "465     white east asian interbreeding le bad princip...\n",
       "466    docsits relevantisraeli nuclear program spotte...\n",
       "467    young white men across world turning fascism n...\n",
       "468    libs slated get majority  accelerationism answ...\n",
       "469     baltics   whitebaltics   white baltics   whit...\n",
       "Name: cleaned, Length: 470, dtype: object"
      ]
     },
     "execution_count": 10,
     "metadata": {},
     "output_type": "execute_result"
    }
   ],
   "source": [
    "# cleaning master function\n",
    "def clean_thread(thread, bigrams=False):\n",
    "    if not isinstance(thread, str):  # Handle non-string values\n",
    "        thread = ''\n",
    "    thread = thread.lower()  # lower case\n",
    "    thread = re.sub('[' + my_punctuation + ']+', ' ', thread)  # strip punctuation\n",
    "    # thread = re.sub('\\s+', ' ', thread)  # remove double spacing\n",
    "    thread = re.sub('([0-9]+)', '', thread)  # remove numbers\n",
    "    thread_token_list = [word for word in thread.split(' ')\n",
    "                         if word not in my_stopwords]  # remove stopwords\n",
    "\n",
    "    # thread_token_list = [word_rooter(word) if '#' not in word else word\n",
    "    #                      for word in thread_token_list]  # apply word rooter\n",
    "    if bigrams:\n",
    "        thread_token_list = thread_token_list + [thread_token_list[i] + '_' + thread_token_list[i + 1]\n",
    "                                                 for i in range(len(thread_token_list) - 1)]\n",
    "    thread = ' '.join(thread_token_list)\n",
    "    return thread\n",
    "\n",
    "\n",
    "chan4_threads['cleaned'] = chan4_threads['thread_text'].apply(clean_thread)\n",
    "chan4_threads['cleaned']"
   ]
  },
  {
   "cell_type": "code",
   "execution_count": 11,
   "id": "895324f3",
   "metadata": {},
   "outputs": [],
   "source": [
    "\n",
    "# the vectorizer object will be used to transform text to vector form\n",
    "vectorizer = CountVectorizer(max_df=0.9, min_df=25, token_pattern='\\w+|\\$[\\d\\.]+|\\S+')\n",
    "\n",
    "# apply transformation\n",
    "tf = vectorizer.fit_transform(chan4_threads['cleaned']).toarray()\n",
    "\n",
    "# tf_feature_names tells us what word each column in the matric represents\n",
    "tf_feature_names = vectorizer.get_feature_names_out()"
   ]
  },
  {
   "cell_type": "code",
   "execution_count": 12,
   "id": "fa8c407e",
   "metadata": {},
   "outputs": [
    {
     "data": {
      "text/html": [
       "<style>#sk-container-id-1 {\n",
       "  /* Definition of color scheme common for light and dark mode */\n",
       "  --sklearn-color-text: #000;\n",
       "  --sklearn-color-text-muted: #666;\n",
       "  --sklearn-color-line: gray;\n",
       "  /* Definition of color scheme for unfitted estimators */\n",
       "  --sklearn-color-unfitted-level-0: #fff5e6;\n",
       "  --sklearn-color-unfitted-level-1: #f6e4d2;\n",
       "  --sklearn-color-unfitted-level-2: #ffe0b3;\n",
       "  --sklearn-color-unfitted-level-3: chocolate;\n",
       "  /* Definition of color scheme for fitted estimators */\n",
       "  --sklearn-color-fitted-level-0: #f0f8ff;\n",
       "  --sklearn-color-fitted-level-1: #d4ebff;\n",
       "  --sklearn-color-fitted-level-2: #b3dbfd;\n",
       "  --sklearn-color-fitted-level-3: cornflowerblue;\n",
       "\n",
       "  /* Specific color for light theme */\n",
       "  --sklearn-color-text-on-default-background: var(--sg-text-color, var(--theme-code-foreground, var(--jp-content-font-color1, black)));\n",
       "  --sklearn-color-background: var(--sg-background-color, var(--theme-background, var(--jp-layout-color0, white)));\n",
       "  --sklearn-color-border-box: var(--sg-text-color, var(--theme-code-foreground, var(--jp-content-font-color1, black)));\n",
       "  --sklearn-color-icon: #696969;\n",
       "\n",
       "  @media (prefers-color-scheme: dark) {\n",
       "    /* Redefinition of color scheme for dark theme */\n",
       "    --sklearn-color-text-on-default-background: var(--sg-text-color, var(--theme-code-foreground, var(--jp-content-font-color1, white)));\n",
       "    --sklearn-color-background: var(--sg-background-color, var(--theme-background, var(--jp-layout-color0, #111)));\n",
       "    --sklearn-color-border-box: var(--sg-text-color, var(--theme-code-foreground, var(--jp-content-font-color1, white)));\n",
       "    --sklearn-color-icon: #878787;\n",
       "  }\n",
       "}\n",
       "\n",
       "#sk-container-id-1 {\n",
       "  color: var(--sklearn-color-text);\n",
       "}\n",
       "\n",
       "#sk-container-id-1 pre {\n",
       "  padding: 0;\n",
       "}\n",
       "\n",
       "#sk-container-id-1 input.sk-hidden--visually {\n",
       "  border: 0;\n",
       "  clip: rect(1px 1px 1px 1px);\n",
       "  clip: rect(1px, 1px, 1px, 1px);\n",
       "  height: 1px;\n",
       "  margin: -1px;\n",
       "  overflow: hidden;\n",
       "  padding: 0;\n",
       "  position: absolute;\n",
       "  width: 1px;\n",
       "}\n",
       "\n",
       "#sk-container-id-1 div.sk-dashed-wrapped {\n",
       "  border: 1px dashed var(--sklearn-color-line);\n",
       "  margin: 0 0.4em 0.5em 0.4em;\n",
       "  box-sizing: border-box;\n",
       "  padding-bottom: 0.4em;\n",
       "  background-color: var(--sklearn-color-background);\n",
       "}\n",
       "\n",
       "#sk-container-id-1 div.sk-container {\n",
       "  /* jupyter's `normalize.less` sets `[hidden] { display: none; }`\n",
       "     but bootstrap.min.css set `[hidden] { display: none !important; }`\n",
       "     so we also need the `!important` here to be able to override the\n",
       "     default hidden behavior on the sphinx rendered scikit-learn.org.\n",
       "     See: https://github.com/scikit-learn/scikit-learn/issues/21755 */\n",
       "  display: inline-block !important;\n",
       "  position: relative;\n",
       "}\n",
       "\n",
       "#sk-container-id-1 div.sk-text-repr-fallback {\n",
       "  display: none;\n",
       "}\n",
       "\n",
       "div.sk-parallel-item,\n",
       "div.sk-serial,\n",
       "div.sk-item {\n",
       "  /* draw centered vertical line to link estimators */\n",
       "  background-image: linear-gradient(var(--sklearn-color-text-on-default-background), var(--sklearn-color-text-on-default-background));\n",
       "  background-size: 2px 100%;\n",
       "  background-repeat: no-repeat;\n",
       "  background-position: center center;\n",
       "}\n",
       "\n",
       "/* Parallel-specific style estimator block */\n",
       "\n",
       "#sk-container-id-1 div.sk-parallel-item::after {\n",
       "  content: \"\";\n",
       "  width: 100%;\n",
       "  border-bottom: 2px solid var(--sklearn-color-text-on-default-background);\n",
       "  flex-grow: 1;\n",
       "}\n",
       "\n",
       "#sk-container-id-1 div.sk-parallel {\n",
       "  display: flex;\n",
       "  align-items: stretch;\n",
       "  justify-content: center;\n",
       "  background-color: var(--sklearn-color-background);\n",
       "  position: relative;\n",
       "}\n",
       "\n",
       "#sk-container-id-1 div.sk-parallel-item {\n",
       "  display: flex;\n",
       "  flex-direction: column;\n",
       "}\n",
       "\n",
       "#sk-container-id-1 div.sk-parallel-item:first-child::after {\n",
       "  align-self: flex-end;\n",
       "  width: 50%;\n",
       "}\n",
       "\n",
       "#sk-container-id-1 div.sk-parallel-item:last-child::after {\n",
       "  align-self: flex-start;\n",
       "  width: 50%;\n",
       "}\n",
       "\n",
       "#sk-container-id-1 div.sk-parallel-item:only-child::after {\n",
       "  width: 0;\n",
       "}\n",
       "\n",
       "/* Serial-specific style estimator block */\n",
       "\n",
       "#sk-container-id-1 div.sk-serial {\n",
       "  display: flex;\n",
       "  flex-direction: column;\n",
       "  align-items: center;\n",
       "  background-color: var(--sklearn-color-background);\n",
       "  padding-right: 1em;\n",
       "  padding-left: 1em;\n",
       "}\n",
       "\n",
       "\n",
       "/* Toggleable style: style used for estimator/Pipeline/ColumnTransformer box that is\n",
       "clickable and can be expanded/collapsed.\n",
       "- Pipeline and ColumnTransformer use this feature and define the default style\n",
       "- Estimators will overwrite some part of the style using the `sk-estimator` class\n",
       "*/\n",
       "\n",
       "/* Pipeline and ColumnTransformer style (default) */\n",
       "\n",
       "#sk-container-id-1 div.sk-toggleable {\n",
       "  /* Default theme specific background. It is overwritten whether we have a\n",
       "  specific estimator or a Pipeline/ColumnTransformer */\n",
       "  background-color: var(--sklearn-color-background);\n",
       "}\n",
       "\n",
       "/* Toggleable label */\n",
       "#sk-container-id-1 label.sk-toggleable__label {\n",
       "  cursor: pointer;\n",
       "  display: flex;\n",
       "  width: 100%;\n",
       "  margin-bottom: 0;\n",
       "  padding: 0.5em;\n",
       "  box-sizing: border-box;\n",
       "  text-align: center;\n",
       "  align-items: start;\n",
       "  justify-content: space-between;\n",
       "  gap: 0.5em;\n",
       "}\n",
       "\n",
       "#sk-container-id-1 label.sk-toggleable__label .caption {\n",
       "  font-size: 0.6rem;\n",
       "  font-weight: lighter;\n",
       "  color: var(--sklearn-color-text-muted);\n",
       "}\n",
       "\n",
       "#sk-container-id-1 label.sk-toggleable__label-arrow:before {\n",
       "  /* Arrow on the left of the label */\n",
       "  content: \"▸\";\n",
       "  float: left;\n",
       "  margin-right: 0.25em;\n",
       "  color: var(--sklearn-color-icon);\n",
       "}\n",
       "\n",
       "#sk-container-id-1 label.sk-toggleable__label-arrow:hover:before {\n",
       "  color: var(--sklearn-color-text);\n",
       "}\n",
       "\n",
       "/* Toggleable content - dropdown */\n",
       "\n",
       "#sk-container-id-1 div.sk-toggleable__content {\n",
       "  max-height: 0;\n",
       "  max-width: 0;\n",
       "  overflow: hidden;\n",
       "  text-align: left;\n",
       "  /* unfitted */\n",
       "  background-color: var(--sklearn-color-unfitted-level-0);\n",
       "}\n",
       "\n",
       "#sk-container-id-1 div.sk-toggleable__content.fitted {\n",
       "  /* fitted */\n",
       "  background-color: var(--sklearn-color-fitted-level-0);\n",
       "}\n",
       "\n",
       "#sk-container-id-1 div.sk-toggleable__content pre {\n",
       "  margin: 0.2em;\n",
       "  border-radius: 0.25em;\n",
       "  color: var(--sklearn-color-text);\n",
       "  /* unfitted */\n",
       "  background-color: var(--sklearn-color-unfitted-level-0);\n",
       "}\n",
       "\n",
       "#sk-container-id-1 div.sk-toggleable__content.fitted pre {\n",
       "  /* unfitted */\n",
       "  background-color: var(--sklearn-color-fitted-level-0);\n",
       "}\n",
       "\n",
       "#sk-container-id-1 input.sk-toggleable__control:checked~div.sk-toggleable__content {\n",
       "  /* Expand drop-down */\n",
       "  max-height: 200px;\n",
       "  max-width: 100%;\n",
       "  overflow: auto;\n",
       "}\n",
       "\n",
       "#sk-container-id-1 input.sk-toggleable__control:checked~label.sk-toggleable__label-arrow:before {\n",
       "  content: \"▾\";\n",
       "}\n",
       "\n",
       "/* Pipeline/ColumnTransformer-specific style */\n",
       "\n",
       "#sk-container-id-1 div.sk-label input.sk-toggleable__control:checked~label.sk-toggleable__label {\n",
       "  color: var(--sklearn-color-text);\n",
       "  background-color: var(--sklearn-color-unfitted-level-2);\n",
       "}\n",
       "\n",
       "#sk-container-id-1 div.sk-label.fitted input.sk-toggleable__control:checked~label.sk-toggleable__label {\n",
       "  background-color: var(--sklearn-color-fitted-level-2);\n",
       "}\n",
       "\n",
       "/* Estimator-specific style */\n",
       "\n",
       "/* Colorize estimator box */\n",
       "#sk-container-id-1 div.sk-estimator input.sk-toggleable__control:checked~label.sk-toggleable__label {\n",
       "  /* unfitted */\n",
       "  background-color: var(--sklearn-color-unfitted-level-2);\n",
       "}\n",
       "\n",
       "#sk-container-id-1 div.sk-estimator.fitted input.sk-toggleable__control:checked~label.sk-toggleable__label {\n",
       "  /* fitted */\n",
       "  background-color: var(--sklearn-color-fitted-level-2);\n",
       "}\n",
       "\n",
       "#sk-container-id-1 div.sk-label label.sk-toggleable__label,\n",
       "#sk-container-id-1 div.sk-label label {\n",
       "  /* The background is the default theme color */\n",
       "  color: var(--sklearn-color-text-on-default-background);\n",
       "}\n",
       "\n",
       "/* On hover, darken the color of the background */\n",
       "#sk-container-id-1 div.sk-label:hover label.sk-toggleable__label {\n",
       "  color: var(--sklearn-color-text);\n",
       "  background-color: var(--sklearn-color-unfitted-level-2);\n",
       "}\n",
       "\n",
       "/* Label box, darken color on hover, fitted */\n",
       "#sk-container-id-1 div.sk-label.fitted:hover label.sk-toggleable__label.fitted {\n",
       "  color: var(--sklearn-color-text);\n",
       "  background-color: var(--sklearn-color-fitted-level-2);\n",
       "}\n",
       "\n",
       "/* Estimator label */\n",
       "\n",
       "#sk-container-id-1 div.sk-label label {\n",
       "  font-family: monospace;\n",
       "  font-weight: bold;\n",
       "  display: inline-block;\n",
       "  line-height: 1.2em;\n",
       "}\n",
       "\n",
       "#sk-container-id-1 div.sk-label-container {\n",
       "  text-align: center;\n",
       "}\n",
       "\n",
       "/* Estimator-specific */\n",
       "#sk-container-id-1 div.sk-estimator {\n",
       "  font-family: monospace;\n",
       "  border: 1px dotted var(--sklearn-color-border-box);\n",
       "  border-radius: 0.25em;\n",
       "  box-sizing: border-box;\n",
       "  margin-bottom: 0.5em;\n",
       "  /* unfitted */\n",
       "  background-color: var(--sklearn-color-unfitted-level-0);\n",
       "}\n",
       "\n",
       "#sk-container-id-1 div.sk-estimator.fitted {\n",
       "  /* fitted */\n",
       "  background-color: var(--sklearn-color-fitted-level-0);\n",
       "}\n",
       "\n",
       "/* on hover */\n",
       "#sk-container-id-1 div.sk-estimator:hover {\n",
       "  /* unfitted */\n",
       "  background-color: var(--sklearn-color-unfitted-level-2);\n",
       "}\n",
       "\n",
       "#sk-container-id-1 div.sk-estimator.fitted:hover {\n",
       "  /* fitted */\n",
       "  background-color: var(--sklearn-color-fitted-level-2);\n",
       "}\n",
       "\n",
       "/* Specification for estimator info (e.g. \"i\" and \"?\") */\n",
       "\n",
       "/* Common style for \"i\" and \"?\" */\n",
       "\n",
       ".sk-estimator-doc-link,\n",
       "a:link.sk-estimator-doc-link,\n",
       "a:visited.sk-estimator-doc-link {\n",
       "  float: right;\n",
       "  font-size: smaller;\n",
       "  line-height: 1em;\n",
       "  font-family: monospace;\n",
       "  background-color: var(--sklearn-color-background);\n",
       "  border-radius: 1em;\n",
       "  height: 1em;\n",
       "  width: 1em;\n",
       "  text-decoration: none !important;\n",
       "  margin-left: 0.5em;\n",
       "  text-align: center;\n",
       "  /* unfitted */\n",
       "  border: var(--sklearn-color-unfitted-level-1) 1pt solid;\n",
       "  color: var(--sklearn-color-unfitted-level-1);\n",
       "}\n",
       "\n",
       ".sk-estimator-doc-link.fitted,\n",
       "a:link.sk-estimator-doc-link.fitted,\n",
       "a:visited.sk-estimator-doc-link.fitted {\n",
       "  /* fitted */\n",
       "  border: var(--sklearn-color-fitted-level-1) 1pt solid;\n",
       "  color: var(--sklearn-color-fitted-level-1);\n",
       "}\n",
       "\n",
       "/* On hover */\n",
       "div.sk-estimator:hover .sk-estimator-doc-link:hover,\n",
       ".sk-estimator-doc-link:hover,\n",
       "div.sk-label-container:hover .sk-estimator-doc-link:hover,\n",
       ".sk-estimator-doc-link:hover {\n",
       "  /* unfitted */\n",
       "  background-color: var(--sklearn-color-unfitted-level-3);\n",
       "  color: var(--sklearn-color-background);\n",
       "  text-decoration: none;\n",
       "}\n",
       "\n",
       "div.sk-estimator.fitted:hover .sk-estimator-doc-link.fitted:hover,\n",
       ".sk-estimator-doc-link.fitted:hover,\n",
       "div.sk-label-container:hover .sk-estimator-doc-link.fitted:hover,\n",
       ".sk-estimator-doc-link.fitted:hover {\n",
       "  /* fitted */\n",
       "  background-color: var(--sklearn-color-fitted-level-3);\n",
       "  color: var(--sklearn-color-background);\n",
       "  text-decoration: none;\n",
       "}\n",
       "\n",
       "/* Span, style for the box shown on hovering the info icon */\n",
       ".sk-estimator-doc-link span {\n",
       "  display: none;\n",
       "  z-index: 9999;\n",
       "  position: relative;\n",
       "  font-weight: normal;\n",
       "  right: .2ex;\n",
       "  padding: .5ex;\n",
       "  margin: .5ex;\n",
       "  width: min-content;\n",
       "  min-width: 20ex;\n",
       "  max-width: 50ex;\n",
       "  color: var(--sklearn-color-text);\n",
       "  box-shadow: 2pt 2pt 4pt #999;\n",
       "  /* unfitted */\n",
       "  background: var(--sklearn-color-unfitted-level-0);\n",
       "  border: .5pt solid var(--sklearn-color-unfitted-level-3);\n",
       "}\n",
       "\n",
       ".sk-estimator-doc-link.fitted span {\n",
       "  /* fitted */\n",
       "  background: var(--sklearn-color-fitted-level-0);\n",
       "  border: var(--sklearn-color-fitted-level-3);\n",
       "}\n",
       "\n",
       ".sk-estimator-doc-link:hover span {\n",
       "  display: block;\n",
       "}\n",
       "\n",
       "/* \"?\"-specific style due to the `<a>` HTML tag */\n",
       "\n",
       "#sk-container-id-1 a.estimator_doc_link {\n",
       "  float: right;\n",
       "  font-size: 1rem;\n",
       "  line-height: 1em;\n",
       "  font-family: monospace;\n",
       "  background-color: var(--sklearn-color-background);\n",
       "  border-radius: 1rem;\n",
       "  height: 1rem;\n",
       "  width: 1rem;\n",
       "  text-decoration: none;\n",
       "  /* unfitted */\n",
       "  color: var(--sklearn-color-unfitted-level-1);\n",
       "  border: var(--sklearn-color-unfitted-level-1) 1pt solid;\n",
       "}\n",
       "\n",
       "#sk-container-id-1 a.estimator_doc_link.fitted {\n",
       "  /* fitted */\n",
       "  border: var(--sklearn-color-fitted-level-1) 1pt solid;\n",
       "  color: var(--sklearn-color-fitted-level-1);\n",
       "}\n",
       "\n",
       "/* On hover */\n",
       "#sk-container-id-1 a.estimator_doc_link:hover {\n",
       "  /* unfitted */\n",
       "  background-color: var(--sklearn-color-unfitted-level-3);\n",
       "  color: var(--sklearn-color-background);\n",
       "  text-decoration: none;\n",
       "}\n",
       "\n",
       "#sk-container-id-1 a.estimator_doc_link.fitted:hover {\n",
       "  /* fitted */\n",
       "  background-color: var(--sklearn-color-fitted-level-3);\n",
       "}\n",
       "</style><div id=\"sk-container-id-1\" class=\"sk-top-container\"><div class=\"sk-text-repr-fallback\"><pre>LatentDirichletAllocation(n_components=5, random_state=0)</pre><b>In a Jupyter environment, please rerun this cell to show the HTML representation or trust the notebook. <br />On GitHub, the HTML representation is unable to render, please try loading this page with nbviewer.org.</b></div><div class=\"sk-container\" hidden><div class=\"sk-item\"><div class=\"sk-estimator fitted sk-toggleable\"><input class=\"sk-toggleable__control sk-hidden--visually\" id=\"sk-estimator-id-1\" type=\"checkbox\" checked><label for=\"sk-estimator-id-1\" class=\"sk-toggleable__label fitted sk-toggleable__label-arrow\"><div><div>LatentDirichletAllocation</div></div><div><a class=\"sk-estimator-doc-link fitted\" rel=\"noreferrer\" target=\"_blank\" href=\"https://scikit-learn.org/1.6/modules/generated/sklearn.decomposition.LatentDirichletAllocation.html\">?<span>Documentation for LatentDirichletAllocation</span></a><span class=\"sk-estimator-doc-link fitted\">i<span>Fitted</span></span></div></label><div class=\"sk-toggleable__content fitted\"><pre>LatentDirichletAllocation(n_components=5, random_state=0)</pre></div> </div></div></div></div>"
      ],
      "text/plain": [
       "LatentDirichletAllocation(n_components=5, random_state=0)"
      ]
     },
     "execution_count": 12,
     "metadata": {},
     "output_type": "execute_result"
    }
   ],
   "source": [
    "number_of_topics = 5\n",
    "model = LatentDirichletAllocation(n_components=number_of_topics, random_state=0)\n",
    "model.fit(tf)"
   ]
  },
  {
   "cell_type": "code",
   "execution_count": 13,
   "id": "d17d659b",
   "metadata": {},
   "outputs": [],
   "source": [
    "def display_topics(model, feature_names, no_top_words):\n",
    "    topic_dict = {}\n",
    "    for topic_idx, topic in enumerate(model.components_):\n",
    "        topic_dict[\"Topic %d words\" % (topic_idx)]= ['{}'.format(feature_names[i])\n",
    "                        for i in topic.argsort()[:-no_top_words - 1:-1]]\n",
    "        topic_dict[\"Topic %d weights\" % (topic_idx)]= ['{:.1f}'.format(topic[i])\n",
    "                        for i in topic.argsort()[:-no_top_words - 1:-1]]\n",
    "    return pd.DataFrame(topic_dict)"
   ]
  },
  {
   "cell_type": "code",
   "execution_count": 14,
   "id": "f4d249a4",
   "metadata": {},
   "outputs": [
    {
     "data": {
      "text/html": [
       "<div>\n",
       "<style scoped>\n",
       "    .dataframe tbody tr th:only-of-type {\n",
       "        vertical-align: middle;\n",
       "    }\n",
       "\n",
       "    .dataframe tbody tr th {\n",
       "        vertical-align: top;\n",
       "    }\n",
       "\n",
       "    .dataframe thead th {\n",
       "        text-align: right;\n",
       "    }\n",
       "</style>\n",
       "<table border=\"1\" class=\"dataframe\">\n",
       "  <thead>\n",
       "    <tr style=\"text-align: right;\">\n",
       "      <th></th>\n",
       "      <th>Topic 0 words</th>\n",
       "      <th>Topic 0 weights</th>\n",
       "      <th>Topic 1 words</th>\n",
       "      <th>Topic 1 weights</th>\n",
       "      <th>Topic 2 words</th>\n",
       "      <th>Topic 2 weights</th>\n",
       "      <th>Topic 3 words</th>\n",
       "      <th>Topic 3 weights</th>\n",
       "      <th>Topic 4 words</th>\n",
       "      <th>Topic 4 weights</th>\n",
       "    </tr>\n",
       "  </thead>\n",
       "  <tbody>\n",
       "    <tr>\n",
       "      <th>0</th>\n",
       "      <td>https</td>\n",
       "      <td>128.2</td>\n",
       "      <td>us</td>\n",
       "      <td>42.1</td>\n",
       "      <td>make</td>\n",
       "      <td>70.4</td>\n",
       "      <td>even</td>\n",
       "      <td>39.5</td>\n",
       "      <td>white</td>\n",
       "      <td>78.5</td>\n",
       "    </tr>\n",
       "    <tr>\n",
       "      <th>1</th>\n",
       "      <td>trump</td>\n",
       "      <td>120.0</td>\n",
       "      <td>go</td>\n",
       "      <td>35.0</td>\n",
       "      <td>like</td>\n",
       "      <td>45.9</td>\n",
       "      <td>www</td>\n",
       "      <td>36.0</td>\n",
       "      <td>would</td>\n",
       "      <td>61.3</td>\n",
       "    </tr>\n",
       "    <tr>\n",
       "      <th>2</th>\n",
       "      <td>com</td>\n",
       "      <td>101.2</td>\n",
       "      <td>europe</td>\n",
       "      <td>30.2</td>\n",
       "      <td>get</td>\n",
       "      <td>23.1</td>\n",
       "      <td>uk</td>\n",
       "      <td>33.2</td>\n",
       "      <td>people</td>\n",
       "      <td>36.1</td>\n",
       "    </tr>\n",
       "    <tr>\n",
       "      <th>3</th>\n",
       "      <td>www</td>\n",
       "      <td>55.4</td>\n",
       "      <td>’s</td>\n",
       "      <td>26.4</td>\n",
       "      <td>year</td>\n",
       "      <td>18.4</td>\n",
       "      <td>new</td>\n",
       "      <td>26.2</td>\n",
       "      <td>world</td>\n",
       "      <td>29.7</td>\n",
       "    </tr>\n",
       "    <tr>\n",
       "      <th>4</th>\n",
       "      <td>year</td>\n",
       "      <td>14.0</td>\n",
       "      <td>like</td>\n",
       "      <td>18.5</td>\n",
       "      <td>would</td>\n",
       "      <td>7.3</td>\n",
       "      <td>’s</td>\n",
       "      <td>19.8</td>\n",
       "      <td>literally</td>\n",
       "      <td>27.2</td>\n",
       "    </tr>\n",
       "    <tr>\n",
       "      <th>5</th>\n",
       "      <td>every</td>\n",
       "      <td>10.4</td>\n",
       "      <td>uk</td>\n",
       "      <td>7.3</td>\n",
       "      <td>people</td>\n",
       "      <td>6.7</td>\n",
       "      <td>full</td>\n",
       "      <td>18.5</td>\n",
       "      <td>government</td>\n",
       "      <td>14.7</td>\n",
       "    </tr>\n",
       "    <tr>\n",
       "      <th>6</th>\n",
       "      <td>uk</td>\n",
       "      <td>9.1</td>\n",
       "      <td>world</td>\n",
       "      <td>5.7</td>\n",
       "      <td>white</td>\n",
       "      <td>0.9</td>\n",
       "      <td>go</td>\n",
       "      <td>15.4</td>\n",
       "      <td>even</td>\n",
       "      <td>9.9</td>\n",
       "    </tr>\n",
       "    <tr>\n",
       "      <th>7</th>\n",
       "      <td>make</td>\n",
       "      <td>5.3</td>\n",
       "      <td>www</td>\n",
       "      <td>0.2</td>\n",
       "      <td>even</td>\n",
       "      <td>0.2</td>\n",
       "      <td>people</td>\n",
       "      <td>12.9</td>\n",
       "      <td>every</td>\n",
       "      <td>9.5</td>\n",
       "    </tr>\n",
       "    <tr>\n",
       "      <th>8</th>\n",
       "      <td>full</td>\n",
       "      <td>4.9</td>\n",
       "      <td>year</td>\n",
       "      <td>0.2</td>\n",
       "      <td>go</td>\n",
       "      <td>0.2</td>\n",
       "      <td>make</td>\n",
       "      <td>11.9</td>\n",
       "      <td>get</td>\n",
       "      <td>8.3</td>\n",
       "    </tr>\n",
       "    <tr>\n",
       "      <th>9</th>\n",
       "      <td>government</td>\n",
       "      <td>4.8</td>\n",
       "      <td>would</td>\n",
       "      <td>0.2</td>\n",
       "      <td>government</td>\n",
       "      <td>0.2</td>\n",
       "      <td>government</td>\n",
       "      <td>8.1</td>\n",
       "      <td>full</td>\n",
       "      <td>4.2</td>\n",
       "    </tr>\n",
       "    <tr>\n",
       "      <th>10</th>\n",
       "      <td>’s</td>\n",
       "      <td>2.9</td>\n",
       "      <td>even</td>\n",
       "      <td>0.2</td>\n",
       "      <td>every</td>\n",
       "      <td>0.2</td>\n",
       "      <td>every</td>\n",
       "      <td>7.6</td>\n",
       "      <td>us</td>\n",
       "      <td>2.3</td>\n",
       "    </tr>\n",
       "    <tr>\n",
       "      <th>11</th>\n",
       "      <td>world</td>\n",
       "      <td>0.2</td>\n",
       "      <td>https</td>\n",
       "      <td>0.2</td>\n",
       "      <td>trump</td>\n",
       "      <td>0.2</td>\n",
       "      <td>would</td>\n",
       "      <td>6.0</td>\n",
       "      <td>’s</td>\n",
       "      <td>0.7</td>\n",
       "    </tr>\n",
       "    <tr>\n",
       "      <th>12</th>\n",
       "      <td>white</td>\n",
       "      <td>0.2</td>\n",
       "      <td>every</td>\n",
       "      <td>0.2</td>\n",
       "      <td>new</td>\n",
       "      <td>0.2</td>\n",
       "      <td>trump</td>\n",
       "      <td>0.4</td>\n",
       "      <td>year</td>\n",
       "      <td>0.2</td>\n",
       "    </tr>\n",
       "    <tr>\n",
       "      <th>13</th>\n",
       "      <td>like</td>\n",
       "      <td>0.2</td>\n",
       "      <td>trump</td>\n",
       "      <td>0.2</td>\n",
       "      <td>europe</td>\n",
       "      <td>0.2</td>\n",
       "      <td>com</td>\n",
       "      <td>0.2</td>\n",
       "      <td>make</td>\n",
       "      <td>0.2</td>\n",
       "    </tr>\n",
       "    <tr>\n",
       "      <th>14</th>\n",
       "      <td>europe</td>\n",
       "      <td>0.2</td>\n",
       "      <td>people</td>\n",
       "      <td>0.2</td>\n",
       "      <td>literally</td>\n",
       "      <td>0.2</td>\n",
       "      <td>year</td>\n",
       "      <td>0.2</td>\n",
       "      <td>trump</td>\n",
       "      <td>0.2</td>\n",
       "    </tr>\n",
       "  </tbody>\n",
       "</table>\n",
       "</div>"
      ],
      "text/plain": [
       "   Topic 0 words Topic 0 weights Topic 1 words Topic 1 weights Topic 2 words  \\\n",
       "0          https           128.2            us            42.1          make   \n",
       "1          trump           120.0            go            35.0          like   \n",
       "2            com           101.2        europe            30.2           get   \n",
       "3            www            55.4            ’s            26.4          year   \n",
       "4           year            14.0          like            18.5         would   \n",
       "5          every            10.4            uk             7.3        people   \n",
       "6             uk             9.1         world             5.7         white   \n",
       "7           make             5.3           www             0.2          even   \n",
       "8           full             4.9          year             0.2            go   \n",
       "9     government             4.8         would             0.2    government   \n",
       "10            ’s             2.9          even             0.2         every   \n",
       "11         world             0.2         https             0.2         trump   \n",
       "12         white             0.2         every             0.2           new   \n",
       "13          like             0.2         trump             0.2        europe   \n",
       "14        europe             0.2        people             0.2     literally   \n",
       "\n",
       "   Topic 2 weights Topic 3 words Topic 3 weights Topic 4 words Topic 4 weights  \n",
       "0             70.4          even            39.5         white            78.5  \n",
       "1             45.9           www            36.0         would            61.3  \n",
       "2             23.1            uk            33.2        people            36.1  \n",
       "3             18.4           new            26.2         world            29.7  \n",
       "4              7.3            ’s            19.8     literally            27.2  \n",
       "5              6.7          full            18.5    government            14.7  \n",
       "6              0.9            go            15.4          even             9.9  \n",
       "7              0.2        people            12.9         every             9.5  \n",
       "8              0.2          make            11.9           get             8.3  \n",
       "9              0.2    government             8.1          full             4.2  \n",
       "10             0.2         every             7.6            us             2.3  \n",
       "11             0.2         would             6.0            ’s             0.7  \n",
       "12             0.2         trump             0.4          year             0.2  \n",
       "13             0.2           com             0.2          make             0.2  \n",
       "14             0.2          year             0.2         trump             0.2  "
      ]
     },
     "execution_count": 14,
     "metadata": {},
     "output_type": "execute_result"
    }
   ],
   "source": [
    "no_top_words = 15\n",
    "display_topics(model, tf_feature_names, no_top_words)"
   ]
  },
  {
   "cell_type": "markdown",
   "id": "b1718239",
   "metadata": {},
   "source": [
    "### BERTopic"
   ]
  },
  {
   "cell_type": "code",
   "execution_count": 15,
   "id": "f12766be",
   "metadata": {},
   "outputs": [
    {
     "name": "stderr",
     "output_type": "stream",
     "text": [
      "d:\\OneDrive - TU Eindhoven\\JADS\\Semester B\\Data Forensics\\Project\\Data-Forensics\\.venv\\Lib\\site-packages\\tqdm\\auto.py:21: TqdmWarning: IProgress not found. Please update jupyter and ipywidgets. See https://ipywidgets.readthedocs.io/en/stable/user_install.html\n",
      "  from .autonotebook import tqdm as notebook_tqdm\n"
     ]
    }
   ],
   "source": [
    "from bertopic import BERTopic"
   ]
  },
  {
   "cell_type": "code",
   "execution_count": 16,
   "id": "6b52b0bc",
   "metadata": {},
   "outputs": [],
   "source": [
    "topic_model = BERTopic()\n",
    "docs = chan4_threads['cleaned'].tolist()\n",
    "topics, probs = topic_model.fit_transform(docs)\n",
    "chan4_threads['topics'] = topics\n",
    "chan4_threads['topic_probs'] = probs"
   ]
  },
  {
   "cell_type": "code",
   "execution_count": 17,
   "id": "dc75e8ea",
   "metadata": {},
   "outputs": [
    {
     "data": {
      "text/html": [
       "<div>\n",
       "<style scoped>\n",
       "    .dataframe tbody tr th:only-of-type {\n",
       "        vertical-align: middle;\n",
       "    }\n",
       "\n",
       "    .dataframe tbody tr th {\n",
       "        vertical-align: top;\n",
       "    }\n",
       "\n",
       "    .dataframe thead th {\n",
       "        text-align: right;\n",
       "    }\n",
       "</style>\n",
       "<table border=\"1\" class=\"dataframe\">\n",
       "  <thead>\n",
       "    <tr style=\"text-align: right;\">\n",
       "      <th></th>\n",
       "      <th>Topic</th>\n",
       "      <th>Count</th>\n",
       "      <th>Name</th>\n",
       "      <th>Representation</th>\n",
       "      <th>Representative_Docs</th>\n",
       "    </tr>\n",
       "  </thead>\n",
       "  <tbody>\n",
       "    <tr>\n",
       "      <th>0</th>\n",
       "      <td>-1</td>\n",
       "      <td>17</td>\n",
       "      <td>-1_india_china_manufacturing_chinese</td>\n",
       "      <td>[india, china, manufacturing, chinese, factori...</td>\n",
       "      <td>[india failed attract factories china  went wr...</td>\n",
       "    </tr>\n",
       "    <tr>\n",
       "      <th>1</th>\n",
       "      <td>0</td>\n",
       "      <td>37</td>\n",
       "      <td>0_white_search_google_anti</td>\n",
       "      <td>[white, search, google, anti, nobody, men, fam...</td>\n",
       "      <td>[objectively nasty  world class rbf  tds nut f...</td>\n",
       "    </tr>\n",
       "    <tr>\n",
       "      <th>2</th>\n",
       "      <td>1</td>\n",
       "      <td>36</td>\n",
       "      <td>1_recall_european_would_tesla</td>\n",
       "      <td>[recall, european, would, tesla, glue, musk, e...</td>\n",
       "      <td>[morons using wrong glue tesla forced recall e...</td>\n",
       "    </tr>\n",
       "    <tr>\n",
       "      <th>3</th>\n",
       "      <td>2</td>\n",
       "      <td>34</td>\n",
       "      <td>2_notice_courts_something_libs</td>\n",
       "      <td>[notice, courts, something, libs, slated, acce...</td>\n",
       "      <td>[libs slated get majority  accelerationism ans...</td>\n",
       "    </tr>\n",
       "    <tr>\n",
       "      <th>4</th>\n",
       "      <td>3</td>\n",
       "      <td>29</td>\n",
       "      <td>3_faces_sold_want_even</td>\n",
       "      <td>[faces, sold, want, even, child, friends, make...</td>\n",
       "      <td>[coworker mental breakdown yesterday work fire...</td>\n",
       "    </tr>\n",
       "    <tr>\n",
       "      <th>5</th>\n",
       "      <td>4</td>\n",
       "      <td>28</td>\n",
       "      <td>4_make_would_woods_christianity</td>\n",
       "      <td>[make, would, woods, christianity, us, live, b...</td>\n",
       "      <td>[protestantism sort anti religion  course exis...</td>\n",
       "    </tr>\n",
       "    <tr>\n",
       "      <th>6</th>\n",
       "      <td>5</td>\n",
       "      <td>26</td>\n",
       "      <td>5_care_baltics_fuck_russians</td>\n",
       "      <td>[care, baltics, fuck, russians, whitebaltics, ...</td>\n",
       "      <td>[proud ukrainians inflicting much pain sufferi...</td>\n",
       "    </tr>\n",
       "    <tr>\n",
       "      <th>7</th>\n",
       "      <td>6</td>\n",
       "      <td>25</td>\n",
       "      <td>6_ukraine_bbc_uk_catbox</td>\n",
       "      <td>[ukraine, bbc, uk, catbox, moe, news, co, arti...</td>\n",
       "      <td>[previous  →day   — daily battlefield assessme...</td>\n",
       "    </tr>\n",
       "    <tr>\n",
       "      <th>8</th>\n",
       "      <td>7</td>\n",
       "      <td>23</td>\n",
       "      <td>7_step_great_every_literal</td>\n",
       "      <td>[step, great, every, literal, america, assassi...</td>\n",
       "      <td>[antifa violence  endless new waves vandalism ...</td>\n",
       "    </tr>\n",
       "    <tr>\n",
       "      <th>9</th>\n",
       "      <td>8</td>\n",
       "      <td>22</td>\n",
       "      <td>8_trump_https_com_washington</td>\n",
       "      <td>[trump, https, com, washington, dc, youtu, pre...</td>\n",
       "      <td>[president donald j trump  potushttps www dona...</td>\n",
       "    </tr>\n",
       "    <tr>\n",
       "      <th>10</th>\n",
       "      <td>9</td>\n",
       "      <td>22</td>\n",
       "      <td>9_poilievre_polls_policy_real</td>\n",
       "      <td>[poilievre, polls, policy, real, never, pol, c...</td>\n",
       "      <td>[poilievre afraid policy  conservatives policy...</td>\n",
       "    </tr>\n",
       "    <tr>\n",
       "      <th>11</th>\n",
       "      <td>10</td>\n",
       "      <td>21</td>\n",
       "      <td>10_convinced_shitalians_tomatokikes_semitic</td>\n",
       "      <td>[convinced, shitalians, tomatokikes, semitic, ...</td>\n",
       "      <td>[convinced majority shitalians white  they’re ...</td>\n",
       "    </tr>\n",
       "    <tr>\n",
       "      <th>12</th>\n",
       "      <td>11</td>\n",
       "      <td>21</td>\n",
       "      <td>11_go_coffee_br_woke</td>\n",
       "      <td>[go, coffee, br, woke, drink, delicious, britb...</td>\n",
       "      <td>[sorry britbros  coffee much delicious tea  th...</td>\n",
       "    </tr>\n",
       "    <tr>\n",
       "      <th>13</th>\n",
       "      <td>12</td>\n",
       "      <td>21</td>\n",
       "      <td>12_prison_lockdown_inmates_staff</td>\n",
       "      <td>[prison, lockdown, inmates, staff, thomson, gu...</td>\n",
       "      <td>[whoever cares hear  massive defrauding taxpay...</td>\n",
       "    </tr>\n",
       "    <tr>\n",
       "      <th>14</th>\n",
       "      <td>13</td>\n",
       "      <td>18</td>\n",
       "      <td>13_chickens_eggs_test_genocide</td>\n",
       "      <td>[chickens, eggs, test, genocide, pro, children...</td>\n",
       "      <td>[ kill domestic chickens fake pcr test said eg...</td>\n",
       "    </tr>\n",
       "    <tr>\n",
       "      <th>15</th>\n",
       "      <td>14</td>\n",
       "      <td>17</td>\n",
       "      <td>14_niggers_dei_jobs_use</td>\n",
       "      <td>[niggers, dei, jobs, use, hate, alot, drain, c...</td>\n",
       "      <td>[women niggers ever try use dei get jobs like ...</td>\n",
       "    </tr>\n",
       "    <tr>\n",
       "      <th>16</th>\n",
       "      <td>15</td>\n",
       "      <td>15</td>\n",
       "      <td>15_pagan_post_nazi_memes</td>\n",
       "      <td>[pagan, post, nazi, memes, pro, jeet, belong, ...</td>\n",
       "      <td>[# post  like tf even nazi  let alone elon mus...</td>\n",
       "    </tr>\n",
       "    <tr>\n",
       "      <th>17</th>\n",
       "      <td>16</td>\n",
       "      <td>13</td>\n",
       "      <td>16_english_dropped_recognize_official</td>\n",
       "      <td>[english, dropped, recognize, official, wqygcb...</td>\n",
       "      <td>[wikipedia refuses recognize english official ...</td>\n",
       "    </tr>\n",
       "    <tr>\n",
       "      <th>18</th>\n",
       "      <td>17</td>\n",
       "      <td>12</td>\n",
       "      <td>17_consciousness_soul_its_like</td>\n",
       "      <td>[consciousness, soul, its, like, dwelled, cold...</td>\n",
       "      <td>[didn’t feel younger  it’s like cold void cons...</td>\n",
       "    </tr>\n",
       "    <tr>\n",
       "      <th>19</th>\n",
       "      <td>18</td>\n",
       "      <td>11</td>\n",
       "      <td>18_netanyahu_palestine_backing_base</td>\n",
       "      <td>[netanyahu, palestine, backing, base, conspira...</td>\n",
       "      <td>[everyone distracted pyramid pillar conspiracy...</td>\n",
       "    </tr>\n",
       "    <tr>\n",
       "      <th>20</th>\n",
       "      <td>19</td>\n",
       "      <td>11</td>\n",
       "      <td>19_us_commonwealth_americas_offer</td>\n",
       "      <td>[us, commonwealth, americas, offer, politics, ...</td>\n",
       "      <td>[https www independent co uk news world americ...</td>\n",
       "    </tr>\n",
       "    <tr>\n",
       "      <th>21</th>\n",
       "      <td>20</td>\n",
       "      <td>11</td>\n",
       "      <td>20_east_white_bunnies_snow</td>\n",
       "      <td>[east, white, bunnies, snow, interbreeding, as...</td>\n",
       "      <td>[white aryan chad south india herei dont under...</td>\n",
       "    </tr>\n",
       "  </tbody>\n",
       "</table>\n",
       "</div>"
      ],
      "text/plain": [
       "    Topic  Count                                         Name  \\\n",
       "0      -1     17         -1_india_china_manufacturing_chinese   \n",
       "1       0     37                   0_white_search_google_anti   \n",
       "2       1     36                1_recall_european_would_tesla   \n",
       "3       2     34               2_notice_courts_something_libs   \n",
       "4       3     29                       3_faces_sold_want_even   \n",
       "5       4     28              4_make_would_woods_christianity   \n",
       "6       5     26                 5_care_baltics_fuck_russians   \n",
       "7       6     25                      6_ukraine_bbc_uk_catbox   \n",
       "8       7     23                   7_step_great_every_literal   \n",
       "9       8     22                 8_trump_https_com_washington   \n",
       "10      9     22                9_poilievre_polls_policy_real   \n",
       "11     10     21  10_convinced_shitalians_tomatokikes_semitic   \n",
       "12     11     21                         11_go_coffee_br_woke   \n",
       "13     12     21             12_prison_lockdown_inmates_staff   \n",
       "14     13     18               13_chickens_eggs_test_genocide   \n",
       "15     14     17                      14_niggers_dei_jobs_use   \n",
       "16     15     15                     15_pagan_post_nazi_memes   \n",
       "17     16     13        16_english_dropped_recognize_official   \n",
       "18     17     12               17_consciousness_soul_its_like   \n",
       "19     18     11          18_netanyahu_palestine_backing_base   \n",
       "20     19     11            19_us_commonwealth_americas_offer   \n",
       "21     20     11                   20_east_white_bunnies_snow   \n",
       "\n",
       "                                       Representation  \\\n",
       "0   [india, china, manufacturing, chinese, factori...   \n",
       "1   [white, search, google, anti, nobody, men, fam...   \n",
       "2   [recall, european, would, tesla, glue, musk, e...   \n",
       "3   [notice, courts, something, libs, slated, acce...   \n",
       "4   [faces, sold, want, even, child, friends, make...   \n",
       "5   [make, would, woods, christianity, us, live, b...   \n",
       "6   [care, baltics, fuck, russians, whitebaltics, ...   \n",
       "7   [ukraine, bbc, uk, catbox, moe, news, co, arti...   \n",
       "8   [step, great, every, literal, america, assassi...   \n",
       "9   [trump, https, com, washington, dc, youtu, pre...   \n",
       "10  [poilievre, polls, policy, real, never, pol, c...   \n",
       "11  [convinced, shitalians, tomatokikes, semitic, ...   \n",
       "12  [go, coffee, br, woke, drink, delicious, britb...   \n",
       "13  [prison, lockdown, inmates, staff, thomson, gu...   \n",
       "14  [chickens, eggs, test, genocide, pro, children...   \n",
       "15  [niggers, dei, jobs, use, hate, alot, drain, c...   \n",
       "16  [pagan, post, nazi, memes, pro, jeet, belong, ...   \n",
       "17  [english, dropped, recognize, official, wqygcb...   \n",
       "18  [consciousness, soul, its, like, dwelled, cold...   \n",
       "19  [netanyahu, palestine, backing, base, conspira...   \n",
       "20  [us, commonwealth, americas, offer, politics, ...   \n",
       "21  [east, white, bunnies, snow, interbreeding, as...   \n",
       "\n",
       "                                  Representative_Docs  \n",
       "0   [india failed attract factories china  went wr...  \n",
       "1   [objectively nasty  world class rbf  tds nut f...  \n",
       "2   [morons using wrong glue tesla forced recall e...  \n",
       "3   [libs slated get majority  accelerationism ans...  \n",
       "4   [coworker mental breakdown yesterday work fire...  \n",
       "5   [protestantism sort anti religion  course exis...  \n",
       "6   [proud ukrainians inflicting much pain sufferi...  \n",
       "7   [previous  →day   — daily battlefield assessme...  \n",
       "8   [antifa violence  endless new waves vandalism ...  \n",
       "9   [president donald j trump  potushttps www dona...  \n",
       "10  [poilievre afraid policy  conservatives policy...  \n",
       "11  [convinced majority shitalians white  they’re ...  \n",
       "12  [sorry britbros  coffee much delicious tea  th...  \n",
       "13  [whoever cares hear  massive defrauding taxpay...  \n",
       "14  [ kill domestic chickens fake pcr test said eg...  \n",
       "15  [women niggers ever try use dei get jobs like ...  \n",
       "16  [# post  like tf even nazi  let alone elon mus...  \n",
       "17  [wikipedia refuses recognize english official ...  \n",
       "18  [didn’t feel younger  it’s like cold void cons...  \n",
       "19  [everyone distracted pyramid pillar conspiracy...  \n",
       "20  [https www independent co uk news world americ...  \n",
       "21  [white aryan chad south india herei dont under...  "
      ]
     },
     "execution_count": 17,
     "metadata": {},
     "output_type": "execute_result"
    }
   ],
   "source": [
    "BERTopics = topic_model.get_topic_info()\n",
    "BERTopics"
   ]
  },
  {
   "cell_type": "code",
   "execution_count": 18,
   "id": "06248c5a",
   "metadata": {},
   "outputs": [
    {
     "ename": "ValueError",
     "evalue": "Mime type rendering requires nbformat>=4.2.0 but it is not installed",
     "output_type": "error",
     "traceback": [
      "\u001b[31m---------------------------------------------------------------------------\u001b[39m",
      "\u001b[31mValueError\u001b[39m                                Traceback (most recent call last)",
      "\u001b[36mFile \u001b[39m\u001b[32md:\\OneDrive - TU Eindhoven\\JADS\\Semester B\\Data Forensics\\Project\\Data-Forensics\\.venv\\Lib\\site-packages\\IPython\\core\\formatters.py:984\u001b[39m, in \u001b[36mIPythonDisplayFormatter.__call__\u001b[39m\u001b[34m(self, obj)\u001b[39m\n\u001b[32m    982\u001b[39m method = get_real_method(obj, \u001b[38;5;28mself\u001b[39m.print_method)\n\u001b[32m    983\u001b[39m \u001b[38;5;28;01mif\u001b[39;00m method \u001b[38;5;129;01mis\u001b[39;00m \u001b[38;5;129;01mnot\u001b[39;00m \u001b[38;5;28;01mNone\u001b[39;00m:\n\u001b[32m--> \u001b[39m\u001b[32m984\u001b[39m     \u001b[43mmethod\u001b[49m\u001b[43m(\u001b[49m\u001b[43m)\u001b[49m\n\u001b[32m    985\u001b[39m     \u001b[38;5;28;01mreturn\u001b[39;00m \u001b[38;5;28;01mTrue\u001b[39;00m\n",
      "\u001b[36mFile \u001b[39m\u001b[32md:\\OneDrive - TU Eindhoven\\JADS\\Semester B\\Data Forensics\\Project\\Data-Forensics\\.venv\\Lib\\site-packages\\plotly\\basedatatypes.py:833\u001b[39m, in \u001b[36mBaseFigure._ipython_display_\u001b[39m\u001b[34m(self)\u001b[39m\n\u001b[32m    830\u001b[39m \u001b[38;5;28;01mimport\u001b[39;00m\u001b[38;5;250m \u001b[39m\u001b[34;01mplotly\u001b[39;00m\u001b[34;01m.\u001b[39;00m\u001b[34;01mio\u001b[39;00m\u001b[38;5;250m \u001b[39m\u001b[38;5;28;01mas\u001b[39;00m\u001b[38;5;250m \u001b[39m\u001b[34;01mpio\u001b[39;00m\n\u001b[32m    832\u001b[39m \u001b[38;5;28;01mif\u001b[39;00m pio.renderers.render_on_display \u001b[38;5;129;01mand\u001b[39;00m pio.renderers.default:\n\u001b[32m--> \u001b[39m\u001b[32m833\u001b[39m     \u001b[43mpio\u001b[49m\u001b[43m.\u001b[49m\u001b[43mshow\u001b[49m\u001b[43m(\u001b[49m\u001b[38;5;28;43mself\u001b[39;49m\u001b[43m)\u001b[49m\n\u001b[32m    834\u001b[39m \u001b[38;5;28;01melse\u001b[39;00m:\n\u001b[32m    835\u001b[39m     \u001b[38;5;28mprint\u001b[39m(\u001b[38;5;28mrepr\u001b[39m(\u001b[38;5;28mself\u001b[39m))\n",
      "\u001b[36mFile \u001b[39m\u001b[32md:\\OneDrive - TU Eindhoven\\JADS\\Semester B\\Data Forensics\\Project\\Data-Forensics\\.venv\\Lib\\site-packages\\plotly\\io\\_renderers.py:425\u001b[39m, in \u001b[36mshow\u001b[39m\u001b[34m(fig, renderer, validate, **kwargs)\u001b[39m\n\u001b[32m    420\u001b[39m     \u001b[38;5;28;01mraise\u001b[39;00m \u001b[38;5;167;01mValueError\u001b[39;00m(\n\u001b[32m    421\u001b[39m         \u001b[33m\"\u001b[39m\u001b[33mMime type rendering requires ipython but it is not installed\u001b[39m\u001b[33m\"\u001b[39m\n\u001b[32m    422\u001b[39m     )\n\u001b[32m    424\u001b[39m \u001b[38;5;28;01mif\u001b[39;00m \u001b[38;5;129;01mnot\u001b[39;00m nbformat \u001b[38;5;129;01mor\u001b[39;00m Version(nbformat.__version__) < Version(\u001b[33m\"\u001b[39m\u001b[33m4.2.0\u001b[39m\u001b[33m\"\u001b[39m):\n\u001b[32m--> \u001b[39m\u001b[32m425\u001b[39m     \u001b[38;5;28;01mraise\u001b[39;00m \u001b[38;5;167;01mValueError\u001b[39;00m(\n\u001b[32m    426\u001b[39m         \u001b[33m\"\u001b[39m\u001b[33mMime type rendering requires nbformat>=4.2.0 but it is not installed\u001b[39m\u001b[33m\"\u001b[39m\n\u001b[32m    427\u001b[39m     )\n\u001b[32m    429\u001b[39m display_jupyter_version_warnings()\n\u001b[32m    431\u001b[39m ipython_display.display(bundle, raw=\u001b[38;5;28;01mTrue\u001b[39;00m)\n",
      "\u001b[31mValueError\u001b[39m: Mime type rendering requires nbformat>=4.2.0 but it is not installed"
     ]
    },
    {
     "data": {
      "application/vnd.plotly.v1+json": {
       "config": {
        "plotlyServerURL": "https://plot.ly"
       },
       "data": [
        {
         "customdata": [
          [
           0,
           "white | search | google | anti | nobody",
           37
          ],
          [
           1,
           "recall | european | would | tesla | glue",
           36
          ],
          [
           2,
           "notice | courts | something | libs | slated",
           34
          ],
          [
           3,
           "faces | sold | want | even | child",
           29
          ],
          [
           4,
           "make | would | woods | christianity | us",
           28
          ],
          [
           5,
           "care | baltics | fuck | russians | whitebaltics",
           26
          ],
          [
           6,
           "ukraine | bbc | uk | catbox | moe",
           25
          ],
          [
           7,
           "step | great | every | literal | america",
           23
          ],
          [
           8,
           "trump | https | com | washington | dc",
           22
          ],
          [
           9,
           "poilievre | polls | policy | real | never",
           22
          ],
          [
           10,
           "convinced | shitalians | tomatokikes | semitic | majority",
           21
          ],
          [
           11,
           "go | coffee | br | woke | drink",
           21
          ],
          [
           12,
           "prison | lockdown | inmates | staff | thomson",
           21
          ],
          [
           13,
           "chickens | eggs | test | genocide | pro",
           18
          ],
          [
           14,
           "niggers | dei | jobs | use | hate",
           17
          ],
          [
           15,
           "pagan | post | nazi | memes | pro",
           15
          ],
          [
           16,
           "english | dropped | recognize | official | wqygcbceceu",
           13
          ],
          [
           17,
           "consciousness | soul | its | like | dwelled",
           12
          ],
          [
           18,
           "netanyahu | palestine | backing | base | conspiracy",
           11
          ],
          [
           19,
           "us | commonwealth | americas | offer | politics",
           11
          ],
          [
           20,
           "east | white | bunnies | snow | interbreeding",
           11
          ]
         ],
         "hovertemplate": "<b>Topic %{customdata[0]}</b><br>%{customdata[1]}<br>Size: %{customdata[2]}",
         "legendgroup": "",
         "marker": {
          "color": "#B0BEC5",
          "line": {
           "color": "DarkSlateGrey",
           "width": 2
          },
          "size": {
           "bdata": "JSQiHRwaGRcWFhUVFRIRDw0MCwsL",
           "dtype": "i1"
          },
          "sizemode": "area",
          "sizeref": 0.023125,
          "symbol": "circle"
         },
         "mode": "markers",
         "name": "",
         "orientation": "v",
         "showlegend": false,
         "type": "scatter",
         "x": {
          "bdata": "/xePQGZOzUCRA45AnU+NviB9rECh075AGA7nQG8ijUFRZYtBmwbeQOIBlEAwS5hA5IuPQVFWy76O7oVAWoi2QHrSlUGm4p5AEFPvQLPrlkHhG51A",
          "dtype": "f4"
         },
         "xaxis": "x",
         "y": {
          "bdata": "VMRVQABCkUCAPnlB12KiwFjyeUAz1YxAfd+7QGw6JMDQUxbAMZGwQBR6NkDfHHRBboc3wElDpsCimDdA1/xiQCJRsEGU0HBB3WbFQBJtsUErLUlA",
          "dtype": "f4"
         },
         "yaxis": "y"
        }
       ],
       "layout": {
        "annotations": [
         {
          "showarrow": false,
          "text": "D1",
          "x": -0.45671436190605164,
          "y": 9.764962196350098,
          "yshift": 10
         },
         {
          "showarrow": false,
          "text": "D2",
          "x": 10.619068145751953,
          "xshift": 10,
          "y": 25.504995346069336
         }
        ],
        "height": 650,
        "hoverlabel": {
         "bgcolor": "white",
         "font": {
          "family": "Rockwell",
          "size": 16
         }
        },
        "legend": {
         "itemsizing": "constant",
         "tracegroupgap": 0
        },
        "margin": {
         "t": 60
        },
        "shapes": [
         {
          "line": {
           "color": "#CFD8DC",
           "width": 2
          },
          "type": "line",
          "x0": 10.619068145751953,
          "x1": 10.619068145751953,
          "y0": -5.975070476531982,
          "y1": 25.504995346069336
         },
         {
          "line": {
           "color": "#9E9E9E",
           "width": 2
          },
          "type": "line",
          "x0": -0.45671436190605164,
          "x1": 21.69485092163086,
          "y0": 9.764962196350098,
          "y1": 9.764962196350098
         }
        ],
        "sliders": [
         {
          "active": 0,
          "pad": {
           "t": 50
          },
          "steps": [
           {
            "args": [
             {
              "marker.color": [
               [
                "red",
                "#B0BEC5",
                "#B0BEC5",
                "#B0BEC5",
                "#B0BEC5",
                "#B0BEC5",
                "#B0BEC5",
                "#B0BEC5",
                "#B0BEC5",
                "#B0BEC5",
                "#B0BEC5",
                "#B0BEC5",
                "#B0BEC5",
                "#B0BEC5",
                "#B0BEC5",
                "#B0BEC5",
                "#B0BEC5",
                "#B0BEC5",
                "#B0BEC5",
                "#B0BEC5",
                "#B0BEC5"
               ]
              ]
             }
            ],
            "label": "Topic 0",
            "method": "update"
           },
           {
            "args": [
             {
              "marker.color": [
               [
                "#B0BEC5",
                "red",
                "#B0BEC5",
                "#B0BEC5",
                "#B0BEC5",
                "#B0BEC5",
                "#B0BEC5",
                "#B0BEC5",
                "#B0BEC5",
                "#B0BEC5",
                "#B0BEC5",
                "#B0BEC5",
                "#B0BEC5",
                "#B0BEC5",
                "#B0BEC5",
                "#B0BEC5",
                "#B0BEC5",
                "#B0BEC5",
                "#B0BEC5",
                "#B0BEC5",
                "#B0BEC5"
               ]
              ]
             }
            ],
            "label": "Topic 1",
            "method": "update"
           },
           {
            "args": [
             {
              "marker.color": [
               [
                "#B0BEC5",
                "#B0BEC5",
                "red",
                "#B0BEC5",
                "#B0BEC5",
                "#B0BEC5",
                "#B0BEC5",
                "#B0BEC5",
                "#B0BEC5",
                "#B0BEC5",
                "#B0BEC5",
                "#B0BEC5",
                "#B0BEC5",
                "#B0BEC5",
                "#B0BEC5",
                "#B0BEC5",
                "#B0BEC5",
                "#B0BEC5",
                "#B0BEC5",
                "#B0BEC5",
                "#B0BEC5"
               ]
              ]
             }
            ],
            "label": "Topic 2",
            "method": "update"
           },
           {
            "args": [
             {
              "marker.color": [
               [
                "#B0BEC5",
                "#B0BEC5",
                "#B0BEC5",
                "red",
                "#B0BEC5",
                "#B0BEC5",
                "#B0BEC5",
                "#B0BEC5",
                "#B0BEC5",
                "#B0BEC5",
                "#B0BEC5",
                "#B0BEC5",
                "#B0BEC5",
                "#B0BEC5",
                "#B0BEC5",
                "#B0BEC5",
                "#B0BEC5",
                "#B0BEC5",
                "#B0BEC5",
                "#B0BEC5",
                "#B0BEC5"
               ]
              ]
             }
            ],
            "label": "Topic 3",
            "method": "update"
           },
           {
            "args": [
             {
              "marker.color": [
               [
                "#B0BEC5",
                "#B0BEC5",
                "#B0BEC5",
                "#B0BEC5",
                "red",
                "#B0BEC5",
                "#B0BEC5",
                "#B0BEC5",
                "#B0BEC5",
                "#B0BEC5",
                "#B0BEC5",
                "#B0BEC5",
                "#B0BEC5",
                "#B0BEC5",
                "#B0BEC5",
                "#B0BEC5",
                "#B0BEC5",
                "#B0BEC5",
                "#B0BEC5",
                "#B0BEC5",
                "#B0BEC5"
               ]
              ]
             }
            ],
            "label": "Topic 4",
            "method": "update"
           },
           {
            "args": [
             {
              "marker.color": [
               [
                "#B0BEC5",
                "#B0BEC5",
                "#B0BEC5",
                "#B0BEC5",
                "#B0BEC5",
                "red",
                "#B0BEC5",
                "#B0BEC5",
                "#B0BEC5",
                "#B0BEC5",
                "#B0BEC5",
                "#B0BEC5",
                "#B0BEC5",
                "#B0BEC5",
                "#B0BEC5",
                "#B0BEC5",
                "#B0BEC5",
                "#B0BEC5",
                "#B0BEC5",
                "#B0BEC5",
                "#B0BEC5"
               ]
              ]
             }
            ],
            "label": "Topic 5",
            "method": "update"
           },
           {
            "args": [
             {
              "marker.color": [
               [
                "#B0BEC5",
                "#B0BEC5",
                "#B0BEC5",
                "#B0BEC5",
                "#B0BEC5",
                "#B0BEC5",
                "red",
                "#B0BEC5",
                "#B0BEC5",
                "#B0BEC5",
                "#B0BEC5",
                "#B0BEC5",
                "#B0BEC5",
                "#B0BEC5",
                "#B0BEC5",
                "#B0BEC5",
                "#B0BEC5",
                "#B0BEC5",
                "#B0BEC5",
                "#B0BEC5",
                "#B0BEC5"
               ]
              ]
             }
            ],
            "label": "Topic 6",
            "method": "update"
           },
           {
            "args": [
             {
              "marker.color": [
               [
                "#B0BEC5",
                "#B0BEC5",
                "#B0BEC5",
                "#B0BEC5",
                "#B0BEC5",
                "#B0BEC5",
                "#B0BEC5",
                "red",
                "#B0BEC5",
                "#B0BEC5",
                "#B0BEC5",
                "#B0BEC5",
                "#B0BEC5",
                "#B0BEC5",
                "#B0BEC5",
                "#B0BEC5",
                "#B0BEC5",
                "#B0BEC5",
                "#B0BEC5",
                "#B0BEC5",
                "#B0BEC5"
               ]
              ]
             }
            ],
            "label": "Topic 7",
            "method": "update"
           },
           {
            "args": [
             {
              "marker.color": [
               [
                "#B0BEC5",
                "#B0BEC5",
                "#B0BEC5",
                "#B0BEC5",
                "#B0BEC5",
                "#B0BEC5",
                "#B0BEC5",
                "#B0BEC5",
                "red",
                "#B0BEC5",
                "#B0BEC5",
                "#B0BEC5",
                "#B0BEC5",
                "#B0BEC5",
                "#B0BEC5",
                "#B0BEC5",
                "#B0BEC5",
                "#B0BEC5",
                "#B0BEC5",
                "#B0BEC5",
                "#B0BEC5"
               ]
              ]
             }
            ],
            "label": "Topic 8",
            "method": "update"
           },
           {
            "args": [
             {
              "marker.color": [
               [
                "#B0BEC5",
                "#B0BEC5",
                "#B0BEC5",
                "#B0BEC5",
                "#B0BEC5",
                "#B0BEC5",
                "#B0BEC5",
                "#B0BEC5",
                "#B0BEC5",
                "red",
                "#B0BEC5",
                "#B0BEC5",
                "#B0BEC5",
                "#B0BEC5",
                "#B0BEC5",
                "#B0BEC5",
                "#B0BEC5",
                "#B0BEC5",
                "#B0BEC5",
                "#B0BEC5",
                "#B0BEC5"
               ]
              ]
             }
            ],
            "label": "Topic 9",
            "method": "update"
           },
           {
            "args": [
             {
              "marker.color": [
               [
                "#B0BEC5",
                "#B0BEC5",
                "#B0BEC5",
                "#B0BEC5",
                "#B0BEC5",
                "#B0BEC5",
                "#B0BEC5",
                "#B0BEC5",
                "#B0BEC5",
                "#B0BEC5",
                "red",
                "#B0BEC5",
                "#B0BEC5",
                "#B0BEC5",
                "#B0BEC5",
                "#B0BEC5",
                "#B0BEC5",
                "#B0BEC5",
                "#B0BEC5",
                "#B0BEC5",
                "#B0BEC5"
               ]
              ]
             }
            ],
            "label": "Topic 10",
            "method": "update"
           },
           {
            "args": [
             {
              "marker.color": [
               [
                "#B0BEC5",
                "#B0BEC5",
                "#B0BEC5",
                "#B0BEC5",
                "#B0BEC5",
                "#B0BEC5",
                "#B0BEC5",
                "#B0BEC5",
                "#B0BEC5",
                "#B0BEC5",
                "#B0BEC5",
                "red",
                "#B0BEC5",
                "#B0BEC5",
                "#B0BEC5",
                "#B0BEC5",
                "#B0BEC5",
                "#B0BEC5",
                "#B0BEC5",
                "#B0BEC5",
                "#B0BEC5"
               ]
              ]
             }
            ],
            "label": "Topic 11",
            "method": "update"
           },
           {
            "args": [
             {
              "marker.color": [
               [
                "#B0BEC5",
                "#B0BEC5",
                "#B0BEC5",
                "#B0BEC5",
                "#B0BEC5",
                "#B0BEC5",
                "#B0BEC5",
                "#B0BEC5",
                "#B0BEC5",
                "#B0BEC5",
                "#B0BEC5",
                "#B0BEC5",
                "red",
                "#B0BEC5",
                "#B0BEC5",
                "#B0BEC5",
                "#B0BEC5",
                "#B0BEC5",
                "#B0BEC5",
                "#B0BEC5",
                "#B0BEC5"
               ]
              ]
             }
            ],
            "label": "Topic 12",
            "method": "update"
           },
           {
            "args": [
             {
              "marker.color": [
               [
                "#B0BEC5",
                "#B0BEC5",
                "#B0BEC5",
                "#B0BEC5",
                "#B0BEC5",
                "#B0BEC5",
                "#B0BEC5",
                "#B0BEC5",
                "#B0BEC5",
                "#B0BEC5",
                "#B0BEC5",
                "#B0BEC5",
                "#B0BEC5",
                "red",
                "#B0BEC5",
                "#B0BEC5",
                "#B0BEC5",
                "#B0BEC5",
                "#B0BEC5",
                "#B0BEC5",
                "#B0BEC5"
               ]
              ]
             }
            ],
            "label": "Topic 13",
            "method": "update"
           },
           {
            "args": [
             {
              "marker.color": [
               [
                "#B0BEC5",
                "#B0BEC5",
                "#B0BEC5",
                "#B0BEC5",
                "#B0BEC5",
                "#B0BEC5",
                "#B0BEC5",
                "#B0BEC5",
                "#B0BEC5",
                "#B0BEC5",
                "#B0BEC5",
                "#B0BEC5",
                "#B0BEC5",
                "#B0BEC5",
                "red",
                "#B0BEC5",
                "#B0BEC5",
                "#B0BEC5",
                "#B0BEC5",
                "#B0BEC5",
                "#B0BEC5"
               ]
              ]
             }
            ],
            "label": "Topic 14",
            "method": "update"
           },
           {
            "args": [
             {
              "marker.color": [
               [
                "#B0BEC5",
                "#B0BEC5",
                "#B0BEC5",
                "#B0BEC5",
                "#B0BEC5",
                "#B0BEC5",
                "#B0BEC5",
                "#B0BEC5",
                "#B0BEC5",
                "#B0BEC5",
                "#B0BEC5",
                "#B0BEC5",
                "#B0BEC5",
                "#B0BEC5",
                "#B0BEC5",
                "red",
                "#B0BEC5",
                "#B0BEC5",
                "#B0BEC5",
                "#B0BEC5",
                "#B0BEC5"
               ]
              ]
             }
            ],
            "label": "Topic 15",
            "method": "update"
           },
           {
            "args": [
             {
              "marker.color": [
               [
                "#B0BEC5",
                "#B0BEC5",
                "#B0BEC5",
                "#B0BEC5",
                "#B0BEC5",
                "#B0BEC5",
                "#B0BEC5",
                "#B0BEC5",
                "#B0BEC5",
                "#B0BEC5",
                "#B0BEC5",
                "#B0BEC5",
                "#B0BEC5",
                "#B0BEC5",
                "#B0BEC5",
                "#B0BEC5",
                "red",
                "#B0BEC5",
                "#B0BEC5",
                "#B0BEC5",
                "#B0BEC5"
               ]
              ]
             }
            ],
            "label": "Topic 16",
            "method": "update"
           },
           {
            "args": [
             {
              "marker.color": [
               [
                "#B0BEC5",
                "#B0BEC5",
                "#B0BEC5",
                "#B0BEC5",
                "#B0BEC5",
                "#B0BEC5",
                "#B0BEC5",
                "#B0BEC5",
                "#B0BEC5",
                "#B0BEC5",
                "#B0BEC5",
                "#B0BEC5",
                "#B0BEC5",
                "#B0BEC5",
                "#B0BEC5",
                "#B0BEC5",
                "#B0BEC5",
                "red",
                "#B0BEC5",
                "#B0BEC5",
                "#B0BEC5"
               ]
              ]
             }
            ],
            "label": "Topic 17",
            "method": "update"
           },
           {
            "args": [
             {
              "marker.color": [
               [
                "#B0BEC5",
                "#B0BEC5",
                "#B0BEC5",
                "#B0BEC5",
                "#B0BEC5",
                "#B0BEC5",
                "#B0BEC5",
                "#B0BEC5",
                "#B0BEC5",
                "#B0BEC5",
                "#B0BEC5",
                "#B0BEC5",
                "#B0BEC5",
                "#B0BEC5",
                "#B0BEC5",
                "#B0BEC5",
                "#B0BEC5",
                "#B0BEC5",
                "red",
                "#B0BEC5",
                "#B0BEC5"
               ]
              ]
             }
            ],
            "label": "Topic 18",
            "method": "update"
           },
           {
            "args": [
             {
              "marker.color": [
               [
                "#B0BEC5",
                "#B0BEC5",
                "#B0BEC5",
                "#B0BEC5",
                "#B0BEC5",
                "#B0BEC5",
                "#B0BEC5",
                "#B0BEC5",
                "#B0BEC5",
                "#B0BEC5",
                "#B0BEC5",
                "#B0BEC5",
                "#B0BEC5",
                "#B0BEC5",
                "#B0BEC5",
                "#B0BEC5",
                "#B0BEC5",
                "#B0BEC5",
                "#B0BEC5",
                "red",
                "#B0BEC5"
               ]
              ]
             }
            ],
            "label": "Topic 19",
            "method": "update"
           },
           {
            "args": [
             {
              "marker.color": [
               [
                "#B0BEC5",
                "#B0BEC5",
                "#B0BEC5",
                "#B0BEC5",
                "#B0BEC5",
                "#B0BEC5",
                "#B0BEC5",
                "#B0BEC5",
                "#B0BEC5",
                "#B0BEC5",
                "#B0BEC5",
                "#B0BEC5",
                "#B0BEC5",
                "#B0BEC5",
                "#B0BEC5",
                "#B0BEC5",
                "#B0BEC5",
                "#B0BEC5",
                "#B0BEC5",
                "#B0BEC5",
                "red"
               ]
              ]
             }
            ],
            "label": "Topic 20",
            "method": "update"
           }
          ]
         }
        ],
        "template": {
         "data": {
          "bar": [
           {
            "error_x": {
             "color": "rgb(36,36,36)"
            },
            "error_y": {
             "color": "rgb(36,36,36)"
            },
            "marker": {
             "line": {
              "color": "white",
              "width": 0.5
             },
             "pattern": {
              "fillmode": "overlay",
              "size": 10,
              "solidity": 0.2
             }
            },
            "type": "bar"
           }
          ],
          "barpolar": [
           {
            "marker": {
             "line": {
              "color": "white",
              "width": 0.5
             },
             "pattern": {
              "fillmode": "overlay",
              "size": 10,
              "solidity": 0.2
             }
            },
            "type": "barpolar"
           }
          ],
          "carpet": [
           {
            "aaxis": {
             "endlinecolor": "rgb(36,36,36)",
             "gridcolor": "white",
             "linecolor": "white",
             "minorgridcolor": "white",
             "startlinecolor": "rgb(36,36,36)"
            },
            "baxis": {
             "endlinecolor": "rgb(36,36,36)",
             "gridcolor": "white",
             "linecolor": "white",
             "minorgridcolor": "white",
             "startlinecolor": "rgb(36,36,36)"
            },
            "type": "carpet"
           }
          ],
          "choropleth": [
           {
            "colorbar": {
             "outlinewidth": 1,
             "tickcolor": "rgb(36,36,36)",
             "ticks": "outside"
            },
            "type": "choropleth"
           }
          ],
          "contour": [
           {
            "colorbar": {
             "outlinewidth": 1,
             "tickcolor": "rgb(36,36,36)",
             "ticks": "outside"
            },
            "colorscale": [
             [
              0,
              "#440154"
             ],
             [
              0.1111111111111111,
              "#482878"
             ],
             [
              0.2222222222222222,
              "#3e4989"
             ],
             [
              0.3333333333333333,
              "#31688e"
             ],
             [
              0.4444444444444444,
              "#26828e"
             ],
             [
              0.5555555555555556,
              "#1f9e89"
             ],
             [
              0.6666666666666666,
              "#35b779"
             ],
             [
              0.7777777777777778,
              "#6ece58"
             ],
             [
              0.8888888888888888,
              "#b5de2b"
             ],
             [
              1,
              "#fde725"
             ]
            ],
            "type": "contour"
           }
          ],
          "contourcarpet": [
           {
            "colorbar": {
             "outlinewidth": 1,
             "tickcolor": "rgb(36,36,36)",
             "ticks": "outside"
            },
            "type": "contourcarpet"
           }
          ],
          "heatmap": [
           {
            "colorbar": {
             "outlinewidth": 1,
             "tickcolor": "rgb(36,36,36)",
             "ticks": "outside"
            },
            "colorscale": [
             [
              0,
              "#440154"
             ],
             [
              0.1111111111111111,
              "#482878"
             ],
             [
              0.2222222222222222,
              "#3e4989"
             ],
             [
              0.3333333333333333,
              "#31688e"
             ],
             [
              0.4444444444444444,
              "#26828e"
             ],
             [
              0.5555555555555556,
              "#1f9e89"
             ],
             [
              0.6666666666666666,
              "#35b779"
             ],
             [
              0.7777777777777778,
              "#6ece58"
             ],
             [
              0.8888888888888888,
              "#b5de2b"
             ],
             [
              1,
              "#fde725"
             ]
            ],
            "type": "heatmap"
           }
          ],
          "histogram": [
           {
            "marker": {
             "line": {
              "color": "white",
              "width": 0.6
             }
            },
            "type": "histogram"
           }
          ],
          "histogram2d": [
           {
            "colorbar": {
             "outlinewidth": 1,
             "tickcolor": "rgb(36,36,36)",
             "ticks": "outside"
            },
            "colorscale": [
             [
              0,
              "#440154"
             ],
             [
              0.1111111111111111,
              "#482878"
             ],
             [
              0.2222222222222222,
              "#3e4989"
             ],
             [
              0.3333333333333333,
              "#31688e"
             ],
             [
              0.4444444444444444,
              "#26828e"
             ],
             [
              0.5555555555555556,
              "#1f9e89"
             ],
             [
              0.6666666666666666,
              "#35b779"
             ],
             [
              0.7777777777777778,
              "#6ece58"
             ],
             [
              0.8888888888888888,
              "#b5de2b"
             ],
             [
              1,
              "#fde725"
             ]
            ],
            "type": "histogram2d"
           }
          ],
          "histogram2dcontour": [
           {
            "colorbar": {
             "outlinewidth": 1,
             "tickcolor": "rgb(36,36,36)",
             "ticks": "outside"
            },
            "colorscale": [
             [
              0,
              "#440154"
             ],
             [
              0.1111111111111111,
              "#482878"
             ],
             [
              0.2222222222222222,
              "#3e4989"
             ],
             [
              0.3333333333333333,
              "#31688e"
             ],
             [
              0.4444444444444444,
              "#26828e"
             ],
             [
              0.5555555555555556,
              "#1f9e89"
             ],
             [
              0.6666666666666666,
              "#35b779"
             ],
             [
              0.7777777777777778,
              "#6ece58"
             ],
             [
              0.8888888888888888,
              "#b5de2b"
             ],
             [
              1,
              "#fde725"
             ]
            ],
            "type": "histogram2dcontour"
           }
          ],
          "mesh3d": [
           {
            "colorbar": {
             "outlinewidth": 1,
             "tickcolor": "rgb(36,36,36)",
             "ticks": "outside"
            },
            "type": "mesh3d"
           }
          ],
          "parcoords": [
           {
            "line": {
             "colorbar": {
              "outlinewidth": 1,
              "tickcolor": "rgb(36,36,36)",
              "ticks": "outside"
             }
            },
            "type": "parcoords"
           }
          ],
          "pie": [
           {
            "automargin": true,
            "type": "pie"
           }
          ],
          "scatter": [
           {
            "fillpattern": {
             "fillmode": "overlay",
             "size": 10,
             "solidity": 0.2
            },
            "type": "scatter"
           }
          ],
          "scatter3d": [
           {
            "line": {
             "colorbar": {
              "outlinewidth": 1,
              "tickcolor": "rgb(36,36,36)",
              "ticks": "outside"
             }
            },
            "marker": {
             "colorbar": {
              "outlinewidth": 1,
              "tickcolor": "rgb(36,36,36)",
              "ticks": "outside"
             }
            },
            "type": "scatter3d"
           }
          ],
          "scattercarpet": [
           {
            "marker": {
             "colorbar": {
              "outlinewidth": 1,
              "tickcolor": "rgb(36,36,36)",
              "ticks": "outside"
             }
            },
            "type": "scattercarpet"
           }
          ],
          "scattergeo": [
           {
            "marker": {
             "colorbar": {
              "outlinewidth": 1,
              "tickcolor": "rgb(36,36,36)",
              "ticks": "outside"
             }
            },
            "type": "scattergeo"
           }
          ],
          "scattergl": [
           {
            "marker": {
             "colorbar": {
              "outlinewidth": 1,
              "tickcolor": "rgb(36,36,36)",
              "ticks": "outside"
             }
            },
            "type": "scattergl"
           }
          ],
          "scattermap": [
           {
            "marker": {
             "colorbar": {
              "outlinewidth": 1,
              "tickcolor": "rgb(36,36,36)",
              "ticks": "outside"
             }
            },
            "type": "scattermap"
           }
          ],
          "scattermapbox": [
           {
            "marker": {
             "colorbar": {
              "outlinewidth": 1,
              "tickcolor": "rgb(36,36,36)",
              "ticks": "outside"
             }
            },
            "type": "scattermapbox"
           }
          ],
          "scatterpolar": [
           {
            "marker": {
             "colorbar": {
              "outlinewidth": 1,
              "tickcolor": "rgb(36,36,36)",
              "ticks": "outside"
             }
            },
            "type": "scatterpolar"
           }
          ],
          "scatterpolargl": [
           {
            "marker": {
             "colorbar": {
              "outlinewidth": 1,
              "tickcolor": "rgb(36,36,36)",
              "ticks": "outside"
             }
            },
            "type": "scatterpolargl"
           }
          ],
          "scatterternary": [
           {
            "marker": {
             "colorbar": {
              "outlinewidth": 1,
              "tickcolor": "rgb(36,36,36)",
              "ticks": "outside"
             }
            },
            "type": "scatterternary"
           }
          ],
          "surface": [
           {
            "colorbar": {
             "outlinewidth": 1,
             "tickcolor": "rgb(36,36,36)",
             "ticks": "outside"
            },
            "colorscale": [
             [
              0,
              "#440154"
             ],
             [
              0.1111111111111111,
              "#482878"
             ],
             [
              0.2222222222222222,
              "#3e4989"
             ],
             [
              0.3333333333333333,
              "#31688e"
             ],
             [
              0.4444444444444444,
              "#26828e"
             ],
             [
              0.5555555555555556,
              "#1f9e89"
             ],
             [
              0.6666666666666666,
              "#35b779"
             ],
             [
              0.7777777777777778,
              "#6ece58"
             ],
             [
              0.8888888888888888,
              "#b5de2b"
             ],
             [
              1,
              "#fde725"
             ]
            ],
            "type": "surface"
           }
          ],
          "table": [
           {
            "cells": {
             "fill": {
              "color": "rgb(237,237,237)"
             },
             "line": {
              "color": "white"
             }
            },
            "header": {
             "fill": {
              "color": "rgb(217,217,217)"
             },
             "line": {
              "color": "white"
             }
            },
            "type": "table"
           }
          ]
         },
         "layout": {
          "annotationdefaults": {
           "arrowhead": 0,
           "arrowwidth": 1
          },
          "autotypenumbers": "strict",
          "coloraxis": {
           "colorbar": {
            "outlinewidth": 1,
            "tickcolor": "rgb(36,36,36)",
            "ticks": "outside"
           }
          },
          "colorscale": {
           "diverging": [
            [
             0,
             "rgb(103,0,31)"
            ],
            [
             0.1,
             "rgb(178,24,43)"
            ],
            [
             0.2,
             "rgb(214,96,77)"
            ],
            [
             0.3,
             "rgb(244,165,130)"
            ],
            [
             0.4,
             "rgb(253,219,199)"
            ],
            [
             0.5,
             "rgb(247,247,247)"
            ],
            [
             0.6,
             "rgb(209,229,240)"
            ],
            [
             0.7,
             "rgb(146,197,222)"
            ],
            [
             0.8,
             "rgb(67,147,195)"
            ],
            [
             0.9,
             "rgb(33,102,172)"
            ],
            [
             1,
             "rgb(5,48,97)"
            ]
           ],
           "sequential": [
            [
             0,
             "#440154"
            ],
            [
             0.1111111111111111,
             "#482878"
            ],
            [
             0.2222222222222222,
             "#3e4989"
            ],
            [
             0.3333333333333333,
             "#31688e"
            ],
            [
             0.4444444444444444,
             "#26828e"
            ],
            [
             0.5555555555555556,
             "#1f9e89"
            ],
            [
             0.6666666666666666,
             "#35b779"
            ],
            [
             0.7777777777777778,
             "#6ece58"
            ],
            [
             0.8888888888888888,
             "#b5de2b"
            ],
            [
             1,
             "#fde725"
            ]
           ],
           "sequentialminus": [
            [
             0,
             "#440154"
            ],
            [
             0.1111111111111111,
             "#482878"
            ],
            [
             0.2222222222222222,
             "#3e4989"
            ],
            [
             0.3333333333333333,
             "#31688e"
            ],
            [
             0.4444444444444444,
             "#26828e"
            ],
            [
             0.5555555555555556,
             "#1f9e89"
            ],
            [
             0.6666666666666666,
             "#35b779"
            ],
            [
             0.7777777777777778,
             "#6ece58"
            ],
            [
             0.8888888888888888,
             "#b5de2b"
            ],
            [
             1,
             "#fde725"
            ]
           ]
          },
          "colorway": [
           "#1F77B4",
           "#FF7F0E",
           "#2CA02C",
           "#D62728",
           "#9467BD",
           "#8C564B",
           "#E377C2",
           "#7F7F7F",
           "#BCBD22",
           "#17BECF"
          ],
          "font": {
           "color": "rgb(36,36,36)"
          },
          "geo": {
           "bgcolor": "white",
           "lakecolor": "white",
           "landcolor": "white",
           "showlakes": true,
           "showland": true,
           "subunitcolor": "white"
          },
          "hoverlabel": {
           "align": "left"
          },
          "hovermode": "closest",
          "mapbox": {
           "style": "light"
          },
          "paper_bgcolor": "white",
          "plot_bgcolor": "white",
          "polar": {
           "angularaxis": {
            "gridcolor": "rgb(232,232,232)",
            "linecolor": "rgb(36,36,36)",
            "showgrid": false,
            "showline": true,
            "ticks": "outside"
           },
           "bgcolor": "white",
           "radialaxis": {
            "gridcolor": "rgb(232,232,232)",
            "linecolor": "rgb(36,36,36)",
            "showgrid": false,
            "showline": true,
            "ticks": "outside"
           }
          },
          "scene": {
           "xaxis": {
            "backgroundcolor": "white",
            "gridcolor": "rgb(232,232,232)",
            "gridwidth": 2,
            "linecolor": "rgb(36,36,36)",
            "showbackground": true,
            "showgrid": false,
            "showline": true,
            "ticks": "outside",
            "zeroline": false,
            "zerolinecolor": "rgb(36,36,36)"
           },
           "yaxis": {
            "backgroundcolor": "white",
            "gridcolor": "rgb(232,232,232)",
            "gridwidth": 2,
            "linecolor": "rgb(36,36,36)",
            "showbackground": true,
            "showgrid": false,
            "showline": true,
            "ticks": "outside",
            "zeroline": false,
            "zerolinecolor": "rgb(36,36,36)"
           },
           "zaxis": {
            "backgroundcolor": "white",
            "gridcolor": "rgb(232,232,232)",
            "gridwidth": 2,
            "linecolor": "rgb(36,36,36)",
            "showbackground": true,
            "showgrid": false,
            "showline": true,
            "ticks": "outside",
            "zeroline": false,
            "zerolinecolor": "rgb(36,36,36)"
           }
          },
          "shapedefaults": {
           "fillcolor": "black",
           "line": {
            "width": 0
           },
           "opacity": 0.3
          },
          "ternary": {
           "aaxis": {
            "gridcolor": "rgb(232,232,232)",
            "linecolor": "rgb(36,36,36)",
            "showgrid": false,
            "showline": true,
            "ticks": "outside"
           },
           "baxis": {
            "gridcolor": "rgb(232,232,232)",
            "linecolor": "rgb(36,36,36)",
            "showgrid": false,
            "showline": true,
            "ticks": "outside"
           },
           "bgcolor": "white",
           "caxis": {
            "gridcolor": "rgb(232,232,232)",
            "linecolor": "rgb(36,36,36)",
            "showgrid": false,
            "showline": true,
            "ticks": "outside"
           }
          },
          "title": {
           "x": 0.05
          },
          "xaxis": {
           "automargin": true,
           "gridcolor": "rgb(232,232,232)",
           "linecolor": "rgb(36,36,36)",
           "showgrid": false,
           "showline": true,
           "ticks": "outside",
           "title": {
            "standoff": 15
           },
           "zeroline": false,
           "zerolinecolor": "rgb(36,36,36)"
          },
          "yaxis": {
           "automargin": true,
           "gridcolor": "rgb(232,232,232)",
           "linecolor": "rgb(36,36,36)",
           "showgrid": false,
           "showline": true,
           "ticks": "outside",
           "title": {
            "standoff": 15
           },
           "zeroline": false,
           "zerolinecolor": "rgb(36,36,36)"
          }
         }
        },
        "title": {
         "font": {
          "color": "Black",
          "size": 22
         },
         "text": "<b>Intertopic Distance Map</b>",
         "x": 0.5,
         "xanchor": "center",
         "y": 0.95,
         "yanchor": "top"
        },
        "width": 650,
        "xaxis": {
         "anchor": "y",
         "domain": [
          0,
          1
         ],
         "range": [
          -0.45671436190605164,
          21.69485092163086
         ],
         "title": {
          "text": ""
         },
         "visible": false
        },
        "yaxis": {
         "anchor": "x",
         "domain": [
          0,
          1
         ],
         "range": [
          -5.975070476531982,
          25.504995346069336
         ],
         "title": {
          "text": ""
         },
         "visible": false
        }
       }
      },
      "text/html": [
       "<div>                        <script type=\"text/javascript\">window.PlotlyConfig = {MathJaxConfig: 'local'};</script>\n",
       "        <script charset=\"utf-8\" src=\"https://cdn.plot.ly/plotly-3.0.1.min.js\"></script>                <div id=\"125755d7-d509-4df1-9364-0a1e31c1422b\" class=\"plotly-graph-div\" style=\"height:650px; width:650px;\"></div>            <script type=\"text/javascript\">                window.PLOTLYENV=window.PLOTLYENV || {};                                if (document.getElementById(\"125755d7-d509-4df1-9364-0a1e31c1422b\")) {                    Plotly.newPlot(                        \"125755d7-d509-4df1-9364-0a1e31c1422b\",                        [{\"customdata\":[[0,\"white | search | google | anti | nobody\",37],[1,\"recall | european | would | tesla | glue\",36],[2,\"notice | courts | something | libs | slated\",34],[3,\"faces | sold | want | even | child\",29],[4,\"make | would | woods | christianity | us\",28],[5,\"care | baltics | fuck | russians | whitebaltics\",26],[6,\"ukraine | bbc | uk | catbox | moe\",25],[7,\"step | great | every | literal | america\",23],[8,\"trump | https | com | washington | dc\",22],[9,\"poilievre | polls | policy | real | never\",22],[10,\"convinced | shitalians | tomatokikes | semitic | majority\",21],[11,\"go | coffee | br | woke | drink\",21],[12,\"prison | lockdown | inmates | staff | thomson\",21],[13,\"chickens | eggs | test | genocide | pro\",18],[14,\"niggers | dei | jobs | use | hate\",17],[15,\"pagan | post | nazi | memes | pro\",15],[16,\"english | dropped | recognize | official | wqygcbceceu\",13],[17,\"consciousness | soul | its | like | dwelled\",12],[18,\"netanyahu | palestine | backing | base | conspiracy\",11],[19,\"us | commonwealth | americas | offer | politics\",11],[20,\"east | white | bunnies | snow | interbreeding\",11]],\"hovertemplate\":\"\\u003cb\\u003eTopic %{customdata[0]}\\u003c\\u002fb\\u003e\\u003cbr\\u003e%{customdata[1]}\\u003cbr\\u003eSize: %{customdata[2]}\",\"legendgroup\":\"\",\"marker\":{\"color\":\"#B0BEC5\",\"size\":{\"dtype\":\"i1\",\"bdata\":\"JSQiHRwaGRcWFhUVFRIRDw0MCwsL\"},\"sizemode\":\"area\",\"sizeref\":0.023125,\"symbol\":\"circle\",\"line\":{\"color\":\"DarkSlateGrey\",\"width\":2}},\"mode\":\"markers\",\"name\":\"\",\"orientation\":\"v\",\"showlegend\":false,\"x\":{\"dtype\":\"f4\",\"bdata\":\"\\u002fxePQGZOzUCRA45AnU+NviB9rECh075AGA7nQG8ijUFRZYtBmwbeQOIBlEAwS5hA5IuPQVFWy76O7oVAWoi2QHrSlUGm4p5AEFPvQLPrlkHhG51A\"},\"xaxis\":\"x\",\"y\":{\"dtype\":\"f4\",\"bdata\":\"VMRVQABCkUCAPnlB12KiwFjyeUAz1YxAfd+7QGw6JMDQUxbAMZGwQBR6NkDfHHRBboc3wElDpsCimDdA1\\u002fxiQCJRsEGU0HBB3WbFQBJtsUErLUlA\"},\"yaxis\":\"y\",\"type\":\"scatter\"}],                        {\"template\":{\"data\":{\"barpolar\":[{\"marker\":{\"line\":{\"color\":\"white\",\"width\":0.5},\"pattern\":{\"fillmode\":\"overlay\",\"size\":10,\"solidity\":0.2}},\"type\":\"barpolar\"}],\"bar\":[{\"error_x\":{\"color\":\"rgb(36,36,36)\"},\"error_y\":{\"color\":\"rgb(36,36,36)\"},\"marker\":{\"line\":{\"color\":\"white\",\"width\":0.5},\"pattern\":{\"fillmode\":\"overlay\",\"size\":10,\"solidity\":0.2}},\"type\":\"bar\"}],\"carpet\":[{\"aaxis\":{\"endlinecolor\":\"rgb(36,36,36)\",\"gridcolor\":\"white\",\"linecolor\":\"white\",\"minorgridcolor\":\"white\",\"startlinecolor\":\"rgb(36,36,36)\"},\"baxis\":{\"endlinecolor\":\"rgb(36,36,36)\",\"gridcolor\":\"white\",\"linecolor\":\"white\",\"minorgridcolor\":\"white\",\"startlinecolor\":\"rgb(36,36,36)\"},\"type\":\"carpet\"}],\"choropleth\":[{\"colorbar\":{\"outlinewidth\":1,\"tickcolor\":\"rgb(36,36,36)\",\"ticks\":\"outside\"},\"type\":\"choropleth\"}],\"contourcarpet\":[{\"colorbar\":{\"outlinewidth\":1,\"tickcolor\":\"rgb(36,36,36)\",\"ticks\":\"outside\"},\"type\":\"contourcarpet\"}],\"contour\":[{\"colorbar\":{\"outlinewidth\":1,\"tickcolor\":\"rgb(36,36,36)\",\"ticks\":\"outside\"},\"colorscale\":[[0.0,\"#440154\"],[0.1111111111111111,\"#482878\"],[0.2222222222222222,\"#3e4989\"],[0.3333333333333333,\"#31688e\"],[0.4444444444444444,\"#26828e\"],[0.5555555555555556,\"#1f9e89\"],[0.6666666666666666,\"#35b779\"],[0.7777777777777778,\"#6ece58\"],[0.8888888888888888,\"#b5de2b\"],[1.0,\"#fde725\"]],\"type\":\"contour\"}],\"heatmap\":[{\"colorbar\":{\"outlinewidth\":1,\"tickcolor\":\"rgb(36,36,36)\",\"ticks\":\"outside\"},\"colorscale\":[[0.0,\"#440154\"],[0.1111111111111111,\"#482878\"],[0.2222222222222222,\"#3e4989\"],[0.3333333333333333,\"#31688e\"],[0.4444444444444444,\"#26828e\"],[0.5555555555555556,\"#1f9e89\"],[0.6666666666666666,\"#35b779\"],[0.7777777777777778,\"#6ece58\"],[0.8888888888888888,\"#b5de2b\"],[1.0,\"#fde725\"]],\"type\":\"heatmap\"}],\"histogram2dcontour\":[{\"colorbar\":{\"outlinewidth\":1,\"tickcolor\":\"rgb(36,36,36)\",\"ticks\":\"outside\"},\"colorscale\":[[0.0,\"#440154\"],[0.1111111111111111,\"#482878\"],[0.2222222222222222,\"#3e4989\"],[0.3333333333333333,\"#31688e\"],[0.4444444444444444,\"#26828e\"],[0.5555555555555556,\"#1f9e89\"],[0.6666666666666666,\"#35b779\"],[0.7777777777777778,\"#6ece58\"],[0.8888888888888888,\"#b5de2b\"],[1.0,\"#fde725\"]],\"type\":\"histogram2dcontour\"}],\"histogram2d\":[{\"colorbar\":{\"outlinewidth\":1,\"tickcolor\":\"rgb(36,36,36)\",\"ticks\":\"outside\"},\"colorscale\":[[0.0,\"#440154\"],[0.1111111111111111,\"#482878\"],[0.2222222222222222,\"#3e4989\"],[0.3333333333333333,\"#31688e\"],[0.4444444444444444,\"#26828e\"],[0.5555555555555556,\"#1f9e89\"],[0.6666666666666666,\"#35b779\"],[0.7777777777777778,\"#6ece58\"],[0.8888888888888888,\"#b5de2b\"],[1.0,\"#fde725\"]],\"type\":\"histogram2d\"}],\"histogram\":[{\"marker\":{\"line\":{\"color\":\"white\",\"width\":0.6}},\"type\":\"histogram\"}],\"mesh3d\":[{\"colorbar\":{\"outlinewidth\":1,\"tickcolor\":\"rgb(36,36,36)\",\"ticks\":\"outside\"},\"type\":\"mesh3d\"}],\"parcoords\":[{\"line\":{\"colorbar\":{\"outlinewidth\":1,\"tickcolor\":\"rgb(36,36,36)\",\"ticks\":\"outside\"}},\"type\":\"parcoords\"}],\"pie\":[{\"automargin\":true,\"type\":\"pie\"}],\"scatter3d\":[{\"line\":{\"colorbar\":{\"outlinewidth\":1,\"tickcolor\":\"rgb(36,36,36)\",\"ticks\":\"outside\"}},\"marker\":{\"colorbar\":{\"outlinewidth\":1,\"tickcolor\":\"rgb(36,36,36)\",\"ticks\":\"outside\"}},\"type\":\"scatter3d\"}],\"scattercarpet\":[{\"marker\":{\"colorbar\":{\"outlinewidth\":1,\"tickcolor\":\"rgb(36,36,36)\",\"ticks\":\"outside\"}},\"type\":\"scattercarpet\"}],\"scattergeo\":[{\"marker\":{\"colorbar\":{\"outlinewidth\":1,\"tickcolor\":\"rgb(36,36,36)\",\"ticks\":\"outside\"}},\"type\":\"scattergeo\"}],\"scattergl\":[{\"marker\":{\"colorbar\":{\"outlinewidth\":1,\"tickcolor\":\"rgb(36,36,36)\",\"ticks\":\"outside\"}},\"type\":\"scattergl\"}],\"scattermapbox\":[{\"marker\":{\"colorbar\":{\"outlinewidth\":1,\"tickcolor\":\"rgb(36,36,36)\",\"ticks\":\"outside\"}},\"type\":\"scattermapbox\"}],\"scattermap\":[{\"marker\":{\"colorbar\":{\"outlinewidth\":1,\"tickcolor\":\"rgb(36,36,36)\",\"ticks\":\"outside\"}},\"type\":\"scattermap\"}],\"scatterpolargl\":[{\"marker\":{\"colorbar\":{\"outlinewidth\":1,\"tickcolor\":\"rgb(36,36,36)\",\"ticks\":\"outside\"}},\"type\":\"scatterpolargl\"}],\"scatterpolar\":[{\"marker\":{\"colorbar\":{\"outlinewidth\":1,\"tickcolor\":\"rgb(36,36,36)\",\"ticks\":\"outside\"}},\"type\":\"scatterpolar\"}],\"scatter\":[{\"fillpattern\":{\"fillmode\":\"overlay\",\"size\":10,\"solidity\":0.2},\"type\":\"scatter\"}],\"scatterternary\":[{\"marker\":{\"colorbar\":{\"outlinewidth\":1,\"tickcolor\":\"rgb(36,36,36)\",\"ticks\":\"outside\"}},\"type\":\"scatterternary\"}],\"surface\":[{\"colorbar\":{\"outlinewidth\":1,\"tickcolor\":\"rgb(36,36,36)\",\"ticks\":\"outside\"},\"colorscale\":[[0.0,\"#440154\"],[0.1111111111111111,\"#482878\"],[0.2222222222222222,\"#3e4989\"],[0.3333333333333333,\"#31688e\"],[0.4444444444444444,\"#26828e\"],[0.5555555555555556,\"#1f9e89\"],[0.6666666666666666,\"#35b779\"],[0.7777777777777778,\"#6ece58\"],[0.8888888888888888,\"#b5de2b\"],[1.0,\"#fde725\"]],\"type\":\"surface\"}],\"table\":[{\"cells\":{\"fill\":{\"color\":\"rgb(237,237,237)\"},\"line\":{\"color\":\"white\"}},\"header\":{\"fill\":{\"color\":\"rgb(217,217,217)\"},\"line\":{\"color\":\"white\"}},\"type\":\"table\"}]},\"layout\":{\"annotationdefaults\":{\"arrowhead\":0,\"arrowwidth\":1},\"autotypenumbers\":\"strict\",\"coloraxis\":{\"colorbar\":{\"outlinewidth\":1,\"tickcolor\":\"rgb(36,36,36)\",\"ticks\":\"outside\"}},\"colorscale\":{\"diverging\":[[0.0,\"rgb(103,0,31)\"],[0.1,\"rgb(178,24,43)\"],[0.2,\"rgb(214,96,77)\"],[0.3,\"rgb(244,165,130)\"],[0.4,\"rgb(253,219,199)\"],[0.5,\"rgb(247,247,247)\"],[0.6,\"rgb(209,229,240)\"],[0.7,\"rgb(146,197,222)\"],[0.8,\"rgb(67,147,195)\"],[0.9,\"rgb(33,102,172)\"],[1.0,\"rgb(5,48,97)\"]],\"sequential\":[[0.0,\"#440154\"],[0.1111111111111111,\"#482878\"],[0.2222222222222222,\"#3e4989\"],[0.3333333333333333,\"#31688e\"],[0.4444444444444444,\"#26828e\"],[0.5555555555555556,\"#1f9e89\"],[0.6666666666666666,\"#35b779\"],[0.7777777777777778,\"#6ece58\"],[0.8888888888888888,\"#b5de2b\"],[1.0,\"#fde725\"]],\"sequentialminus\":[[0.0,\"#440154\"],[0.1111111111111111,\"#482878\"],[0.2222222222222222,\"#3e4989\"],[0.3333333333333333,\"#31688e\"],[0.4444444444444444,\"#26828e\"],[0.5555555555555556,\"#1f9e89\"],[0.6666666666666666,\"#35b779\"],[0.7777777777777778,\"#6ece58\"],[0.8888888888888888,\"#b5de2b\"],[1.0,\"#fde725\"]]},\"colorway\":[\"#1F77B4\",\"#FF7F0E\",\"#2CA02C\",\"#D62728\",\"#9467BD\",\"#8C564B\",\"#E377C2\",\"#7F7F7F\",\"#BCBD22\",\"#17BECF\"],\"font\":{\"color\":\"rgb(36,36,36)\"},\"geo\":{\"bgcolor\":\"white\",\"lakecolor\":\"white\",\"landcolor\":\"white\",\"showlakes\":true,\"showland\":true,\"subunitcolor\":\"white\"},\"hoverlabel\":{\"align\":\"left\"},\"hovermode\":\"closest\",\"mapbox\":{\"style\":\"light\"},\"paper_bgcolor\":\"white\",\"plot_bgcolor\":\"white\",\"polar\":{\"angularaxis\":{\"gridcolor\":\"rgb(232,232,232)\",\"linecolor\":\"rgb(36,36,36)\",\"showgrid\":false,\"showline\":true,\"ticks\":\"outside\"},\"bgcolor\":\"white\",\"radialaxis\":{\"gridcolor\":\"rgb(232,232,232)\",\"linecolor\":\"rgb(36,36,36)\",\"showgrid\":false,\"showline\":true,\"ticks\":\"outside\"}},\"scene\":{\"xaxis\":{\"backgroundcolor\":\"white\",\"gridcolor\":\"rgb(232,232,232)\",\"gridwidth\":2,\"linecolor\":\"rgb(36,36,36)\",\"showbackground\":true,\"showgrid\":false,\"showline\":true,\"ticks\":\"outside\",\"zeroline\":false,\"zerolinecolor\":\"rgb(36,36,36)\"},\"yaxis\":{\"backgroundcolor\":\"white\",\"gridcolor\":\"rgb(232,232,232)\",\"gridwidth\":2,\"linecolor\":\"rgb(36,36,36)\",\"showbackground\":true,\"showgrid\":false,\"showline\":true,\"ticks\":\"outside\",\"zeroline\":false,\"zerolinecolor\":\"rgb(36,36,36)\"},\"zaxis\":{\"backgroundcolor\":\"white\",\"gridcolor\":\"rgb(232,232,232)\",\"gridwidth\":2,\"linecolor\":\"rgb(36,36,36)\",\"showbackground\":true,\"showgrid\":false,\"showline\":true,\"ticks\":\"outside\",\"zeroline\":false,\"zerolinecolor\":\"rgb(36,36,36)\"}},\"shapedefaults\":{\"fillcolor\":\"black\",\"line\":{\"width\":0},\"opacity\":0.3},\"ternary\":{\"aaxis\":{\"gridcolor\":\"rgb(232,232,232)\",\"linecolor\":\"rgb(36,36,36)\",\"showgrid\":false,\"showline\":true,\"ticks\":\"outside\"},\"baxis\":{\"gridcolor\":\"rgb(232,232,232)\",\"linecolor\":\"rgb(36,36,36)\",\"showgrid\":false,\"showline\":true,\"ticks\":\"outside\"},\"bgcolor\":\"white\",\"caxis\":{\"gridcolor\":\"rgb(232,232,232)\",\"linecolor\":\"rgb(36,36,36)\",\"showgrid\":false,\"showline\":true,\"ticks\":\"outside\"}},\"title\":{\"x\":0.05},\"xaxis\":{\"automargin\":true,\"gridcolor\":\"rgb(232,232,232)\",\"linecolor\":\"rgb(36,36,36)\",\"showgrid\":false,\"showline\":true,\"ticks\":\"outside\",\"title\":{\"standoff\":15},\"zeroline\":false,\"zerolinecolor\":\"rgb(36,36,36)\"},\"yaxis\":{\"automargin\":true,\"gridcolor\":\"rgb(232,232,232)\",\"linecolor\":\"rgb(36,36,36)\",\"showgrid\":false,\"showline\":true,\"ticks\":\"outside\",\"title\":{\"standoff\":15},\"zeroline\":false,\"zerolinecolor\":\"rgb(36,36,36)\"}}},\"xaxis\":{\"anchor\":\"y\",\"domain\":[0.0,1.0],\"title\":{\"text\":\"\"},\"visible\":false,\"range\":[-0.45671436190605164,21.69485092163086]},\"yaxis\":{\"anchor\":\"x\",\"domain\":[0.0,1.0],\"title\":{\"text\":\"\"},\"visible\":false,\"range\":[-5.975070476531982,25.504995346069336]},\"legend\":{\"tracegroupgap\":0,\"itemsizing\":\"constant\"},\"margin\":{\"t\":60},\"title\":{\"font\":{\"size\":22,\"color\":\"Black\"},\"text\":\"\\u003cb\\u003eIntertopic Distance Map\\u003c\\u002fb\\u003e\",\"y\":0.95,\"x\":0.5,\"xanchor\":\"center\",\"yanchor\":\"top\"},\"hoverlabel\":{\"font\":{\"size\":16,\"family\":\"Rockwell\"},\"bgcolor\":\"white\"},\"width\":650,\"height\":650,\"sliders\":[{\"active\":0,\"pad\":{\"t\":50},\"steps\":[{\"args\":[{\"marker.color\":[[\"red\",\"#B0BEC5\",\"#B0BEC5\",\"#B0BEC5\",\"#B0BEC5\",\"#B0BEC5\",\"#B0BEC5\",\"#B0BEC5\",\"#B0BEC5\",\"#B0BEC5\",\"#B0BEC5\",\"#B0BEC5\",\"#B0BEC5\",\"#B0BEC5\",\"#B0BEC5\",\"#B0BEC5\",\"#B0BEC5\",\"#B0BEC5\",\"#B0BEC5\",\"#B0BEC5\",\"#B0BEC5\"]]}],\"label\":\"Topic 0\",\"method\":\"update\"},{\"args\":[{\"marker.color\":[[\"#B0BEC5\",\"red\",\"#B0BEC5\",\"#B0BEC5\",\"#B0BEC5\",\"#B0BEC5\",\"#B0BEC5\",\"#B0BEC5\",\"#B0BEC5\",\"#B0BEC5\",\"#B0BEC5\",\"#B0BEC5\",\"#B0BEC5\",\"#B0BEC5\",\"#B0BEC5\",\"#B0BEC5\",\"#B0BEC5\",\"#B0BEC5\",\"#B0BEC5\",\"#B0BEC5\",\"#B0BEC5\"]]}],\"label\":\"Topic 1\",\"method\":\"update\"},{\"args\":[{\"marker.color\":[[\"#B0BEC5\",\"#B0BEC5\",\"red\",\"#B0BEC5\",\"#B0BEC5\",\"#B0BEC5\",\"#B0BEC5\",\"#B0BEC5\",\"#B0BEC5\",\"#B0BEC5\",\"#B0BEC5\",\"#B0BEC5\",\"#B0BEC5\",\"#B0BEC5\",\"#B0BEC5\",\"#B0BEC5\",\"#B0BEC5\",\"#B0BEC5\",\"#B0BEC5\",\"#B0BEC5\",\"#B0BEC5\"]]}],\"label\":\"Topic 2\",\"method\":\"update\"},{\"args\":[{\"marker.color\":[[\"#B0BEC5\",\"#B0BEC5\",\"#B0BEC5\",\"red\",\"#B0BEC5\",\"#B0BEC5\",\"#B0BEC5\",\"#B0BEC5\",\"#B0BEC5\",\"#B0BEC5\",\"#B0BEC5\",\"#B0BEC5\",\"#B0BEC5\",\"#B0BEC5\",\"#B0BEC5\",\"#B0BEC5\",\"#B0BEC5\",\"#B0BEC5\",\"#B0BEC5\",\"#B0BEC5\",\"#B0BEC5\"]]}],\"label\":\"Topic 3\",\"method\":\"update\"},{\"args\":[{\"marker.color\":[[\"#B0BEC5\",\"#B0BEC5\",\"#B0BEC5\",\"#B0BEC5\",\"red\",\"#B0BEC5\",\"#B0BEC5\",\"#B0BEC5\",\"#B0BEC5\",\"#B0BEC5\",\"#B0BEC5\",\"#B0BEC5\",\"#B0BEC5\",\"#B0BEC5\",\"#B0BEC5\",\"#B0BEC5\",\"#B0BEC5\",\"#B0BEC5\",\"#B0BEC5\",\"#B0BEC5\",\"#B0BEC5\"]]}],\"label\":\"Topic 4\",\"method\":\"update\"},{\"args\":[{\"marker.color\":[[\"#B0BEC5\",\"#B0BEC5\",\"#B0BEC5\",\"#B0BEC5\",\"#B0BEC5\",\"red\",\"#B0BEC5\",\"#B0BEC5\",\"#B0BEC5\",\"#B0BEC5\",\"#B0BEC5\",\"#B0BEC5\",\"#B0BEC5\",\"#B0BEC5\",\"#B0BEC5\",\"#B0BEC5\",\"#B0BEC5\",\"#B0BEC5\",\"#B0BEC5\",\"#B0BEC5\",\"#B0BEC5\"]]}],\"label\":\"Topic 5\",\"method\":\"update\"},{\"args\":[{\"marker.color\":[[\"#B0BEC5\",\"#B0BEC5\",\"#B0BEC5\",\"#B0BEC5\",\"#B0BEC5\",\"#B0BEC5\",\"red\",\"#B0BEC5\",\"#B0BEC5\",\"#B0BEC5\",\"#B0BEC5\",\"#B0BEC5\",\"#B0BEC5\",\"#B0BEC5\",\"#B0BEC5\",\"#B0BEC5\",\"#B0BEC5\",\"#B0BEC5\",\"#B0BEC5\",\"#B0BEC5\",\"#B0BEC5\"]]}],\"label\":\"Topic 6\",\"method\":\"update\"},{\"args\":[{\"marker.color\":[[\"#B0BEC5\",\"#B0BEC5\",\"#B0BEC5\",\"#B0BEC5\",\"#B0BEC5\",\"#B0BEC5\",\"#B0BEC5\",\"red\",\"#B0BEC5\",\"#B0BEC5\",\"#B0BEC5\",\"#B0BEC5\",\"#B0BEC5\",\"#B0BEC5\",\"#B0BEC5\",\"#B0BEC5\",\"#B0BEC5\",\"#B0BEC5\",\"#B0BEC5\",\"#B0BEC5\",\"#B0BEC5\"]]}],\"label\":\"Topic 7\",\"method\":\"update\"},{\"args\":[{\"marker.color\":[[\"#B0BEC5\",\"#B0BEC5\",\"#B0BEC5\",\"#B0BEC5\",\"#B0BEC5\",\"#B0BEC5\",\"#B0BEC5\",\"#B0BEC5\",\"red\",\"#B0BEC5\",\"#B0BEC5\",\"#B0BEC5\",\"#B0BEC5\",\"#B0BEC5\",\"#B0BEC5\",\"#B0BEC5\",\"#B0BEC5\",\"#B0BEC5\",\"#B0BEC5\",\"#B0BEC5\",\"#B0BEC5\"]]}],\"label\":\"Topic 8\",\"method\":\"update\"},{\"args\":[{\"marker.color\":[[\"#B0BEC5\",\"#B0BEC5\",\"#B0BEC5\",\"#B0BEC5\",\"#B0BEC5\",\"#B0BEC5\",\"#B0BEC5\",\"#B0BEC5\",\"#B0BEC5\",\"red\",\"#B0BEC5\",\"#B0BEC5\",\"#B0BEC5\",\"#B0BEC5\",\"#B0BEC5\",\"#B0BEC5\",\"#B0BEC5\",\"#B0BEC5\",\"#B0BEC5\",\"#B0BEC5\",\"#B0BEC5\"]]}],\"label\":\"Topic 9\",\"method\":\"update\"},{\"args\":[{\"marker.color\":[[\"#B0BEC5\",\"#B0BEC5\",\"#B0BEC5\",\"#B0BEC5\",\"#B0BEC5\",\"#B0BEC5\",\"#B0BEC5\",\"#B0BEC5\",\"#B0BEC5\",\"#B0BEC5\",\"red\",\"#B0BEC5\",\"#B0BEC5\",\"#B0BEC5\",\"#B0BEC5\",\"#B0BEC5\",\"#B0BEC5\",\"#B0BEC5\",\"#B0BEC5\",\"#B0BEC5\",\"#B0BEC5\"]]}],\"label\":\"Topic 10\",\"method\":\"update\"},{\"args\":[{\"marker.color\":[[\"#B0BEC5\",\"#B0BEC5\",\"#B0BEC5\",\"#B0BEC5\",\"#B0BEC5\",\"#B0BEC5\",\"#B0BEC5\",\"#B0BEC5\",\"#B0BEC5\",\"#B0BEC5\",\"#B0BEC5\",\"red\",\"#B0BEC5\",\"#B0BEC5\",\"#B0BEC5\",\"#B0BEC5\",\"#B0BEC5\",\"#B0BEC5\",\"#B0BEC5\",\"#B0BEC5\",\"#B0BEC5\"]]}],\"label\":\"Topic 11\",\"method\":\"update\"},{\"args\":[{\"marker.color\":[[\"#B0BEC5\",\"#B0BEC5\",\"#B0BEC5\",\"#B0BEC5\",\"#B0BEC5\",\"#B0BEC5\",\"#B0BEC5\",\"#B0BEC5\",\"#B0BEC5\",\"#B0BEC5\",\"#B0BEC5\",\"#B0BEC5\",\"red\",\"#B0BEC5\",\"#B0BEC5\",\"#B0BEC5\",\"#B0BEC5\",\"#B0BEC5\",\"#B0BEC5\",\"#B0BEC5\",\"#B0BEC5\"]]}],\"label\":\"Topic 12\",\"method\":\"update\"},{\"args\":[{\"marker.color\":[[\"#B0BEC5\",\"#B0BEC5\",\"#B0BEC5\",\"#B0BEC5\",\"#B0BEC5\",\"#B0BEC5\",\"#B0BEC5\",\"#B0BEC5\",\"#B0BEC5\",\"#B0BEC5\",\"#B0BEC5\",\"#B0BEC5\",\"#B0BEC5\",\"red\",\"#B0BEC5\",\"#B0BEC5\",\"#B0BEC5\",\"#B0BEC5\",\"#B0BEC5\",\"#B0BEC5\",\"#B0BEC5\"]]}],\"label\":\"Topic 13\",\"method\":\"update\"},{\"args\":[{\"marker.color\":[[\"#B0BEC5\",\"#B0BEC5\",\"#B0BEC5\",\"#B0BEC5\",\"#B0BEC5\",\"#B0BEC5\",\"#B0BEC5\",\"#B0BEC5\",\"#B0BEC5\",\"#B0BEC5\",\"#B0BEC5\",\"#B0BEC5\",\"#B0BEC5\",\"#B0BEC5\",\"red\",\"#B0BEC5\",\"#B0BEC5\",\"#B0BEC5\",\"#B0BEC5\",\"#B0BEC5\",\"#B0BEC5\"]]}],\"label\":\"Topic 14\",\"method\":\"update\"},{\"args\":[{\"marker.color\":[[\"#B0BEC5\",\"#B0BEC5\",\"#B0BEC5\",\"#B0BEC5\",\"#B0BEC5\",\"#B0BEC5\",\"#B0BEC5\",\"#B0BEC5\",\"#B0BEC5\",\"#B0BEC5\",\"#B0BEC5\",\"#B0BEC5\",\"#B0BEC5\",\"#B0BEC5\",\"#B0BEC5\",\"red\",\"#B0BEC5\",\"#B0BEC5\",\"#B0BEC5\",\"#B0BEC5\",\"#B0BEC5\"]]}],\"label\":\"Topic 15\",\"method\":\"update\"},{\"args\":[{\"marker.color\":[[\"#B0BEC5\",\"#B0BEC5\",\"#B0BEC5\",\"#B0BEC5\",\"#B0BEC5\",\"#B0BEC5\",\"#B0BEC5\",\"#B0BEC5\",\"#B0BEC5\",\"#B0BEC5\",\"#B0BEC5\",\"#B0BEC5\",\"#B0BEC5\",\"#B0BEC5\",\"#B0BEC5\",\"#B0BEC5\",\"red\",\"#B0BEC5\",\"#B0BEC5\",\"#B0BEC5\",\"#B0BEC5\"]]}],\"label\":\"Topic 16\",\"method\":\"update\"},{\"args\":[{\"marker.color\":[[\"#B0BEC5\",\"#B0BEC5\",\"#B0BEC5\",\"#B0BEC5\",\"#B0BEC5\",\"#B0BEC5\",\"#B0BEC5\",\"#B0BEC5\",\"#B0BEC5\",\"#B0BEC5\",\"#B0BEC5\",\"#B0BEC5\",\"#B0BEC5\",\"#B0BEC5\",\"#B0BEC5\",\"#B0BEC5\",\"#B0BEC5\",\"red\",\"#B0BEC5\",\"#B0BEC5\",\"#B0BEC5\"]]}],\"label\":\"Topic 17\",\"method\":\"update\"},{\"args\":[{\"marker.color\":[[\"#B0BEC5\",\"#B0BEC5\",\"#B0BEC5\",\"#B0BEC5\",\"#B0BEC5\",\"#B0BEC5\",\"#B0BEC5\",\"#B0BEC5\",\"#B0BEC5\",\"#B0BEC5\",\"#B0BEC5\",\"#B0BEC5\",\"#B0BEC5\",\"#B0BEC5\",\"#B0BEC5\",\"#B0BEC5\",\"#B0BEC5\",\"#B0BEC5\",\"red\",\"#B0BEC5\",\"#B0BEC5\"]]}],\"label\":\"Topic 18\",\"method\":\"update\"},{\"args\":[{\"marker.color\":[[\"#B0BEC5\",\"#B0BEC5\",\"#B0BEC5\",\"#B0BEC5\",\"#B0BEC5\",\"#B0BEC5\",\"#B0BEC5\",\"#B0BEC5\",\"#B0BEC5\",\"#B0BEC5\",\"#B0BEC5\",\"#B0BEC5\",\"#B0BEC5\",\"#B0BEC5\",\"#B0BEC5\",\"#B0BEC5\",\"#B0BEC5\",\"#B0BEC5\",\"#B0BEC5\",\"red\",\"#B0BEC5\"]]}],\"label\":\"Topic 19\",\"method\":\"update\"},{\"args\":[{\"marker.color\":[[\"#B0BEC5\",\"#B0BEC5\",\"#B0BEC5\",\"#B0BEC5\",\"#B0BEC5\",\"#B0BEC5\",\"#B0BEC5\",\"#B0BEC5\",\"#B0BEC5\",\"#B0BEC5\",\"#B0BEC5\",\"#B0BEC5\",\"#B0BEC5\",\"#B0BEC5\",\"#B0BEC5\",\"#B0BEC5\",\"#B0BEC5\",\"#B0BEC5\",\"#B0BEC5\",\"#B0BEC5\",\"red\"]]}],\"label\":\"Topic 20\",\"method\":\"update\"}]}],\"shapes\":[{\"line\":{\"color\":\"#CFD8DC\",\"width\":2},\"type\":\"line\",\"x0\":10.619068145751953,\"x1\":10.619068145751953,\"y0\":-5.975070476531982,\"y1\":25.504995346069336},{\"line\":{\"color\":\"#9E9E9E\",\"width\":2},\"type\":\"line\",\"x0\":-0.45671436190605164,\"x1\":21.69485092163086,\"y0\":9.764962196350098,\"y1\":9.764962196350098}],\"annotations\":[{\"showarrow\":false,\"text\":\"D1\",\"x\":-0.45671436190605164,\"y\":9.764962196350098,\"yshift\":10},{\"showarrow\":false,\"text\":\"D2\",\"x\":10.619068145751953,\"xshift\":10,\"y\":25.504995346069336}]},                        {\"responsive\": true}                    )                };            </script>        </div>"
      ],
      "text/plain": [
       "Figure({\n",
       "    'data': [{'customdata': array([[0, 'white | search | google | anti | nobody', 37],\n",
       "                                   [1, 'recall | european | would | tesla | glue', 36],\n",
       "                                   [2, 'notice | courts | something | libs | slated', 34],\n",
       "                                   [3, 'faces | sold | want | even | child', 29],\n",
       "                                   [4, 'make | would | woods | christianity | us', 28],\n",
       "                                   [5, 'care | baltics | fuck | russians | whitebaltics', 26],\n",
       "                                   [6, 'ukraine | bbc | uk | catbox | moe', 25],\n",
       "                                   [7, 'step | great | every | literal | america', 23],\n",
       "                                   [8, 'trump | https | com | washington | dc', 22],\n",
       "                                   [9, 'poilievre | polls | policy | real | never', 22],\n",
       "                                   [10, 'convinced | shitalians | tomatokikes | semitic | majority', 21],\n",
       "                                   [11, 'go | coffee | br | woke | drink', 21],\n",
       "                                   [12, 'prison | lockdown | inmates | staff | thomson', 21],\n",
       "                                   [13, 'chickens | eggs | test | genocide | pro', 18],\n",
       "                                   [14, 'niggers | dei | jobs | use | hate', 17],\n",
       "                                   [15, 'pagan | post | nazi | memes | pro', 15],\n",
       "                                   [16, 'english | dropped | recognize | official | wqygcbceceu', 13],\n",
       "                                   [17, 'consciousness | soul | its | like | dwelled', 12],\n",
       "                                   [18, 'netanyahu | palestine | backing | base | conspiracy', 11],\n",
       "                                   [19, 'us | commonwealth | americas | offer | politics', 11],\n",
       "                                   [20, 'east | white | bunnies | snow | interbreeding', 11]], dtype=object),\n",
       "              'hovertemplate': '<b>Topic %{customdata[0]}</b><br>%{customdata[1]}<br>Size: %{customdata[2]}',\n",
       "              'legendgroup': '',\n",
       "              'marker': {'color': '#B0BEC5',\n",
       "                         'line': {'color': 'DarkSlateGrey', 'width': 2},\n",
       "                         'size': {'bdata': 'JSQiHRwaGRcWFhUVFRIRDw0MCwsL', 'dtype': 'i1'},\n",
       "                         'sizemode': 'area',\n",
       "                         'sizeref': 0.023125,\n",
       "                         'symbol': 'circle'},\n",
       "              'mode': 'markers',\n",
       "              'name': '',\n",
       "              'orientation': 'v',\n",
       "              'showlegend': False,\n",
       "              'type': 'scatter',\n",
       "              'x': {'bdata': ('/xePQGZOzUCRA45AnU+NviB9rECh07' ... 'i2QHrSlUGm4p5AEFPvQLPrlkHhG51A'),\n",
       "                    'dtype': 'f4'},\n",
       "              'xaxis': 'x',\n",
       "              'y': {'bdata': ('VMRVQABCkUCAPnlB12KiwFjyeUAz1Y' ... 'xiQCJRsEGU0HBB3WbFQBJtsUErLUlA'),\n",
       "                    'dtype': 'f4'},\n",
       "              'yaxis': 'y'}],\n",
       "    'layout': {'annotations': [{'showarrow': False,\n",
       "                                'text': 'D1',\n",
       "                                'x': np.float32(-0.45671436),\n",
       "                                'y': np.float32(9.764962),\n",
       "                                'yshift': 10},\n",
       "                               {'showarrow': False,\n",
       "                                'text': 'D2',\n",
       "                                'x': np.float32(10.619068),\n",
       "                                'xshift': 10,\n",
       "                                'y': np.float32(25.504995)}],\n",
       "               'height': 650,\n",
       "               'hoverlabel': {'bgcolor': 'white', 'font': {'family': 'Rockwell', 'size': 16}},\n",
       "               'legend': {'itemsizing': 'constant', 'tracegroupgap': 0},\n",
       "               'margin': {'t': 60},\n",
       "               'shapes': [{'line': {'color': '#CFD8DC', 'width': 2},\n",
       "                           'type': 'line',\n",
       "                           'x0': np.float32(10.619068),\n",
       "                           'x1': np.float32(10.619068),\n",
       "                           'y0': np.float32(-5.9750705),\n",
       "                           'y1': np.float32(25.504995)},\n",
       "                          {'line': {'color': '#9E9E9E', 'width': 2},\n",
       "                           'type': 'line',\n",
       "                           'x0': np.float32(-0.45671436),\n",
       "                           'x1': np.float32(21.69485),\n",
       "                           'y0': np.float32(9.764962),\n",
       "                           'y1': np.float32(9.764962)}],\n",
       "               'sliders': [{'active': 0,\n",
       "                            'pad': {'t': 50},\n",
       "                            'steps': [{'args': [{'marker.color': [['red',\n",
       "                                                                  '#B0BEC5',\n",
       "                                                                  '#B0BEC5',\n",
       "                                                                  '#B0BEC5',\n",
       "                                                                  '#B0BEC5',\n",
       "                                                                  '#B0BEC5',\n",
       "                                                                  '#B0BEC5',\n",
       "                                                                  '#B0BEC5',\n",
       "                                                                  '#B0BEC5',\n",
       "                                                                  '#B0BEC5',\n",
       "                                                                  '#B0BEC5',\n",
       "                                                                  '#B0BEC5',\n",
       "                                                                  '#B0BEC5',\n",
       "                                                                  '#B0BEC5',\n",
       "                                                                  '#B0BEC5',\n",
       "                                                                  '#B0BEC5',\n",
       "                                                                  '#B0BEC5',\n",
       "                                                                  '#B0BEC5',\n",
       "                                                                  '#B0BEC5',\n",
       "                                                                  '#B0BEC5',\n",
       "                                                                  '#B0BEC5']]}],\n",
       "                                       'label': 'Topic 0',\n",
       "                                       'method': 'update'},\n",
       "                                      {'args': [{'marker.color': [['#B0BEC5',\n",
       "                                                                  'red', '#B0BEC5',\n",
       "                                                                  '#B0BEC5',\n",
       "                                                                  '#B0BEC5',\n",
       "                                                                  '#B0BEC5',\n",
       "                                                                  '#B0BEC5',\n",
       "                                                                  '#B0BEC5',\n",
       "                                                                  '#B0BEC5',\n",
       "                                                                  '#B0BEC5',\n",
       "                                                                  '#B0BEC5',\n",
       "                                                                  '#B0BEC5',\n",
       "                                                                  '#B0BEC5',\n",
       "                                                                  '#B0BEC5',\n",
       "                                                                  '#B0BEC5',\n",
       "                                                                  '#B0BEC5',\n",
       "                                                                  '#B0BEC5',\n",
       "                                                                  '#B0BEC5',\n",
       "                                                                  '#B0BEC5',\n",
       "                                                                  '#B0BEC5',\n",
       "                                                                  '#B0BEC5']]}],\n",
       "                                       'label': 'Topic 1',\n",
       "                                       'method': 'update'},\n",
       "                                      {'args': [{'marker.color': [['#B0BEC5',\n",
       "                                                                  '#B0BEC5', 'red',\n",
       "                                                                  '#B0BEC5',\n",
       "                                                                  '#B0BEC5',\n",
       "                                                                  '#B0BEC5',\n",
       "                                                                  '#B0BEC5',\n",
       "                                                                  '#B0BEC5',\n",
       "                                                                  '#B0BEC5',\n",
       "                                                                  '#B0BEC5',\n",
       "                                                                  '#B0BEC5',\n",
       "                                                                  '#B0BEC5',\n",
       "                                                                  '#B0BEC5',\n",
       "                                                                  '#B0BEC5',\n",
       "                                                                  '#B0BEC5',\n",
       "                                                                  '#B0BEC5',\n",
       "                                                                  '#B0BEC5',\n",
       "                                                                  '#B0BEC5',\n",
       "                                                                  '#B0BEC5',\n",
       "                                                                  '#B0BEC5',\n",
       "                                                                  '#B0BEC5']]}],\n",
       "                                       'label': 'Topic 2',\n",
       "                                       'method': 'update'},\n",
       "                                      {'args': [{'marker.color': [['#B0BEC5',\n",
       "                                                                  '#B0BEC5',\n",
       "                                                                  '#B0BEC5', 'red',\n",
       "                                                                  '#B0BEC5',\n",
       "                                                                  '#B0BEC5',\n",
       "                                                                  '#B0BEC5',\n",
       "                                                                  '#B0BEC5',\n",
       "                                                                  '#B0BEC5',\n",
       "                                                                  '#B0BEC5',\n",
       "                                                                  '#B0BEC5',\n",
       "                                                                  '#B0BEC5',\n",
       "                                                                  '#B0BEC5',\n",
       "                                                                  '#B0BEC5',\n",
       "                                                                  '#B0BEC5',\n",
       "                                                                  '#B0BEC5',\n",
       "                                                                  '#B0BEC5',\n",
       "                                                                  '#B0BEC5',\n",
       "                                                                  '#B0BEC5',\n",
       "                                                                  '#B0BEC5',\n",
       "                                                                  '#B0BEC5']]}],\n",
       "                                       'label': 'Topic 3',\n",
       "                                       'method': 'update'},\n",
       "                                      {'args': [{'marker.color': [['#B0BEC5',\n",
       "                                                                  '#B0BEC5',\n",
       "                                                                  '#B0BEC5',\n",
       "                                                                  '#B0BEC5', 'red',\n",
       "                                                                  '#B0BEC5',\n",
       "                                                                  '#B0BEC5',\n",
       "                                                                  '#B0BEC5',\n",
       "                                                                  '#B0BEC5',\n",
       "                                                                  '#B0BEC5',\n",
       "                                                                  '#B0BEC5',\n",
       "                                                                  '#B0BEC5',\n",
       "                                                                  '#B0BEC5',\n",
       "                                                                  '#B0BEC5',\n",
       "                                                                  '#B0BEC5',\n",
       "                                                                  '#B0BEC5',\n",
       "                                                                  '#B0BEC5',\n",
       "                                                                  '#B0BEC5',\n",
       "                                                                  '#B0BEC5',\n",
       "                                                                  '#B0BEC5',\n",
       "                                                                  '#B0BEC5']]}],\n",
       "                                       'label': 'Topic 4',\n",
       "                                       'method': 'update'},\n",
       "                                      {'args': [{'marker.color': [['#B0BEC5',\n",
       "                                                                  '#B0BEC5',\n",
       "                                                                  '#B0BEC5',\n",
       "                                                                  '#B0BEC5',\n",
       "                                                                  '#B0BEC5', 'red',\n",
       "                                                                  '#B0BEC5',\n",
       "                                                                  '#B0BEC5',\n",
       "                                                                  '#B0BEC5',\n",
       "                                                                  '#B0BEC5',\n",
       "                                                                  '#B0BEC5',\n",
       "                                                                  '#B0BEC5',\n",
       "                                                                  '#B0BEC5',\n",
       "                                                                  '#B0BEC5',\n",
       "                                                                  '#B0BEC5',\n",
       "                                                                  '#B0BEC5',\n",
       "                                                                  '#B0BEC5',\n",
       "                                                                  '#B0BEC5',\n",
       "                                                                  '#B0BEC5',\n",
       "                                                                  '#B0BEC5',\n",
       "                                                                  '#B0BEC5']]}],\n",
       "                                       'label': 'Topic 5',\n",
       "                                       'method': 'update'},\n",
       "                                      {'args': [{'marker.color': [['#B0BEC5',\n",
       "                                                                  '#B0BEC5',\n",
       "                                                                  '#B0BEC5',\n",
       "                                                                  '#B0BEC5',\n",
       "                                                                  '#B0BEC5',\n",
       "                                                                  '#B0BEC5', 'red',\n",
       "                                                                  '#B0BEC5',\n",
       "                                                                  '#B0BEC5',\n",
       "                                                                  '#B0BEC5',\n",
       "                                                                  '#B0BEC5',\n",
       "                                                                  '#B0BEC5',\n",
       "                                                                  '#B0BEC5',\n",
       "                                                                  '#B0BEC5',\n",
       "                                                                  '#B0BEC5',\n",
       "                                                                  '#B0BEC5',\n",
       "                                                                  '#B0BEC5',\n",
       "                                                                  '#B0BEC5',\n",
       "                                                                  '#B0BEC5',\n",
       "                                                                  '#B0BEC5',\n",
       "                                                                  '#B0BEC5']]}],\n",
       "                                       'label': 'Topic 6',\n",
       "                                       'method': 'update'},\n",
       "                                      {'args': [{'marker.color': [['#B0BEC5',\n",
       "                                                                  '#B0BEC5',\n",
       "                                                                  '#B0BEC5',\n",
       "                                                                  '#B0BEC5',\n",
       "                                                                  '#B0BEC5',\n",
       "                                                                  '#B0BEC5',\n",
       "                                                                  '#B0BEC5', 'red',\n",
       "                                                                  '#B0BEC5',\n",
       "                                                                  '#B0BEC5',\n",
       "                                                                  '#B0BEC5',\n",
       "                                                                  '#B0BEC5',\n",
       "                                                                  '#B0BEC5',\n",
       "                                                                  '#B0BEC5',\n",
       "                                                                  '#B0BEC5',\n",
       "                                                                  '#B0BEC5',\n",
       "                                                                  '#B0BEC5',\n",
       "                                                                  '#B0BEC5',\n",
       "                                                                  '#B0BEC5',\n",
       "                                                                  '#B0BEC5',\n",
       "                                                                  '#B0BEC5']]}],\n",
       "                                       'label': 'Topic 7',\n",
       "                                       'method': 'update'},\n",
       "                                      {'args': [{'marker.color': [['#B0BEC5',\n",
       "                                                                  '#B0BEC5',\n",
       "                                                                  '#B0BEC5',\n",
       "                                                                  '#B0BEC5',\n",
       "                                                                  '#B0BEC5',\n",
       "                                                                  '#B0BEC5',\n",
       "                                                                  '#B0BEC5',\n",
       "                                                                  '#B0BEC5', 'red',\n",
       "                                                                  '#B0BEC5',\n",
       "                                                                  '#B0BEC5',\n",
       "                                                                  '#B0BEC5',\n",
       "                                                                  '#B0BEC5',\n",
       "                                                                  '#B0BEC5',\n",
       "                                                                  '#B0BEC5',\n",
       "                                                                  '#B0BEC5',\n",
       "                                                                  '#B0BEC5',\n",
       "                                                                  '#B0BEC5',\n",
       "                                                                  '#B0BEC5',\n",
       "                                                                  '#B0BEC5',\n",
       "                                                                  '#B0BEC5']]}],\n",
       "                                       'label': 'Topic 8',\n",
       "                                       'method': 'update'},\n",
       "                                      {'args': [{'marker.color': [['#B0BEC5',\n",
       "                                                                  '#B0BEC5',\n",
       "                                                                  '#B0BEC5',\n",
       "                                                                  '#B0BEC5',\n",
       "                                                                  '#B0BEC5',\n",
       "                                                                  '#B0BEC5',\n",
       "                                                                  '#B0BEC5',\n",
       "                                                                  '#B0BEC5',\n",
       "                                                                  '#B0BEC5', 'red',\n",
       "                                                                  '#B0BEC5',\n",
       "                                                                  '#B0BEC5',\n",
       "                                                                  '#B0BEC5',\n",
       "                                                                  '#B0BEC5',\n",
       "                                                                  '#B0BEC5',\n",
       "                                                                  '#B0BEC5',\n",
       "                                                                  '#B0BEC5',\n",
       "                                                                  '#B0BEC5',\n",
       "                                                                  '#B0BEC5',\n",
       "                                                                  '#B0BEC5',\n",
       "                                                                  '#B0BEC5']]}],\n",
       "                                       'label': 'Topic 9',\n",
       "                                       'method': 'update'},\n",
       "                                      {'args': [{'marker.color': [['#B0BEC5',\n",
       "                                                                  '#B0BEC5',\n",
       "                                                                  '#B0BEC5',\n",
       "                                                                  '#B0BEC5',\n",
       "                                                                  '#B0BEC5',\n",
       "                                                                  '#B0BEC5',\n",
       "                                                                  '#B0BEC5',\n",
       "                                                                  '#B0BEC5',\n",
       "                                                                  '#B0BEC5',\n",
       "                                                                  '#B0BEC5', 'red',\n",
       "                                                                  '#B0BEC5',\n",
       "                                                                  '#B0BEC5',\n",
       "                                                                  '#B0BEC5',\n",
       "                                                                  '#B0BEC5',\n",
       "                                                                  '#B0BEC5',\n",
       "                                                                  '#B0BEC5',\n",
       "                                                                  '#B0BEC5',\n",
       "                                                                  '#B0BEC5',\n",
       "                                                                  '#B0BEC5',\n",
       "                                                                  '#B0BEC5']]}],\n",
       "                                       'label': 'Topic 10',\n",
       "                                       'method': 'update'},\n",
       "                                      {'args': [{'marker.color': [['#B0BEC5',\n",
       "                                                                  '#B0BEC5',\n",
       "                                                                  '#B0BEC5',\n",
       "                                                                  '#B0BEC5',\n",
       "                                                                  '#B0BEC5',\n",
       "                                                                  '#B0BEC5',\n",
       "                                                                  '#B0BEC5',\n",
       "                                                                  '#B0BEC5',\n",
       "                                                                  '#B0BEC5',\n",
       "                                                                  '#B0BEC5',\n",
       "                                                                  '#B0BEC5', 'red',\n",
       "                                                                  '#B0BEC5',\n",
       "                                                                  '#B0BEC5',\n",
       "                                                                  '#B0BEC5',\n",
       "                                                                  '#B0BEC5',\n",
       "                                                                  '#B0BEC5',\n",
       "                                                                  '#B0BEC5',\n",
       "                                                                  '#B0BEC5',\n",
       "                                                                  '#B0BEC5',\n",
       "                                                                  '#B0BEC5']]}],\n",
       "                                       'label': 'Topic 11',\n",
       "                                       'method': 'update'},\n",
       "                                      {'args': [{'marker.color': [['#B0BEC5',\n",
       "                                                                  '#B0BEC5',\n",
       "                                                                  '#B0BEC5',\n",
       "                                                                  '#B0BEC5',\n",
       "                                                                  '#B0BEC5',\n",
       "                                                                  '#B0BEC5',\n",
       "                                                                  '#B0BEC5',\n",
       "                                                                  '#B0BEC5',\n",
       "                                                                  '#B0BEC5',\n",
       "                                                                  '#B0BEC5',\n",
       "                                                                  '#B0BEC5',\n",
       "                                                                  '#B0BEC5', 'red',\n",
       "                                                                  '#B0BEC5',\n",
       "                                                                  '#B0BEC5',\n",
       "                                                                  '#B0BEC5',\n",
       "                                                                  '#B0BEC5',\n",
       "                                                                  '#B0BEC5',\n",
       "                                                                  '#B0BEC5',\n",
       "                                                                  '#B0BEC5',\n",
       "                                                                  '#B0BEC5']]}],\n",
       "                                       'label': 'Topic 12',\n",
       "                                       'method': 'update'},\n",
       "                                      {'args': [{'marker.color': [['#B0BEC5',\n",
       "                                                                  '#B0BEC5',\n",
       "                                                                  '#B0BEC5',\n",
       "                                                                  '#B0BEC5',\n",
       "                                                                  '#B0BEC5',\n",
       "                                                                  '#B0BEC5',\n",
       "                                                                  '#B0BEC5',\n",
       "                                                                  '#B0BEC5',\n",
       "                                                                  '#B0BEC5',\n",
       "                                                                  '#B0BEC5',\n",
       "                                                                  '#B0BEC5',\n",
       "                                                                  '#B0BEC5',\n",
       "                                                                  '#B0BEC5', 'red',\n",
       "                                                                  '#B0BEC5',\n",
       "                                                                  '#B0BEC5',\n",
       "                                                                  '#B0BEC5',\n",
       "                                                                  '#B0BEC5',\n",
       "                                                                  '#B0BEC5',\n",
       "                                                                  '#B0BEC5',\n",
       "                                                                  '#B0BEC5']]}],\n",
       "                                       'label': 'Topic 13',\n",
       "                                       'method': 'update'},\n",
       "                                      {'args': [{'marker.color': [['#B0BEC5',\n",
       "                                                                  '#B0BEC5',\n",
       "                                                                  '#B0BEC5',\n",
       "                                                                  '#B0BEC5',\n",
       "                                                                  '#B0BEC5',\n",
       "                                                                  '#B0BEC5',\n",
       "                                                                  '#B0BEC5',\n",
       "                                                                  '#B0BEC5',\n",
       "                                                                  '#B0BEC5',\n",
       "                                                                  '#B0BEC5',\n",
       "                                                                  '#B0BEC5',\n",
       "                                                                  '#B0BEC5',\n",
       "                                                                  '#B0BEC5',\n",
       "                                                                  '#B0BEC5', 'red',\n",
       "                                                                  '#B0BEC5',\n",
       "                                                                  '#B0BEC5',\n",
       "                                                                  '#B0BEC5',\n",
       "                                                                  '#B0BEC5',\n",
       "                                                                  '#B0BEC5',\n",
       "                                                                  '#B0BEC5']]}],\n",
       "                                       'label': 'Topic 14',\n",
       "                                       'method': 'update'},\n",
       "                                      {'args': [{'marker.color': [['#B0BEC5',\n",
       "                                                                  '#B0BEC5',\n",
       "                                                                  '#B0BEC5',\n",
       "                                                                  '#B0BEC5',\n",
       "                                                                  '#B0BEC5',\n",
       "                                                                  '#B0BEC5',\n",
       "                                                                  '#B0BEC5',\n",
       "                                                                  '#B0BEC5',\n",
       "                                                                  '#B0BEC5',\n",
       "                                                                  '#B0BEC5',\n",
       "                                                                  '#B0BEC5',\n",
       "                                                                  '#B0BEC5',\n",
       "                                                                  '#B0BEC5',\n",
       "                                                                  '#B0BEC5',\n",
       "                                                                  '#B0BEC5', 'red',\n",
       "                                                                  '#B0BEC5',\n",
       "                                                                  '#B0BEC5',\n",
       "                                                                  '#B0BEC5',\n",
       "                                                                  '#B0BEC5',\n",
       "                                                                  '#B0BEC5']]}],\n",
       "                                       'label': 'Topic 15',\n",
       "                                       'method': 'update'},\n",
       "                                      {'args': [{'marker.color': [['#B0BEC5',\n",
       "                                                                  '#B0BEC5',\n",
       "                                                                  '#B0BEC5',\n",
       "                                                                  '#B0BEC5',\n",
       "                                                                  '#B0BEC5',\n",
       "                                                                  '#B0BEC5',\n",
       "                                                                  '#B0BEC5',\n",
       "                                                                  '#B0BEC5',\n",
       "                                                                  '#B0BEC5',\n",
       "                                                                  '#B0BEC5',\n",
       "                                                                  '#B0BEC5',\n",
       "                                                                  '#B0BEC5',\n",
       "                                                                  '#B0BEC5',\n",
       "                                                                  '#B0BEC5',\n",
       "                                                                  '#B0BEC5',\n",
       "                                                                  '#B0BEC5', 'red',\n",
       "                                                                  '#B0BEC5',\n",
       "                                                                  '#B0BEC5',\n",
       "                                                                  '#B0BEC5',\n",
       "                                                                  '#B0BEC5']]}],\n",
       "                                       'label': 'Topic 16',\n",
       "                                       'method': 'update'},\n",
       "                                      {'args': [{'marker.color': [['#B0BEC5',\n",
       "                                                                  '#B0BEC5',\n",
       "                                                                  '#B0BEC5',\n",
       "                                                                  '#B0BEC5',\n",
       "                                                                  '#B0BEC5',\n",
       "                                                                  '#B0BEC5',\n",
       "                                                                  '#B0BEC5',\n",
       "                                                                  '#B0BEC5',\n",
       "                                                                  '#B0BEC5',\n",
       "                                                                  '#B0BEC5',\n",
       "                                                                  '#B0BEC5',\n",
       "                                                                  '#B0BEC5',\n",
       "                                                                  '#B0BEC5',\n",
       "                                                                  '#B0BEC5',\n",
       "                                                                  '#B0BEC5',\n",
       "                                                                  '#B0BEC5',\n",
       "                                                                  '#B0BEC5', 'red',\n",
       "                                                                  '#B0BEC5',\n",
       "                                                                  '#B0BEC5',\n",
       "                                                                  '#B0BEC5']]}],\n",
       "                                       'label': 'Topic 17',\n",
       "                                       'method': 'update'},\n",
       "                                      {'args': [{'marker.color': [['#B0BEC5',\n",
       "                                                                  '#B0BEC5',\n",
       "                                                                  '#B0BEC5',\n",
       "                                                                  '#B0BEC5',\n",
       "                                                                  '#B0BEC5',\n",
       "                                                                  '#B0BEC5',\n",
       "                                                                  '#B0BEC5',\n",
       "                                                                  '#B0BEC5',\n",
       "                                                                  '#B0BEC5',\n",
       "                                                                  '#B0BEC5',\n",
       "                                                                  '#B0BEC5',\n",
       "                                                                  '#B0BEC5',\n",
       "                                                                  '#B0BEC5',\n",
       "                                                                  '#B0BEC5',\n",
       "                                                                  '#B0BEC5',\n",
       "                                                                  '#B0BEC5',\n",
       "                                                                  '#B0BEC5',\n",
       "                                                                  '#B0BEC5', 'red',\n",
       "                                                                  '#B0BEC5',\n",
       "                                                                  '#B0BEC5']]}],\n",
       "                                       'label': 'Topic 18',\n",
       "                                       'method': 'update'},\n",
       "                                      {'args': [{'marker.color': [['#B0BEC5',\n",
       "                                                                  '#B0BEC5',\n",
       "                                                                  '#B0BEC5',\n",
       "                                                                  '#B0BEC5',\n",
       "                                                                  '#B0BEC5',\n",
       "                                                                  '#B0BEC5',\n",
       "                                                                  '#B0BEC5',\n",
       "                                                                  '#B0BEC5',\n",
       "                                                                  '#B0BEC5',\n",
       "                                                                  '#B0BEC5',\n",
       "                                                                  '#B0BEC5',\n",
       "                                                                  '#B0BEC5',\n",
       "                                                                  '#B0BEC5',\n",
       "                                                                  '#B0BEC5',\n",
       "                                                                  '#B0BEC5',\n",
       "                                                                  '#B0BEC5',\n",
       "                                                                  '#B0BEC5',\n",
       "                                                                  '#B0BEC5',\n",
       "                                                                  '#B0BEC5', 'red',\n",
       "                                                                  '#B0BEC5']]}],\n",
       "                                       'label': 'Topic 19',\n",
       "                                       'method': 'update'},\n",
       "                                      {'args': [{'marker.color': [['#B0BEC5',\n",
       "                                                                  '#B0BEC5',\n",
       "                                                                  '#B0BEC5',\n",
       "                                                                  '#B0BEC5',\n",
       "                                                                  '#B0BEC5',\n",
       "                                                                  '#B0BEC5',\n",
       "                                                                  '#B0BEC5',\n",
       "                                                                  '#B0BEC5',\n",
       "                                                                  '#B0BEC5',\n",
       "                                                                  '#B0BEC5',\n",
       "                                                                  '#B0BEC5',\n",
       "                                                                  '#B0BEC5',\n",
       "                                                                  '#B0BEC5',\n",
       "                                                                  '#B0BEC5',\n",
       "                                                                  '#B0BEC5',\n",
       "                                                                  '#B0BEC5',\n",
       "                                                                  '#B0BEC5',\n",
       "                                                                  '#B0BEC5',\n",
       "                                                                  '#B0BEC5',\n",
       "                                                                  '#B0BEC5',\n",
       "                                                                  'red']]}],\n",
       "                                       'label': 'Topic 20',\n",
       "                                       'method': 'update'}]}],\n",
       "               'template': '...',\n",
       "               'title': {'font': {'color': 'Black', 'size': 22},\n",
       "                         'text': '<b>Intertopic Distance Map</b>',\n",
       "                         'x': 0.5,\n",
       "                         'xanchor': 'center',\n",
       "                         'y': 0.95,\n",
       "                         'yanchor': 'top'},\n",
       "               'width': 650,\n",
       "               'xaxis': {'anchor': 'y',\n",
       "                         'domain': [0.0, 1.0],\n",
       "                         'range': [-0.45671436190605164, 21.69485092163086],\n",
       "                         'title': {'text': ''},\n",
       "                         'visible': False},\n",
       "               'yaxis': {'anchor': 'x',\n",
       "                         'domain': [0.0, 1.0],\n",
       "                         'range': [-5.975070476531982, 25.504995346069336],\n",
       "                         'title': {'text': ''},\n",
       "                         'visible': False}}\n",
       "})"
      ]
     },
     "execution_count": 18,
     "metadata": {},
     "output_type": "execute_result"
    }
   ],
   "source": [
    "topic_model.visualize_topics()"
   ]
  },
  {
   "cell_type": "markdown",
   "id": "a63cf95f",
   "metadata": {},
   "source": [
    "## DarkBERT"
   ]
  },
  {
   "cell_type": "code",
   "execution_count": 19,
   "id": "21fae1c9",
   "metadata": {},
   "outputs": [],
   "source": [
    "from transformers import pipeline"
   ]
  },
  {
   "cell_type": "code",
   "execution_count": 20,
   "id": "abbe60f8",
   "metadata": {},
   "outputs": [],
   "source": [
    "with open('acces_token.txt', 'r') as file:\n",
    "    access_token = file.read().strip()"
   ]
  },
  {
   "cell_type": "code",
   "execution_count": 21,
   "id": "4c086a5e",
   "metadata": {},
   "outputs": [
    {
     "name": "stderr",
     "output_type": "stream",
     "text": [
      "Device set to use cpu\n"
     ]
    },
    {
     "data": {
      "text/plain": [
       "[{'score': 0.49523264169692993,\n",
       "  'token': 25346,\n",
       "  'token_str': ' ransomware',\n",
       "  'sequence': 'RagnarLocker, LockBit, and REvil are types of ransomware.'},\n",
       " {'score': 0.04661604389548302,\n",
       "  'token': 16886,\n",
       "  'token_str': ' malware',\n",
       "  'sequence': 'RagnarLocker, LockBit, and REvil are types of malware.'},\n",
       " {'score': 0.042176585644483566,\n",
       "  'token': 28811,\n",
       "  'token_str': ' wallets',\n",
       "  'sequence': 'RagnarLocker, LockBit, and REvil are types of wallets.'},\n",
       " {'score': 0.02898237481713295,\n",
       "  'token': 2196,\n",
       "  'token_str': ' drugs',\n",
       "  'sequence': 'RagnarLocker, LockBit, and REvil are types of drugs.'},\n",
       " {'score': 0.020001336932182312,\n",
       "  'token': 11344,\n",
       "  'token_str': ' hackers',\n",
       "  'sequence': 'RagnarLocker, LockBit, and REvil are types of hackers.'}]"
      ]
     },
     "execution_count": 21,
     "metadata": {},
     "output_type": "execute_result"
    }
   ],
   "source": [
    "unmasker = pipeline('fill-mask', model=\"s2w-ai/DarkBERT\", token=access_token)\n",
    "unmasker(\"RagnarLocker, LockBit, and REvil are types of <mask>.\")"
   ]
  },
  {
   "cell_type": "code",
   "execution_count": 22,
   "id": "5fc42776",
   "metadata": {},
   "outputs": [
    {
     "name": "stdout",
     "output_type": "stream",
     "text": [
      "Input: india, china, manufacturing, chinese, factories, threat are all types of <mask>\n",
      "Prediction: [{'score': 0.21873830258846283, 'token': 3455, 'token_str': ' threats', 'sequence': 'india, china, manufacturing, chinese, factories, threat are all types of threats'}, {'score': 0.17531301081180573, 'token': 1856, 'token_str': ' threat', 'sequence': 'india, china, manufacturing, chinese, factories, threat are all types of threat'}, {'score': 0.02046685852110386, 'token': 4854, 'token_str': ' danger', 'sequence': 'india, china, manufacturing, chinese, factories, threat are all types of danger'}, {'score': 0.019146598875522614, 'token': 383, 'token_str': ' things', 'sequence': 'india, china, manufacturing, chinese, factories, threat are all types of things'}, {'score': 0.0177216287702322, 'token': 4, 'token_str': '.', 'sequence': 'india, china, manufacturing, chinese, factories, threat are all types of.'}]\n",
      "\n",
      "Input: white, search, google, anti, nobody, men are all types of <mask>\n",
      "Prediction: [{'score': 0.4385855793952942, 'token': 82, 'token_str': ' people', 'sequence': 'white, search, google, anti, nobody, men are all types of people'}, {'score': 0.2597445845603943, 'token': 604, 'token_str': ' men', 'sequence': 'white, search, google, anti, nobody, men are all types of men'}, {'score': 0.029953395947813988, 'token': 1104, 'token_str': ' white', 'sequence': 'white, search, google, anti, nobody, men are all types of white'}, {'score': 0.022775327786803246, 'token': 390, 'token_str': ' women', 'sequence': 'white, search, google, anti, nobody, men are all types of women'}, {'score': 0.0227326862514019, 'token': 9247, 'token_str': ' evil', 'sequence': 'white, search, google, anti, nobody, men are all types of evil'}]\n",
      "\n",
      "Input: recall, european, would, tesla, glue, musk are all types of <mask>\n",
      "Prediction: [{'score': 0.06535240262746811, 'token': 22, 'token_str': ' \"', 'sequence': 'recall, european, would, tesla, glue, musk are all types of \"'}, {'score': 0.04587861895561218, 'token': 785, 'token_str': ' products', 'sequence': 'recall, european, would, tesla, glue, musk are all types of products'}, {'score': 0.04344189167022705, 'token': 2196, 'token_str': ' drugs', 'sequence': 'recall, european, would, tesla, glue, musk are all types of drugs'}, {'score': 0.03158202022314072, 'token': 1437, 'token_str': ' ', 'sequence': 'recall, european, would, tesla, glue, musk are all types of '}, {'score': 0.031416501849889755, 'token': 4, 'token_str': '.', 'sequence': 'recall, european, would, tesla, glue, musk are all types of.'}]\n",
      "\n",
      "Input: notice, courts, something, libs, slated, accelerationism are all types of <mask>\n",
      "Prediction: [{'score': 0.1387149840593338, 'token': 383, 'token_str': ' things', 'sequence': 'notice, courts, something, libs, slated, accelerationism are all types of things'}, {'score': 0.06957249343395233, 'token': 82, 'token_str': ' people', 'sequence': 'notice, courts, something, libs, slated, accelerationism are all types of people'}, {'score': 0.035968586802482605, 'token': 15328, 'token_str': ' shit', 'sequence': 'notice, courts, something, libs, slated, accelerationism are all types of shit'}, {'score': 0.03280826285481453, 'token': 2523, 'token_str': ' names', 'sequence': 'notice, courts, something, libs, slated, accelerationism are all types of names'}, {'score': 0.022389108315110207, 'token': 734, 'token_str': '...', 'sequence': 'notice, courts, something, libs, slated, accelerationism are all types of...'}]\n",
      "\n",
      "Input: faces, sold, want, even, child, friends are all types of <mask>\n",
      "Prediction: [{'score': 0.12639780342578888, 'token': 383, 'token_str': ' things', 'sequence': 'faces, sold, want, even, child, friends are all types of things'}, {'score': 0.10012668371200562, 'token': 82, 'token_str': ' people', 'sequence': 'faces, sold, want, even, child, friends are all types of people'}, {'score': 0.026466412469744682, 'token': 3122, 'token_str': ' animals', 'sequence': 'faces, sold, want, even, child, friends are all types of animals'}, {'score': 0.025332050397992134, 'token': 5868, 'token_str': ' humans', 'sequence': 'faces, sold, want, even, child, friends are all types of humans'}, {'score': 0.022910909727215767, 'token': 1050, 'token_str': ' human', 'sequence': 'faces, sold, want, even, child, friends are all types of human'}]\n",
      "\n",
      "Input: make, would, woods, christianity, us, live are all types of <mask>\n",
      "Prediction: [{'score': 0.15940631926059723, 'token': 383, 'token_str': ' things', 'sequence': 'make, would, woods, christianity, us, live are all types of things'}, {'score': 0.045336831361055374, 'token': 82, 'token_str': ' people', 'sequence': 'make, would, woods, christianity, us, live are all types of people'}, {'score': 0.019966505467891693, 'token': 657, 'token_str': ' love', 'sequence': 'make, would, woods, christianity, us, live are all types of love'}, {'score': 0.01916969195008278, 'token': 301, 'token_str': ' life', 'sequence': 'make, would, woods, christianity, us, live are all types of life'}, {'score': 0.014331731013953686, 'token': 4, 'token_str': '.', 'sequence': 'make, would, woods, christianity, us, live are all types of.'}]\n",
      "\n",
      "Input: care, baltics, fuck, russians, whitebaltics, ukranians are all types of <mask>\n",
      "Prediction: [{'score': 0.3009328246116638, 'token': 82, 'token_str': ' people', 'sequence': 'care, baltics, fuck, russians, whitebaltics, ukranians are all types of people'}, {'score': 0.11378242820501328, 'token': 1437, 'token_str': ' ', 'sequence': 'care, baltics, fuck, russians, whitebaltics, ukranians are all types of '}, {'score': 0.026555823162198067, 'token': 383, 'token_str': ' things', 'sequence': 'care, baltics, fuck, russians, whitebaltics, ukranians are all types of things'}, {'score': 0.021040266379714012, 'token': 22, 'token_str': ' \"', 'sequence': 'care, baltics, fuck, russians, whitebaltics, ukranians are all types of \"'}, {'score': 0.01822643168270588, 'token': 15328, 'token_str': ' shit', 'sequence': 'care, baltics, fuck, russians, whitebaltics, ukranians are all types of shit'}]\n",
      "\n",
      "Input: ukraine, bbc, uk, catbox, moe, news are all types of <mask>\n",
      "Prediction: [{'score': 0.48263442516326904, 'token': 340, 'token_str': ' news', 'sequence': 'ukraine, bbc, uk, catbox, moe, news are all types of news'}, {'score': 0.08143757283687592, 'token': 1437, 'token_str': ' ', 'sequence': 'ukraine, bbc, uk, catbox, moe, news are all types of '}, {'score': 0.025119908154010773, 'token': 1717, 'token_str': ' u', 'sequence': 'ukraine, bbc, uk, catbox, moe, news are all types of u'}, {'score': 0.02160174399614334, 'token': 22, 'token_str': ' \"', 'sequence': 'ukraine, bbc, uk, catbox, moe, news are all types of \"'}, {'score': 0.015875475481152534, 'token': 4, 'token_str': '.', 'sequence': 'ukraine, bbc, uk, catbox, moe, news are all types of.'}]\n",
      "\n",
      "Input: step, great, every, literal, america, assassination are all types of <mask>\n",
      "Prediction: [{'score': 0.2731679379940033, 'token': 16351, 'token_str': ' assassination', 'sequence': 'step, great, every, literal, america, assassination are all types of assassination'}, {'score': 0.040019456297159195, 'token': 1900, 'token_str': ' murder', 'sequence': 'step, great, every, literal, america, assassination are all types of murder'}, {'score': 0.029570134356617928, 'token': 43355, 'token_str': ' assassins', 'sequence': 'step, great, every, literal, america, assassination are all types of assassins'}, {'score': 0.026106005534529686, 'token': 15328, 'token_str': ' shit', 'sequence': 'step, great, every, literal, america, assassination are all types of shit'}, {'score': 0.014990189112722874, 'token': 82, 'token_str': ' people', 'sequence': 'step, great, every, literal, america, assassination are all types of people'}]\n",
      "\n",
      "Input: trump, https, com, washington, dc, youtu are all types of <mask>\n",
      "Prediction: [{'score': 0.1294792741537094, 'token': 140, 'token_str': ' Trump', 'sequence': 'trump, https, com, washington, dc, youtu are all types of Trump'}, {'score': 0.09578904509544373, 'token': 2523, 'token_str': ' names', 'sequence': 'trump, https, com, washington, dc, youtu are all types of names'}, {'score': 0.0851232036948204, 'token': 20125, 'token_str': ' trump', 'sequence': 'trump, https, com, washington, dc, youtu are all types of trump'}, {'score': 0.050113748759031296, 'token': 82, 'token_str': ' people', 'sequence': 'trump, https, com, washington, dc, youtu are all types of people'}, {'score': 0.026152899488806725, 'token': 383, 'token_str': ' things', 'sequence': 'trump, https, com, washington, dc, youtu are all types of things'}]\n",
      "\n",
      "Input: poilievre, polls, policy, real, never, pol are all types of <mask>\n",
      "Prediction: [{'score': 0.07581139355897903, 'token': 10934, 'token_str': ' propaganda', 'sequence': 'poilievre, polls, policy, real, never, pol are all types of propaganda'}, {'score': 0.04074663296341896, 'token': 5738, 'token_str': ' lies', 'sequence': 'poilievre, polls, policy, real, never, pol are all types of lies'}, {'score': 0.04060593247413635, 'token': 2302, 'token_str': ' politics', 'sequence': 'poilievre, polls, policy, real, never, pol are all types of politics'}, {'score': 0.033786043524742126, 'token': 383, 'token_str': ' things', 'sequence': 'poilievre, polls, policy, real, never, pol are all types of things'}, {'score': 0.021296197548508644, 'token': 15328, 'token_str': ' shit', 'sequence': 'poilievre, polls, policy, real, never, pol are all types of shit'}]\n",
      "\n",
      "Input: convinced, shitalians, tomatokikes, semitic, majority, brown are all types of <mask>\n",
      "Prediction: [{'score': 0.17904511094093323, 'token': 82, 'token_str': ' people', 'sequence': 'convinced, shitalians, tomatokikes, semitic, majority, brown are all types of people'}, {'score': 0.09384571760892868, 'token': 22, 'token_str': ' \"', 'sequence': 'convinced, shitalians, tomatokikes, semitic, majority, brown are all types of \"'}, {'score': 0.08287418633699417, 'token': 1437, 'token_str': ' ', 'sequence': 'convinced, shitalians, tomatokikes, semitic, majority, brown are all types of '}, {'score': 0.04318428412079811, 'token': 6219, 'token_str': ' brown', 'sequence': 'convinced, shitalians, tomatokikes, semitic, majority, brown are all types of brown'}, {'score': 0.03577447682619095, 'token': 734, 'token_str': '...', 'sequence': 'convinced, shitalians, tomatokikes, semitic, majority, brown are all types of...'}]\n",
      "\n",
      "Input: go, coffee, br, woke, drink, delicious are all types of <mask>\n",
      "Prediction: [{'score': 0.15462009608745575, 'token': 689, 'token_str': ' food', 'sequence': 'go, coffee, br, woke, drink, delicious are all types of food'}, {'score': 0.06127220019698143, 'token': 930, 'token_str': ' music', 'sequence': 'go, coffee, br, woke, drink, delicious are all types of music'}, {'score': 0.05508162081241608, 'token': 6696, 'token_str': ' drinks', 'sequence': 'go, coffee, br, woke, drink, delicious are all types of drinks'}, {'score': 0.040136490017175674, 'token': 3895, 'token_str': ' coffee', 'sequence': 'go, coffee, br, woke, drink, delicious are all types of coffee'}, {'score': 0.03534507751464844, 'token': 4437, 'token_str': ' beer', 'sequence': 'go, coffee, br, woke, drink, delicious are all types of beer'}]\n",
      "\n",
      "Input: prison, lockdown, inmates, staff, thomson, guards are all types of <mask>\n",
      "Prediction: [{'score': 0.13274644315242767, 'token': 82, 'token_str': ' people', 'sequence': 'prison, lockdown, inmates, staff, thomson, guards are all types of people'}, {'score': 0.08410698175430298, 'token': 9545, 'token_str': ' prisoners', 'sequence': 'prison, lockdown, inmates, staff, thomson, guards are all types of prisoners'}, {'score': 0.05746953561902046, 'token': 1789, 'token_str': ' prison', 'sequence': 'prison, lockdown, inmates, staff, thomson, guards are all types of prison'}, {'score': 0.049276597797870636, 'token': 383, 'token_str': ' things', 'sequence': 'prison, lockdown, inmates, staff, thomson, guards are all types of things'}, {'score': 0.0410238653421402, 'token': 8039, 'token_str': ' inmates', 'sequence': 'prison, lockdown, inmates, staff, thomson, guards are all types of inmates'}]\n",
      "\n",
      "Input: chickens, eggs, test, genocide, pro, children are all types of <mask>\n",
      "Prediction: [{'score': 0.8217418789863586, 'token': 7689, 'token_str': ' eggs', 'sequence': 'chickens, eggs, test, genocide, pro, children are all types of eggs'}, {'score': 0.020472366362810135, 'token': 689, 'token_str': ' food', 'sequence': 'chickens, eggs, test, genocide, pro, children are all types of food'}, {'score': 0.01092558354139328, 'token': 3122, 'token_str': ' animals', 'sequence': 'chickens, eggs, test, genocide, pro, children are all types of animals'}, {'score': 0.010608269833028316, 'token': 4884, 'token_str': ' meat', 'sequence': 'chickens, eggs, test, genocide, pro, children are all types of meat'}, {'score': 0.010565138421952724, 'token': 8380, 'token_str': ' egg', 'sequence': 'chickens, eggs, test, genocide, pro, children are all types of egg'}]\n",
      "\n",
      "Input: niggers, dei, jobs, use, hate, alot are all types of <mask>\n",
      "Prediction: [{'score': 0.13008879125118256, 'token': 82, 'token_str': ' people', 'sequence': 'niggers, dei, jobs, use, hate, alot are all types of people'}, {'score': 0.06133513152599335, 'token': 383, 'token_str': ' things', 'sequence': 'niggers, dei, jobs, use, hate, alot are all types of things'}, {'score': 0.024138890206813812, 'token': 3122, 'token_str': ' animals', 'sequence': 'niggers, dei, jobs, use, hate, alot are all types of animals'}, {'score': 0.022579627111554146, 'token': 4, 'token_str': '.', 'sequence': 'niggers, dei, jobs, use, hate, alot are all types of.'}, {'score': 0.01415743213146925, 'token': 15328, 'token_str': ' shit', 'sequence': 'niggers, dei, jobs, use, hate, alot are all types of shit'}]\n",
      "\n",
      "Input: pagan, post, nazi, memes, pro, jeet are all types of <mask>\n",
      "Prediction: [{'score': 0.3359030783176422, 'token': 26995, 'token_str': ' memes', 'sequence': 'pagan, post, nazi, memes, pro, jeet are all types of memes'}, {'score': 0.05703458935022354, 'token': 4570, 'token_str': ' posts', 'sequence': 'pagan, post, nazi, memes, pro, jeet are all types of posts'}, {'score': 0.030117951333522797, 'token': 22, 'token_str': ' \"', 'sequence': 'pagan, post, nazi, memes, pro, jeet are all types of \"'}, {'score': 0.027996981516480446, 'token': 82, 'token_str': ' people', 'sequence': 'pagan, post, nazi, memes, pro, jeet are all types of people'}, {'score': 0.026796404272317886, 'token': 10934, 'token_str': ' propaganda', 'sequence': 'pagan, post, nazi, memes, pro, jeet are all types of propaganda'}]\n",
      "\n",
      "Input: english, dropped, recognize, official, wqygcbceceu, propaganda are all types of <mask>\n",
      "Prediction: [{'score': 0.2973218262195587, 'token': 1437, 'token_str': ' ', 'sequence': 'english, dropped, recognize, official, wqygcbceceu, propaganda are all types of '}, {'score': 0.2487516850233078, 'token': 10934, 'token_str': ' propaganda', 'sequence': 'english, dropped, recognize, official, wqygcbceceu, propaganda are all types of propaganda'}, {'score': 0.06102529913187027, 'token': 22, 'token_str': ' \"', 'sequence': 'english, dropped, recognize, official, wqygcbceceu, propaganda are all types of \"'}, {'score': 0.022259829565882683, 'token': 5738, 'token_str': ' lies', 'sequence': 'english, dropped, recognize, official, wqygcbceceu, propaganda are all types of lies'}, {'score': 0.014296047389507294, 'token': 4, 'token_str': '.', 'sequence': 'english, dropped, recognize, official, wqygcbceceu, propaganda are all types of.'}]\n",
      "\n",
      "Input: consciousness, soul, its, like, dwelled, cold are all types of <mask>\n",
      "Prediction: [{'score': 0.046269770711660385, 'token': 3581, 'token_str': ' sleep', 'sequence': 'consciousness, soul, its, like, dwelled, cold are all types of sleep'}, {'score': 0.041187383234500885, 'token': 22, 'token_str': ' \"', 'sequence': 'consciousness, soul, its, like, dwelled, cold are all types of \"'}, {'score': 0.040418840944767, 'token': 4, 'token_str': '.', 'sequence': 'consciousness, soul, its, like, dwelled, cold are all types of.'}, {'score': 0.03704071417450905, 'token': 16253, 'token_str': ' consciousness', 'sequence': 'consciousness, soul, its, like, dwelled, cold are all types of consciousness'}, {'score': 0.0345018096268177, 'token': 2400, 'token_str': ' pain', 'sequence': 'consciousness, soul, its, like, dwelled, cold are all types of pain'}]\n",
      "\n",
      "Input: netanyahu, palestine, backing, base, conspiracy, hamas are all types of <mask>\n",
      "Prediction: [{'score': 0.10952964425086975, 'token': 22, 'token_str': ' \"', 'sequence': 'netanyahu, palestine, backing, base, conspiracy, hamas are all types of \"'}, {'score': 0.05374054238200188, 'token': 8609, 'token_str': ' Jews', 'sequence': 'netanyahu, palestine, backing, base, conspiracy, hamas are all types of Jews'}, {'score': 0.039655767381191254, 'token': 82, 'token_str': ' people', 'sequence': 'netanyahu, palestine, backing, base, conspiracy, hamas are all types of people'}, {'score': 0.028043610975146294, 'token': 4, 'token_str': '.', 'sequence': 'netanyahu, palestine, backing, base, conspiracy, hamas are all types of.'}, {'score': 0.027668802067637444, 'token': 1437, 'token_str': ' ', 'sequence': 'netanyahu, palestine, backing, base, conspiracy, hamas are all types of '}]\n",
      "\n",
      "Input: us, commonwealth, americas, offer, politics, government are all types of <mask>\n",
      "Prediction: [{'score': 0.05059638246893883, 'token': 749, 'token_str': ' countries', 'sequence': 'us, commonwealth, americas, offer, politics, government are all types of countries'}, {'score': 0.04893644526600838, 'token': 383, 'token_str': ' things', 'sequence': 'us, commonwealth, americas, offer, politics, government are all types of things'}, {'score': 0.043148841708898544, 'token': 82, 'token_str': ' people', 'sequence': 'us, commonwealth, americas, offer, politics, government are all types of people'}, {'score': 0.026937581598758698, 'token': 2302, 'token_str': ' politics', 'sequence': 'us, commonwealth, americas, offer, politics, government are all types of politics'}, {'score': 0.018756868317723274, 'token': 1617, 'token_str': ' words', 'sequence': 'us, commonwealth, americas, offer, politics, government are all types of words'}]\n",
      "\n",
      "Input: east, white, bunnies, snow, interbreeding, asian are all types of <mask>\n",
      "Prediction: [{'score': 0.07814992219209671, 'token': 3122, 'token_str': ' animals', 'sequence': 'east, white, bunnies, snow, interbreeding, asian are all types of animals'}, {'score': 0.05951055884361267, 'token': 7689, 'token_str': ' eggs', 'sequence': 'east, white, bunnies, snow, interbreeding, asian are all types of eggs'}, {'score': 0.039224620908498764, 'token': 82, 'token_str': ' people', 'sequence': 'east, white, bunnies, snow, interbreeding, asian are all types of people'}, {'score': 0.03858764097094536, 'token': 4707, 'token_str': ' species', 'sequence': 'east, white, bunnies, snow, interbreeding, asian are all types of species'}, {'score': 0.02816183492541313, 'token': 7723, 'token_str': ' birds', 'sequence': 'east, white, bunnies, snow, interbreeding, asian are all types of birds'}]\n",
      "\n"
     ]
    }
   ],
   "source": [
    "# Iterate through the 'Representation' column in BERTopics DataFrame\n",
    "for representation in BERTopics['Representation']:\n",
    "    # Take only the first 3 words from the representation list\n",
    "    words = ', '.join(representation[:6])\n",
    "    # Create the input sentence for the unmasker\n",
    "    sentence = f\"{words} are all types of <mask>\"\n",
    "    # Use the unmasker to predict the masked word\n",
    "    result = unmasker(sentence)\n",
    "    print(f\"Input: {sentence}\")\n",
    "    print(f\"Prediction: {result}\\n\")"
   ]
  }
 ],
 "metadata": {
  "kernelspec": {
   "display_name": ".venv",
   "language": "python",
   "name": "python3"
  },
  "language_info": {
   "codemirror_mode": {
    "name": "ipython",
    "version": 3
   },
   "file_extension": ".py",
   "mimetype": "text/x-python",
   "name": "python",
   "nbconvert_exporter": "python",
   "pygments_lexer": "ipython3",
   "version": "3.11.0"
  }
 },
 "nbformat": 4,
 "nbformat_minor": 5
}
